{
 "cells": [
  {
   "cell_type": "code",
   "execution_count": null,
   "metadata": {},
   "outputs": [],
   "source": [
    "import numpy as np\n",
    "import tensorflow as tf\n",
    "import cv2 as cv\n",
    "import cv2\n",
    "\n",
    "\n",
    "\n",
    "path_of_graph='/home/chirag/Downloads/models-master/research/object_detection/inference_graph/frozen_inference_graph.pb'\n",
    "with tf.gfile.FastGFile(path_of_graph, 'rb') as f:\n",
    "    graph_def = tf.GraphDef()\n",
    "    graph_def.ParseFromString(f.read())\n",
    "    \n",
    "    \n",
    "    \n",
    "    \n",
    "with tf.Session() as sess:\n",
    "    sess.graph.as_default()\n",
    "    tf.import_graph_def(graph_def, name='')\n",
    "\n",
    "    \n",
    "    path_no_wheat=\"/home/chirag/Downloads/Kaggle_project/images/test/39a0e5556.jpg\"\n",
    "    path_no_wheat2=\"/home/chirag/Downloads/Kaggle_project/images/test/ab20ec355.jpg\"\n",
    "    path_wheat5=\"/home/chirag/Downloads/Kaggle_project/images/test/b6ab77fd7.jpg\"\n",
    "    \n",
    "    img = cv.imread(path_wheat5)\n",
    "    rows = img.shape[0]\n",
    "    cols = img.shape[1]\n",
    "    inp = cv.resize(img, (300, 300))\n",
    "    inp = inp[:, :, [2, 1, 0]]  # BGR2RGB\n",
    "\n",
    "    out = sess.run([sess.graph.get_tensor_by_name('num_detections:0'),\n",
    "                    sess.graph.get_tensor_by_name('detection_scores:0'),\n",
    "                    sess.graph.get_tensor_by_name('detection_boxes:0'),\n",
    "                    sess.graph.get_tensor_by_name('detection_classes:0')],\n",
    "                   feed_dict={'image_tensor:0': inp.reshape(1, inp.shape[0], inp.shape[1], 3)})\n",
    "\n",
    "    # Visualize detected bounding boxes.\n",
    "    num_detections = int(out[0][0])\n",
    "    for i in range(num_detections):\n",
    "#         classId = int(out[3][0][i])\n",
    "        score = float(out[1][0][i])\n",
    "        bbox = [float(v) for v in out[2][0][i]]\n",
    "        if score > 0.5:\n",
    "            x = bbox[1] * cols\n",
    "            y = bbox[0] * rows\n",
    "            right = bbox[3] * cols\n",
    "            bottom = bbox[2] * rows\n",
    "            cv.rectangle(img, (int(x), int(y)), (int(right), int(bottom)), (125, 255, 51), thickness=2)            \n",
    "            \n",
    "\n",
    "cv.imshow('Wheat_Head_detection', img)\n",
    "cv.waitKey(0)\n",
    "cv.destroyAllWindows()"
   ]
  },
  {
   "cell_type": "code",
   "execution_count": null,
   "metadata": {},
   "outputs": [],
   "source": []
  },
  {
   "cell_type": "code",
   "execution_count": null,
   "metadata": {},
   "outputs": [],
   "source": []
  },
  {
   "cell_type": "code",
   "execution_count": null,
   "metadata": {},
   "outputs": [],
   "source": []
  },
  {
   "cell_type": "code",
   "execution_count": null,
   "metadata": {},
   "outputs": [],
   "source": []
  },
  {
   "cell_type": "code",
   "execution_count": null,
   "metadata": {},
   "outputs": [],
   "source": []
  },
  {
   "cell_type": "code",
   "execution_count": null,
   "metadata": {},
   "outputs": [],
   "source": []
  },
  {
   "cell_type": "code",
   "execution_count": null,
   "metadata": {},
   "outputs": [],
   "source": []
  },
  {
   "cell_type": "code",
   "execution_count": null,
   "metadata": {},
   "outputs": [],
   "source": []
  },
  {
   "cell_type": "code",
   "execution_count": null,
   "metadata": {},
   "outputs": [],
   "source": []
  },
  {
   "cell_type": "code",
   "execution_count": null,
   "metadata": {},
   "outputs": [],
   "source": []
  },
  {
   "cell_type": "code",
   "execution_count": null,
   "metadata": {},
   "outputs": [],
   "source": []
  },
  {
   "cell_type": "code",
   "execution_count": null,
   "metadata": {},
   "outputs": [],
   "source": []
  },
  {
   "cell_type": "code",
   "execution_count": 2,
   "metadata": {},
   "outputs": [],
   "source": [
    "# image_np=\"/home/chirag/Downloads/Kaggle_project/images/test/b6ab77fd7.jpg\"\n",
    "\n",
    "# import cv2\n",
    "\n",
    "\n",
    "  \n",
    "\n",
    "# image = cv2.imread(image_np)\n",
    "\n",
    "# image = cv2.putText(image, 'OpenCV', (450,50), cv2.FONT_HERSHEY_SIMPLEX ,  \n",
    "#                    1, (0, 0, 255), 2, cv2.LINE_AA) \n",
    "\n",
    "# cv2.imshow('image',image)\n",
    "# cv2.waitKey(0)\n",
    "# cv2.destroyAllWindows()"
   ]
  },
  {
   "cell_type": "code",
   "execution_count": null,
   "metadata": {},
   "outputs": [],
   "source": []
  }
 ],
 "metadata": {
  "kernelspec": {
   "display_name": "Python 3",
   "language": "python",
   "name": "python3"
  },
  "language_info": {
   "codemirror_mode": {
    "name": "ipython",
    "version": 3
   },
   "file_extension": ".py",
   "mimetype": "text/x-python",
   "name": "python",
   "nbconvert_exporter": "python",
   "pygments_lexer": "ipython3",
   "version": "3.7.6"
  }
 },
 "nbformat": 4,
 "nbformat_minor": 4
}
