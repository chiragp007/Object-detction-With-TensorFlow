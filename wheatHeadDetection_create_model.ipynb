{
 "cells": [
  {
   "cell_type": "markdown",
   "metadata": {},
   "source": [
    "# read README file first"
   ]
  },
  {
   "cell_type": "code",
   "execution_count": null,
   "metadata": {},
   "outputs": [],
   "source": []
  },
  {
   "cell_type": "code",
   "execution_count": 11,
   "metadata": {},
   "outputs": [],
   "source": [
    "import pandas as pd\n",
    "import tensorflow as tf\n",
    "import numpy as np\n",
    "import pandas as pd\n",
    "import numpy as np\n",
    "import cv2\n",
    "import os\n",
    "import re"
   ]
  },
  {
   "cell_type": "code",
   "execution_count": null,
   "metadata": {},
   "outputs": [],
   "source": []
  },
  {
   "cell_type": "code",
   "execution_count": 45,
   "metadata": {},
   "outputs": [
    {
     "data": {
      "text/html": [
       "<div>\n",
       "<style scoped>\n",
       "    .dataframe tbody tr th:only-of-type {\n",
       "        vertical-align: middle;\n",
       "    }\n",
       "\n",
       "    .dataframe tbody tr th {\n",
       "        vertical-align: top;\n",
       "    }\n",
       "\n",
       "    .dataframe thead th {\n",
       "        text-align: right;\n",
       "    }\n",
       "</style>\n",
       "<table border=\"1\" class=\"dataframe\">\n",
       "  <thead>\n",
       "    <tr style=\"text-align: right;\">\n",
       "      <th></th>\n",
       "      <th>filename</th>\n",
       "      <th>width</th>\n",
       "      <th>height</th>\n",
       "      <th>class</th>\n",
       "      <th>xmin</th>\n",
       "      <th>ymin</th>\n",
       "      <th>xmax</th>\n",
       "      <th>ymax</th>\n",
       "    </tr>\n",
       "  </thead>\n",
       "  <tbody>\n",
       "    <tr>\n",
       "      <th>0</th>\n",
       "      <td>b6ab77fd7.jpg</td>\n",
       "      <td>600</td>\n",
       "      <td>600</td>\n",
       "      <td>wheat_head_detected</td>\n",
       "      <td>834.0</td>\n",
       "      <td>222.0</td>\n",
       "      <td>890.0</td>\n",
       "      <td>258.0</td>\n",
       "    </tr>\n",
       "    <tr>\n",
       "      <th>1</th>\n",
       "      <td>b6ab77fd7.jpg</td>\n",
       "      <td>600</td>\n",
       "      <td>600</td>\n",
       "      <td>wheat_head_detected</td>\n",
       "      <td>226.0</td>\n",
       "      <td>548.0</td>\n",
       "      <td>356.0</td>\n",
       "      <td>606.0</td>\n",
       "    </tr>\n",
       "    <tr>\n",
       "      <th>2</th>\n",
       "      <td>b6ab77fd7.jpg</td>\n",
       "      <td>600</td>\n",
       "      <td>600</td>\n",
       "      <td>wheat_head_detected</td>\n",
       "      <td>377.0</td>\n",
       "      <td>504.0</td>\n",
       "      <td>451.0</td>\n",
       "      <td>664.0</td>\n",
       "    </tr>\n",
       "    <tr>\n",
       "      <th>3</th>\n",
       "      <td>b6ab77fd7.jpg</td>\n",
       "      <td>600</td>\n",
       "      <td>600</td>\n",
       "      <td>wheat_head_detected</td>\n",
       "      <td>834.0</td>\n",
       "      <td>95.0</td>\n",
       "      <td>943.0</td>\n",
       "      <td>202.0</td>\n",
       "    </tr>\n",
       "    <tr>\n",
       "      <th>4</th>\n",
       "      <td>b6ab77fd7.jpg</td>\n",
       "      <td>600</td>\n",
       "      <td>600</td>\n",
       "      <td>wheat_head_detected</td>\n",
       "      <td>26.0</td>\n",
       "      <td>144.0</td>\n",
       "      <td>150.0</td>\n",
       "      <td>261.0</td>\n",
       "    </tr>\n",
       "  </tbody>\n",
       "</table>\n",
       "</div>"
      ],
      "text/plain": [
       "        filename  width  height                class   xmin   ymin   xmax  \\\n",
       "0  b6ab77fd7.jpg    600     600  wheat_head_detected  834.0  222.0  890.0   \n",
       "1  b6ab77fd7.jpg    600     600  wheat_head_detected  226.0  548.0  356.0   \n",
       "2  b6ab77fd7.jpg    600     600  wheat_head_detected  377.0  504.0  451.0   \n",
       "3  b6ab77fd7.jpg    600     600  wheat_head_detected  834.0   95.0  943.0   \n",
       "4  b6ab77fd7.jpg    600     600  wheat_head_detected   26.0  144.0  150.0   \n",
       "\n",
       "    ymax  \n",
       "0  258.0  \n",
       "1  606.0  \n",
       "2  664.0  \n",
       "3  202.0  \n",
       "4  261.0  "
      ]
     },
     "execution_count": 45,
     "metadata": {},
     "output_type": "execute_result"
    }
   ],
   "source": [
    "path_train_csv=\"/home/chirag/Downloads/Kaggle_project/train.csv\"\n",
    "img_dir_all_data=\"/home/chirag/Downloads/Kaggle_project/My_project/train\"\n",
    "train_df=pd.read_csv(path_train_csv)\n",
    "\n",
    "\n",
    "def split_Bbox(value):\n",
    "    reg = np.array(re.findall(\"([0-9]+[.]?[0-9]*)\", value))\n",
    "    if len(reg) == 0:\n",
    "        reg = [-1, -1, -1, -1]\n",
    "        print(reg)\n",
    "    return reg\n",
    "\n",
    "def csv_manipulation_and_filtering(df):\n",
    "    df['xmin'] = 0\n",
    "    df['ymin'] = 0\n",
    "    df['xmax'] = 0\n",
    "    df['ymax'] = 0\n",
    "    df[\"width\"]=600\n",
    "    df[\"height\"]=600\n",
    "    \n",
    "    df=df.rename(columns={\"image_id\": \"filename\"})\n",
    "    df=df.rename(columns={\"source\": \"class\"})\n",
    "    df[['xmin', 'ymin', 'xmax', 'ymax']] = np.stack(df['bbox'].apply(lambda value: split_Bbox(value)))\n",
    "    df.drop(columns=['bbox'], inplace=True)\n",
    "        \n",
    "    df['class']= \"wheat_head_detected\"\n",
    "    df[\"filename\"]=df['filename'].astype(str)+'.jpg'\n",
    "    \n",
    "    df['xmin'] = df['xmin'].astype(np.float)\n",
    "    df['ymin'] = df['ymin'].astype(np.float)\n",
    "    df['xmax'] = df['xmax'].astype(np.float)\n",
    "    df['ymax'] = df['ymax'].astype(np.float)\n",
    "    df['xmax']=df['xmin']+df['xmax']\n",
    "    df['ymax']=df['ymin']+df['ymax']\n",
    "  \n",
    "        \n",
    "    return df\n",
    "\n",
    "\n",
    "df=csv_manipulation_and_filtering(train_df)\n",
    "df.head()"
   ]
  },
  {
   "cell_type": "code",
   "execution_count": null,
   "metadata": {},
   "outputs": [],
   "source": []
  },
  {
   "cell_type": "code",
   "execution_count": null,
   "metadata": {},
   "outputs": [],
   "source": []
  },
  {
   "cell_type": "code",
   "execution_count": 35,
   "metadata": {},
   "outputs": [
    {
     "data": {
      "text/plain": [
       "3421"
      ]
     },
     "execution_count": 35,
     "metadata": {},
     "output_type": "execute_result"
    }
   ],
   "source": [
    "## code for finding images which do not have BBOXs ## \n",
    "\n",
    "uniq=df[\"filename\"].unique()\n",
    "from PIL import Image\n",
    "import glob\n",
    "fileList = []\n",
    "count=0\n",
    "for root, dirs, files in os.walk(img_dir_all_data, topdown=False):\n",
    "    for name in files:\n",
    "        if name.endswith('.jpg'):\n",
    "            name_of_img=os.path.splitext(name)[0]\n",
    "            count+=1\n",
    "            if name_of_img not in uniq:\n",
    "                fileList.append(name_of_img) \n",
    "                \n",
    "                \n",
    "len(fileList)   \n",
    "\n",
    "# REMOVE THESE IMAGES FROM DATASET !!"
   ]
  },
  {
   "cell_type": "code",
   "execution_count": 36,
   "metadata": {},
   "outputs": [],
   "source": [
    "import sys\n",
    "sys.path.append(\"/home/chirag/Downloads/models-master/research/slim/\")\n",
    "from object_detection.legacy import train"
   ]
  },
  {
   "cell_type": "code",
   "execution_count": 37,
   "metadata": {},
   "outputs": [
    {
     "data": {
      "text/html": [
       "<div>\n",
       "<style scoped>\n",
       "    .dataframe tbody tr th:only-of-type {\n",
       "        vertical-align: middle;\n",
       "    }\n",
       "\n",
       "    .dataframe tbody tr th {\n",
       "        vertical-align: top;\n",
       "    }\n",
       "\n",
       "    .dataframe thead th {\n",
       "        text-align: right;\n",
       "    }\n",
       "</style>\n",
       "<table border=\"1\" class=\"dataframe\">\n",
       "  <thead>\n",
       "    <tr style=\"text-align: right;\">\n",
       "      <th></th>\n",
       "      <th>filename</th>\n",
       "      <th>width</th>\n",
       "      <th>height</th>\n",
       "      <th>class</th>\n",
       "      <th>xmin</th>\n",
       "      <th>ymin</th>\n",
       "      <th>xmax</th>\n",
       "      <th>ymax</th>\n",
       "    </tr>\n",
       "  </thead>\n",
       "  <tbody>\n",
       "    <tr>\n",
       "      <th>0</th>\n",
       "      <td>b6ab77fd7.jpg</td>\n",
       "      <td>600</td>\n",
       "      <td>600</td>\n",
       "      <td>wheat_head_detected</td>\n",
       "      <td>834.0</td>\n",
       "      <td>222.0</td>\n",
       "      <td>56.0</td>\n",
       "      <td>36.0</td>\n",
       "    </tr>\n",
       "    <tr>\n",
       "      <th>1</th>\n",
       "      <td>b6ab77fd7.jpg</td>\n",
       "      <td>600</td>\n",
       "      <td>600</td>\n",
       "      <td>wheat_head_detected</td>\n",
       "      <td>226.0</td>\n",
       "      <td>548.0</td>\n",
       "      <td>130.0</td>\n",
       "      <td>58.0</td>\n",
       "    </tr>\n",
       "    <tr>\n",
       "      <th>2</th>\n",
       "      <td>b6ab77fd7.jpg</td>\n",
       "      <td>600</td>\n",
       "      <td>600</td>\n",
       "      <td>wheat_head_detected</td>\n",
       "      <td>377.0</td>\n",
       "      <td>504.0</td>\n",
       "      <td>74.0</td>\n",
       "      <td>160.0</td>\n",
       "    </tr>\n",
       "    <tr>\n",
       "      <th>3</th>\n",
       "      <td>b6ab77fd7.jpg</td>\n",
       "      <td>600</td>\n",
       "      <td>600</td>\n",
       "      <td>wheat_head_detected</td>\n",
       "      <td>834.0</td>\n",
       "      <td>95.0</td>\n",
       "      <td>109.0</td>\n",
       "      <td>107.0</td>\n",
       "    </tr>\n",
       "    <tr>\n",
       "      <th>4</th>\n",
       "      <td>b6ab77fd7.jpg</td>\n",
       "      <td>600</td>\n",
       "      <td>600</td>\n",
       "      <td>wheat_head_detected</td>\n",
       "      <td>26.0</td>\n",
       "      <td>144.0</td>\n",
       "      <td>124.0</td>\n",
       "      <td>117.0</td>\n",
       "    </tr>\n",
       "  </tbody>\n",
       "</table>\n",
       "</div>"
      ],
      "text/plain": [
       "        filename  width  height                class   xmin   ymin   xmax  \\\n",
       "0  b6ab77fd7.jpg    600     600  wheat_head_detected  834.0  222.0   56.0   \n",
       "1  b6ab77fd7.jpg    600     600  wheat_head_detected  226.0  548.0  130.0   \n",
       "2  b6ab77fd7.jpg    600     600  wheat_head_detected  377.0  504.0   74.0   \n",
       "3  b6ab77fd7.jpg    600     600  wheat_head_detected  834.0   95.0  109.0   \n",
       "4  b6ab77fd7.jpg    600     600  wheat_head_detected   26.0  144.0  124.0   \n",
       "\n",
       "    ymax  \n",
       "0   36.0  \n",
       "1   58.0  \n",
       "2  160.0  \n",
       "3  107.0  \n",
       "4  117.0  "
      ]
     },
     "execution_count": 37,
     "metadata": {},
     "output_type": "execute_result"
    }
   ],
   "source": [
    "df.head()"
   ]
  },
  {
   "cell_type": "code",
   "execution_count": 38,
   "metadata": {},
   "outputs": [],
   "source": [
    "test_csv=df[0:47]\n",
    "train_csv=df[47:]"
   ]
  },
  {
   "cell_type": "code",
   "execution_count": 39,
   "metadata": {},
   "outputs": [
    {
     "data": {
      "text/html": [
       "<div>\n",
       "<style scoped>\n",
       "    .dataframe tbody tr th:only-of-type {\n",
       "        vertical-align: middle;\n",
       "    }\n",
       "\n",
       "    .dataframe tbody tr th {\n",
       "        vertical-align: top;\n",
       "    }\n",
       "\n",
       "    .dataframe thead th {\n",
       "        text-align: right;\n",
       "    }\n",
       "</style>\n",
       "<table border=\"1\" class=\"dataframe\">\n",
       "  <thead>\n",
       "    <tr style=\"text-align: right;\">\n",
       "      <th></th>\n",
       "      <th>filename</th>\n",
       "      <th>width</th>\n",
       "      <th>height</th>\n",
       "      <th>class</th>\n",
       "      <th>xmin</th>\n",
       "      <th>ymin</th>\n",
       "      <th>xmax</th>\n",
       "      <th>ymax</th>\n",
       "    </tr>\n",
       "  </thead>\n",
       "  <tbody>\n",
       "    <tr>\n",
       "      <th>42</th>\n",
       "      <td>b6ab77fd7.jpg</td>\n",
       "      <td>600</td>\n",
       "      <td>600</td>\n",
       "      <td>wheat_head_detected</td>\n",
       "      <td>959.0</td>\n",
       "      <td>869.0</td>\n",
       "      <td>23.0</td>\n",
       "      <td>31.0</td>\n",
       "    </tr>\n",
       "    <tr>\n",
       "      <th>43</th>\n",
       "      <td>b6ab77fd7.jpg</td>\n",
       "      <td>600</td>\n",
       "      <td>600</td>\n",
       "      <td>wheat_head_detected</td>\n",
       "      <td>600.0</td>\n",
       "      <td>723.0</td>\n",
       "      <td>221.0</td>\n",
       "      <td>81.0</td>\n",
       "    </tr>\n",
       "    <tr>\n",
       "      <th>44</th>\n",
       "      <td>b6ab77fd7.jpg</td>\n",
       "      <td>600</td>\n",
       "      <td>600</td>\n",
       "      <td>wheat_head_detected</td>\n",
       "      <td>575.0</td>\n",
       "      <td>146.0</td>\n",
       "      <td>72.0</td>\n",
       "      <td>121.0</td>\n",
       "    </tr>\n",
       "    <tr>\n",
       "      <th>45</th>\n",
       "      <td>b6ab77fd7.jpg</td>\n",
       "      <td>600</td>\n",
       "      <td>600</td>\n",
       "      <td>wheat_head_detected</td>\n",
       "      <td>945.0</td>\n",
       "      <td>193.0</td>\n",
       "      <td>57.0</td>\n",
       "      <td>45.0</td>\n",
       "    </tr>\n",
       "    <tr>\n",
       "      <th>46</th>\n",
       "      <td>b6ab77fd7.jpg</td>\n",
       "      <td>600</td>\n",
       "      <td>600</td>\n",
       "      <td>wheat_head_detected</td>\n",
       "      <td>216.0</td>\n",
       "      <td>440.0</td>\n",
       "      <td>46.0</td>\n",
       "      <td>20.0</td>\n",
       "    </tr>\n",
       "  </tbody>\n",
       "</table>\n",
       "</div>"
      ],
      "text/plain": [
       "         filename  width  height                class   xmin   ymin   xmax  \\\n",
       "42  b6ab77fd7.jpg    600     600  wheat_head_detected  959.0  869.0   23.0   \n",
       "43  b6ab77fd7.jpg    600     600  wheat_head_detected  600.0  723.0  221.0   \n",
       "44  b6ab77fd7.jpg    600     600  wheat_head_detected  575.0  146.0   72.0   \n",
       "45  b6ab77fd7.jpg    600     600  wheat_head_detected  945.0  193.0   57.0   \n",
       "46  b6ab77fd7.jpg    600     600  wheat_head_detected  216.0  440.0   46.0   \n",
       "\n",
       "     ymax  \n",
       "42   31.0  \n",
       "43   81.0  \n",
       "44  121.0  \n",
       "45   45.0  \n",
       "46   20.0  "
      ]
     },
     "execution_count": 39,
     "metadata": {},
     "output_type": "execute_result"
    }
   ],
   "source": [
    "test_csv.tail()"
   ]
  },
  {
   "cell_type": "code",
   "execution_count": 40,
   "metadata": {},
   "outputs": [
    {
     "data": {
      "text/html": [
       "<div>\n",
       "<style scoped>\n",
       "    .dataframe tbody tr th:only-of-type {\n",
       "        vertical-align: middle;\n",
       "    }\n",
       "\n",
       "    .dataframe tbody tr th {\n",
       "        vertical-align: top;\n",
       "    }\n",
       "\n",
       "    .dataframe thead th {\n",
       "        text-align: right;\n",
       "    }\n",
       "</style>\n",
       "<table border=\"1\" class=\"dataframe\">\n",
       "  <thead>\n",
       "    <tr style=\"text-align: right;\">\n",
       "      <th></th>\n",
       "      <th>filename</th>\n",
       "      <th>width</th>\n",
       "      <th>height</th>\n",
       "      <th>class</th>\n",
       "      <th>xmin</th>\n",
       "      <th>ymin</th>\n",
       "      <th>xmax</th>\n",
       "      <th>ymax</th>\n",
       "    </tr>\n",
       "  </thead>\n",
       "  <tbody>\n",
       "    <tr>\n",
       "      <th>47</th>\n",
       "      <td>b53afdf5c.jpg</td>\n",
       "      <td>600</td>\n",
       "      <td>600</td>\n",
       "      <td>wheat_head_detected</td>\n",
       "      <td>988.0</td>\n",
       "      <td>781.0</td>\n",
       "      <td>36.0</td>\n",
       "      <td>96.0</td>\n",
       "    </tr>\n",
       "    <tr>\n",
       "      <th>48</th>\n",
       "      <td>b53afdf5c.jpg</td>\n",
       "      <td>600</td>\n",
       "      <td>600</td>\n",
       "      <td>wheat_head_detected</td>\n",
       "      <td>331.0</td>\n",
       "      <td>863.0</td>\n",
       "      <td>70.0</td>\n",
       "      <td>95.0</td>\n",
       "    </tr>\n",
       "    <tr>\n",
       "      <th>49</th>\n",
       "      <td>b53afdf5c.jpg</td>\n",
       "      <td>600</td>\n",
       "      <td>600</td>\n",
       "      <td>wheat_head_detected</td>\n",
       "      <td>47.0</td>\n",
       "      <td>226.0</td>\n",
       "      <td>65.0</td>\n",
       "      <td>46.0</td>\n",
       "    </tr>\n",
       "    <tr>\n",
       "      <th>50</th>\n",
       "      <td>b53afdf5c.jpg</td>\n",
       "      <td>600</td>\n",
       "      <td>600</td>\n",
       "      <td>wheat_head_detected</td>\n",
       "      <td>682.0</td>\n",
       "      <td>974.0</td>\n",
       "      <td>108.0</td>\n",
       "      <td>50.0</td>\n",
       "    </tr>\n",
       "    <tr>\n",
       "      <th>51</th>\n",
       "      <td>b53afdf5c.jpg</td>\n",
       "      <td>600</td>\n",
       "      <td>600</td>\n",
       "      <td>wheat_head_detected</td>\n",
       "      <td>63.0</td>\n",
       "      <td>988.0</td>\n",
       "      <td>156.0</td>\n",
       "      <td>36.0</td>\n",
       "    </tr>\n",
       "  </tbody>\n",
       "</table>\n",
       "</div>"
      ],
      "text/plain": [
       "         filename  width  height                class   xmin   ymin   xmax  \\\n",
       "47  b53afdf5c.jpg    600     600  wheat_head_detected  988.0  781.0   36.0   \n",
       "48  b53afdf5c.jpg    600     600  wheat_head_detected  331.0  863.0   70.0   \n",
       "49  b53afdf5c.jpg    600     600  wheat_head_detected   47.0  226.0   65.0   \n",
       "50  b53afdf5c.jpg    600     600  wheat_head_detected  682.0  974.0  108.0   \n",
       "51  b53afdf5c.jpg    600     600  wheat_head_detected   63.0  988.0  156.0   \n",
       "\n",
       "    ymax  \n",
       "47  96.0  \n",
       "48  95.0  \n",
       "49  46.0  \n",
       "50  50.0  \n",
       "51  36.0  "
      ]
     },
     "execution_count": 40,
     "metadata": {},
     "output_type": "execute_result"
    }
   ],
   "source": [
    "train_csv.head()"
   ]
  },
  {
   "cell_type": "code",
   "execution_count": 41,
   "metadata": {},
   "outputs": [],
   "source": [
    "train_output_path=\"/home/chirag/Downloads/Kaggle_project/My_project/train.record\"\n",
    "test_output_path=\"/home/chirag/Downloads/Kaggle_project/My_project/test.record\"\n",
    "\n",
    "test_img_dir=\"/home/chirag/Downloads/Kaggle_project/images/test/\"\n",
    "\n",
    "filtered_img_path=\"/home/chirag/Downloads/Kaggle_project/images/train/\""
   ]
  },
  {
   "cell_type": "markdown",
   "metadata": {},
   "source": [
    " # Run this script 2 times for creating \"train.record\" and \"test.record\" "
   ]
  },
  {
   "cell_type": "code",
   "execution_count": 46,
   "metadata": {},
   "outputs": [],
   "source": [
    "#chnage your path , pass train and test dataframe"
   ]
  },
  {
   "cell_type": "code",
   "execution_count": 43,
   "metadata": {},
   "outputs": [
    {
     "name": "stdout",
     "output_type": "stream",
     "text": [
      "Successfully created the TFRecords: /home/chirag/Downloads/Kaggle_project/My_project/train.record\n"
     ]
    },
    {
     "ename": "SystemExit",
     "evalue": "",
     "output_type": "error",
     "traceback": [
      "An exception has occurred, use %tb to see the full traceback.\n",
      "\u001b[0;31mSystemExit\u001b[0m\n"
     ]
    },
    {
     "name": "stderr",
     "output_type": "stream",
     "text": [
      "/home/chirag/anaconda3/lib/python3.7/site-packages/IPython/core/interactiveshell.py:3339: UserWarning: To exit: use 'exit', 'quit', or Ctrl-D.\n",
      "  warn(\"To exit: use 'exit', 'quit', or Ctrl-D.\", stacklevel=1)\n"
     ]
    }
   ],
   "source": [
    "from __future__ import division\n",
    "from __future__ import print_function\n",
    "from __future__ import absolute_import\n",
    "\n",
    "import os\n",
    "import io\n",
    "import pandas as pd\n",
    "import tensorflow as tf\n",
    "\n",
    "from PIL import Image\n",
    "from object_detection.utils import dataset_util\n",
    "from collections import namedtuple, OrderedDict\n",
    "\n",
    "\n",
    "def class_text_to_int(row_label):\n",
    "    if row_label == 'wheat_head_detected':\n",
    "        return 1\n",
    "    else:\n",
    "        None\n",
    "\n",
    "\n",
    "def split(df, group):\n",
    "    data = namedtuple('data', ['filename', 'object'])\n",
    "    gb = df.groupby(group)\n",
    "    return [data(filename, gb.get_group(x)) for filename, x in zip(gb.groups.keys(), gb.groups)]\n",
    "\n",
    "\n",
    "def create_tf_example(group, path):\n",
    "    with tf.gfile.GFile(os.path.join(path, '{}'.format(group.filename)), 'rb') as fid:\n",
    "        encoded_jpg = fid.read()\n",
    "    encoded_jpg_io = io.BytesIO(encoded_jpg)\n",
    "    image = Image.open(encoded_jpg_io)\n",
    "    width, height = image.size\n",
    "\n",
    "    filename = group.filename.encode('utf8')\n",
    "    image_format = b'jpg'\n",
    "    xmins = []\n",
    "    xmaxs = []\n",
    "    ymins = []\n",
    "    ymaxs = []\n",
    "    classes_text = []\n",
    "    classes = []\n",
    "\n",
    "    for index, row in group.object.iterrows():\n",
    "        xmins.append(row['xmin'] / width)\n",
    "        xmaxs.append(row['xmax'] / width)\n",
    "        ymins.append(row['ymin'] / height)\n",
    "        ymaxs.append(row['ymax'] / height)\n",
    "        classes_text.append(row['class'].encode('utf8'))\n",
    "        classes.append(class_text_to_int(row['class']))\n",
    "\n",
    "    tf_example = tf.train.Example(features=tf.train.Features(feature={\n",
    "        'image/height': dataset_util.int64_feature(height),\n",
    "        'image/width': dataset_util.int64_feature(width),\n",
    "        'image/filename': dataset_util.bytes_feature(filename),\n",
    "        'image/source_id': dataset_util.bytes_feature(filename),\n",
    "        'image/encoded': dataset_util.bytes_feature(encoded_jpg),\n",
    "        'image/format': dataset_util.bytes_feature(image_format),\n",
    "        'image/object/bbox/xmin': dataset_util.float_list_feature(xmins),\n",
    "        'image/object/bbox/xmax': dataset_util.float_list_feature(xmaxs),\n",
    "        'image/object/bbox/ymin': dataset_util.float_list_feature(ymins),\n",
    "        'image/object/bbox/ymax': dataset_util.float_list_feature(ymaxs),\n",
    "        'image/object/class/text': dataset_util.bytes_list_feature(classes_text),\n",
    "        'image/object/class/label': dataset_util.int64_list_feature(classes),\n",
    "    }))\n",
    "    return tf_example\n",
    "\n",
    "\n",
    "def main(_):\n",
    "    writer = tf.python_io.TFRecordWriter(train_output_path)\n",
    "    path = os.path.join(filtered_img_path)\n",
    "    \n",
    "    examples=train_csv\n",
    "    \n",
    "    grouped = split(examples, 'filename')\n",
    "    \n",
    "    for group in grouped:\n",
    "        tf_example = create_tf_example(group, path)\n",
    "        writer.write(tf_example.SerializeToString())\n",
    "\n",
    "    writer.close()\n",
    "    output_path = os.path.join(train_output_path)\n",
    "    print('Successfully created the TFRecords: {}'.format(output_path))\n",
    "\n",
    "\n",
    "if __name__ == '__main__':\n",
    "    tf.app.run()\n"
   ]
  },
  {
   "cell_type": "code",
   "execution_count": null,
   "metadata": {},
   "outputs": [],
   "source": []
  },
  {
   "cell_type": "code",
   "execution_count": null,
   "metadata": {},
   "outputs": [],
   "source": []
  },
  {
   "cell_type": "code",
   "execution_count": null,
   "metadata": {},
   "outputs": [],
   "source": []
  },
  {
   "cell_type": "code",
   "execution_count": 48,
   "metadata": {},
   "outputs": [
    {
     "name": "stdout",
     "output_type": "stream",
     "text": [
      "WARNING:tensorflow:From /home/chirag/anaconda3/lib/python3.7/site-packages/absl/app.py:250: main (from __main__) is deprecated and will be removed in a future version.\n",
      "Instructions for updating:\n",
      "Use object_detection/model_main.py.\n"
     ]
    },
    {
     "name": "stderr",
     "output_type": "stream",
     "text": [
      "W0526 01:10:12.764706 140498178537280 deprecation.py:323] From /home/chirag/anaconda3/lib/python3.7/site-packages/absl/app.py:250: main (from __main__) is deprecated and will be removed in a future version.\n",
      "Instructions for updating:\n",
      "Use object_detection/model_main.py.\n"
     ]
    },
    {
     "name": "stdout",
     "output_type": "stream",
     "text": [
      "WARNING:tensorflow:From /home/chirag/anaconda3/lib/python3.7/site-packages/object_detection/utils/config_util.py:94: The name tf.gfile.GFile is deprecated. Please use tf.io.gfile.GFile instead.\n",
      "\n"
     ]
    },
    {
     "name": "stderr",
     "output_type": "stream",
     "text": [
      "W0526 01:10:12.766551 140498178537280 deprecation_wrapper.py:119] From /home/chirag/anaconda3/lib/python3.7/site-packages/object_detection/utils/config_util.py:94: The name tf.gfile.GFile is deprecated. Please use tf.io.gfile.GFile instead.\n",
      "\n"
     ]
    },
    {
     "name": "stdout",
     "output_type": "stream",
     "text": [
      "WARNING:tensorflow:From /home/chirag/anaconda3/lib/python3.7/site-packages/object_detection/anchor_generators/grid_anchor_generator.py:59: to_float (from tensorflow.python.ops.math_ops) is deprecated and will be removed in a future version.\n",
      "Instructions for updating:\n",
      "Use `tf.cast` instead.\n"
     ]
    },
    {
     "name": "stderr",
     "output_type": "stream",
     "text": [
      "W0526 01:10:12.788052 140498178537280 deprecation.py:323] From /home/chirag/anaconda3/lib/python3.7/site-packages/object_detection/anchor_generators/grid_anchor_generator.py:59: to_float (from tensorflow.python.ops.math_ops) is deprecated and will be removed in a future version.\n",
      "Instructions for updating:\n",
      "Use `tf.cast` instead.\n"
     ]
    },
    {
     "name": "stdout",
     "output_type": "stream",
     "text": [
      "WARNING:tensorflow:From /home/chirag/anaconda3/lib/python3.7/site-packages/object_detection/legacy/trainer.py:266: create_global_step (from tensorflow.contrib.framework.python.ops.variables) is deprecated and will be removed in a future version.\n",
      "Instructions for updating:\n",
      "Please switch to tf.train.create_global_step\n"
     ]
    },
    {
     "name": "stderr",
     "output_type": "stream",
     "text": [
      "W0526 01:10:12.794338 140498178537280 deprecation.py:323] From /home/chirag/anaconda3/lib/python3.7/site-packages/object_detection/legacy/trainer.py:266: create_global_step (from tensorflow.contrib.framework.python.ops.variables) is deprecated and will be removed in a future version.\n",
      "Instructions for updating:\n",
      "Please switch to tf.train.create_global_step\n"
     ]
    },
    {
     "name": "stdout",
     "output_type": "stream",
     "text": [
      "WARNING:tensorflow:From /home/chirag/anaconda3/lib/python3.7/site-packages/object_detection/data_decoders/tf_example_decoder.py:167: The name tf.FixedLenFeature is deprecated. Please use tf.io.FixedLenFeature instead.\n",
      "\n"
     ]
    },
    {
     "name": "stderr",
     "output_type": "stream",
     "text": [
      "W0526 01:10:12.802666 140498178537280 deprecation_wrapper.py:119] From /home/chirag/anaconda3/lib/python3.7/site-packages/object_detection/data_decoders/tf_example_decoder.py:167: The name tf.FixedLenFeature is deprecated. Please use tf.io.FixedLenFeature instead.\n",
      "\n"
     ]
    },
    {
     "name": "stdout",
     "output_type": "stream",
     "text": [
      "WARNING:tensorflow:From /home/chirag/anaconda3/lib/python3.7/site-packages/object_detection/data_decoders/tf_example_decoder.py:182: The name tf.VarLenFeature is deprecated. Please use tf.io.VarLenFeature instead.\n",
      "\n"
     ]
    },
    {
     "name": "stderr",
     "output_type": "stream",
     "text": [
      "W0526 01:10:12.803845 140498178537280 deprecation_wrapper.py:119] From /home/chirag/anaconda3/lib/python3.7/site-packages/object_detection/data_decoders/tf_example_decoder.py:182: The name tf.VarLenFeature is deprecated. Please use tf.io.VarLenFeature instead.\n",
      "\n"
     ]
    },
    {
     "name": "stdout",
     "output_type": "stream",
     "text": [
      "WARNING:tensorflow:From /home/chirag/anaconda3/lib/python3.7/site-packages/object_detection/builders/dataset_builder.py:61: The name tf.gfile.Glob is deprecated. Please use tf.io.gfile.glob instead.\n",
      "\n"
     ]
    },
    {
     "name": "stderr",
     "output_type": "stream",
     "text": [
      "W0526 01:10:12.828202 140498178537280 deprecation_wrapper.py:119] From /home/chirag/anaconda3/lib/python3.7/site-packages/object_detection/builders/dataset_builder.py:61: The name tf.gfile.Glob is deprecated. Please use tf.io.gfile.glob instead.\n",
      "\n"
     ]
    },
    {
     "name": "stdout",
     "output_type": "stream",
     "text": [
      "WARNING:tensorflow:From /home/chirag/anaconda3/lib/python3.7/site-packages/object_detection/builders/dataset_builder.py:65: The name tf.logging.warning is deprecated. Please use tf.compat.v1.logging.warning instead.\n",
      "\n"
     ]
    },
    {
     "name": "stderr",
     "output_type": "stream",
     "text": [
      "W0526 01:10:12.835478 140498178537280 deprecation_wrapper.py:119] From /home/chirag/anaconda3/lib/python3.7/site-packages/object_detection/builders/dataset_builder.py:65: The name tf.logging.warning is deprecated. Please use tf.compat.v1.logging.warning instead.\n",
      "\n"
     ]
    },
    {
     "name": "stdout",
     "output_type": "stream",
     "text": [
      "WARNING:tensorflow:num_readers has been reduced to 1 to match input file shards.\n"
     ]
    },
    {
     "name": "stderr",
     "output_type": "stream",
     "text": [
      "W0526 01:10:12.836851 140498178537280 dataset_builder.py:66] num_readers has been reduced to 1 to match input file shards.\n"
     ]
    },
    {
     "name": "stdout",
     "output_type": "stream",
     "text": [
      "WARNING:tensorflow:From /home/chirag/anaconda3/lib/python3.7/site-packages/object_detection/builders/dataset_builder.py:80: parallel_interleave (from tensorflow.contrib.data.python.ops.interleave_ops) is deprecated and will be removed in a future version.\n",
      "Instructions for updating:\n",
      "Use `tf.data.experimental.parallel_interleave(...)`.\n"
     ]
    },
    {
     "name": "stderr",
     "output_type": "stream",
     "text": [
      "W0526 01:10:12.849288 140498178537280 deprecation.py:323] From /home/chirag/anaconda3/lib/python3.7/site-packages/object_detection/builders/dataset_builder.py:80: parallel_interleave (from tensorflow.contrib.data.python.ops.interleave_ops) is deprecated and will be removed in a future version.\n",
      "Instructions for updating:\n",
      "Use `tf.data.experimental.parallel_interleave(...)`.\n"
     ]
    },
    {
     "name": "stdout",
     "output_type": "stream",
     "text": [
      "WARNING:tensorflow:From /home/chirag/anaconda3/lib/python3.7/site-packages/tensorflow/contrib/data/python/ops/interleave_ops.py:77: parallel_interleave (from tensorflow.python.data.experimental.ops.interleave_ops) is deprecated and will be removed in a future version.\n",
      "Instructions for updating:\n",
      "Use `tf.data.Dataset.interleave(map_func, cycle_length, block_length, num_parallel_calls=tf.data.experimental.AUTOTUNE)` instead. If sloppy execution is desired, use `tf.data.Options.experimental_determinstic`.\n"
     ]
    },
    {
     "name": "stderr",
     "output_type": "stream",
     "text": [
      "W0526 01:10:12.851568 140498178537280 deprecation.py:323] From /home/chirag/anaconda3/lib/python3.7/site-packages/tensorflow/contrib/data/python/ops/interleave_ops.py:77: parallel_interleave (from tensorflow.python.data.experimental.ops.interleave_ops) is deprecated and will be removed in a future version.\n",
      "Instructions for updating:\n",
      "Use `tf.data.Dataset.interleave(map_func, cycle_length, block_length, num_parallel_calls=tf.data.experimental.AUTOTUNE)` instead. If sloppy execution is desired, use `tf.data.Options.experimental_determinstic`.\n"
     ]
    },
    {
     "name": "stdout",
     "output_type": "stream",
     "text": [
      "WARNING:tensorflow:From /home/chirag/anaconda3/lib/python3.7/site-packages/object_detection/builders/dataset_builder.py:43: DatasetV1.make_initializable_iterator (from tensorflow.python.data.ops.dataset_ops) is deprecated and will be removed in a future version.\n",
      "Instructions for updating:\n",
      "Use `for ... in dataset:` to iterate over a dataset. If using `tf.estimator`, return the `Dataset` object directly from your input function. As a last resort, you can use `tf.compat.v1.data.make_initializable_iterator(dataset)`.\n"
     ]
    },
    {
     "name": "stderr",
     "output_type": "stream",
     "text": [
      "W0526 01:10:13.120964 140498178537280 deprecation.py:323] From /home/chirag/anaconda3/lib/python3.7/site-packages/object_detection/builders/dataset_builder.py:43: DatasetV1.make_initializable_iterator (from tensorflow.python.data.ops.dataset_ops) is deprecated and will be removed in a future version.\n",
      "Instructions for updating:\n",
      "Use `for ... in dataset:` to iterate over a dataset. If using `tf.estimator`, return the `Dataset` object directly from your input function. As a last resort, you can use `tf.compat.v1.data.make_initializable_iterator(dataset)`.\n"
     ]
    },
    {
     "name": "stdout",
     "output_type": "stream",
     "text": [
      "WARNING:tensorflow:From /home/chirag/anaconda3/lib/python3.7/site-packages/object_detection/builders/dataset_builder.py:44: The name tf.add_to_collection is deprecated. Please use tf.compat.v1.add_to_collection instead.\n",
      "\n"
     ]
    },
    {
     "name": "stderr",
     "output_type": "stream",
     "text": [
      "W0526 01:10:13.131902 140498178537280 deprecation_wrapper.py:119] From /home/chirag/anaconda3/lib/python3.7/site-packages/object_detection/builders/dataset_builder.py:44: The name tf.add_to_collection is deprecated. Please use tf.compat.v1.add_to_collection instead.\n",
      "\n"
     ]
    },
    {
     "name": "stdout",
     "output_type": "stream",
     "text": [
      "WARNING:tensorflow:From /home/chirag/anaconda3/lib/python3.7/site-packages/object_detection/builders/dataset_builder.py:44: The name tf.GraphKeys is deprecated. Please use tf.compat.v1.GraphKeys instead.\n",
      "\n"
     ]
    },
    {
     "name": "stderr",
     "output_type": "stream",
     "text": [
      "W0526 01:10:13.133192 140498178537280 deprecation_wrapper.py:119] From /home/chirag/anaconda3/lib/python3.7/site-packages/object_detection/builders/dataset_builder.py:44: The name tf.GraphKeys is deprecated. Please use tf.compat.v1.GraphKeys instead.\n",
      "\n"
     ]
    },
    {
     "name": "stdout",
     "output_type": "stream",
     "text": [
      "WARNING:tensorflow:From /home/chirag/anaconda3/lib/python3.7/site-packages/object_detection/core/preprocessor.py:512: The name tf.random_uniform is deprecated. Please use tf.random.uniform instead.\n",
      "\n"
     ]
    },
    {
     "name": "stderr",
     "output_type": "stream",
     "text": [
      "W0526 01:10:13.144865 140498178537280 deprecation_wrapper.py:119] From /home/chirag/anaconda3/lib/python3.7/site-packages/object_detection/core/preprocessor.py:512: The name tf.random_uniform is deprecated. Please use tf.random.uniform instead.\n",
      "\n"
     ]
    },
    {
     "name": "stdout",
     "output_type": "stream",
     "text": [
      "WARNING:tensorflow:From /home/chirag/anaconda3/lib/python3.7/site-packages/object_detection/core/batcher.py:96: batch (from tensorflow.python.training.input) is deprecated and will be removed in a future version.\n",
      "Instructions for updating:\n",
      "Queue-based input pipelines have been replaced by `tf.data`. Use `tf.data.Dataset.batch(batch_size)` (or `padded_batch(...)` if `dynamic_pad=True`).\n"
     ]
    },
    {
     "name": "stderr",
     "output_type": "stream",
     "text": [
      "W0526 01:10:13.207443 140498178537280 deprecation.py:323] From /home/chirag/anaconda3/lib/python3.7/site-packages/object_detection/core/batcher.py:96: batch (from tensorflow.python.training.input) is deprecated and will be removed in a future version.\n",
      "Instructions for updating:\n",
      "Queue-based input pipelines have been replaced by `tf.data`. Use `tf.data.Dataset.batch(batch_size)` (or `padded_batch(...)` if `dynamic_pad=True`).\n"
     ]
    },
    {
     "name": "stdout",
     "output_type": "stream",
     "text": [
      "WARNING:tensorflow:From /home/chirag/anaconda3/lib/python3.7/site-packages/tensorflow/python/training/input.py:753: QueueRunner.__init__ (from tensorflow.python.training.queue_runner_impl) is deprecated and will be removed in a future version.\n",
      "Instructions for updating:\n",
      "To construct input pipelines, use the `tf.data` module.\n"
     ]
    },
    {
     "name": "stderr",
     "output_type": "stream",
     "text": [
      "W0526 01:10:13.214502 140498178537280 deprecation.py:323] From /home/chirag/anaconda3/lib/python3.7/site-packages/tensorflow/python/training/input.py:753: QueueRunner.__init__ (from tensorflow.python.training.queue_runner_impl) is deprecated and will be removed in a future version.\n",
      "Instructions for updating:\n",
      "To construct input pipelines, use the `tf.data` module.\n"
     ]
    },
    {
     "name": "stdout",
     "output_type": "stream",
     "text": [
      "WARNING:tensorflow:From /home/chirag/anaconda3/lib/python3.7/site-packages/tensorflow/python/training/input.py:753: add_queue_runner (from tensorflow.python.training.queue_runner_impl) is deprecated and will be removed in a future version.\n",
      "Instructions for updating:\n",
      "To construct input pipelines, use the `tf.data` module.\n"
     ]
    },
    {
     "name": "stderr",
     "output_type": "stream",
     "text": [
      "W0526 01:10:13.220990 140498178537280 deprecation.py:323] From /home/chirag/anaconda3/lib/python3.7/site-packages/tensorflow/python/training/input.py:753: add_queue_runner (from tensorflow.python.training.queue_runner_impl) is deprecated and will be removed in a future version.\n",
      "Instructions for updating:\n",
      "To construct input pipelines, use the `tf.data` module.\n"
     ]
    },
    {
     "name": "stdout",
     "output_type": "stream",
     "text": [
      "WARNING:tensorflow:From /home/chirag/anaconda3/lib/python3.7/site-packages/object_detection/core/prefetcher.py:58: The name tf.summary.scalar is deprecated. Please use tf.compat.v1.summary.scalar instead.\n",
      "\n"
     ]
    },
    {
     "name": "stderr",
     "output_type": "stream",
     "text": [
      "W0526 01:10:13.238761 140498178537280 deprecation_wrapper.py:119] From /home/chirag/anaconda3/lib/python3.7/site-packages/object_detection/core/prefetcher.py:58: The name tf.summary.scalar is deprecated. Please use tf.compat.v1.summary.scalar instead.\n",
      "\n"
     ]
    },
    {
     "name": "stdout",
     "output_type": "stream",
     "text": [
      "WARNING:tensorflow:From /home/chirag/anaconda3/lib/python3.7/site-packages/object_detection/core/preprocessor.py:2154: to_int32 (from tensorflow.python.ops.math_ops) is deprecated and will be removed in a future version.\n",
      "Instructions for updating:\n",
      "Use `tf.cast` instead.\n"
     ]
    },
    {
     "name": "stderr",
     "output_type": "stream",
     "text": [
      "W0526 01:10:13.320734 140498178537280 deprecation.py:323] From /home/chirag/anaconda3/lib/python3.7/site-packages/object_detection/core/preprocessor.py:2154: to_int32 (from tensorflow.python.ops.math_ops) is deprecated and will be removed in a future version.\n",
      "Instructions for updating:\n",
      "Use `tf.cast` instead.\n"
     ]
    },
    {
     "name": "stdout",
     "output_type": "stream",
     "text": [
      "WARNING:tensorflow:From /home/chirag/anaconda3/lib/python3.7/site-packages/object_detection/core/preprocessor.py:2236: The name tf.image.resize_images is deprecated. Please use tf.image.resize instead.\n",
      "\n"
     ]
    },
    {
     "name": "stderr",
     "output_type": "stream",
     "text": [
      "W0526 01:10:13.345544 140498178537280 deprecation_wrapper.py:119] From /home/chirag/anaconda3/lib/python3.7/site-packages/object_detection/core/preprocessor.py:2236: The name tf.image.resize_images is deprecated. Please use tf.image.resize instead.\n",
      "\n"
     ]
    },
    {
     "name": "stdout",
     "output_type": "stream",
     "text": [
      "INFO:tensorflow:Scale of 0 disables regularizer.\n"
     ]
    },
    {
     "name": "stderr",
     "output_type": "stream",
     "text": [
      "I0526 01:10:13.375353 140498178537280 regularizers.py:98] Scale of 0 disables regularizer.\n"
     ]
    },
    {
     "name": "stdout",
     "output_type": "stream",
     "text": [
      "WARNING:tensorflow:Entity <bound method Conv.call of <tensorflow.python.layers.convolutional.Conv2D object at 0x7fc7fe7a2450>> could not be transformed and will be executed as-is. Please report this to the AutgoGraph team. When filing the bug, set the verbosity to 10 (on Linux, `export AUTOGRAPH_VERBOSITY=10`) and attach the full output. Cause: converting <bound method Conv.call of <tensorflow.python.layers.convolutional.Conv2D object at 0x7fc7fe7a2450>>: AssertionError: Bad argument number for Name: 3, expecting 4\n"
     ]
    },
    {
     "name": "stderr",
     "output_type": "stream",
     "text": [
      "W0526 01:10:13.453869 140498178537280 ag_logging.py:145] Entity <bound method Conv.call of <tensorflow.python.layers.convolutional.Conv2D object at 0x7fc7fe7a2450>> could not be transformed and will be executed as-is. Please report this to the AutgoGraph team. When filing the bug, set the verbosity to 10 (on Linux, `export AUTOGRAPH_VERBOSITY=10`) and attach the full output. Cause: converting <bound method Conv.call of <tensorflow.python.layers.convolutional.Conv2D object at 0x7fc7fe7a2450>>: AssertionError: Bad argument number for Name: 3, expecting 4\n"
     ]
    },
    {
     "name": "stdout",
     "output_type": "stream",
     "text": [
      "WARNING: Entity <bound method Conv.call of <tensorflow.python.layers.convolutional.Conv2D object at 0x7fc7fe7a2450>> could not be transformed and will be executed as-is. Please report this to the AutgoGraph team. When filing the bug, set the verbosity to 10 (on Linux, `export AUTOGRAPH_VERBOSITY=10`) and attach the full output. Cause: converting <bound method Conv.call of <tensorflow.python.layers.convolutional.Conv2D object at 0x7fc7fe7a2450>>: AssertionError: Bad argument number for Name: 3, expecting 4\n",
      "WARNING:tensorflow:Entity <bound method BatchNormalization.call of <tensorflow.python.layers.normalization.BatchNormalization object at 0x7fc7ef0482d0>> could not be transformed and will be executed as-is. Please report this to the AutgoGraph team. When filing the bug, set the verbosity to 10 (on Linux, `export AUTOGRAPH_VERBOSITY=10`) and attach the full output. Cause: converting <bound method BatchNormalization.call of <tensorflow.python.layers.normalization.BatchNormalization object at 0x7fc7ef0482d0>>: AssertionError: Bad argument number for Name: 3, expecting 4\n"
     ]
    },
    {
     "name": "stderr",
     "output_type": "stream",
     "text": [
      "W0526 01:10:13.494691 140498178537280 ag_logging.py:145] Entity <bound method BatchNormalization.call of <tensorflow.python.layers.normalization.BatchNormalization object at 0x7fc7ef0482d0>> could not be transformed and will be executed as-is. Please report this to the AutgoGraph team. When filing the bug, set the verbosity to 10 (on Linux, `export AUTOGRAPH_VERBOSITY=10`) and attach the full output. Cause: converting <bound method BatchNormalization.call of <tensorflow.python.layers.normalization.BatchNormalization object at 0x7fc7ef0482d0>>: AssertionError: Bad argument number for Name: 3, expecting 4\n"
     ]
    },
    {
     "name": "stdout",
     "output_type": "stream",
     "text": [
      "WARNING: Entity <bound method BatchNormalization.call of <tensorflow.python.layers.normalization.BatchNormalization object at 0x7fc7ef0482d0>> could not be transformed and will be executed as-is. Please report this to the AutgoGraph team. When filing the bug, set the verbosity to 10 (on Linux, `export AUTOGRAPH_VERBOSITY=10`) and attach the full output. Cause: converting <bound method BatchNormalization.call of <tensorflow.python.layers.normalization.BatchNormalization object at 0x7fc7ef0482d0>>: AssertionError: Bad argument number for Name: 3, expecting 4\n",
      "WARNING:tensorflow:Entity <bound method Pooling2D.call of <tensorflow.python.layers.pooling.MaxPooling2D object at 0x7fc7fe7a2210>> could not be transformed and will be executed as-is. Please report this to the AutgoGraph team. When filing the bug, set the verbosity to 10 (on Linux, `export AUTOGRAPH_VERBOSITY=10`) and attach the full output. Cause: converting <bound method Pooling2D.call of <tensorflow.python.layers.pooling.MaxPooling2D object at 0x7fc7fe7a2210>>: AssertionError: Bad argument number for Name: 3, expecting 4\n"
     ]
    },
    {
     "name": "stderr",
     "output_type": "stream",
     "text": [
      "W0526 01:10:13.551719 140498178537280 ag_logging.py:145] Entity <bound method Pooling2D.call of <tensorflow.python.layers.pooling.MaxPooling2D object at 0x7fc7fe7a2210>> could not be transformed and will be executed as-is. Please report this to the AutgoGraph team. When filing the bug, set the verbosity to 10 (on Linux, `export AUTOGRAPH_VERBOSITY=10`) and attach the full output. Cause: converting <bound method Pooling2D.call of <tensorflow.python.layers.pooling.MaxPooling2D object at 0x7fc7fe7a2210>>: AssertionError: Bad argument number for Name: 3, expecting 4\n"
     ]
    },
    {
     "name": "stdout",
     "output_type": "stream",
     "text": [
      "WARNING: Entity <bound method Pooling2D.call of <tensorflow.python.layers.pooling.MaxPooling2D object at 0x7fc7fe7a2210>> could not be transformed and will be executed as-is. Please report this to the AutgoGraph team. When filing the bug, set the verbosity to 10 (on Linux, `export AUTOGRAPH_VERBOSITY=10`) and attach the full output. Cause: converting <bound method Pooling2D.call of <tensorflow.python.layers.pooling.MaxPooling2D object at 0x7fc7fe7a2210>>: AssertionError: Bad argument number for Name: 3, expecting 4\n",
      "WARNING:tensorflow:Entity <bound method Conv.call of <tensorflow.python.layers.convolutional.Conv2D object at 0x7fc7ef02c550>> could not be transformed and will be executed as-is. Please report this to the AutgoGraph team. When filing the bug, set the verbosity to 10 (on Linux, `export AUTOGRAPH_VERBOSITY=10`) and attach the full output. Cause: converting <bound method Conv.call of <tensorflow.python.layers.convolutional.Conv2D object at 0x7fc7ef02c550>>: AssertionError: Bad argument number for Name: 3, expecting 4\n"
     ]
    },
    {
     "name": "stderr",
     "output_type": "stream",
     "text": [
      "W0526 01:10:13.630866 140498178537280 ag_logging.py:145] Entity <bound method Conv.call of <tensorflow.python.layers.convolutional.Conv2D object at 0x7fc7ef02c550>> could not be transformed and will be executed as-is. Please report this to the AutgoGraph team. When filing the bug, set the verbosity to 10 (on Linux, `export AUTOGRAPH_VERBOSITY=10`) and attach the full output. Cause: converting <bound method Conv.call of <tensorflow.python.layers.convolutional.Conv2D object at 0x7fc7ef02c550>>: AssertionError: Bad argument number for Name: 3, expecting 4\n"
     ]
    },
    {
     "name": "stdout",
     "output_type": "stream",
     "text": [
      "WARNING: Entity <bound method Conv.call of <tensorflow.python.layers.convolutional.Conv2D object at 0x7fc7ef02c550>> could not be transformed and will be executed as-is. Please report this to the AutgoGraph team. When filing the bug, set the verbosity to 10 (on Linux, `export AUTOGRAPH_VERBOSITY=10`) and attach the full output. Cause: converting <bound method Conv.call of <tensorflow.python.layers.convolutional.Conv2D object at 0x7fc7ef02c550>>: AssertionError: Bad argument number for Name: 3, expecting 4\n",
      "WARNING:tensorflow:Entity <bound method BatchNormalization.call of <tensorflow.python.layers.normalization.BatchNormalization object at 0x7fc7ef048950>> could not be transformed and will be executed as-is. Please report this to the AutgoGraph team. When filing the bug, set the verbosity to 10 (on Linux, `export AUTOGRAPH_VERBOSITY=10`) and attach the full output. Cause: converting <bound method BatchNormalization.call of <tensorflow.python.layers.normalization.BatchNormalization object at 0x7fc7ef048950>>: AssertionError: Bad argument number for Name: 3, expecting 4\n"
     ]
    },
    {
     "name": "stderr",
     "output_type": "stream",
     "text": [
      "W0526 01:10:13.676205 140498178537280 ag_logging.py:145] Entity <bound method BatchNormalization.call of <tensorflow.python.layers.normalization.BatchNormalization object at 0x7fc7ef048950>> could not be transformed and will be executed as-is. Please report this to the AutgoGraph team. When filing the bug, set the verbosity to 10 (on Linux, `export AUTOGRAPH_VERBOSITY=10`) and attach the full output. Cause: converting <bound method BatchNormalization.call of <tensorflow.python.layers.normalization.BatchNormalization object at 0x7fc7ef048950>>: AssertionError: Bad argument number for Name: 3, expecting 4\n"
     ]
    },
    {
     "name": "stdout",
     "output_type": "stream",
     "text": [
      "WARNING: Entity <bound method BatchNormalization.call of <tensorflow.python.layers.normalization.BatchNormalization object at 0x7fc7ef048950>> could not be transformed and will be executed as-is. Please report this to the AutgoGraph team. When filing the bug, set the verbosity to 10 (on Linux, `export AUTOGRAPH_VERBOSITY=10`) and attach the full output. Cause: converting <bound method BatchNormalization.call of <tensorflow.python.layers.normalization.BatchNormalization object at 0x7fc7ef048950>>: AssertionError: Bad argument number for Name: 3, expecting 4\n",
      "WARNING:tensorflow:Entity <bound method Conv.call of <tensorflow.python.layers.convolutional.Conv2D object at 0x7fc7fdab1e50>> could not be transformed and will be executed as-is. Please report this to the AutgoGraph team. When filing the bug, set the verbosity to 10 (on Linux, `export AUTOGRAPH_VERBOSITY=10`) and attach the full output. Cause: converting <bound method Conv.call of <tensorflow.python.layers.convolutional.Conv2D object at 0x7fc7fdab1e50>>: AssertionError: Bad argument number for Name: 3, expecting 4\n"
     ]
    },
    {
     "name": "stderr",
     "output_type": "stream",
     "text": [
      "W0526 01:10:13.760578 140498178537280 ag_logging.py:145] Entity <bound method Conv.call of <tensorflow.python.layers.convolutional.Conv2D object at 0x7fc7fdab1e50>> could not be transformed and will be executed as-is. Please report this to the AutgoGraph team. When filing the bug, set the verbosity to 10 (on Linux, `export AUTOGRAPH_VERBOSITY=10`) and attach the full output. Cause: converting <bound method Conv.call of <tensorflow.python.layers.convolutional.Conv2D object at 0x7fc7fdab1e50>>: AssertionError: Bad argument number for Name: 3, expecting 4\n"
     ]
    },
    {
     "name": "stdout",
     "output_type": "stream",
     "text": [
      "WARNING: Entity <bound method Conv.call of <tensorflow.python.layers.convolutional.Conv2D object at 0x7fc7fdab1e50>> could not be transformed and will be executed as-is. Please report this to the AutgoGraph team. When filing the bug, set the verbosity to 10 (on Linux, `export AUTOGRAPH_VERBOSITY=10`) and attach the full output. Cause: converting <bound method Conv.call of <tensorflow.python.layers.convolutional.Conv2D object at 0x7fc7fdab1e50>>: AssertionError: Bad argument number for Name: 3, expecting 4\n",
      "WARNING:tensorflow:Entity <bound method BatchNormalization.call of <tensorflow.python.layers.normalization.BatchNormalization object at 0x7fc7f2728410>> could not be transformed and will be executed as-is. Please report this to the AutgoGraph team. When filing the bug, set the verbosity to 10 (on Linux, `export AUTOGRAPH_VERBOSITY=10`) and attach the full output. Cause: converting <bound method BatchNormalization.call of <tensorflow.python.layers.normalization.BatchNormalization object at 0x7fc7f2728410>>: AssertionError: Bad argument number for Name: 3, expecting 4\n"
     ]
    },
    {
     "name": "stderr",
     "output_type": "stream",
     "text": [
      "W0526 01:10:13.800534 140498178537280 ag_logging.py:145] Entity <bound method BatchNormalization.call of <tensorflow.python.layers.normalization.BatchNormalization object at 0x7fc7f2728410>> could not be transformed and will be executed as-is. Please report this to the AutgoGraph team. When filing the bug, set the verbosity to 10 (on Linux, `export AUTOGRAPH_VERBOSITY=10`) and attach the full output. Cause: converting <bound method BatchNormalization.call of <tensorflow.python.layers.normalization.BatchNormalization object at 0x7fc7f2728410>>: AssertionError: Bad argument number for Name: 3, expecting 4\n"
     ]
    },
    {
     "name": "stdout",
     "output_type": "stream",
     "text": [
      "WARNING: Entity <bound method BatchNormalization.call of <tensorflow.python.layers.normalization.BatchNormalization object at 0x7fc7f2728410>> could not be transformed and will be executed as-is. Please report this to the AutgoGraph team. When filing the bug, set the verbosity to 10 (on Linux, `export AUTOGRAPH_VERBOSITY=10`) and attach the full output. Cause: converting <bound method BatchNormalization.call of <tensorflow.python.layers.normalization.BatchNormalization object at 0x7fc7f2728410>>: AssertionError: Bad argument number for Name: 3, expecting 4\n",
      "WARNING:tensorflow:Entity <bound method Conv.call of <tensorflow.python.layers.convolutional.Conv2D object at 0x7fc7ef02ce50>> could not be transformed and will be executed as-is. Please report this to the AutgoGraph team. When filing the bug, set the verbosity to 10 (on Linux, `export AUTOGRAPH_VERBOSITY=10`) and attach the full output. Cause: converting <bound method Conv.call of <tensorflow.python.layers.convolutional.Conv2D object at 0x7fc7ef02ce50>>: AssertionError: Bad argument number for Name: 3, expecting 4\n"
     ]
    },
    {
     "name": "stderr",
     "output_type": "stream",
     "text": [
      "W0526 01:10:13.882341 140498178537280 ag_logging.py:145] Entity <bound method Conv.call of <tensorflow.python.layers.convolutional.Conv2D object at 0x7fc7ef02ce50>> could not be transformed and will be executed as-is. Please report this to the AutgoGraph team. When filing the bug, set the verbosity to 10 (on Linux, `export AUTOGRAPH_VERBOSITY=10`) and attach the full output. Cause: converting <bound method Conv.call of <tensorflow.python.layers.convolutional.Conv2D object at 0x7fc7ef02ce50>>: AssertionError: Bad argument number for Name: 3, expecting 4\n"
     ]
    },
    {
     "name": "stdout",
     "output_type": "stream",
     "text": [
      "WARNING: Entity <bound method Conv.call of <tensorflow.python.layers.convolutional.Conv2D object at 0x7fc7ef02ce50>> could not be transformed and will be executed as-is. Please report this to the AutgoGraph team. When filing the bug, set the verbosity to 10 (on Linux, `export AUTOGRAPH_VERBOSITY=10`) and attach the full output. Cause: converting <bound method Conv.call of <tensorflow.python.layers.convolutional.Conv2D object at 0x7fc7ef02ce50>>: AssertionError: Bad argument number for Name: 3, expecting 4\n",
      "WARNING:tensorflow:Entity <bound method BatchNormalization.call of <tensorflow.python.layers.normalization.BatchNormalization object at 0x7fc7fe83b490>> could not be transformed and will be executed as-is. Please report this to the AutgoGraph team. When filing the bug, set the verbosity to 10 (on Linux, `export AUTOGRAPH_VERBOSITY=10`) and attach the full output. Cause: converting <bound method BatchNormalization.call of <tensorflow.python.layers.normalization.BatchNormalization object at 0x7fc7fe83b490>>: AssertionError: Bad argument number for Name: 3, expecting 4\n"
     ]
    },
    {
     "name": "stderr",
     "output_type": "stream",
     "text": [
      "W0526 01:10:13.927893 140498178537280 ag_logging.py:145] Entity <bound method BatchNormalization.call of <tensorflow.python.layers.normalization.BatchNormalization object at 0x7fc7fe83b490>> could not be transformed and will be executed as-is. Please report this to the AutgoGraph team. When filing the bug, set the verbosity to 10 (on Linux, `export AUTOGRAPH_VERBOSITY=10`) and attach the full output. Cause: converting <bound method BatchNormalization.call of <tensorflow.python.layers.normalization.BatchNormalization object at 0x7fc7fe83b490>>: AssertionError: Bad argument number for Name: 3, expecting 4\n"
     ]
    },
    {
     "name": "stdout",
     "output_type": "stream",
     "text": [
      "WARNING: Entity <bound method BatchNormalization.call of <tensorflow.python.layers.normalization.BatchNormalization object at 0x7fc7fe83b490>> could not be transformed and will be executed as-is. Please report this to the AutgoGraph team. When filing the bug, set the verbosity to 10 (on Linux, `export AUTOGRAPH_VERBOSITY=10`) and attach the full output. Cause: converting <bound method BatchNormalization.call of <tensorflow.python.layers.normalization.BatchNormalization object at 0x7fc7fe83b490>>: AssertionError: Bad argument number for Name: 3, expecting 4\n",
      "WARNING:tensorflow:Entity <bound method Conv.call of <tensorflow.python.layers.convolutional.Conv2D object at 0x7fc7ef02c590>> could not be transformed and will be executed as-is. Please report this to the AutgoGraph team. When filing the bug, set the verbosity to 10 (on Linux, `export AUTOGRAPH_VERBOSITY=10`) and attach the full output. Cause: converting <bound method Conv.call of <tensorflow.python.layers.convolutional.Conv2D object at 0x7fc7ef02c590>>: AssertionError: Bad argument number for Name: 3, expecting 4\n"
     ]
    },
    {
     "name": "stderr",
     "output_type": "stream",
     "text": [
      "W0526 01:10:14.038104 140498178537280 ag_logging.py:145] Entity <bound method Conv.call of <tensorflow.python.layers.convolutional.Conv2D object at 0x7fc7ef02c590>> could not be transformed and will be executed as-is. Please report this to the AutgoGraph team. When filing the bug, set the verbosity to 10 (on Linux, `export AUTOGRAPH_VERBOSITY=10`) and attach the full output. Cause: converting <bound method Conv.call of <tensorflow.python.layers.convolutional.Conv2D object at 0x7fc7ef02c590>>: AssertionError: Bad argument number for Name: 3, expecting 4\n"
     ]
    },
    {
     "name": "stdout",
     "output_type": "stream",
     "text": [
      "WARNING: Entity <bound method Conv.call of <tensorflow.python.layers.convolutional.Conv2D object at 0x7fc7ef02c590>> could not be transformed and will be executed as-is. Please report this to the AutgoGraph team. When filing the bug, set the verbosity to 10 (on Linux, `export AUTOGRAPH_VERBOSITY=10`) and attach the full output. Cause: converting <bound method Conv.call of <tensorflow.python.layers.convolutional.Conv2D object at 0x7fc7ef02c590>>: AssertionError: Bad argument number for Name: 3, expecting 4\n",
      "WARNING:tensorflow:Entity <bound method BatchNormalization.call of <tensorflow.python.layers.normalization.BatchNormalization object at 0x7fc7f1b64dd0>> could not be transformed and will be executed as-is. Please report this to the AutgoGraph team. When filing the bug, set the verbosity to 10 (on Linux, `export AUTOGRAPH_VERBOSITY=10`) and attach the full output. Cause: converting <bound method BatchNormalization.call of <tensorflow.python.layers.normalization.BatchNormalization object at 0x7fc7f1b64dd0>>: AssertionError: Bad argument number for Name: 3, expecting 4\n"
     ]
    },
    {
     "name": "stderr",
     "output_type": "stream",
     "text": [
      "W0526 01:10:14.088472 140498178537280 ag_logging.py:145] Entity <bound method BatchNormalization.call of <tensorflow.python.layers.normalization.BatchNormalization object at 0x7fc7f1b64dd0>> could not be transformed and will be executed as-is. Please report this to the AutgoGraph team. When filing the bug, set the verbosity to 10 (on Linux, `export AUTOGRAPH_VERBOSITY=10`) and attach the full output. Cause: converting <bound method BatchNormalization.call of <tensorflow.python.layers.normalization.BatchNormalization object at 0x7fc7f1b64dd0>>: AssertionError: Bad argument number for Name: 3, expecting 4\n"
     ]
    },
    {
     "name": "stdout",
     "output_type": "stream",
     "text": [
      "WARNING: Entity <bound method BatchNormalization.call of <tensorflow.python.layers.normalization.BatchNormalization object at 0x7fc7f1b64dd0>> could not be transformed and will be executed as-is. Please report this to the AutgoGraph team. When filing the bug, set the verbosity to 10 (on Linux, `export AUTOGRAPH_VERBOSITY=10`) and attach the full output. Cause: converting <bound method BatchNormalization.call of <tensorflow.python.layers.normalization.BatchNormalization object at 0x7fc7f1b64dd0>>: AssertionError: Bad argument number for Name: 3, expecting 4\n",
      "WARNING:tensorflow:Entity <bound method Conv.call of <tensorflow.python.layers.convolutional.Conv2D object at 0x7fc7ef02cb10>> could not be transformed and will be executed as-is. Please report this to the AutgoGraph team. When filing the bug, set the verbosity to 10 (on Linux, `export AUTOGRAPH_VERBOSITY=10`) and attach the full output. Cause: converting <bound method Conv.call of <tensorflow.python.layers.convolutional.Conv2D object at 0x7fc7ef02cb10>>: AssertionError: Bad argument number for Name: 3, expecting 4\n"
     ]
    },
    {
     "name": "stderr",
     "output_type": "stream",
     "text": [
      "W0526 01:10:14.170897 140498178537280 ag_logging.py:145] Entity <bound method Conv.call of <tensorflow.python.layers.convolutional.Conv2D object at 0x7fc7ef02cb10>> could not be transformed and will be executed as-is. Please report this to the AutgoGraph team. When filing the bug, set the verbosity to 10 (on Linux, `export AUTOGRAPH_VERBOSITY=10`) and attach the full output. Cause: converting <bound method Conv.call of <tensorflow.python.layers.convolutional.Conv2D object at 0x7fc7ef02cb10>>: AssertionError: Bad argument number for Name: 3, expecting 4\n"
     ]
    },
    {
     "name": "stdout",
     "output_type": "stream",
     "text": [
      "WARNING: Entity <bound method Conv.call of <tensorflow.python.layers.convolutional.Conv2D object at 0x7fc7ef02cb10>> could not be transformed and will be executed as-is. Please report this to the AutgoGraph team. When filing the bug, set the verbosity to 10 (on Linux, `export AUTOGRAPH_VERBOSITY=10`) and attach the full output. Cause: converting <bound method Conv.call of <tensorflow.python.layers.convolutional.Conv2D object at 0x7fc7ef02cb10>>: AssertionError: Bad argument number for Name: 3, expecting 4\n",
      "WARNING:tensorflow:Entity <bound method BatchNormalization.call of <tensorflow.python.layers.normalization.BatchNormalization object at 0x7fc7fe83de50>> could not be transformed and will be executed as-is. Please report this to the AutgoGraph team. When filing the bug, set the verbosity to 10 (on Linux, `export AUTOGRAPH_VERBOSITY=10`) and attach the full output. Cause: converting <bound method BatchNormalization.call of <tensorflow.python.layers.normalization.BatchNormalization object at 0x7fc7fe83de50>>: AssertionError: Bad argument number for Name: 3, expecting 4\n"
     ]
    },
    {
     "name": "stderr",
     "output_type": "stream",
     "text": [
      "W0526 01:10:14.215967 140498178537280 ag_logging.py:145] Entity <bound method BatchNormalization.call of <tensorflow.python.layers.normalization.BatchNormalization object at 0x7fc7fe83de50>> could not be transformed and will be executed as-is. Please report this to the AutgoGraph team. When filing the bug, set the verbosity to 10 (on Linux, `export AUTOGRAPH_VERBOSITY=10`) and attach the full output. Cause: converting <bound method BatchNormalization.call of <tensorflow.python.layers.normalization.BatchNormalization object at 0x7fc7fe83de50>>: AssertionError: Bad argument number for Name: 3, expecting 4\n"
     ]
    },
    {
     "name": "stdout",
     "output_type": "stream",
     "text": [
      "WARNING: Entity <bound method BatchNormalization.call of <tensorflow.python.layers.normalization.BatchNormalization object at 0x7fc7fe83de50>> could not be transformed and will be executed as-is. Please report this to the AutgoGraph team. When filing the bug, set the verbosity to 10 (on Linux, `export AUTOGRAPH_VERBOSITY=10`) and attach the full output. Cause: converting <bound method BatchNormalization.call of <tensorflow.python.layers.normalization.BatchNormalization object at 0x7fc7fe83de50>>: AssertionError: Bad argument number for Name: 3, expecting 4\n",
      "WARNING:tensorflow:Entity <bound method Conv.call of <tensorflow.python.layers.convolutional.Conv2D object at 0x7fc7fda97b50>> could not be transformed and will be executed as-is. Please report this to the AutgoGraph team. When filing the bug, set the verbosity to 10 (on Linux, `export AUTOGRAPH_VERBOSITY=10`) and attach the full output. Cause: converting <bound method Conv.call of <tensorflow.python.layers.convolutional.Conv2D object at 0x7fc7fda97b50>>: AssertionError: Bad argument number for Name: 3, expecting 4\n"
     ]
    },
    {
     "name": "stderr",
     "output_type": "stream",
     "text": [
      "W0526 01:10:14.300314 140498178537280 ag_logging.py:145] Entity <bound method Conv.call of <tensorflow.python.layers.convolutional.Conv2D object at 0x7fc7fda97b50>> could not be transformed and will be executed as-is. Please report this to the AutgoGraph team. When filing the bug, set the verbosity to 10 (on Linux, `export AUTOGRAPH_VERBOSITY=10`) and attach the full output. Cause: converting <bound method Conv.call of <tensorflow.python.layers.convolutional.Conv2D object at 0x7fc7fda97b50>>: AssertionError: Bad argument number for Name: 3, expecting 4\n"
     ]
    },
    {
     "name": "stdout",
     "output_type": "stream",
     "text": [
      "WARNING: Entity <bound method Conv.call of <tensorflow.python.layers.convolutional.Conv2D object at 0x7fc7fda97b50>> could not be transformed and will be executed as-is. Please report this to the AutgoGraph team. When filing the bug, set the verbosity to 10 (on Linux, `export AUTOGRAPH_VERBOSITY=10`) and attach the full output. Cause: converting <bound method Conv.call of <tensorflow.python.layers.convolutional.Conv2D object at 0x7fc7fda97b50>>: AssertionError: Bad argument number for Name: 3, expecting 4\n",
      "WARNING:tensorflow:Entity <bound method BatchNormalization.call of <tensorflow.python.layers.normalization.BatchNormalization object at 0x7fc7fe84e810>> could not be transformed and will be executed as-is. Please report this to the AutgoGraph team. When filing the bug, set the verbosity to 10 (on Linux, `export AUTOGRAPH_VERBOSITY=10`) and attach the full output. Cause: converting <bound method BatchNormalization.call of <tensorflow.python.layers.normalization.BatchNormalization object at 0x7fc7fe84e810>>: AssertionError: Bad argument number for Name: 3, expecting 4\n"
     ]
    },
    {
     "name": "stderr",
     "output_type": "stream",
     "text": [
      "W0526 01:10:14.340139 140498178537280 ag_logging.py:145] Entity <bound method BatchNormalization.call of <tensorflow.python.layers.normalization.BatchNormalization object at 0x7fc7fe84e810>> could not be transformed and will be executed as-is. Please report this to the AutgoGraph team. When filing the bug, set the verbosity to 10 (on Linux, `export AUTOGRAPH_VERBOSITY=10`) and attach the full output. Cause: converting <bound method BatchNormalization.call of <tensorflow.python.layers.normalization.BatchNormalization object at 0x7fc7fe84e810>>: AssertionError: Bad argument number for Name: 3, expecting 4\n"
     ]
    },
    {
     "name": "stdout",
     "output_type": "stream",
     "text": [
      "WARNING: Entity <bound method BatchNormalization.call of <tensorflow.python.layers.normalization.BatchNormalization object at 0x7fc7fe84e810>> could not be transformed and will be executed as-is. Please report this to the AutgoGraph team. When filing the bug, set the verbosity to 10 (on Linux, `export AUTOGRAPH_VERBOSITY=10`) and attach the full output. Cause: converting <bound method BatchNormalization.call of <tensorflow.python.layers.normalization.BatchNormalization object at 0x7fc7fe84e810>>: AssertionError: Bad argument number for Name: 3, expecting 4\n",
      "WARNING:tensorflow:Entity <bound method Conv.call of <tensorflow.python.layers.convolutional.Conv2D object at 0x7fc7ef02c090>> could not be transformed and will be executed as-is. Please report this to the AutgoGraph team. When filing the bug, set the verbosity to 10 (on Linux, `export AUTOGRAPH_VERBOSITY=10`) and attach the full output. Cause: converting <bound method Conv.call of <tensorflow.python.layers.convolutional.Conv2D object at 0x7fc7ef02c090>>: AssertionError: Bad argument number for Name: 3, expecting 4\n"
     ]
    },
    {
     "name": "stderr",
     "output_type": "stream",
     "text": [
      "W0526 01:10:14.449195 140498178537280 ag_logging.py:145] Entity <bound method Conv.call of <tensorflow.python.layers.convolutional.Conv2D object at 0x7fc7ef02c090>> could not be transformed and will be executed as-is. Please report this to the AutgoGraph team. When filing the bug, set the verbosity to 10 (on Linux, `export AUTOGRAPH_VERBOSITY=10`) and attach the full output. Cause: converting <bound method Conv.call of <tensorflow.python.layers.convolutional.Conv2D object at 0x7fc7ef02c090>>: AssertionError: Bad argument number for Name: 3, expecting 4\n"
     ]
    },
    {
     "name": "stdout",
     "output_type": "stream",
     "text": [
      "WARNING: Entity <bound method Conv.call of <tensorflow.python.layers.convolutional.Conv2D object at 0x7fc7ef02c090>> could not be transformed and will be executed as-is. Please report this to the AutgoGraph team. When filing the bug, set the verbosity to 10 (on Linux, `export AUTOGRAPH_VERBOSITY=10`) and attach the full output. Cause: converting <bound method Conv.call of <tensorflow.python.layers.convolutional.Conv2D object at 0x7fc7ef02c090>>: AssertionError: Bad argument number for Name: 3, expecting 4\n",
      "WARNING:tensorflow:Entity <bound method BatchNormalization.call of <tensorflow.python.layers.normalization.BatchNormalization object at 0x7fc7fe83bbd0>> could not be transformed and will be executed as-is. Please report this to the AutgoGraph team. When filing the bug, set the verbosity to 10 (on Linux, `export AUTOGRAPH_VERBOSITY=10`) and attach the full output. Cause: converting <bound method BatchNormalization.call of <tensorflow.python.layers.normalization.BatchNormalization object at 0x7fc7fe83bbd0>>: AssertionError: Bad argument number for Name: 3, expecting 4\n"
     ]
    },
    {
     "name": "stderr",
     "output_type": "stream",
     "text": [
      "W0526 01:10:14.499149 140498178537280 ag_logging.py:145] Entity <bound method BatchNormalization.call of <tensorflow.python.layers.normalization.BatchNormalization object at 0x7fc7fe83bbd0>> could not be transformed and will be executed as-is. Please report this to the AutgoGraph team. When filing the bug, set the verbosity to 10 (on Linux, `export AUTOGRAPH_VERBOSITY=10`) and attach the full output. Cause: converting <bound method BatchNormalization.call of <tensorflow.python.layers.normalization.BatchNormalization object at 0x7fc7fe83bbd0>>: AssertionError: Bad argument number for Name: 3, expecting 4\n"
     ]
    },
    {
     "name": "stdout",
     "output_type": "stream",
     "text": [
      "WARNING: Entity <bound method BatchNormalization.call of <tensorflow.python.layers.normalization.BatchNormalization object at 0x7fc7fe83bbd0>> could not be transformed and will be executed as-is. Please report this to the AutgoGraph team. When filing the bug, set the verbosity to 10 (on Linux, `export AUTOGRAPH_VERBOSITY=10`) and attach the full output. Cause: converting <bound method BatchNormalization.call of <tensorflow.python.layers.normalization.BatchNormalization object at 0x7fc7fe83bbd0>>: AssertionError: Bad argument number for Name: 3, expecting 4\n",
      "WARNING:tensorflow:Entity <bound method Pooling2D.call of <tensorflow.python.layers.pooling.MaxPooling2D object at 0x7fc7fe83de10>> could not be transformed and will be executed as-is. Please report this to the AutgoGraph team. When filing the bug, set the verbosity to 10 (on Linux, `export AUTOGRAPH_VERBOSITY=10`) and attach the full output. Cause: converting <bound method Pooling2D.call of <tensorflow.python.layers.pooling.MaxPooling2D object at 0x7fc7fe83de10>>: AssertionError: Bad argument number for Name: 3, expecting 4\n"
     ]
    },
    {
     "name": "stderr",
     "output_type": "stream",
     "text": [
      "W0526 01:10:14.553734 140498178537280 ag_logging.py:145] Entity <bound method Pooling2D.call of <tensorflow.python.layers.pooling.MaxPooling2D object at 0x7fc7fe83de10>> could not be transformed and will be executed as-is. Please report this to the AutgoGraph team. When filing the bug, set the verbosity to 10 (on Linux, `export AUTOGRAPH_VERBOSITY=10`) and attach the full output. Cause: converting <bound method Pooling2D.call of <tensorflow.python.layers.pooling.MaxPooling2D object at 0x7fc7fe83de10>>: AssertionError: Bad argument number for Name: 3, expecting 4\n"
     ]
    },
    {
     "name": "stdout",
     "output_type": "stream",
     "text": [
      "WARNING: Entity <bound method Pooling2D.call of <tensorflow.python.layers.pooling.MaxPooling2D object at 0x7fc7fe83de10>> could not be transformed and will be executed as-is. Please report this to the AutgoGraph team. When filing the bug, set the verbosity to 10 (on Linux, `export AUTOGRAPH_VERBOSITY=10`) and attach the full output. Cause: converting <bound method Pooling2D.call of <tensorflow.python.layers.pooling.MaxPooling2D object at 0x7fc7fe83de10>>: AssertionError: Bad argument number for Name: 3, expecting 4\n",
      "WARNING:tensorflow:Entity <bound method Conv.call of <tensorflow.python.layers.convolutional.Conv2D object at 0x7fc7ef02c250>> could not be transformed and will be executed as-is. Please report this to the AutgoGraph team. When filing the bug, set the verbosity to 10 (on Linux, `export AUTOGRAPH_VERBOSITY=10`) and attach the full output. Cause: converting <bound method Conv.call of <tensorflow.python.layers.convolutional.Conv2D object at 0x7fc7ef02c250>>: AssertionError: Bad argument number for Name: 3, expecting 4\n"
     ]
    },
    {
     "name": "stderr",
     "output_type": "stream",
     "text": [
      "W0526 01:10:14.626932 140498178537280 ag_logging.py:145] Entity <bound method Conv.call of <tensorflow.python.layers.convolutional.Conv2D object at 0x7fc7ef02c250>> could not be transformed and will be executed as-is. Please report this to the AutgoGraph team. When filing the bug, set the verbosity to 10 (on Linux, `export AUTOGRAPH_VERBOSITY=10`) and attach the full output. Cause: converting <bound method Conv.call of <tensorflow.python.layers.convolutional.Conv2D object at 0x7fc7ef02c250>>: AssertionError: Bad argument number for Name: 3, expecting 4\n"
     ]
    },
    {
     "name": "stdout",
     "output_type": "stream",
     "text": [
      "WARNING: Entity <bound method Conv.call of <tensorflow.python.layers.convolutional.Conv2D object at 0x7fc7ef02c250>> could not be transformed and will be executed as-is. Please report this to the AutgoGraph team. When filing the bug, set the verbosity to 10 (on Linux, `export AUTOGRAPH_VERBOSITY=10`) and attach the full output. Cause: converting <bound method Conv.call of <tensorflow.python.layers.convolutional.Conv2D object at 0x7fc7ef02c250>>: AssertionError: Bad argument number for Name: 3, expecting 4\n",
      "WARNING:tensorflow:Entity <bound method BatchNormalization.call of <tensorflow.python.layers.normalization.BatchNormalization object at 0x7fc7febd0a50>> could not be transformed and will be executed as-is. Please report this to the AutgoGraph team. When filing the bug, set the verbosity to 10 (on Linux, `export AUTOGRAPH_VERBOSITY=10`) and attach the full output. Cause: converting <bound method BatchNormalization.call of <tensorflow.python.layers.normalization.BatchNormalization object at 0x7fc7febd0a50>>: AssertionError: Bad argument number for Name: 3, expecting 4\n"
     ]
    },
    {
     "name": "stderr",
     "output_type": "stream",
     "text": [
      "W0526 01:10:14.672715 140498178537280 ag_logging.py:145] Entity <bound method BatchNormalization.call of <tensorflow.python.layers.normalization.BatchNormalization object at 0x7fc7febd0a50>> could not be transformed and will be executed as-is. Please report this to the AutgoGraph team. When filing the bug, set the verbosity to 10 (on Linux, `export AUTOGRAPH_VERBOSITY=10`) and attach the full output. Cause: converting <bound method BatchNormalization.call of <tensorflow.python.layers.normalization.BatchNormalization object at 0x7fc7febd0a50>>: AssertionError: Bad argument number for Name: 3, expecting 4\n"
     ]
    },
    {
     "name": "stdout",
     "output_type": "stream",
     "text": [
      "WARNING: Entity <bound method BatchNormalization.call of <tensorflow.python.layers.normalization.BatchNormalization object at 0x7fc7febd0a50>> could not be transformed and will be executed as-is. Please report this to the AutgoGraph team. When filing the bug, set the verbosity to 10 (on Linux, `export AUTOGRAPH_VERBOSITY=10`) and attach the full output. Cause: converting <bound method BatchNormalization.call of <tensorflow.python.layers.normalization.BatchNormalization object at 0x7fc7febd0a50>>: AssertionError: Bad argument number for Name: 3, expecting 4\n",
      "WARNING:tensorflow:Entity <bound method Conv.call of <tensorflow.python.layers.convolutional.Conv2D object at 0x7fc7fe791f10>> could not be transformed and will be executed as-is. Please report this to the AutgoGraph team. When filing the bug, set the verbosity to 10 (on Linux, `export AUTOGRAPH_VERBOSITY=10`) and attach the full output. Cause: converting <bound method Conv.call of <tensorflow.python.layers.convolutional.Conv2D object at 0x7fc7fe791f10>>: AssertionError: Bad argument number for Name: 3, expecting 4\n"
     ]
    },
    {
     "name": "stderr",
     "output_type": "stream",
     "text": [
      "W0526 01:10:14.938266 140498178537280 ag_logging.py:145] Entity <bound method Conv.call of <tensorflow.python.layers.convolutional.Conv2D object at 0x7fc7fe791f10>> could not be transformed and will be executed as-is. Please report this to the AutgoGraph team. When filing the bug, set the verbosity to 10 (on Linux, `export AUTOGRAPH_VERBOSITY=10`) and attach the full output. Cause: converting <bound method Conv.call of <tensorflow.python.layers.convolutional.Conv2D object at 0x7fc7fe791f10>>: AssertionError: Bad argument number for Name: 3, expecting 4\n"
     ]
    },
    {
     "name": "stdout",
     "output_type": "stream",
     "text": [
      "WARNING: Entity <bound method Conv.call of <tensorflow.python.layers.convolutional.Conv2D object at 0x7fc7fe791f10>> could not be transformed and will be executed as-is. Please report this to the AutgoGraph team. When filing the bug, set the verbosity to 10 (on Linux, `export AUTOGRAPH_VERBOSITY=10`) and attach the full output. Cause: converting <bound method Conv.call of <tensorflow.python.layers.convolutional.Conv2D object at 0x7fc7fe791f10>>: AssertionError: Bad argument number for Name: 3, expecting 4\n",
      "WARNING:tensorflow:Entity <bound method BatchNormalization.call of <tensorflow.python.layers.normalization.BatchNormalization object at 0x7fc7f4915050>> could not be transformed and will be executed as-is. Please report this to the AutgoGraph team. When filing the bug, set the verbosity to 10 (on Linux, `export AUTOGRAPH_VERBOSITY=10`) and attach the full output. Cause: converting <bound method BatchNormalization.call of <tensorflow.python.layers.normalization.BatchNormalization object at 0x7fc7f4915050>>: AssertionError: Bad argument number for Name: 3, expecting 4\n"
     ]
    },
    {
     "name": "stderr",
     "output_type": "stream",
     "text": [
      "W0526 01:10:14.973352 140498178537280 ag_logging.py:145] Entity <bound method BatchNormalization.call of <tensorflow.python.layers.normalization.BatchNormalization object at 0x7fc7f4915050>> could not be transformed and will be executed as-is. Please report this to the AutgoGraph team. When filing the bug, set the verbosity to 10 (on Linux, `export AUTOGRAPH_VERBOSITY=10`) and attach the full output. Cause: converting <bound method BatchNormalization.call of <tensorflow.python.layers.normalization.BatchNormalization object at 0x7fc7f4915050>>: AssertionError: Bad argument number for Name: 3, expecting 4\n"
     ]
    },
    {
     "name": "stdout",
     "output_type": "stream",
     "text": [
      "WARNING: Entity <bound method BatchNormalization.call of <tensorflow.python.layers.normalization.BatchNormalization object at 0x7fc7f4915050>> could not be transformed and will be executed as-is. Please report this to the AutgoGraph team. When filing the bug, set the verbosity to 10 (on Linux, `export AUTOGRAPH_VERBOSITY=10`) and attach the full output. Cause: converting <bound method BatchNormalization.call of <tensorflow.python.layers.normalization.BatchNormalization object at 0x7fc7f4915050>>: AssertionError: Bad argument number for Name: 3, expecting 4\n",
      "WARNING:tensorflow:Entity <bound method Conv.call of <tensorflow.python.layers.convolutional.Conv2D object at 0x7fc7ecf9f510>> could not be transformed and will be executed as-is. Please report this to the AutgoGraph team. When filing the bug, set the verbosity to 10 (on Linux, `export AUTOGRAPH_VERBOSITY=10`) and attach the full output. Cause: converting <bound method Conv.call of <tensorflow.python.layers.convolutional.Conv2D object at 0x7fc7ecf9f510>>: AssertionError: Bad argument number for Name: 3, expecting 4\n"
     ]
    },
    {
     "name": "stderr",
     "output_type": "stream",
     "text": [
      "W0526 01:10:15.052478 140498178537280 ag_logging.py:145] Entity <bound method Conv.call of <tensorflow.python.layers.convolutional.Conv2D object at 0x7fc7ecf9f510>> could not be transformed and will be executed as-is. Please report this to the AutgoGraph team. When filing the bug, set the verbosity to 10 (on Linux, `export AUTOGRAPH_VERBOSITY=10`) and attach the full output. Cause: converting <bound method Conv.call of <tensorflow.python.layers.convolutional.Conv2D object at 0x7fc7ecf9f510>>: AssertionError: Bad argument number for Name: 3, expecting 4\n"
     ]
    },
    {
     "name": "stdout",
     "output_type": "stream",
     "text": [
      "WARNING: Entity <bound method Conv.call of <tensorflow.python.layers.convolutional.Conv2D object at 0x7fc7ecf9f510>> could not be transformed and will be executed as-is. Please report this to the AutgoGraph team. When filing the bug, set the verbosity to 10 (on Linux, `export AUTOGRAPH_VERBOSITY=10`) and attach the full output. Cause: converting <bound method Conv.call of <tensorflow.python.layers.convolutional.Conv2D object at 0x7fc7ecf9f510>>: AssertionError: Bad argument number for Name: 3, expecting 4\n",
      "WARNING:tensorflow:Entity <bound method BatchNormalization.call of <tensorflow.python.layers.normalization.BatchNormalization object at 0x7fc7f4a49950>> could not be transformed and will be executed as-is. Please report this to the AutgoGraph team. When filing the bug, set the verbosity to 10 (on Linux, `export AUTOGRAPH_VERBOSITY=10`) and attach the full output. Cause: converting <bound method BatchNormalization.call of <tensorflow.python.layers.normalization.BatchNormalization object at 0x7fc7f4a49950>>: AssertionError: Bad argument number for Name: 3, expecting 4\n"
     ]
    },
    {
     "name": "stderr",
     "output_type": "stream",
     "text": [
      "W0526 01:10:15.096523 140498178537280 ag_logging.py:145] Entity <bound method BatchNormalization.call of <tensorflow.python.layers.normalization.BatchNormalization object at 0x7fc7f4a49950>> could not be transformed and will be executed as-is. Please report this to the AutgoGraph team. When filing the bug, set the verbosity to 10 (on Linux, `export AUTOGRAPH_VERBOSITY=10`) and attach the full output. Cause: converting <bound method BatchNormalization.call of <tensorflow.python.layers.normalization.BatchNormalization object at 0x7fc7f4a49950>>: AssertionError: Bad argument number for Name: 3, expecting 4\n"
     ]
    },
    {
     "name": "stdout",
     "output_type": "stream",
     "text": [
      "WARNING: Entity <bound method BatchNormalization.call of <tensorflow.python.layers.normalization.BatchNormalization object at 0x7fc7f4a49950>> could not be transformed and will be executed as-is. Please report this to the AutgoGraph team. When filing the bug, set the verbosity to 10 (on Linux, `export AUTOGRAPH_VERBOSITY=10`) and attach the full output. Cause: converting <bound method BatchNormalization.call of <tensorflow.python.layers.normalization.BatchNormalization object at 0x7fc7f4a49950>>: AssertionError: Bad argument number for Name: 3, expecting 4\n",
      "WARNING:tensorflow:Entity <bound method Conv.call of <tensorflow.python.layers.convolutional.Conv2D object at 0x7fc7ef02c250>> could not be transformed and will be executed as-is. Please report this to the AutgoGraph team. When filing the bug, set the verbosity to 10 (on Linux, `export AUTOGRAPH_VERBOSITY=10`) and attach the full output. Cause: converting <bound method Conv.call of <tensorflow.python.layers.convolutional.Conv2D object at 0x7fc7ef02c250>>: AssertionError: Bad argument number for Name: 3, expecting 4\n"
     ]
    },
    {
     "name": "stderr",
     "output_type": "stream",
     "text": [
      "W0526 01:10:15.204351 140498178537280 ag_logging.py:145] Entity <bound method Conv.call of <tensorflow.python.layers.convolutional.Conv2D object at 0x7fc7ef02c250>> could not be transformed and will be executed as-is. Please report this to the AutgoGraph team. When filing the bug, set the verbosity to 10 (on Linux, `export AUTOGRAPH_VERBOSITY=10`) and attach the full output. Cause: converting <bound method Conv.call of <tensorflow.python.layers.convolutional.Conv2D object at 0x7fc7ef02c250>>: AssertionError: Bad argument number for Name: 3, expecting 4\n"
     ]
    },
    {
     "name": "stdout",
     "output_type": "stream",
     "text": [
      "WARNING: Entity <bound method Conv.call of <tensorflow.python.layers.convolutional.Conv2D object at 0x7fc7ef02c250>> could not be transformed and will be executed as-is. Please report this to the AutgoGraph team. When filing the bug, set the verbosity to 10 (on Linux, `export AUTOGRAPH_VERBOSITY=10`) and attach the full output. Cause: converting <bound method Conv.call of <tensorflow.python.layers.convolutional.Conv2D object at 0x7fc7ef02c250>>: AssertionError: Bad argument number for Name: 3, expecting 4\n",
      "WARNING:tensorflow:Entity <bound method BatchNormalization.call of <tensorflow.python.layers.normalization.BatchNormalization object at 0x7fc7fda96650>> could not be transformed and will be executed as-is. Please report this to the AutgoGraph team. When filing the bug, set the verbosity to 10 (on Linux, `export AUTOGRAPH_VERBOSITY=10`) and attach the full output. Cause: converting <bound method BatchNormalization.call of <tensorflow.python.layers.normalization.BatchNormalization object at 0x7fc7fda96650>>: AssertionError: Bad argument number for Name: 3, expecting 4\n"
     ]
    },
    {
     "name": "stderr",
     "output_type": "stream",
     "text": [
      "W0526 01:10:15.264010 140498178537280 ag_logging.py:145] Entity <bound method BatchNormalization.call of <tensorflow.python.layers.normalization.BatchNormalization object at 0x7fc7fda96650>> could not be transformed and will be executed as-is. Please report this to the AutgoGraph team. When filing the bug, set the verbosity to 10 (on Linux, `export AUTOGRAPH_VERBOSITY=10`) and attach the full output. Cause: converting <bound method BatchNormalization.call of <tensorflow.python.layers.normalization.BatchNormalization object at 0x7fc7fda96650>>: AssertionError: Bad argument number for Name: 3, expecting 4\n"
     ]
    },
    {
     "name": "stdout",
     "output_type": "stream",
     "text": [
      "WARNING: Entity <bound method BatchNormalization.call of <tensorflow.python.layers.normalization.BatchNormalization object at 0x7fc7fda96650>> could not be transformed and will be executed as-is. Please report this to the AutgoGraph team. When filing the bug, set the verbosity to 10 (on Linux, `export AUTOGRAPH_VERBOSITY=10`) and attach the full output. Cause: converting <bound method BatchNormalization.call of <tensorflow.python.layers.normalization.BatchNormalization object at 0x7fc7fda96650>>: AssertionError: Bad argument number for Name: 3, expecting 4\n",
      "WARNING:tensorflow:Entity <bound method Conv.call of <tensorflow.python.layers.convolutional.Conv2D object at 0x7fc7feb1c190>> could not be transformed and will be executed as-is. Please report this to the AutgoGraph team. When filing the bug, set the verbosity to 10 (on Linux, `export AUTOGRAPH_VERBOSITY=10`) and attach the full output. Cause: converting <bound method Conv.call of <tensorflow.python.layers.convolutional.Conv2D object at 0x7fc7feb1c190>>: AssertionError: Bad argument number for Name: 3, expecting 4\n"
     ]
    },
    {
     "name": "stderr",
     "output_type": "stream",
     "text": [
      "W0526 01:10:15.345681 140498178537280 ag_logging.py:145] Entity <bound method Conv.call of <tensorflow.python.layers.convolutional.Conv2D object at 0x7fc7feb1c190>> could not be transformed and will be executed as-is. Please report this to the AutgoGraph team. When filing the bug, set the verbosity to 10 (on Linux, `export AUTOGRAPH_VERBOSITY=10`) and attach the full output. Cause: converting <bound method Conv.call of <tensorflow.python.layers.convolutional.Conv2D object at 0x7fc7feb1c190>>: AssertionError: Bad argument number for Name: 3, expecting 4\n"
     ]
    },
    {
     "name": "stdout",
     "output_type": "stream",
     "text": [
      "WARNING: Entity <bound method Conv.call of <tensorflow.python.layers.convolutional.Conv2D object at 0x7fc7feb1c190>> could not be transformed and will be executed as-is. Please report this to the AutgoGraph team. When filing the bug, set the verbosity to 10 (on Linux, `export AUTOGRAPH_VERBOSITY=10`) and attach the full output. Cause: converting <bound method Conv.call of <tensorflow.python.layers.convolutional.Conv2D object at 0x7fc7feb1c190>>: AssertionError: Bad argument number for Name: 3, expecting 4\n",
      "WARNING:tensorflow:Entity <bound method BatchNormalization.call of <tensorflow.python.layers.normalization.BatchNormalization object at 0x7fc7fda96450>> could not be transformed and will be executed as-is. Please report this to the AutgoGraph team. When filing the bug, set the verbosity to 10 (on Linux, `export AUTOGRAPH_VERBOSITY=10`) and attach the full output. Cause: converting <bound method BatchNormalization.call of <tensorflow.python.layers.normalization.BatchNormalization object at 0x7fc7fda96450>>: AssertionError: Bad argument number for Name: 3, expecting 4\n"
     ]
    },
    {
     "name": "stderr",
     "output_type": "stream",
     "text": [
      "W0526 01:10:15.389629 140498178537280 ag_logging.py:145] Entity <bound method BatchNormalization.call of <tensorflow.python.layers.normalization.BatchNormalization object at 0x7fc7fda96450>> could not be transformed and will be executed as-is. Please report this to the AutgoGraph team. When filing the bug, set the verbosity to 10 (on Linux, `export AUTOGRAPH_VERBOSITY=10`) and attach the full output. Cause: converting <bound method BatchNormalization.call of <tensorflow.python.layers.normalization.BatchNormalization object at 0x7fc7fda96450>>: AssertionError: Bad argument number for Name: 3, expecting 4\n"
     ]
    },
    {
     "name": "stdout",
     "output_type": "stream",
     "text": [
      "WARNING: Entity <bound method BatchNormalization.call of <tensorflow.python.layers.normalization.BatchNormalization object at 0x7fc7fda96450>> could not be transformed and will be executed as-is. Please report this to the AutgoGraph team. When filing the bug, set the verbosity to 10 (on Linux, `export AUTOGRAPH_VERBOSITY=10`) and attach the full output. Cause: converting <bound method BatchNormalization.call of <tensorflow.python.layers.normalization.BatchNormalization object at 0x7fc7fda96450>>: AssertionError: Bad argument number for Name: 3, expecting 4\n",
      "WARNING:tensorflow:Entity <bound method Conv.call of <tensorflow.python.layers.convolutional.Conv2D object at 0x7fc7f48cde10>> could not be transformed and will be executed as-is. Please report this to the AutgoGraph team. When filing the bug, set the verbosity to 10 (on Linux, `export AUTOGRAPH_VERBOSITY=10`) and attach the full output. Cause: converting <bound method Conv.call of <tensorflow.python.layers.convolutional.Conv2D object at 0x7fc7f48cde10>>: AssertionError: Bad argument number for Name: 3, expecting 4\n"
     ]
    },
    {
     "name": "stderr",
     "output_type": "stream",
     "text": [
      "W0526 01:10:15.470018 140498178537280 ag_logging.py:145] Entity <bound method Conv.call of <tensorflow.python.layers.convolutional.Conv2D object at 0x7fc7f48cde10>> could not be transformed and will be executed as-is. Please report this to the AutgoGraph team. When filing the bug, set the verbosity to 10 (on Linux, `export AUTOGRAPH_VERBOSITY=10`) and attach the full output. Cause: converting <bound method Conv.call of <tensorflow.python.layers.convolutional.Conv2D object at 0x7fc7f48cde10>>: AssertionError: Bad argument number for Name: 3, expecting 4\n"
     ]
    },
    {
     "name": "stdout",
     "output_type": "stream",
     "text": [
      "WARNING: Entity <bound method Conv.call of <tensorflow.python.layers.convolutional.Conv2D object at 0x7fc7f48cde10>> could not be transformed and will be executed as-is. Please report this to the AutgoGraph team. When filing the bug, set the verbosity to 10 (on Linux, `export AUTOGRAPH_VERBOSITY=10`) and attach the full output. Cause: converting <bound method Conv.call of <tensorflow.python.layers.convolutional.Conv2D object at 0x7fc7f48cde10>>: AssertionError: Bad argument number for Name: 3, expecting 4\n",
      "WARNING:tensorflow:Entity <bound method BatchNormalization.call of <tensorflow.python.layers.normalization.BatchNormalization object at 0x7fc8005a8e50>> could not be transformed and will be executed as-is. Please report this to the AutgoGraph team. When filing the bug, set the verbosity to 10 (on Linux, `export AUTOGRAPH_VERBOSITY=10`) and attach the full output. Cause: converting <bound method BatchNormalization.call of <tensorflow.python.layers.normalization.BatchNormalization object at 0x7fc8005a8e50>>: AssertionError: Bad argument number for Name: 3, expecting 4\n"
     ]
    },
    {
     "name": "stderr",
     "output_type": "stream",
     "text": [
      "W0526 01:10:15.513802 140498178537280 ag_logging.py:145] Entity <bound method BatchNormalization.call of <tensorflow.python.layers.normalization.BatchNormalization object at 0x7fc8005a8e50>> could not be transformed and will be executed as-is. Please report this to the AutgoGraph team. When filing the bug, set the verbosity to 10 (on Linux, `export AUTOGRAPH_VERBOSITY=10`) and attach the full output. Cause: converting <bound method BatchNormalization.call of <tensorflow.python.layers.normalization.BatchNormalization object at 0x7fc8005a8e50>>: AssertionError: Bad argument number for Name: 3, expecting 4\n"
     ]
    },
    {
     "name": "stdout",
     "output_type": "stream",
     "text": [
      "WARNING: Entity <bound method BatchNormalization.call of <tensorflow.python.layers.normalization.BatchNormalization object at 0x7fc8005a8e50>> could not be transformed and will be executed as-is. Please report this to the AutgoGraph team. When filing the bug, set the verbosity to 10 (on Linux, `export AUTOGRAPH_VERBOSITY=10`) and attach the full output. Cause: converting <bound method BatchNormalization.call of <tensorflow.python.layers.normalization.BatchNormalization object at 0x7fc8005a8e50>>: AssertionError: Bad argument number for Name: 3, expecting 4\n",
      "WARNING:tensorflow:Entity <bound method Conv.call of <tensorflow.python.layers.convolutional.Conv2D object at 0x7fc7f48b5490>> could not be transformed and will be executed as-is. Please report this to the AutgoGraph team. When filing the bug, set the verbosity to 10 (on Linux, `export AUTOGRAPH_VERBOSITY=10`) and attach the full output. Cause: converting <bound method Conv.call of <tensorflow.python.layers.convolutional.Conv2D object at 0x7fc7f48b5490>>: AssertionError: Bad argument number for Name: 3, expecting 4\n"
     ]
    },
    {
     "name": "stderr",
     "output_type": "stream",
     "text": [
      "W0526 01:10:15.591569 140498178537280 ag_logging.py:145] Entity <bound method Conv.call of <tensorflow.python.layers.convolutional.Conv2D object at 0x7fc7f48b5490>> could not be transformed and will be executed as-is. Please report this to the AutgoGraph team. When filing the bug, set the verbosity to 10 (on Linux, `export AUTOGRAPH_VERBOSITY=10`) and attach the full output. Cause: converting <bound method Conv.call of <tensorflow.python.layers.convolutional.Conv2D object at 0x7fc7f48b5490>>: AssertionError: Bad argument number for Name: 3, expecting 4\n"
     ]
    },
    {
     "name": "stdout",
     "output_type": "stream",
     "text": [
      "WARNING: Entity <bound method Conv.call of <tensorflow.python.layers.convolutional.Conv2D object at 0x7fc7f48b5490>> could not be transformed and will be executed as-is. Please report this to the AutgoGraph team. When filing the bug, set the verbosity to 10 (on Linux, `export AUTOGRAPH_VERBOSITY=10`) and attach the full output. Cause: converting <bound method Conv.call of <tensorflow.python.layers.convolutional.Conv2D object at 0x7fc7f48b5490>>: AssertionError: Bad argument number for Name: 3, expecting 4\n",
      "WARNING:tensorflow:Entity <bound method BatchNormalization.call of <tensorflow.python.layers.normalization.BatchNormalization object at 0x7fc7f372fc50>> could not be transformed and will be executed as-is. Please report this to the AutgoGraph team. When filing the bug, set the verbosity to 10 (on Linux, `export AUTOGRAPH_VERBOSITY=10`) and attach the full output. Cause: converting <bound method BatchNormalization.call of <tensorflow.python.layers.normalization.BatchNormalization object at 0x7fc7f372fc50>>: AssertionError: Bad argument number for Name: 3, expecting 4\n"
     ]
    },
    {
     "name": "stderr",
     "output_type": "stream",
     "text": [
      "W0526 01:10:15.630703 140498178537280 ag_logging.py:145] Entity <bound method BatchNormalization.call of <tensorflow.python.layers.normalization.BatchNormalization object at 0x7fc7f372fc50>> could not be transformed and will be executed as-is. Please report this to the AutgoGraph team. When filing the bug, set the verbosity to 10 (on Linux, `export AUTOGRAPH_VERBOSITY=10`) and attach the full output. Cause: converting <bound method BatchNormalization.call of <tensorflow.python.layers.normalization.BatchNormalization object at 0x7fc7f372fc50>>: AssertionError: Bad argument number for Name: 3, expecting 4\n"
     ]
    },
    {
     "name": "stdout",
     "output_type": "stream",
     "text": [
      "WARNING: Entity <bound method BatchNormalization.call of <tensorflow.python.layers.normalization.BatchNormalization object at 0x7fc7f372fc50>> could not be transformed and will be executed as-is. Please report this to the AutgoGraph team. When filing the bug, set the verbosity to 10 (on Linux, `export AUTOGRAPH_VERBOSITY=10`) and attach the full output. Cause: converting <bound method BatchNormalization.call of <tensorflow.python.layers.normalization.BatchNormalization object at 0x7fc7f372fc50>>: AssertionError: Bad argument number for Name: 3, expecting 4\n",
      "WARNING:tensorflow:Entity <bound method Conv.call of <tensorflow.python.layers.convolutional.Conv2D object at 0x7fc7f39dd4d0>> could not be transformed and will be executed as-is. Please report this to the AutgoGraph team. When filing the bug, set the verbosity to 10 (on Linux, `export AUTOGRAPH_VERBOSITY=10`) and attach the full output. Cause: converting <bound method Conv.call of <tensorflow.python.layers.convolutional.Conv2D object at 0x7fc7f39dd4d0>>: AssertionError: Bad argument number for Name: 3, expecting 4\n"
     ]
    },
    {
     "name": "stderr",
     "output_type": "stream",
     "text": [
      "W0526 01:10:15.721376 140498178537280 ag_logging.py:145] Entity <bound method Conv.call of <tensorflow.python.layers.convolutional.Conv2D object at 0x7fc7f39dd4d0>> could not be transformed and will be executed as-is. Please report this to the AutgoGraph team. When filing the bug, set the verbosity to 10 (on Linux, `export AUTOGRAPH_VERBOSITY=10`) and attach the full output. Cause: converting <bound method Conv.call of <tensorflow.python.layers.convolutional.Conv2D object at 0x7fc7f39dd4d0>>: AssertionError: Bad argument number for Name: 3, expecting 4\n"
     ]
    },
    {
     "name": "stdout",
     "output_type": "stream",
     "text": [
      "WARNING: Entity <bound method Conv.call of <tensorflow.python.layers.convolutional.Conv2D object at 0x7fc7f39dd4d0>> could not be transformed and will be executed as-is. Please report this to the AutgoGraph team. When filing the bug, set the verbosity to 10 (on Linux, `export AUTOGRAPH_VERBOSITY=10`) and attach the full output. Cause: converting <bound method Conv.call of <tensorflow.python.layers.convolutional.Conv2D object at 0x7fc7f39dd4d0>>: AssertionError: Bad argument number for Name: 3, expecting 4\n",
      "WARNING:tensorflow:Entity <bound method BatchNormalization.call of <tensorflow.python.layers.normalization.BatchNormalization object at 0x7fc7f372f550>> could not be transformed and will be executed as-is. Please report this to the AutgoGraph team. When filing the bug, set the verbosity to 10 (on Linux, `export AUTOGRAPH_VERBOSITY=10`) and attach the full output. Cause: converting <bound method BatchNormalization.call of <tensorflow.python.layers.normalization.BatchNormalization object at 0x7fc7f372f550>>: AssertionError: Bad argument number for Name: 3, expecting 4\n"
     ]
    },
    {
     "name": "stderr",
     "output_type": "stream",
     "text": [
      "W0526 01:10:15.776193 140498178537280 ag_logging.py:145] Entity <bound method BatchNormalization.call of <tensorflow.python.layers.normalization.BatchNormalization object at 0x7fc7f372f550>> could not be transformed and will be executed as-is. Please report this to the AutgoGraph team. When filing the bug, set the verbosity to 10 (on Linux, `export AUTOGRAPH_VERBOSITY=10`) and attach the full output. Cause: converting <bound method BatchNormalization.call of <tensorflow.python.layers.normalization.BatchNormalization object at 0x7fc7f372f550>>: AssertionError: Bad argument number for Name: 3, expecting 4\n"
     ]
    },
    {
     "name": "stdout",
     "output_type": "stream",
     "text": [
      "WARNING: Entity <bound method BatchNormalization.call of <tensorflow.python.layers.normalization.BatchNormalization object at 0x7fc7f372f550>> could not be transformed and will be executed as-is. Please report this to the AutgoGraph team. When filing the bug, set the verbosity to 10 (on Linux, `export AUTOGRAPH_VERBOSITY=10`) and attach the full output. Cause: converting <bound method BatchNormalization.call of <tensorflow.python.layers.normalization.BatchNormalization object at 0x7fc7f372f550>>: AssertionError: Bad argument number for Name: 3, expecting 4\n",
      "WARNING:tensorflow:Entity <bound method Conv.call of <tensorflow.python.layers.convolutional.Conv2D object at 0x7fc7f36740d0>> could not be transformed and will be executed as-is. Please report this to the AutgoGraph team. When filing the bug, set the verbosity to 10 (on Linux, `export AUTOGRAPH_VERBOSITY=10`) and attach the full output. Cause: converting <bound method Conv.call of <tensorflow.python.layers.convolutional.Conv2D object at 0x7fc7f36740d0>>: AssertionError: Bad argument number for Name: 3, expecting 4\n"
     ]
    },
    {
     "name": "stderr",
     "output_type": "stream",
     "text": [
      "W0526 01:10:15.880855 140498178537280 ag_logging.py:145] Entity <bound method Conv.call of <tensorflow.python.layers.convolutional.Conv2D object at 0x7fc7f36740d0>> could not be transformed and will be executed as-is. Please report this to the AutgoGraph team. When filing the bug, set the verbosity to 10 (on Linux, `export AUTOGRAPH_VERBOSITY=10`) and attach the full output. Cause: converting <bound method Conv.call of <tensorflow.python.layers.convolutional.Conv2D object at 0x7fc7f36740d0>>: AssertionError: Bad argument number for Name: 3, expecting 4\n"
     ]
    },
    {
     "name": "stdout",
     "output_type": "stream",
     "text": [
      "WARNING: Entity <bound method Conv.call of <tensorflow.python.layers.convolutional.Conv2D object at 0x7fc7f36740d0>> could not be transformed and will be executed as-is. Please report this to the AutgoGraph team. When filing the bug, set the verbosity to 10 (on Linux, `export AUTOGRAPH_VERBOSITY=10`) and attach the full output. Cause: converting <bound method Conv.call of <tensorflow.python.layers.convolutional.Conv2D object at 0x7fc7f36740d0>>: AssertionError: Bad argument number for Name: 3, expecting 4\n",
      "WARNING:tensorflow:Entity <bound method BatchNormalization.call of <tensorflow.python.layers.normalization.BatchNormalization object at 0x7fc7fda96210>> could not be transformed and will be executed as-is. Please report this to the AutgoGraph team. When filing the bug, set the verbosity to 10 (on Linux, `export AUTOGRAPH_VERBOSITY=10`) and attach the full output. Cause: converting <bound method BatchNormalization.call of <tensorflow.python.layers.normalization.BatchNormalization object at 0x7fc7fda96210>>: AssertionError: Bad argument number for Name: 3, expecting 4\n"
     ]
    },
    {
     "name": "stderr",
     "output_type": "stream",
     "text": [
      "W0526 01:10:15.920366 140498178537280 ag_logging.py:145] Entity <bound method BatchNormalization.call of <tensorflow.python.layers.normalization.BatchNormalization object at 0x7fc7fda96210>> could not be transformed and will be executed as-is. Please report this to the AutgoGraph team. When filing the bug, set the verbosity to 10 (on Linux, `export AUTOGRAPH_VERBOSITY=10`) and attach the full output. Cause: converting <bound method BatchNormalization.call of <tensorflow.python.layers.normalization.BatchNormalization object at 0x7fc7fda96210>>: AssertionError: Bad argument number for Name: 3, expecting 4\n"
     ]
    },
    {
     "name": "stdout",
     "output_type": "stream",
     "text": [
      "WARNING: Entity <bound method BatchNormalization.call of <tensorflow.python.layers.normalization.BatchNormalization object at 0x7fc7fda96210>> could not be transformed and will be executed as-is. Please report this to the AutgoGraph team. When filing the bug, set the verbosity to 10 (on Linux, `export AUTOGRAPH_VERBOSITY=10`) and attach the full output. Cause: converting <bound method BatchNormalization.call of <tensorflow.python.layers.normalization.BatchNormalization object at 0x7fc7fda96210>>: AssertionError: Bad argument number for Name: 3, expecting 4\n",
      "WARNING:tensorflow:Entity <bound method Conv.call of <tensorflow.python.layers.convolutional.Conv2D object at 0x7fc7f4a49950>> could not be transformed and will be executed as-is. Please report this to the AutgoGraph team. When filing the bug, set the verbosity to 10 (on Linux, `export AUTOGRAPH_VERBOSITY=10`) and attach the full output. Cause: converting <bound method Conv.call of <tensorflow.python.layers.convolutional.Conv2D object at 0x7fc7f4a49950>>: AssertionError: Bad argument number for Name: 3, expecting 4\n"
     ]
    },
    {
     "name": "stderr",
     "output_type": "stream",
     "text": [
      "W0526 01:10:15.997799 140498178537280 ag_logging.py:145] Entity <bound method Conv.call of <tensorflow.python.layers.convolutional.Conv2D object at 0x7fc7f4a49950>> could not be transformed and will be executed as-is. Please report this to the AutgoGraph team. When filing the bug, set the verbosity to 10 (on Linux, `export AUTOGRAPH_VERBOSITY=10`) and attach the full output. Cause: converting <bound method Conv.call of <tensorflow.python.layers.convolutional.Conv2D object at 0x7fc7f4a49950>>: AssertionError: Bad argument number for Name: 3, expecting 4\n"
     ]
    },
    {
     "name": "stdout",
     "output_type": "stream",
     "text": [
      "WARNING: Entity <bound method Conv.call of <tensorflow.python.layers.convolutional.Conv2D object at 0x7fc7f4a49950>> could not be transformed and will be executed as-is. Please report this to the AutgoGraph team. When filing the bug, set the verbosity to 10 (on Linux, `export AUTOGRAPH_VERBOSITY=10`) and attach the full output. Cause: converting <bound method Conv.call of <tensorflow.python.layers.convolutional.Conv2D object at 0x7fc7f4a49950>>: AssertionError: Bad argument number for Name: 3, expecting 4\n",
      "WARNING:tensorflow:Entity <bound method BatchNormalization.call of <tensorflow.python.layers.normalization.BatchNormalization object at 0x7fc7f3707310>> could not be transformed and will be executed as-is. Please report this to the AutgoGraph team. When filing the bug, set the verbosity to 10 (on Linux, `export AUTOGRAPH_VERBOSITY=10`) and attach the full output. Cause: converting <bound method BatchNormalization.call of <tensorflow.python.layers.normalization.BatchNormalization object at 0x7fc7f3707310>>: AssertionError: Bad argument number for Name: 3, expecting 4\n"
     ]
    },
    {
     "name": "stderr",
     "output_type": "stream",
     "text": [
      "W0526 01:10:16.035952 140498178537280 ag_logging.py:145] Entity <bound method BatchNormalization.call of <tensorflow.python.layers.normalization.BatchNormalization object at 0x7fc7f3707310>> could not be transformed and will be executed as-is. Please report this to the AutgoGraph team. When filing the bug, set the verbosity to 10 (on Linux, `export AUTOGRAPH_VERBOSITY=10`) and attach the full output. Cause: converting <bound method BatchNormalization.call of <tensorflow.python.layers.normalization.BatchNormalization object at 0x7fc7f3707310>>: AssertionError: Bad argument number for Name: 3, expecting 4\n"
     ]
    },
    {
     "name": "stdout",
     "output_type": "stream",
     "text": [
      "WARNING: Entity <bound method BatchNormalization.call of <tensorflow.python.layers.normalization.BatchNormalization object at 0x7fc7f3707310>> could not be transformed and will be executed as-is. Please report this to the AutgoGraph team. When filing the bug, set the verbosity to 10 (on Linux, `export AUTOGRAPH_VERBOSITY=10`) and attach the full output. Cause: converting <bound method BatchNormalization.call of <tensorflow.python.layers.normalization.BatchNormalization object at 0x7fc7f3707310>>: AssertionError: Bad argument number for Name: 3, expecting 4\n",
      "WARNING:tensorflow:Entity <bound method Conv.call of <tensorflow.python.layers.convolutional.Conv2D object at 0x7fc7f48b5490>> could not be transformed and will be executed as-is. Please report this to the AutgoGraph team. When filing the bug, set the verbosity to 10 (on Linux, `export AUTOGRAPH_VERBOSITY=10`) and attach the full output. Cause: converting <bound method Conv.call of <tensorflow.python.layers.convolutional.Conv2D object at 0x7fc7f48b5490>>: AssertionError: Bad argument number for Name: 3, expecting 4\n"
     ]
    },
    {
     "name": "stderr",
     "output_type": "stream",
     "text": [
      "W0526 01:10:16.119134 140498178537280 ag_logging.py:145] Entity <bound method Conv.call of <tensorflow.python.layers.convolutional.Conv2D object at 0x7fc7f48b5490>> could not be transformed and will be executed as-is. Please report this to the AutgoGraph team. When filing the bug, set the verbosity to 10 (on Linux, `export AUTOGRAPH_VERBOSITY=10`) and attach the full output. Cause: converting <bound method Conv.call of <tensorflow.python.layers.convolutional.Conv2D object at 0x7fc7f48b5490>>: AssertionError: Bad argument number for Name: 3, expecting 4\n"
     ]
    },
    {
     "name": "stdout",
     "output_type": "stream",
     "text": [
      "WARNING: Entity <bound method Conv.call of <tensorflow.python.layers.convolutional.Conv2D object at 0x7fc7f48b5490>> could not be transformed and will be executed as-is. Please report this to the AutgoGraph team. When filing the bug, set the verbosity to 10 (on Linux, `export AUTOGRAPH_VERBOSITY=10`) and attach the full output. Cause: converting <bound method Conv.call of <tensorflow.python.layers.convolutional.Conv2D object at 0x7fc7f48b5490>>: AssertionError: Bad argument number for Name: 3, expecting 4\n",
      "WARNING:tensorflow:Entity <bound method BatchNormalization.call of <tensorflow.python.layers.normalization.BatchNormalization object at 0x7fc7f4565150>> could not be transformed and will be executed as-is. Please report this to the AutgoGraph team. When filing the bug, set the verbosity to 10 (on Linux, `export AUTOGRAPH_VERBOSITY=10`) and attach the full output. Cause: converting <bound method BatchNormalization.call of <tensorflow.python.layers.normalization.BatchNormalization object at 0x7fc7f4565150>>: AssertionError: Bad argument number for Name: 3, expecting 4\n"
     ]
    },
    {
     "name": "stderr",
     "output_type": "stream",
     "text": [
      "W0526 01:10:16.164944 140498178537280 ag_logging.py:145] Entity <bound method BatchNormalization.call of <tensorflow.python.layers.normalization.BatchNormalization object at 0x7fc7f4565150>> could not be transformed and will be executed as-is. Please report this to the AutgoGraph team. When filing the bug, set the verbosity to 10 (on Linux, `export AUTOGRAPH_VERBOSITY=10`) and attach the full output. Cause: converting <bound method BatchNormalization.call of <tensorflow.python.layers.normalization.BatchNormalization object at 0x7fc7f4565150>>: AssertionError: Bad argument number for Name: 3, expecting 4\n"
     ]
    },
    {
     "name": "stdout",
     "output_type": "stream",
     "text": [
      "WARNING: Entity <bound method BatchNormalization.call of <tensorflow.python.layers.normalization.BatchNormalization object at 0x7fc7f4565150>> could not be transformed and will be executed as-is. Please report this to the AutgoGraph team. When filing the bug, set the verbosity to 10 (on Linux, `export AUTOGRAPH_VERBOSITY=10`) and attach the full output. Cause: converting <bound method BatchNormalization.call of <tensorflow.python.layers.normalization.BatchNormalization object at 0x7fc7f4565150>>: AssertionError: Bad argument number for Name: 3, expecting 4\n",
      "WARNING:tensorflow:Entity <bound method Conv.call of <tensorflow.python.layers.convolutional.Conv2D object at 0x7fc7f39b3b50>> could not be transformed and will be executed as-is. Please report this to the AutgoGraph team. When filing the bug, set the verbosity to 10 (on Linux, `export AUTOGRAPH_VERBOSITY=10`) and attach the full output. Cause: converting <bound method Conv.call of <tensorflow.python.layers.convolutional.Conv2D object at 0x7fc7f39b3b50>>: AssertionError: Bad argument number for Name: 3, expecting 4\n"
     ]
    },
    {
     "name": "stderr",
     "output_type": "stream",
     "text": [
      "W0526 01:10:16.245860 140498178537280 ag_logging.py:145] Entity <bound method Conv.call of <tensorflow.python.layers.convolutional.Conv2D object at 0x7fc7f39b3b50>> could not be transformed and will be executed as-is. Please report this to the AutgoGraph team. When filing the bug, set the verbosity to 10 (on Linux, `export AUTOGRAPH_VERBOSITY=10`) and attach the full output. Cause: converting <bound method Conv.call of <tensorflow.python.layers.convolutional.Conv2D object at 0x7fc7f39b3b50>>: AssertionError: Bad argument number for Name: 3, expecting 4\n"
     ]
    },
    {
     "name": "stdout",
     "output_type": "stream",
     "text": [
      "WARNING: Entity <bound method Conv.call of <tensorflow.python.layers.convolutional.Conv2D object at 0x7fc7f39b3b50>> could not be transformed and will be executed as-is. Please report this to the AutgoGraph team. When filing the bug, set the verbosity to 10 (on Linux, `export AUTOGRAPH_VERBOSITY=10`) and attach the full output. Cause: converting <bound method Conv.call of <tensorflow.python.layers.convolutional.Conv2D object at 0x7fc7f39b3b50>>: AssertionError: Bad argument number for Name: 3, expecting 4\n",
      "WARNING:tensorflow:Entity <bound method BatchNormalization.call of <tensorflow.python.layers.normalization.BatchNormalization object at 0x7fc7f4296e10>> could not be transformed and will be executed as-is. Please report this to the AutgoGraph team. When filing the bug, set the verbosity to 10 (on Linux, `export AUTOGRAPH_VERBOSITY=10`) and attach the full output. Cause: converting <bound method BatchNormalization.call of <tensorflow.python.layers.normalization.BatchNormalization object at 0x7fc7f4296e10>>: AssertionError: Bad argument number for Name: 3, expecting 4\n"
     ]
    },
    {
     "name": "stderr",
     "output_type": "stream",
     "text": [
      "W0526 01:10:16.300022 140498178537280 ag_logging.py:145] Entity <bound method BatchNormalization.call of <tensorflow.python.layers.normalization.BatchNormalization object at 0x7fc7f4296e10>> could not be transformed and will be executed as-is. Please report this to the AutgoGraph team. When filing the bug, set the verbosity to 10 (on Linux, `export AUTOGRAPH_VERBOSITY=10`) and attach the full output. Cause: converting <bound method BatchNormalization.call of <tensorflow.python.layers.normalization.BatchNormalization object at 0x7fc7f4296e10>>: AssertionError: Bad argument number for Name: 3, expecting 4\n"
     ]
    },
    {
     "name": "stdout",
     "output_type": "stream",
     "text": [
      "WARNING: Entity <bound method BatchNormalization.call of <tensorflow.python.layers.normalization.BatchNormalization object at 0x7fc7f4296e10>> could not be transformed and will be executed as-is. Please report this to the AutgoGraph team. When filing the bug, set the verbosity to 10 (on Linux, `export AUTOGRAPH_VERBOSITY=10`) and attach the full output. Cause: converting <bound method BatchNormalization.call of <tensorflow.python.layers.normalization.BatchNormalization object at 0x7fc7f4296e10>>: AssertionError: Bad argument number for Name: 3, expecting 4\n",
      "WARNING:tensorflow:Entity <bound method Conv.call of <tensorflow.python.layers.convolutional.Conv2D object at 0x7fc7f3869b50>> could not be transformed and will be executed as-is. Please report this to the AutgoGraph team. When filing the bug, set the verbosity to 10 (on Linux, `export AUTOGRAPH_VERBOSITY=10`) and attach the full output. Cause: converting <bound method Conv.call of <tensorflow.python.layers.convolutional.Conv2D object at 0x7fc7f3869b50>>: AssertionError: Bad argument number for Name: 3, expecting 4\n"
     ]
    },
    {
     "name": "stderr",
     "output_type": "stream",
     "text": [
      "W0526 01:10:16.406739 140498178537280 ag_logging.py:145] Entity <bound method Conv.call of <tensorflow.python.layers.convolutional.Conv2D object at 0x7fc7f3869b50>> could not be transformed and will be executed as-is. Please report this to the AutgoGraph team. When filing the bug, set the verbosity to 10 (on Linux, `export AUTOGRAPH_VERBOSITY=10`) and attach the full output. Cause: converting <bound method Conv.call of <tensorflow.python.layers.convolutional.Conv2D object at 0x7fc7f3869b50>>: AssertionError: Bad argument number for Name: 3, expecting 4\n"
     ]
    },
    {
     "name": "stdout",
     "output_type": "stream",
     "text": [
      "WARNING: Entity <bound method Conv.call of <tensorflow.python.layers.convolutional.Conv2D object at 0x7fc7f3869b50>> could not be transformed and will be executed as-is. Please report this to the AutgoGraph team. When filing the bug, set the verbosity to 10 (on Linux, `export AUTOGRAPH_VERBOSITY=10`) and attach the full output. Cause: converting <bound method Conv.call of <tensorflow.python.layers.convolutional.Conv2D object at 0x7fc7f3869b50>>: AssertionError: Bad argument number for Name: 3, expecting 4\n",
      "WARNING:tensorflow:Entity <bound method BatchNormalization.call of <tensorflow.python.layers.normalization.BatchNormalization object at 0x7fc7f3a0f8d0>> could not be transformed and will be executed as-is. Please report this to the AutgoGraph team. When filing the bug, set the verbosity to 10 (on Linux, `export AUTOGRAPH_VERBOSITY=10`) and attach the full output. Cause: converting <bound method BatchNormalization.call of <tensorflow.python.layers.normalization.BatchNormalization object at 0x7fc7f3a0f8d0>>: AssertionError: Bad argument number for Name: 3, expecting 4\n"
     ]
    },
    {
     "name": "stderr",
     "output_type": "stream",
     "text": [
      "W0526 01:10:16.450849 140498178537280 ag_logging.py:145] Entity <bound method BatchNormalization.call of <tensorflow.python.layers.normalization.BatchNormalization object at 0x7fc7f3a0f8d0>> could not be transformed and will be executed as-is. Please report this to the AutgoGraph team. When filing the bug, set the verbosity to 10 (on Linux, `export AUTOGRAPH_VERBOSITY=10`) and attach the full output. Cause: converting <bound method BatchNormalization.call of <tensorflow.python.layers.normalization.BatchNormalization object at 0x7fc7f3a0f8d0>>: AssertionError: Bad argument number for Name: 3, expecting 4\n"
     ]
    },
    {
     "name": "stdout",
     "output_type": "stream",
     "text": [
      "WARNING: Entity <bound method BatchNormalization.call of <tensorflow.python.layers.normalization.BatchNormalization object at 0x7fc7f3a0f8d0>> could not be transformed and will be executed as-is. Please report this to the AutgoGraph team. When filing the bug, set the verbosity to 10 (on Linux, `export AUTOGRAPH_VERBOSITY=10`) and attach the full output. Cause: converting <bound method BatchNormalization.call of <tensorflow.python.layers.normalization.BatchNormalization object at 0x7fc7f3a0f8d0>>: AssertionError: Bad argument number for Name: 3, expecting 4\n",
      "WARNING:tensorflow:Entity <bound method Pooling2D.call of <tensorflow.python.layers.pooling.MaxPooling2D object at 0x7fc7f3754750>> could not be transformed and will be executed as-is. Please report this to the AutgoGraph team. When filing the bug, set the verbosity to 10 (on Linux, `export AUTOGRAPH_VERBOSITY=10`) and attach the full output. Cause: converting <bound method Pooling2D.call of <tensorflow.python.layers.pooling.MaxPooling2D object at 0x7fc7f3754750>>: AssertionError: Bad argument number for Name: 3, expecting 4\n"
     ]
    },
    {
     "name": "stderr",
     "output_type": "stream",
     "text": [
      "W0526 01:10:16.509606 140498178537280 ag_logging.py:145] Entity <bound method Pooling2D.call of <tensorflow.python.layers.pooling.MaxPooling2D object at 0x7fc7f3754750>> could not be transformed and will be executed as-is. Please report this to the AutgoGraph team. When filing the bug, set the verbosity to 10 (on Linux, `export AUTOGRAPH_VERBOSITY=10`) and attach the full output. Cause: converting <bound method Pooling2D.call of <tensorflow.python.layers.pooling.MaxPooling2D object at 0x7fc7f3754750>>: AssertionError: Bad argument number for Name: 3, expecting 4\n"
     ]
    },
    {
     "name": "stdout",
     "output_type": "stream",
     "text": [
      "WARNING: Entity <bound method Pooling2D.call of <tensorflow.python.layers.pooling.MaxPooling2D object at 0x7fc7f3754750>> could not be transformed and will be executed as-is. Please report this to the AutgoGraph team. When filing the bug, set the verbosity to 10 (on Linux, `export AUTOGRAPH_VERBOSITY=10`) and attach the full output. Cause: converting <bound method Pooling2D.call of <tensorflow.python.layers.pooling.MaxPooling2D object at 0x7fc7f3754750>>: AssertionError: Bad argument number for Name: 3, expecting 4\n",
      "WARNING:tensorflow:Entity <bound method Conv.call of <tensorflow.python.layers.convolutional.Conv2D object at 0x7fc7f3869b50>> could not be transformed and will be executed as-is. Please report this to the AutgoGraph team. When filing the bug, set the verbosity to 10 (on Linux, `export AUTOGRAPH_VERBOSITY=10`) and attach the full output. Cause: converting <bound method Conv.call of <tensorflow.python.layers.convolutional.Conv2D object at 0x7fc7f3869b50>>: AssertionError: Bad argument number for Name: 3, expecting 4\n"
     ]
    },
    {
     "name": "stderr",
     "output_type": "stream",
     "text": [
      "W0526 01:10:16.587341 140498178537280 ag_logging.py:145] Entity <bound method Conv.call of <tensorflow.python.layers.convolutional.Conv2D object at 0x7fc7f3869b50>> could not be transformed and will be executed as-is. Please report this to the AutgoGraph team. When filing the bug, set the verbosity to 10 (on Linux, `export AUTOGRAPH_VERBOSITY=10`) and attach the full output. Cause: converting <bound method Conv.call of <tensorflow.python.layers.convolutional.Conv2D object at 0x7fc7f3869b50>>: AssertionError: Bad argument number for Name: 3, expecting 4\n"
     ]
    },
    {
     "name": "stdout",
     "output_type": "stream",
     "text": [
      "WARNING: Entity <bound method Conv.call of <tensorflow.python.layers.convolutional.Conv2D object at 0x7fc7f3869b50>> could not be transformed and will be executed as-is. Please report this to the AutgoGraph team. When filing the bug, set the verbosity to 10 (on Linux, `export AUTOGRAPH_VERBOSITY=10`) and attach the full output. Cause: converting <bound method Conv.call of <tensorflow.python.layers.convolutional.Conv2D object at 0x7fc7f3869b50>>: AssertionError: Bad argument number for Name: 3, expecting 4\n",
      "WARNING:tensorflow:Entity <bound method BatchNormalization.call of <tensorflow.python.layers.normalization.BatchNormalization object at 0x7fc7f4597c50>> could not be transformed and will be executed as-is. Please report this to the AutgoGraph team. When filing the bug, set the verbosity to 10 (on Linux, `export AUTOGRAPH_VERBOSITY=10`) and attach the full output. Cause: converting <bound method BatchNormalization.call of <tensorflow.python.layers.normalization.BatchNormalization object at 0x7fc7f4597c50>>: AssertionError: Bad argument number for Name: 3, expecting 4\n"
     ]
    },
    {
     "name": "stderr",
     "output_type": "stream",
     "text": [
      "W0526 01:10:16.642645 140498178537280 ag_logging.py:145] Entity <bound method BatchNormalization.call of <tensorflow.python.layers.normalization.BatchNormalization object at 0x7fc7f4597c50>> could not be transformed and will be executed as-is. Please report this to the AutgoGraph team. When filing the bug, set the verbosity to 10 (on Linux, `export AUTOGRAPH_VERBOSITY=10`) and attach the full output. Cause: converting <bound method BatchNormalization.call of <tensorflow.python.layers.normalization.BatchNormalization object at 0x7fc7f4597c50>>: AssertionError: Bad argument number for Name: 3, expecting 4\n"
     ]
    },
    {
     "name": "stdout",
     "output_type": "stream",
     "text": [
      "WARNING: Entity <bound method BatchNormalization.call of <tensorflow.python.layers.normalization.BatchNormalization object at 0x7fc7f4597c50>> could not be transformed and will be executed as-is. Please report this to the AutgoGraph team. When filing the bug, set the verbosity to 10 (on Linux, `export AUTOGRAPH_VERBOSITY=10`) and attach the full output. Cause: converting <bound method BatchNormalization.call of <tensorflow.python.layers.normalization.BatchNormalization object at 0x7fc7f4597c50>>: AssertionError: Bad argument number for Name: 3, expecting 4\n",
      "WARNING:tensorflow:Entity <bound method Conv.call of <tensorflow.python.layers.convolutional.Conv2D object at 0x7fc7f3fbcc90>> could not be transformed and will be executed as-is. Please report this to the AutgoGraph team. When filing the bug, set the verbosity to 10 (on Linux, `export AUTOGRAPH_VERBOSITY=10`) and attach the full output. Cause: converting <bound method Conv.call of <tensorflow.python.layers.convolutional.Conv2D object at 0x7fc7f3fbcc90>>: AssertionError: Bad argument number for Name: 3, expecting 4\n"
     ]
    },
    {
     "name": "stderr",
     "output_type": "stream",
     "text": [
      "W0526 01:10:16.740097 140498178537280 ag_logging.py:145] Entity <bound method Conv.call of <tensorflow.python.layers.convolutional.Conv2D object at 0x7fc7f3fbcc90>> could not be transformed and will be executed as-is. Please report this to the AutgoGraph team. When filing the bug, set the verbosity to 10 (on Linux, `export AUTOGRAPH_VERBOSITY=10`) and attach the full output. Cause: converting <bound method Conv.call of <tensorflow.python.layers.convolutional.Conv2D object at 0x7fc7f3fbcc90>>: AssertionError: Bad argument number for Name: 3, expecting 4\n"
     ]
    },
    {
     "name": "stdout",
     "output_type": "stream",
     "text": [
      "WARNING: Entity <bound method Conv.call of <tensorflow.python.layers.convolutional.Conv2D object at 0x7fc7f3fbcc90>> could not be transformed and will be executed as-is. Please report this to the AutgoGraph team. When filing the bug, set the verbosity to 10 (on Linux, `export AUTOGRAPH_VERBOSITY=10`) and attach the full output. Cause: converting <bound method Conv.call of <tensorflow.python.layers.convolutional.Conv2D object at 0x7fc7f3fbcc90>>: AssertionError: Bad argument number for Name: 3, expecting 4\n",
      "WARNING:tensorflow:Entity <bound method BatchNormalization.call of <tensorflow.python.layers.normalization.BatchNormalization object at 0x7fc7f42961d0>> could not be transformed and will be executed as-is. Please report this to the AutgoGraph team. When filing the bug, set the verbosity to 10 (on Linux, `export AUTOGRAPH_VERBOSITY=10`) and attach the full output. Cause: converting <bound method BatchNormalization.call of <tensorflow.python.layers.normalization.BatchNormalization object at 0x7fc7f42961d0>>: AssertionError: Bad argument number for Name: 3, expecting 4\n"
     ]
    },
    {
     "name": "stderr",
     "output_type": "stream",
     "text": [
      "W0526 01:10:16.782288 140498178537280 ag_logging.py:145] Entity <bound method BatchNormalization.call of <tensorflow.python.layers.normalization.BatchNormalization object at 0x7fc7f42961d0>> could not be transformed and will be executed as-is. Please report this to the AutgoGraph team. When filing the bug, set the verbosity to 10 (on Linux, `export AUTOGRAPH_VERBOSITY=10`) and attach the full output. Cause: converting <bound method BatchNormalization.call of <tensorflow.python.layers.normalization.BatchNormalization object at 0x7fc7f42961d0>>: AssertionError: Bad argument number for Name: 3, expecting 4\n"
     ]
    },
    {
     "name": "stdout",
     "output_type": "stream",
     "text": [
      "WARNING: Entity <bound method BatchNormalization.call of <tensorflow.python.layers.normalization.BatchNormalization object at 0x7fc7f42961d0>> could not be transformed and will be executed as-is. Please report this to the AutgoGraph team. When filing the bug, set the verbosity to 10 (on Linux, `export AUTOGRAPH_VERBOSITY=10`) and attach the full output. Cause: converting <bound method BatchNormalization.call of <tensorflow.python.layers.normalization.BatchNormalization object at 0x7fc7f42961d0>>: AssertionError: Bad argument number for Name: 3, expecting 4\n",
      "WARNING:tensorflow:Entity <bound method Conv.call of <tensorflow.python.layers.convolutional.Conv2D object at 0x7fc7f4275bd0>> could not be transformed and will be executed as-is. Please report this to the AutgoGraph team. When filing the bug, set the verbosity to 10 (on Linux, `export AUTOGRAPH_VERBOSITY=10`) and attach the full output. Cause: converting <bound method Conv.call of <tensorflow.python.layers.convolutional.Conv2D object at 0x7fc7f4275bd0>>: AssertionError: Bad argument number for Name: 3, expecting 4\n"
     ]
    },
    {
     "name": "stderr",
     "output_type": "stream",
     "text": [
      "W0526 01:10:16.861998 140498178537280 ag_logging.py:145] Entity <bound method Conv.call of <tensorflow.python.layers.convolutional.Conv2D object at 0x7fc7f4275bd0>> could not be transformed and will be executed as-is. Please report this to the AutgoGraph team. When filing the bug, set the verbosity to 10 (on Linux, `export AUTOGRAPH_VERBOSITY=10`) and attach the full output. Cause: converting <bound method Conv.call of <tensorflow.python.layers.convolutional.Conv2D object at 0x7fc7f4275bd0>>: AssertionError: Bad argument number for Name: 3, expecting 4\n"
     ]
    },
    {
     "name": "stdout",
     "output_type": "stream",
     "text": [
      "WARNING: Entity <bound method Conv.call of <tensorflow.python.layers.convolutional.Conv2D object at 0x7fc7f4275bd0>> could not be transformed and will be executed as-is. Please report this to the AutgoGraph team. When filing the bug, set the verbosity to 10 (on Linux, `export AUTOGRAPH_VERBOSITY=10`) and attach the full output. Cause: converting <bound method Conv.call of <tensorflow.python.layers.convolutional.Conv2D object at 0x7fc7f4275bd0>>: AssertionError: Bad argument number for Name: 3, expecting 4\n",
      "WARNING:tensorflow:Entity <bound method BatchNormalization.call of <tensorflow.python.layers.normalization.BatchNormalization object at 0x7fc7f41e9f50>> could not be transformed and will be executed as-is. Please report this to the AutgoGraph team. When filing the bug, set the verbosity to 10 (on Linux, `export AUTOGRAPH_VERBOSITY=10`) and attach the full output. Cause: converting <bound method BatchNormalization.call of <tensorflow.python.layers.normalization.BatchNormalization object at 0x7fc7f41e9f50>>: AssertionError: Bad argument number for Name: 3, expecting 4\n"
     ]
    },
    {
     "name": "stderr",
     "output_type": "stream",
     "text": [
      "W0526 01:10:16.914716 140498178537280 ag_logging.py:145] Entity <bound method BatchNormalization.call of <tensorflow.python.layers.normalization.BatchNormalization object at 0x7fc7f41e9f50>> could not be transformed and will be executed as-is. Please report this to the AutgoGraph team. When filing the bug, set the verbosity to 10 (on Linux, `export AUTOGRAPH_VERBOSITY=10`) and attach the full output. Cause: converting <bound method BatchNormalization.call of <tensorflow.python.layers.normalization.BatchNormalization object at 0x7fc7f41e9f50>>: AssertionError: Bad argument number for Name: 3, expecting 4\n"
     ]
    },
    {
     "name": "stdout",
     "output_type": "stream",
     "text": [
      "WARNING: Entity <bound method BatchNormalization.call of <tensorflow.python.layers.normalization.BatchNormalization object at 0x7fc7f41e9f50>> could not be transformed and will be executed as-is. Please report this to the AutgoGraph team. When filing the bug, set the verbosity to 10 (on Linux, `export AUTOGRAPH_VERBOSITY=10`) and attach the full output. Cause: converting <bound method BatchNormalization.call of <tensorflow.python.layers.normalization.BatchNormalization object at 0x7fc7f41e9f50>>: AssertionError: Bad argument number for Name: 3, expecting 4\n",
      "WARNING:tensorflow:Entity <bound method Conv.call of <tensorflow.python.layers.convolutional.Conv2D object at 0x7fc7ef034310>> could not be transformed and will be executed as-is. Please report this to the AutgoGraph team. When filing the bug, set the verbosity to 10 (on Linux, `export AUTOGRAPH_VERBOSITY=10`) and attach the full output. Cause: converting <bound method Conv.call of <tensorflow.python.layers.convolutional.Conv2D object at 0x7fc7ef034310>>: AssertionError: Bad argument number for Name: 3, expecting 4\n"
     ]
    },
    {
     "name": "stderr",
     "output_type": "stream",
     "text": [
      "W0526 01:10:17.029383 140498178537280 ag_logging.py:145] Entity <bound method Conv.call of <tensorflow.python.layers.convolutional.Conv2D object at 0x7fc7ef034310>> could not be transformed and will be executed as-is. Please report this to the AutgoGraph team. When filing the bug, set the verbosity to 10 (on Linux, `export AUTOGRAPH_VERBOSITY=10`) and attach the full output. Cause: converting <bound method Conv.call of <tensorflow.python.layers.convolutional.Conv2D object at 0x7fc7ef034310>>: AssertionError: Bad argument number for Name: 3, expecting 4\n"
     ]
    },
    {
     "name": "stdout",
     "output_type": "stream",
     "text": [
      "WARNING: Entity <bound method Conv.call of <tensorflow.python.layers.convolutional.Conv2D object at 0x7fc7ef034310>> could not be transformed and will be executed as-is. Please report this to the AutgoGraph team. When filing the bug, set the verbosity to 10 (on Linux, `export AUTOGRAPH_VERBOSITY=10`) and attach the full output. Cause: converting <bound method Conv.call of <tensorflow.python.layers.convolutional.Conv2D object at 0x7fc7ef034310>>: AssertionError: Bad argument number for Name: 3, expecting 4\n",
      "WARNING:tensorflow:Entity <bound method BatchNormalization.call of <tensorflow.python.layers.normalization.BatchNormalization object at 0x7fc7f25e5890>> could not be transformed and will be executed as-is. Please report this to the AutgoGraph team. When filing the bug, set the verbosity to 10 (on Linux, `export AUTOGRAPH_VERBOSITY=10`) and attach the full output. Cause: converting <bound method BatchNormalization.call of <tensorflow.python.layers.normalization.BatchNormalization object at 0x7fc7f25e5890>>: AssertionError: Bad argument number for Name: 3, expecting 4\n"
     ]
    },
    {
     "name": "stderr",
     "output_type": "stream",
     "text": [
      "W0526 01:10:17.081749 140498178537280 ag_logging.py:145] Entity <bound method BatchNormalization.call of <tensorflow.python.layers.normalization.BatchNormalization object at 0x7fc7f25e5890>> could not be transformed and will be executed as-is. Please report this to the AutgoGraph team. When filing the bug, set the verbosity to 10 (on Linux, `export AUTOGRAPH_VERBOSITY=10`) and attach the full output. Cause: converting <bound method BatchNormalization.call of <tensorflow.python.layers.normalization.BatchNormalization object at 0x7fc7f25e5890>>: AssertionError: Bad argument number for Name: 3, expecting 4\n"
     ]
    },
    {
     "name": "stdout",
     "output_type": "stream",
     "text": [
      "WARNING: Entity <bound method BatchNormalization.call of <tensorflow.python.layers.normalization.BatchNormalization object at 0x7fc7f25e5890>> could not be transformed and will be executed as-is. Please report this to the AutgoGraph team. When filing the bug, set the verbosity to 10 (on Linux, `export AUTOGRAPH_VERBOSITY=10`) and attach the full output. Cause: converting <bound method BatchNormalization.call of <tensorflow.python.layers.normalization.BatchNormalization object at 0x7fc7f25e5890>>: AssertionError: Bad argument number for Name: 3, expecting 4\n",
      "WARNING:tensorflow:Entity <bound method Conv.call of <tensorflow.python.layers.convolutional.Conv2D object at 0x7fc7f377ee50>> could not be transformed and will be executed as-is. Please report this to the AutgoGraph team. When filing the bug, set the verbosity to 10 (on Linux, `export AUTOGRAPH_VERBOSITY=10`) and attach the full output. Cause: converting <bound method Conv.call of <tensorflow.python.layers.convolutional.Conv2D object at 0x7fc7f377ee50>>: AssertionError: Bad argument number for Name: 3, expecting 4\n"
     ]
    },
    {
     "name": "stderr",
     "output_type": "stream",
     "text": [
      "W0526 01:10:17.158693 140498178537280 ag_logging.py:145] Entity <bound method Conv.call of <tensorflow.python.layers.convolutional.Conv2D object at 0x7fc7f377ee50>> could not be transformed and will be executed as-is. Please report this to the AutgoGraph team. When filing the bug, set the verbosity to 10 (on Linux, `export AUTOGRAPH_VERBOSITY=10`) and attach the full output. Cause: converting <bound method Conv.call of <tensorflow.python.layers.convolutional.Conv2D object at 0x7fc7f377ee50>>: AssertionError: Bad argument number for Name: 3, expecting 4\n"
     ]
    },
    {
     "name": "stdout",
     "output_type": "stream",
     "text": [
      "WARNING: Entity <bound method Conv.call of <tensorflow.python.layers.convolutional.Conv2D object at 0x7fc7f377ee50>> could not be transformed and will be executed as-is. Please report this to the AutgoGraph team. When filing the bug, set the verbosity to 10 (on Linux, `export AUTOGRAPH_VERBOSITY=10`) and attach the full output. Cause: converting <bound method Conv.call of <tensorflow.python.layers.convolutional.Conv2D object at 0x7fc7f377ee50>>: AssertionError: Bad argument number for Name: 3, expecting 4\n",
      "WARNING:tensorflow:Entity <bound method BatchNormalization.call of <tensorflow.python.layers.normalization.BatchNormalization object at 0x7fc7f25e5b90>> could not be transformed and will be executed as-is. Please report this to the AutgoGraph team. When filing the bug, set the verbosity to 10 (on Linux, `export AUTOGRAPH_VERBOSITY=10`) and attach the full output. Cause: converting <bound method BatchNormalization.call of <tensorflow.python.layers.normalization.BatchNormalization object at 0x7fc7f25e5b90>>: AssertionError: Bad argument number for Name: 3, expecting 4\n"
     ]
    },
    {
     "name": "stderr",
     "output_type": "stream",
     "text": [
      "W0526 01:10:17.209016 140498178537280 ag_logging.py:145] Entity <bound method BatchNormalization.call of <tensorflow.python.layers.normalization.BatchNormalization object at 0x7fc7f25e5b90>> could not be transformed and will be executed as-is. Please report this to the AutgoGraph team. When filing the bug, set the verbosity to 10 (on Linux, `export AUTOGRAPH_VERBOSITY=10`) and attach the full output. Cause: converting <bound method BatchNormalization.call of <tensorflow.python.layers.normalization.BatchNormalization object at 0x7fc7f25e5b90>>: AssertionError: Bad argument number for Name: 3, expecting 4\n"
     ]
    },
    {
     "name": "stdout",
     "output_type": "stream",
     "text": [
      "WARNING: Entity <bound method BatchNormalization.call of <tensorflow.python.layers.normalization.BatchNormalization object at 0x7fc7f25e5b90>> could not be transformed and will be executed as-is. Please report this to the AutgoGraph team. When filing the bug, set the verbosity to 10 (on Linux, `export AUTOGRAPH_VERBOSITY=10`) and attach the full output. Cause: converting <bound method BatchNormalization.call of <tensorflow.python.layers.normalization.BatchNormalization object at 0x7fc7f25e5b90>>: AssertionError: Bad argument number for Name: 3, expecting 4\n",
      "WARNING:tensorflow:Entity <bound method Conv.call of <tensorflow.python.layers.convolutional.Conv2D object at 0x7fc7f39dd4d0>> could not be transformed and will be executed as-is. Please report this to the AutgoGraph team. When filing the bug, set the verbosity to 10 (on Linux, `export AUTOGRAPH_VERBOSITY=10`) and attach the full output. Cause: converting <bound method Conv.call of <tensorflow.python.layers.convolutional.Conv2D object at 0x7fc7f39dd4d0>>: AssertionError: Bad argument number for Name: 3, expecting 4\n"
     ]
    },
    {
     "name": "stderr",
     "output_type": "stream",
     "text": [
      "W0526 01:10:17.302645 140498178537280 ag_logging.py:145] Entity <bound method Conv.call of <tensorflow.python.layers.convolutional.Conv2D object at 0x7fc7f39dd4d0>> could not be transformed and will be executed as-is. Please report this to the AutgoGraph team. When filing the bug, set the verbosity to 10 (on Linux, `export AUTOGRAPH_VERBOSITY=10`) and attach the full output. Cause: converting <bound method Conv.call of <tensorflow.python.layers.convolutional.Conv2D object at 0x7fc7f39dd4d0>>: AssertionError: Bad argument number for Name: 3, expecting 4\n"
     ]
    },
    {
     "name": "stdout",
     "output_type": "stream",
     "text": [
      "WARNING: Entity <bound method Conv.call of <tensorflow.python.layers.convolutional.Conv2D object at 0x7fc7f39dd4d0>> could not be transformed and will be executed as-is. Please report this to the AutgoGraph team. When filing the bug, set the verbosity to 10 (on Linux, `export AUTOGRAPH_VERBOSITY=10`) and attach the full output. Cause: converting <bound method Conv.call of <tensorflow.python.layers.convolutional.Conv2D object at 0x7fc7f39dd4d0>>: AssertionError: Bad argument number for Name: 3, expecting 4\n",
      "WARNING:tensorflow:Entity <bound method BatchNormalization.call of <tensorflow.python.layers.normalization.BatchNormalization object at 0x7fc7fe8ea350>> could not be transformed and will be executed as-is. Please report this to the AutgoGraph team. When filing the bug, set the verbosity to 10 (on Linux, `export AUTOGRAPH_VERBOSITY=10`) and attach the full output. Cause: converting <bound method BatchNormalization.call of <tensorflow.python.layers.normalization.BatchNormalization object at 0x7fc7fe8ea350>>: AssertionError: Bad argument number for Name: 3, expecting 4\n"
     ]
    },
    {
     "name": "stderr",
     "output_type": "stream",
     "text": [
      "W0526 01:10:17.353877 140498178537280 ag_logging.py:145] Entity <bound method BatchNormalization.call of <tensorflow.python.layers.normalization.BatchNormalization object at 0x7fc7fe8ea350>> could not be transformed and will be executed as-is. Please report this to the AutgoGraph team. When filing the bug, set the verbosity to 10 (on Linux, `export AUTOGRAPH_VERBOSITY=10`) and attach the full output. Cause: converting <bound method BatchNormalization.call of <tensorflow.python.layers.normalization.BatchNormalization object at 0x7fc7fe8ea350>>: AssertionError: Bad argument number for Name: 3, expecting 4\n"
     ]
    },
    {
     "name": "stdout",
     "output_type": "stream",
     "text": [
      "WARNING: Entity <bound method BatchNormalization.call of <tensorflow.python.layers.normalization.BatchNormalization object at 0x7fc7fe8ea350>> could not be transformed and will be executed as-is. Please report this to the AutgoGraph team. When filing the bug, set the verbosity to 10 (on Linux, `export AUTOGRAPH_VERBOSITY=10`) and attach the full output. Cause: converting <bound method BatchNormalization.call of <tensorflow.python.layers.normalization.BatchNormalization object at 0x7fc7fe8ea350>>: AssertionError: Bad argument number for Name: 3, expecting 4\n",
      "WARNING:tensorflow:Entity <bound method Conv.call of <tensorflow.python.layers.convolutional.Conv2D object at 0x7fc7f475d790>> could not be transformed and will be executed as-is. Please report this to the AutgoGraph team. When filing the bug, set the verbosity to 10 (on Linux, `export AUTOGRAPH_VERBOSITY=10`) and attach the full output. Cause: converting <bound method Conv.call of <tensorflow.python.layers.convolutional.Conv2D object at 0x7fc7f475d790>>: AssertionError: Bad argument number for Name: 3, expecting 4\n"
     ]
    },
    {
     "name": "stderr",
     "output_type": "stream",
     "text": [
      "W0526 01:10:17.438519 140498178537280 ag_logging.py:145] Entity <bound method Conv.call of <tensorflow.python.layers.convolutional.Conv2D object at 0x7fc7f475d790>> could not be transformed and will be executed as-is. Please report this to the AutgoGraph team. When filing the bug, set the verbosity to 10 (on Linux, `export AUTOGRAPH_VERBOSITY=10`) and attach the full output. Cause: converting <bound method Conv.call of <tensorflow.python.layers.convolutional.Conv2D object at 0x7fc7f475d790>>: AssertionError: Bad argument number for Name: 3, expecting 4\n"
     ]
    },
    {
     "name": "stdout",
     "output_type": "stream",
     "text": [
      "WARNING: Entity <bound method Conv.call of <tensorflow.python.layers.convolutional.Conv2D object at 0x7fc7f475d790>> could not be transformed and will be executed as-is. Please report this to the AutgoGraph team. When filing the bug, set the verbosity to 10 (on Linux, `export AUTOGRAPH_VERBOSITY=10`) and attach the full output. Cause: converting <bound method Conv.call of <tensorflow.python.layers.convolutional.Conv2D object at 0x7fc7f475d790>>: AssertionError: Bad argument number for Name: 3, expecting 4\n",
      "WARNING:tensorflow:Entity <bound method BatchNormalization.call of <tensorflow.python.layers.normalization.BatchNormalization object at 0x7fc7f25e5550>> could not be transformed and will be executed as-is. Please report this to the AutgoGraph team. When filing the bug, set the verbosity to 10 (on Linux, `export AUTOGRAPH_VERBOSITY=10`) and attach the full output. Cause: converting <bound method BatchNormalization.call of <tensorflow.python.layers.normalization.BatchNormalization object at 0x7fc7f25e5550>>: AssertionError: Bad argument number for Name: 3, expecting 4\n"
     ]
    },
    {
     "name": "stderr",
     "output_type": "stream",
     "text": [
      "W0526 01:10:17.486220 140498178537280 ag_logging.py:145] Entity <bound method BatchNormalization.call of <tensorflow.python.layers.normalization.BatchNormalization object at 0x7fc7f25e5550>> could not be transformed and will be executed as-is. Please report this to the AutgoGraph team. When filing the bug, set the verbosity to 10 (on Linux, `export AUTOGRAPH_VERBOSITY=10`) and attach the full output. Cause: converting <bound method BatchNormalization.call of <tensorflow.python.layers.normalization.BatchNormalization object at 0x7fc7f25e5550>>: AssertionError: Bad argument number for Name: 3, expecting 4\n"
     ]
    },
    {
     "name": "stdout",
     "output_type": "stream",
     "text": [
      "WARNING: Entity <bound method BatchNormalization.call of <tensorflow.python.layers.normalization.BatchNormalization object at 0x7fc7f25e5550>> could not be transformed and will be executed as-is. Please report this to the AutgoGraph team. When filing the bug, set the verbosity to 10 (on Linux, `export AUTOGRAPH_VERBOSITY=10`) and attach the full output. Cause: converting <bound method BatchNormalization.call of <tensorflow.python.layers.normalization.BatchNormalization object at 0x7fc7f25e5550>>: AssertionError: Bad argument number for Name: 3, expecting 4\n",
      "WARNING:tensorflow:Entity <bound method Conv.call of <tensorflow.python.layers.convolutional.Conv2D object at 0x7fc7fda973d0>> could not be transformed and will be executed as-is. Please report this to the AutgoGraph team. When filing the bug, set the verbosity to 10 (on Linux, `export AUTOGRAPH_VERBOSITY=10`) and attach the full output. Cause: converting <bound method Conv.call of <tensorflow.python.layers.convolutional.Conv2D object at 0x7fc7fda973d0>>: AssertionError: Bad argument number for Name: 3, expecting 4\n"
     ]
    },
    {
     "name": "stderr",
     "output_type": "stream",
     "text": [
      "W0526 01:10:17.587178 140498178537280 ag_logging.py:145] Entity <bound method Conv.call of <tensorflow.python.layers.convolutional.Conv2D object at 0x7fc7fda973d0>> could not be transformed and will be executed as-is. Please report this to the AutgoGraph team. When filing the bug, set the verbosity to 10 (on Linux, `export AUTOGRAPH_VERBOSITY=10`) and attach the full output. Cause: converting <bound method Conv.call of <tensorflow.python.layers.convolutional.Conv2D object at 0x7fc7fda973d0>>: AssertionError: Bad argument number for Name: 3, expecting 4\n"
     ]
    },
    {
     "name": "stdout",
     "output_type": "stream",
     "text": [
      "WARNING: Entity <bound method Conv.call of <tensorflow.python.layers.convolutional.Conv2D object at 0x7fc7fda973d0>> could not be transformed and will be executed as-is. Please report this to the AutgoGraph team. When filing the bug, set the verbosity to 10 (on Linux, `export AUTOGRAPH_VERBOSITY=10`) and attach the full output. Cause: converting <bound method Conv.call of <tensorflow.python.layers.convolutional.Conv2D object at 0x7fc7fda973d0>>: AssertionError: Bad argument number for Name: 3, expecting 4\n",
      "WARNING:tensorflow:Entity <bound method BatchNormalization.call of <tensorflow.python.layers.normalization.BatchNormalization object at 0x7fc7f25e5890>> could not be transformed and will be executed as-is. Please report this to the AutgoGraph team. When filing the bug, set the verbosity to 10 (on Linux, `export AUTOGRAPH_VERBOSITY=10`) and attach the full output. Cause: converting <bound method BatchNormalization.call of <tensorflow.python.layers.normalization.BatchNormalization object at 0x7fc7f25e5890>>: AssertionError: Bad argument number for Name: 3, expecting 4\n"
     ]
    },
    {
     "name": "stderr",
     "output_type": "stream",
     "text": [
      "W0526 01:10:17.642460 140498178537280 ag_logging.py:145] Entity <bound method BatchNormalization.call of <tensorflow.python.layers.normalization.BatchNormalization object at 0x7fc7f25e5890>> could not be transformed and will be executed as-is. Please report this to the AutgoGraph team. When filing the bug, set the verbosity to 10 (on Linux, `export AUTOGRAPH_VERBOSITY=10`) and attach the full output. Cause: converting <bound method BatchNormalization.call of <tensorflow.python.layers.normalization.BatchNormalization object at 0x7fc7f25e5890>>: AssertionError: Bad argument number for Name: 3, expecting 4\n"
     ]
    },
    {
     "name": "stdout",
     "output_type": "stream",
     "text": [
      "WARNING: Entity <bound method BatchNormalization.call of <tensorflow.python.layers.normalization.BatchNormalization object at 0x7fc7f25e5890>> could not be transformed and will be executed as-is. Please report this to the AutgoGraph team. When filing the bug, set the verbosity to 10 (on Linux, `export AUTOGRAPH_VERBOSITY=10`) and attach the full output. Cause: converting <bound method BatchNormalization.call of <tensorflow.python.layers.normalization.BatchNormalization object at 0x7fc7f25e5890>>: AssertionError: Bad argument number for Name: 3, expecting 4\n",
      "WARNING:tensorflow:Entity <bound method Conv.call of <tensorflow.python.layers.convolutional.Conv2D object at 0x7fc7f43498d0>> could not be transformed and will be executed as-is. Please report this to the AutgoGraph team. When filing the bug, set the verbosity to 10 (on Linux, `export AUTOGRAPH_VERBOSITY=10`) and attach the full output. Cause: converting <bound method Conv.call of <tensorflow.python.layers.convolutional.Conv2D object at 0x7fc7f43498d0>>: AssertionError: Bad argument number for Name: 3, expecting 4\n"
     ]
    },
    {
     "name": "stderr",
     "output_type": "stream",
     "text": [
      "W0526 01:10:17.747926 140498178537280 ag_logging.py:145] Entity <bound method Conv.call of <tensorflow.python.layers.convolutional.Conv2D object at 0x7fc7f43498d0>> could not be transformed and will be executed as-is. Please report this to the AutgoGraph team. When filing the bug, set the verbosity to 10 (on Linux, `export AUTOGRAPH_VERBOSITY=10`) and attach the full output. Cause: converting <bound method Conv.call of <tensorflow.python.layers.convolutional.Conv2D object at 0x7fc7f43498d0>>: AssertionError: Bad argument number for Name: 3, expecting 4\n"
     ]
    },
    {
     "name": "stdout",
     "output_type": "stream",
     "text": [
      "WARNING: Entity <bound method Conv.call of <tensorflow.python.layers.convolutional.Conv2D object at 0x7fc7f43498d0>> could not be transformed and will be executed as-is. Please report this to the AutgoGraph team. When filing the bug, set the verbosity to 10 (on Linux, `export AUTOGRAPH_VERBOSITY=10`) and attach the full output. Cause: converting <bound method Conv.call of <tensorflow.python.layers.convolutional.Conv2D object at 0x7fc7f43498d0>>: AssertionError: Bad argument number for Name: 3, expecting 4\n",
      "WARNING:tensorflow:Entity <bound method BatchNormalization.call of <tensorflow.python.layers.normalization.BatchNormalization object at 0x7fc7fe6ee5d0>> could not be transformed and will be executed as-is. Please report this to the AutgoGraph team. When filing the bug, set the verbosity to 10 (on Linux, `export AUTOGRAPH_VERBOSITY=10`) and attach the full output. Cause: converting <bound method BatchNormalization.call of <tensorflow.python.layers.normalization.BatchNormalization object at 0x7fc7fe6ee5d0>>: AssertionError: Bad argument number for Name: 3, expecting 4\n"
     ]
    },
    {
     "name": "stderr",
     "output_type": "stream",
     "text": [
      "W0526 01:10:17.789651 140498178537280 ag_logging.py:145] Entity <bound method BatchNormalization.call of <tensorflow.python.layers.normalization.BatchNormalization object at 0x7fc7fe6ee5d0>> could not be transformed and will be executed as-is. Please report this to the AutgoGraph team. When filing the bug, set the verbosity to 10 (on Linux, `export AUTOGRAPH_VERBOSITY=10`) and attach the full output. Cause: converting <bound method BatchNormalization.call of <tensorflow.python.layers.normalization.BatchNormalization object at 0x7fc7fe6ee5d0>>: AssertionError: Bad argument number for Name: 3, expecting 4\n"
     ]
    },
    {
     "name": "stdout",
     "output_type": "stream",
     "text": [
      "WARNING: Entity <bound method BatchNormalization.call of <tensorflow.python.layers.normalization.BatchNormalization object at 0x7fc7fe6ee5d0>> could not be transformed and will be executed as-is. Please report this to the AutgoGraph team. When filing the bug, set the verbosity to 10 (on Linux, `export AUTOGRAPH_VERBOSITY=10`) and attach the full output. Cause: converting <bound method BatchNormalization.call of <tensorflow.python.layers.normalization.BatchNormalization object at 0x7fc7fe6ee5d0>>: AssertionError: Bad argument number for Name: 3, expecting 4\n",
      "WARNING:tensorflow:Entity <bound method Conv.call of <tensorflow.python.layers.convolutional.Conv2D object at 0x7fc7fda973d0>> could not be transformed and will be executed as-is. Please report this to the AutgoGraph team. When filing the bug, set the verbosity to 10 (on Linux, `export AUTOGRAPH_VERBOSITY=10`) and attach the full output. Cause: converting <bound method Conv.call of <tensorflow.python.layers.convolutional.Conv2D object at 0x7fc7fda973d0>>: AssertionError: Bad argument number for Name: 3, expecting 4\n"
     ]
    },
    {
     "name": "stderr",
     "output_type": "stream",
     "text": [
      "W0526 01:10:17.872382 140498178537280 ag_logging.py:145] Entity <bound method Conv.call of <tensorflow.python.layers.convolutional.Conv2D object at 0x7fc7fda973d0>> could not be transformed and will be executed as-is. Please report this to the AutgoGraph team. When filing the bug, set the verbosity to 10 (on Linux, `export AUTOGRAPH_VERBOSITY=10`) and attach the full output. Cause: converting <bound method Conv.call of <tensorflow.python.layers.convolutional.Conv2D object at 0x7fc7fda973d0>>: AssertionError: Bad argument number for Name: 3, expecting 4\n"
     ]
    },
    {
     "name": "stdout",
     "output_type": "stream",
     "text": [
      "WARNING: Entity <bound method Conv.call of <tensorflow.python.layers.convolutional.Conv2D object at 0x7fc7fda973d0>> could not be transformed and will be executed as-is. Please report this to the AutgoGraph team. When filing the bug, set the verbosity to 10 (on Linux, `export AUTOGRAPH_VERBOSITY=10`) and attach the full output. Cause: converting <bound method Conv.call of <tensorflow.python.layers.convolutional.Conv2D object at 0x7fc7fda973d0>>: AssertionError: Bad argument number for Name: 3, expecting 4\n",
      "WARNING:tensorflow:Entity <bound method BatchNormalization.call of <tensorflow.python.layers.normalization.BatchNormalization object at 0x7fc7fe8d6390>> could not be transformed and will be executed as-is. Please report this to the AutgoGraph team. When filing the bug, set the verbosity to 10 (on Linux, `export AUTOGRAPH_VERBOSITY=10`) and attach the full output. Cause: converting <bound method BatchNormalization.call of <tensorflow.python.layers.normalization.BatchNormalization object at 0x7fc7fe8d6390>>: AssertionError: Bad argument number for Name: 3, expecting 4\n"
     ]
    },
    {
     "name": "stderr",
     "output_type": "stream",
     "text": [
      "W0526 01:10:17.925107 140498178537280 ag_logging.py:145] Entity <bound method BatchNormalization.call of <tensorflow.python.layers.normalization.BatchNormalization object at 0x7fc7fe8d6390>> could not be transformed and will be executed as-is. Please report this to the AutgoGraph team. When filing the bug, set the verbosity to 10 (on Linux, `export AUTOGRAPH_VERBOSITY=10`) and attach the full output. Cause: converting <bound method BatchNormalization.call of <tensorflow.python.layers.normalization.BatchNormalization object at 0x7fc7fe8d6390>>: AssertionError: Bad argument number for Name: 3, expecting 4\n"
     ]
    },
    {
     "name": "stdout",
     "output_type": "stream",
     "text": [
      "WARNING: Entity <bound method BatchNormalization.call of <tensorflow.python.layers.normalization.BatchNormalization object at 0x7fc7fe8d6390>> could not be transformed and will be executed as-is. Please report this to the AutgoGraph team. When filing the bug, set the verbosity to 10 (on Linux, `export AUTOGRAPH_VERBOSITY=10`) and attach the full output. Cause: converting <bound method BatchNormalization.call of <tensorflow.python.layers.normalization.BatchNormalization object at 0x7fc7fe8d6390>>: AssertionError: Bad argument number for Name: 3, expecting 4\n",
      "WARNING:tensorflow:Entity <bound method Conv.call of <tensorflow.python.layers.convolutional.Conv2D object at 0x7fc7fe7f2ad0>> could not be transformed and will be executed as-is. Please report this to the AutgoGraph team. When filing the bug, set the verbosity to 10 (on Linux, `export AUTOGRAPH_VERBOSITY=10`) and attach the full output. Cause: converting <bound method Conv.call of <tensorflow.python.layers.convolutional.Conv2D object at 0x7fc7fe7f2ad0>>: AssertionError: Bad argument number for Name: 3, expecting 4\n"
     ]
    },
    {
     "name": "stderr",
     "output_type": "stream",
     "text": [
      "W0526 01:10:18.034740 140498178537280 ag_logging.py:145] Entity <bound method Conv.call of <tensorflow.python.layers.convolutional.Conv2D object at 0x7fc7fe7f2ad0>> could not be transformed and will be executed as-is. Please report this to the AutgoGraph team. When filing the bug, set the verbosity to 10 (on Linux, `export AUTOGRAPH_VERBOSITY=10`) and attach the full output. Cause: converting <bound method Conv.call of <tensorflow.python.layers.convolutional.Conv2D object at 0x7fc7fe7f2ad0>>: AssertionError: Bad argument number for Name: 3, expecting 4\n"
     ]
    },
    {
     "name": "stdout",
     "output_type": "stream",
     "text": [
      "WARNING: Entity <bound method Conv.call of <tensorflow.python.layers.convolutional.Conv2D object at 0x7fc7fe7f2ad0>> could not be transformed and will be executed as-is. Please report this to the AutgoGraph team. When filing the bug, set the verbosity to 10 (on Linux, `export AUTOGRAPH_VERBOSITY=10`) and attach the full output. Cause: converting <bound method Conv.call of <tensorflow.python.layers.convolutional.Conv2D object at 0x7fc7fe7f2ad0>>: AssertionError: Bad argument number for Name: 3, expecting 4\n",
      "WARNING:tensorflow:Entity <bound method BatchNormalization.call of <tensorflow.python.layers.normalization.BatchNormalization object at 0x7fc7fde96cd0>> could not be transformed and will be executed as-is. Please report this to the AutgoGraph team. When filing the bug, set the verbosity to 10 (on Linux, `export AUTOGRAPH_VERBOSITY=10`) and attach the full output. Cause: converting <bound method BatchNormalization.call of <tensorflow.python.layers.normalization.BatchNormalization object at 0x7fc7fde96cd0>>: AssertionError: Bad argument number for Name: 3, expecting 4\n"
     ]
    },
    {
     "name": "stderr",
     "output_type": "stream",
     "text": [
      "W0526 01:10:18.077465 140498178537280 ag_logging.py:145] Entity <bound method BatchNormalization.call of <tensorflow.python.layers.normalization.BatchNormalization object at 0x7fc7fde96cd0>> could not be transformed and will be executed as-is. Please report this to the AutgoGraph team. When filing the bug, set the verbosity to 10 (on Linux, `export AUTOGRAPH_VERBOSITY=10`) and attach the full output. Cause: converting <bound method BatchNormalization.call of <tensorflow.python.layers.normalization.BatchNormalization object at 0x7fc7fde96cd0>>: AssertionError: Bad argument number for Name: 3, expecting 4\n"
     ]
    },
    {
     "name": "stdout",
     "output_type": "stream",
     "text": [
      "WARNING: Entity <bound method BatchNormalization.call of <tensorflow.python.layers.normalization.BatchNormalization object at 0x7fc7fde96cd0>> could not be transformed and will be executed as-is. Please report this to the AutgoGraph team. When filing the bug, set the verbosity to 10 (on Linux, `export AUTOGRAPH_VERBOSITY=10`) and attach the full output. Cause: converting <bound method BatchNormalization.call of <tensorflow.python.layers.normalization.BatchNormalization object at 0x7fc7fde96cd0>>: AssertionError: Bad argument number for Name: 3, expecting 4\n",
      "WARNING:tensorflow:Entity <bound method Conv.call of <tensorflow.python.layers.convolutional.Conv2D object at 0x7fc7fe960d90>> could not be transformed and will be executed as-is. Please report this to the AutgoGraph team. When filing the bug, set the verbosity to 10 (on Linux, `export AUTOGRAPH_VERBOSITY=10`) and attach the full output. Cause: converting <bound method Conv.call of <tensorflow.python.layers.convolutional.Conv2D object at 0x7fc7fe960d90>>: AssertionError: Bad argument number for Name: 3, expecting 4\n"
     ]
    },
    {
     "name": "stderr",
     "output_type": "stream",
     "text": [
      "W0526 01:10:18.162816 140498178537280 ag_logging.py:145] Entity <bound method Conv.call of <tensorflow.python.layers.convolutional.Conv2D object at 0x7fc7fe960d90>> could not be transformed and will be executed as-is. Please report this to the AutgoGraph team. When filing the bug, set the verbosity to 10 (on Linux, `export AUTOGRAPH_VERBOSITY=10`) and attach the full output. Cause: converting <bound method Conv.call of <tensorflow.python.layers.convolutional.Conv2D object at 0x7fc7fe960d90>>: AssertionError: Bad argument number for Name: 3, expecting 4\n"
     ]
    },
    {
     "name": "stdout",
     "output_type": "stream",
     "text": [
      "WARNING: Entity <bound method Conv.call of <tensorflow.python.layers.convolutional.Conv2D object at 0x7fc7fe960d90>> could not be transformed and will be executed as-is. Please report this to the AutgoGraph team. When filing the bug, set the verbosity to 10 (on Linux, `export AUTOGRAPH_VERBOSITY=10`) and attach the full output. Cause: converting <bound method Conv.call of <tensorflow.python.layers.convolutional.Conv2D object at 0x7fc7fe960d90>>: AssertionError: Bad argument number for Name: 3, expecting 4\n",
      "WARNING:tensorflow:Entity <bound method BatchNormalization.call of <tensorflow.python.layers.normalization.BatchNormalization object at 0x7fc7fe6f8ad0>> could not be transformed and will be executed as-is. Please report this to the AutgoGraph team. When filing the bug, set the verbosity to 10 (on Linux, `export AUTOGRAPH_VERBOSITY=10`) and attach the full output. Cause: converting <bound method BatchNormalization.call of <tensorflow.python.layers.normalization.BatchNormalization object at 0x7fc7fe6f8ad0>>: AssertionError: Bad argument number for Name: 3, expecting 4\n"
     ]
    },
    {
     "name": "stderr",
     "output_type": "stream",
     "text": [
      "W0526 01:10:18.203918 140498178537280 ag_logging.py:145] Entity <bound method BatchNormalization.call of <tensorflow.python.layers.normalization.BatchNormalization object at 0x7fc7fe6f8ad0>> could not be transformed and will be executed as-is. Please report this to the AutgoGraph team. When filing the bug, set the verbosity to 10 (on Linux, `export AUTOGRAPH_VERBOSITY=10`) and attach the full output. Cause: converting <bound method BatchNormalization.call of <tensorflow.python.layers.normalization.BatchNormalization object at 0x7fc7fe6f8ad0>>: AssertionError: Bad argument number for Name: 3, expecting 4\n"
     ]
    },
    {
     "name": "stdout",
     "output_type": "stream",
     "text": [
      "WARNING: Entity <bound method BatchNormalization.call of <tensorflow.python.layers.normalization.BatchNormalization object at 0x7fc7fe6f8ad0>> could not be transformed and will be executed as-is. Please report this to the AutgoGraph team. When filing the bug, set the verbosity to 10 (on Linux, `export AUTOGRAPH_VERBOSITY=10`) and attach the full output. Cause: converting <bound method BatchNormalization.call of <tensorflow.python.layers.normalization.BatchNormalization object at 0x7fc7fe6f8ad0>>: AssertionError: Bad argument number for Name: 3, expecting 4\n",
      "WARNING:tensorflow:Entity <bound method Conv.call of <tensorflow.python.layers.convolutional.Conv2D object at 0x7fc7fe7f2510>> could not be transformed and will be executed as-is. Please report this to the AutgoGraph team. When filing the bug, set the verbosity to 10 (on Linux, `export AUTOGRAPH_VERBOSITY=10`) and attach the full output. Cause: converting <bound method Conv.call of <tensorflow.python.layers.convolutional.Conv2D object at 0x7fc7fe7f2510>>: AssertionError: Bad argument number for Name: 3, expecting 4\n"
     ]
    },
    {
     "name": "stderr",
     "output_type": "stream",
     "text": [
      "W0526 01:10:18.300942 140498178537280 ag_logging.py:145] Entity <bound method Conv.call of <tensorflow.python.layers.convolutional.Conv2D object at 0x7fc7fe7f2510>> could not be transformed and will be executed as-is. Please report this to the AutgoGraph team. When filing the bug, set the verbosity to 10 (on Linux, `export AUTOGRAPH_VERBOSITY=10`) and attach the full output. Cause: converting <bound method Conv.call of <tensorflow.python.layers.convolutional.Conv2D object at 0x7fc7fe7f2510>>: AssertionError: Bad argument number for Name: 3, expecting 4\n"
     ]
    },
    {
     "name": "stdout",
     "output_type": "stream",
     "text": [
      "WARNING: Entity <bound method Conv.call of <tensorflow.python.layers.convolutional.Conv2D object at 0x7fc7fe7f2510>> could not be transformed and will be executed as-is. Please report this to the AutgoGraph team. When filing the bug, set the verbosity to 10 (on Linux, `export AUTOGRAPH_VERBOSITY=10`) and attach the full output. Cause: converting <bound method Conv.call of <tensorflow.python.layers.convolutional.Conv2D object at 0x7fc7fe7f2510>>: AssertionError: Bad argument number for Name: 3, expecting 4\n",
      "WARNING:tensorflow:Entity <bound method BatchNormalization.call of <tensorflow.python.layers.normalization.BatchNormalization object at 0x7fc7eef073d0>> could not be transformed and will be executed as-is. Please report this to the AutgoGraph team. When filing the bug, set the verbosity to 10 (on Linux, `export AUTOGRAPH_VERBOSITY=10`) and attach the full output. Cause: converting <bound method BatchNormalization.call of <tensorflow.python.layers.normalization.BatchNormalization object at 0x7fc7eef073d0>>: AssertionError: Bad argument number for Name: 3, expecting 4\n"
     ]
    },
    {
     "name": "stderr",
     "output_type": "stream",
     "text": [
      "W0526 01:10:18.360857 140498178537280 ag_logging.py:145] Entity <bound method BatchNormalization.call of <tensorflow.python.layers.normalization.BatchNormalization object at 0x7fc7eef073d0>> could not be transformed and will be executed as-is. Please report this to the AutgoGraph team. When filing the bug, set the verbosity to 10 (on Linux, `export AUTOGRAPH_VERBOSITY=10`) and attach the full output. Cause: converting <bound method BatchNormalization.call of <tensorflow.python.layers.normalization.BatchNormalization object at 0x7fc7eef073d0>>: AssertionError: Bad argument number for Name: 3, expecting 4\n"
     ]
    },
    {
     "name": "stdout",
     "output_type": "stream",
     "text": [
      "WARNING: Entity <bound method BatchNormalization.call of <tensorflow.python.layers.normalization.BatchNormalization object at 0x7fc7eef073d0>> could not be transformed and will be executed as-is. Please report this to the AutgoGraph team. When filing the bug, set the verbosity to 10 (on Linux, `export AUTOGRAPH_VERBOSITY=10`) and attach the full output. Cause: converting <bound method BatchNormalization.call of <tensorflow.python.layers.normalization.BatchNormalization object at 0x7fc7eef073d0>>: AssertionError: Bad argument number for Name: 3, expecting 4\n",
      "WARNING:tensorflow:Entity <bound method Conv.call of <tensorflow.python.layers.convolutional.Conv2D object at 0x7fc7f4349b50>> could not be transformed and will be executed as-is. Please report this to the AutgoGraph team. When filing the bug, set the verbosity to 10 (on Linux, `export AUTOGRAPH_VERBOSITY=10`) and attach the full output. Cause: converting <bound method Conv.call of <tensorflow.python.layers.convolutional.Conv2D object at 0x7fc7f4349b50>>: AssertionError: Bad argument number for Name: 3, expecting 4\n"
     ]
    },
    {
     "name": "stderr",
     "output_type": "stream",
     "text": [
      "W0526 01:10:18.441427 140498178537280 ag_logging.py:145] Entity <bound method Conv.call of <tensorflow.python.layers.convolutional.Conv2D object at 0x7fc7f4349b50>> could not be transformed and will be executed as-is. Please report this to the AutgoGraph team. When filing the bug, set the verbosity to 10 (on Linux, `export AUTOGRAPH_VERBOSITY=10`) and attach the full output. Cause: converting <bound method Conv.call of <tensorflow.python.layers.convolutional.Conv2D object at 0x7fc7f4349b50>>: AssertionError: Bad argument number for Name: 3, expecting 4\n"
     ]
    },
    {
     "name": "stdout",
     "output_type": "stream",
     "text": [
      "WARNING: Entity <bound method Conv.call of <tensorflow.python.layers.convolutional.Conv2D object at 0x7fc7f4349b50>> could not be transformed and will be executed as-is. Please report this to the AutgoGraph team. When filing the bug, set the verbosity to 10 (on Linux, `export AUTOGRAPH_VERBOSITY=10`) and attach the full output. Cause: converting <bound method Conv.call of <tensorflow.python.layers.convolutional.Conv2D object at 0x7fc7f4349b50>>: AssertionError: Bad argument number for Name: 3, expecting 4\n",
      "WARNING:tensorflow:Entity <bound method BatchNormalization.call of <tensorflow.python.layers.normalization.BatchNormalization object at 0x7fc7fde96150>> could not be transformed and will be executed as-is. Please report this to the AutgoGraph team. When filing the bug, set the verbosity to 10 (on Linux, `export AUTOGRAPH_VERBOSITY=10`) and attach the full output. Cause: converting <bound method BatchNormalization.call of <tensorflow.python.layers.normalization.BatchNormalization object at 0x7fc7fde96150>>: AssertionError: Bad argument number for Name: 3, expecting 4\n"
     ]
    },
    {
     "name": "stderr",
     "output_type": "stream",
     "text": [
      "W0526 01:10:18.479673 140498178537280 ag_logging.py:145] Entity <bound method BatchNormalization.call of <tensorflow.python.layers.normalization.BatchNormalization object at 0x7fc7fde96150>> could not be transformed and will be executed as-is. Please report this to the AutgoGraph team. When filing the bug, set the verbosity to 10 (on Linux, `export AUTOGRAPH_VERBOSITY=10`) and attach the full output. Cause: converting <bound method BatchNormalization.call of <tensorflow.python.layers.normalization.BatchNormalization object at 0x7fc7fde96150>>: AssertionError: Bad argument number for Name: 3, expecting 4\n"
     ]
    },
    {
     "name": "stdout",
     "output_type": "stream",
     "text": [
      "WARNING: Entity <bound method BatchNormalization.call of <tensorflow.python.layers.normalization.BatchNormalization object at 0x7fc7fde96150>> could not be transformed and will be executed as-is. Please report this to the AutgoGraph team. When filing the bug, set the verbosity to 10 (on Linux, `export AUTOGRAPH_VERBOSITY=10`) and attach the full output. Cause: converting <bound method BatchNormalization.call of <tensorflow.python.layers.normalization.BatchNormalization object at 0x7fc7fde96150>>: AssertionError: Bad argument number for Name: 3, expecting 4\n",
      "WARNING:tensorflow:Entity <bound method Conv.call of <tensorflow.python.layers.convolutional.Conv2D object at 0x7fc7fe6da310>> could not be transformed and will be executed as-is. Please report this to the AutgoGraph team. When filing the bug, set the verbosity to 10 (on Linux, `export AUTOGRAPH_VERBOSITY=10`) and attach the full output. Cause: converting <bound method Conv.call of <tensorflow.python.layers.convolutional.Conv2D object at 0x7fc7fe6da310>>: AssertionError: Bad argument number for Name: 3, expecting 4\n"
     ]
    },
    {
     "name": "stderr",
     "output_type": "stream",
     "text": [
      "W0526 01:10:18.704636 140498178537280 ag_logging.py:145] Entity <bound method Conv.call of <tensorflow.python.layers.convolutional.Conv2D object at 0x7fc7fe6da310>> could not be transformed and will be executed as-is. Please report this to the AutgoGraph team. When filing the bug, set the verbosity to 10 (on Linux, `export AUTOGRAPH_VERBOSITY=10`) and attach the full output. Cause: converting <bound method Conv.call of <tensorflow.python.layers.convolutional.Conv2D object at 0x7fc7fe6da310>>: AssertionError: Bad argument number for Name: 3, expecting 4\n"
     ]
    },
    {
     "name": "stdout",
     "output_type": "stream",
     "text": [
      "WARNING: Entity <bound method Conv.call of <tensorflow.python.layers.convolutional.Conv2D object at 0x7fc7fe6da310>> could not be transformed and will be executed as-is. Please report this to the AutgoGraph team. When filing the bug, set the verbosity to 10 (on Linux, `export AUTOGRAPH_VERBOSITY=10`) and attach the full output. Cause: converting <bound method Conv.call of <tensorflow.python.layers.convolutional.Conv2D object at 0x7fc7fe6da310>>: AssertionError: Bad argument number for Name: 3, expecting 4\n",
      "WARNING:tensorflow:Entity <bound method BatchNormalization.call of <tensorflow.python.layers.normalization.BatchNormalization object at 0x7fc7fde07410>> could not be transformed and will be executed as-is. Please report this to the AutgoGraph team. When filing the bug, set the verbosity to 10 (on Linux, `export AUTOGRAPH_VERBOSITY=10`) and attach the full output. Cause: converting <bound method BatchNormalization.call of <tensorflow.python.layers.normalization.BatchNormalization object at 0x7fc7fde07410>>: AssertionError: Bad argument number for Name: 3, expecting 4\n"
     ]
    },
    {
     "name": "stderr",
     "output_type": "stream",
     "text": [
      "W0526 01:10:18.743865 140498178537280 ag_logging.py:145] Entity <bound method BatchNormalization.call of <tensorflow.python.layers.normalization.BatchNormalization object at 0x7fc7fde07410>> could not be transformed and will be executed as-is. Please report this to the AutgoGraph team. When filing the bug, set the verbosity to 10 (on Linux, `export AUTOGRAPH_VERBOSITY=10`) and attach the full output. Cause: converting <bound method BatchNormalization.call of <tensorflow.python.layers.normalization.BatchNormalization object at 0x7fc7fde07410>>: AssertionError: Bad argument number for Name: 3, expecting 4\n"
     ]
    },
    {
     "name": "stdout",
     "output_type": "stream",
     "text": [
      "WARNING: Entity <bound method BatchNormalization.call of <tensorflow.python.layers.normalization.BatchNormalization object at 0x7fc7fde07410>> could not be transformed and will be executed as-is. Please report this to the AutgoGraph team. When filing the bug, set the verbosity to 10 (on Linux, `export AUTOGRAPH_VERBOSITY=10`) and attach the full output. Cause: converting <bound method BatchNormalization.call of <tensorflow.python.layers.normalization.BatchNormalization object at 0x7fc7fde07410>>: AssertionError: Bad argument number for Name: 3, expecting 4\n",
      "WARNING:tensorflow:Entity <bound method Conv.call of <tensorflow.python.layers.convolutional.Conv2D object at 0x7fc7f4349b50>> could not be transformed and will be executed as-is. Please report this to the AutgoGraph team. When filing the bug, set the verbosity to 10 (on Linux, `export AUTOGRAPH_VERBOSITY=10`) and attach the full output. Cause: converting <bound method Conv.call of <tensorflow.python.layers.convolutional.Conv2D object at 0x7fc7f4349b50>>: AssertionError: Bad argument number for Name: 3, expecting 4\n"
     ]
    },
    {
     "name": "stderr",
     "output_type": "stream",
     "text": [
      "W0526 01:10:18.823087 140498178537280 ag_logging.py:145] Entity <bound method Conv.call of <tensorflow.python.layers.convolutional.Conv2D object at 0x7fc7f4349b50>> could not be transformed and will be executed as-is. Please report this to the AutgoGraph team. When filing the bug, set the verbosity to 10 (on Linux, `export AUTOGRAPH_VERBOSITY=10`) and attach the full output. Cause: converting <bound method Conv.call of <tensorflow.python.layers.convolutional.Conv2D object at 0x7fc7f4349b50>>: AssertionError: Bad argument number for Name: 3, expecting 4\n"
     ]
    },
    {
     "name": "stdout",
     "output_type": "stream",
     "text": [
      "WARNING: Entity <bound method Conv.call of <tensorflow.python.layers.convolutional.Conv2D object at 0x7fc7f4349b50>> could not be transformed and will be executed as-is. Please report this to the AutgoGraph team. When filing the bug, set the verbosity to 10 (on Linux, `export AUTOGRAPH_VERBOSITY=10`) and attach the full output. Cause: converting <bound method Conv.call of <tensorflow.python.layers.convolutional.Conv2D object at 0x7fc7f4349b50>>: AssertionError: Bad argument number for Name: 3, expecting 4\n",
      "WARNING:tensorflow:Entity <bound method BatchNormalization.call of <tensorflow.python.layers.normalization.BatchNormalization object at 0x7fc7f3a0fe90>> could not be transformed and will be executed as-is. Please report this to the AutgoGraph team. When filing the bug, set the verbosity to 10 (on Linux, `export AUTOGRAPH_VERBOSITY=10`) and attach the full output. Cause: converting <bound method BatchNormalization.call of <tensorflow.python.layers.normalization.BatchNormalization object at 0x7fc7f3a0fe90>>: AssertionError: Bad argument number for Name: 3, expecting 4\n"
     ]
    },
    {
     "name": "stderr",
     "output_type": "stream",
     "text": [
      "W0526 01:10:18.865814 140498178537280 ag_logging.py:145] Entity <bound method BatchNormalization.call of <tensorflow.python.layers.normalization.BatchNormalization object at 0x7fc7f3a0fe90>> could not be transformed and will be executed as-is. Please report this to the AutgoGraph team. When filing the bug, set the verbosity to 10 (on Linux, `export AUTOGRAPH_VERBOSITY=10`) and attach the full output. Cause: converting <bound method BatchNormalization.call of <tensorflow.python.layers.normalization.BatchNormalization object at 0x7fc7f3a0fe90>>: AssertionError: Bad argument number for Name: 3, expecting 4\n"
     ]
    },
    {
     "name": "stdout",
     "output_type": "stream",
     "text": [
      "WARNING: Entity <bound method BatchNormalization.call of <tensorflow.python.layers.normalization.BatchNormalization object at 0x7fc7f3a0fe90>> could not be transformed and will be executed as-is. Please report this to the AutgoGraph team. When filing the bug, set the verbosity to 10 (on Linux, `export AUTOGRAPH_VERBOSITY=10`) and attach the full output. Cause: converting <bound method BatchNormalization.call of <tensorflow.python.layers.normalization.BatchNormalization object at 0x7fc7f3a0fe90>>: AssertionError: Bad argument number for Name: 3, expecting 4\n",
      "WARNING:tensorflow:Entity <bound method Conv.call of <tensorflow.python.layers.convolutional.Conv2D object at 0x7fc7fdf278d0>> could not be transformed and will be executed as-is. Please report this to the AutgoGraph team. When filing the bug, set the verbosity to 10 (on Linux, `export AUTOGRAPH_VERBOSITY=10`) and attach the full output. Cause: converting <bound method Conv.call of <tensorflow.python.layers.convolutional.Conv2D object at 0x7fc7fdf278d0>>: AssertionError: Bad argument number for Name: 3, expecting 4\n"
     ]
    },
    {
     "name": "stderr",
     "output_type": "stream",
     "text": [
      "W0526 01:10:18.943554 140498178537280 ag_logging.py:145] Entity <bound method Conv.call of <tensorflow.python.layers.convolutional.Conv2D object at 0x7fc7fdf278d0>> could not be transformed and will be executed as-is. Please report this to the AutgoGraph team. When filing the bug, set the verbosity to 10 (on Linux, `export AUTOGRAPH_VERBOSITY=10`) and attach the full output. Cause: converting <bound method Conv.call of <tensorflow.python.layers.convolutional.Conv2D object at 0x7fc7fdf278d0>>: AssertionError: Bad argument number for Name: 3, expecting 4\n"
     ]
    },
    {
     "name": "stdout",
     "output_type": "stream",
     "text": [
      "WARNING: Entity <bound method Conv.call of <tensorflow.python.layers.convolutional.Conv2D object at 0x7fc7fdf278d0>> could not be transformed and will be executed as-is. Please report this to the AutgoGraph team. When filing the bug, set the verbosity to 10 (on Linux, `export AUTOGRAPH_VERBOSITY=10`) and attach the full output. Cause: converting <bound method Conv.call of <tensorflow.python.layers.convolutional.Conv2D object at 0x7fc7fdf278d0>>: AssertionError: Bad argument number for Name: 3, expecting 4\n",
      "WARNING:tensorflow:Entity <bound method BatchNormalization.call of <tensorflow.python.layers.normalization.BatchNormalization object at 0x7fc7ef02d250>> could not be transformed and will be executed as-is. Please report this to the AutgoGraph team. When filing the bug, set the verbosity to 10 (on Linux, `export AUTOGRAPH_VERBOSITY=10`) and attach the full output. Cause: converting <bound method BatchNormalization.call of <tensorflow.python.layers.normalization.BatchNormalization object at 0x7fc7ef02d250>>: AssertionError: Bad argument number for Name: 3, expecting 4\n"
     ]
    },
    {
     "name": "stderr",
     "output_type": "stream",
     "text": [
      "W0526 01:10:18.997110 140498178537280 ag_logging.py:145] Entity <bound method BatchNormalization.call of <tensorflow.python.layers.normalization.BatchNormalization object at 0x7fc7ef02d250>> could not be transformed and will be executed as-is. Please report this to the AutgoGraph team. When filing the bug, set the verbosity to 10 (on Linux, `export AUTOGRAPH_VERBOSITY=10`) and attach the full output. Cause: converting <bound method BatchNormalization.call of <tensorflow.python.layers.normalization.BatchNormalization object at 0x7fc7ef02d250>>: AssertionError: Bad argument number for Name: 3, expecting 4\n"
     ]
    },
    {
     "name": "stdout",
     "output_type": "stream",
     "text": [
      "WARNING: Entity <bound method BatchNormalization.call of <tensorflow.python.layers.normalization.BatchNormalization object at 0x7fc7ef02d250>> could not be transformed and will be executed as-is. Please report this to the AutgoGraph team. When filing the bug, set the verbosity to 10 (on Linux, `export AUTOGRAPH_VERBOSITY=10`) and attach the full output. Cause: converting <bound method BatchNormalization.call of <tensorflow.python.layers.normalization.BatchNormalization object at 0x7fc7ef02d250>>: AssertionError: Bad argument number for Name: 3, expecting 4\n",
      "WARNING:tensorflow:Entity <bound method Conv.call of <tensorflow.python.layers.convolutional.Conv2D object at 0x7fc7fdf27f50>> could not be transformed and will be executed as-is. Please report this to the AutgoGraph team. When filing the bug, set the verbosity to 10 (on Linux, `export AUTOGRAPH_VERBOSITY=10`) and attach the full output. Cause: converting <bound method Conv.call of <tensorflow.python.layers.convolutional.Conv2D object at 0x7fc7fdf27f50>>: AssertionError: Bad argument number for Name: 3, expecting 4\n"
     ]
    },
    {
     "name": "stderr",
     "output_type": "stream",
     "text": [
      "W0526 01:10:19.112197 140498178537280 ag_logging.py:145] Entity <bound method Conv.call of <tensorflow.python.layers.convolutional.Conv2D object at 0x7fc7fdf27f50>> could not be transformed and will be executed as-is. Please report this to the AutgoGraph team. When filing the bug, set the verbosity to 10 (on Linux, `export AUTOGRAPH_VERBOSITY=10`) and attach the full output. Cause: converting <bound method Conv.call of <tensorflow.python.layers.convolutional.Conv2D object at 0x7fc7fdf27f50>>: AssertionError: Bad argument number for Name: 3, expecting 4\n"
     ]
    },
    {
     "name": "stdout",
     "output_type": "stream",
     "text": [
      "WARNING: Entity <bound method Conv.call of <tensorflow.python.layers.convolutional.Conv2D object at 0x7fc7fdf27f50>> could not be transformed and will be executed as-is. Please report this to the AutgoGraph team. When filing the bug, set the verbosity to 10 (on Linux, `export AUTOGRAPH_VERBOSITY=10`) and attach the full output. Cause: converting <bound method Conv.call of <tensorflow.python.layers.convolutional.Conv2D object at 0x7fc7fdf27f50>>: AssertionError: Bad argument number for Name: 3, expecting 4\n",
      "WARNING:tensorflow:Entity <bound method BatchNormalization.call of <tensorflow.python.layers.normalization.BatchNormalization object at 0x7fc7fdc0dad0>> could not be transformed and will be executed as-is. Please report this to the AutgoGraph team. When filing the bug, set the verbosity to 10 (on Linux, `export AUTOGRAPH_VERBOSITY=10`) and attach the full output. Cause: converting <bound method BatchNormalization.call of <tensorflow.python.layers.normalization.BatchNormalization object at 0x7fc7fdc0dad0>>: AssertionError: Bad argument number for Name: 3, expecting 4\n"
     ]
    },
    {
     "name": "stderr",
     "output_type": "stream",
     "text": [
      "W0526 01:10:19.154309 140498178537280 ag_logging.py:145] Entity <bound method BatchNormalization.call of <tensorflow.python.layers.normalization.BatchNormalization object at 0x7fc7fdc0dad0>> could not be transformed and will be executed as-is. Please report this to the AutgoGraph team. When filing the bug, set the verbosity to 10 (on Linux, `export AUTOGRAPH_VERBOSITY=10`) and attach the full output. Cause: converting <bound method BatchNormalization.call of <tensorflow.python.layers.normalization.BatchNormalization object at 0x7fc7fdc0dad0>>: AssertionError: Bad argument number for Name: 3, expecting 4\n"
     ]
    },
    {
     "name": "stdout",
     "output_type": "stream",
     "text": [
      "WARNING: Entity <bound method BatchNormalization.call of <tensorflow.python.layers.normalization.BatchNormalization object at 0x7fc7fdc0dad0>> could not be transformed and will be executed as-is. Please report this to the AutgoGraph team. When filing the bug, set the verbosity to 10 (on Linux, `export AUTOGRAPH_VERBOSITY=10`) and attach the full output. Cause: converting <bound method BatchNormalization.call of <tensorflow.python.layers.normalization.BatchNormalization object at 0x7fc7fdc0dad0>>: AssertionError: Bad argument number for Name: 3, expecting 4\n",
      "WARNING:tensorflow:Entity <bound method Conv.call of <tensorflow.python.layers.convolutional.Conv2D object at 0x7fc7febca390>> could not be transformed and will be executed as-is. Please report this to the AutgoGraph team. When filing the bug, set the verbosity to 10 (on Linux, `export AUTOGRAPH_VERBOSITY=10`) and attach the full output. Cause: converting <bound method Conv.call of <tensorflow.python.layers.convolutional.Conv2D object at 0x7fc7febca390>>: AssertionError: Bad argument number for Name: 3, expecting 4\n"
     ]
    },
    {
     "name": "stderr",
     "output_type": "stream",
     "text": [
      "W0526 01:10:19.230848 140498178537280 ag_logging.py:145] Entity <bound method Conv.call of <tensorflow.python.layers.convolutional.Conv2D object at 0x7fc7febca390>> could not be transformed and will be executed as-is. Please report this to the AutgoGraph team. When filing the bug, set the verbosity to 10 (on Linux, `export AUTOGRAPH_VERBOSITY=10`) and attach the full output. Cause: converting <bound method Conv.call of <tensorflow.python.layers.convolutional.Conv2D object at 0x7fc7febca390>>: AssertionError: Bad argument number for Name: 3, expecting 4\n"
     ]
    },
    {
     "name": "stdout",
     "output_type": "stream",
     "text": [
      "WARNING: Entity <bound method Conv.call of <tensorflow.python.layers.convolutional.Conv2D object at 0x7fc7febca390>> could not be transformed and will be executed as-is. Please report this to the AutgoGraph team. When filing the bug, set the verbosity to 10 (on Linux, `export AUTOGRAPH_VERBOSITY=10`) and attach the full output. Cause: converting <bound method Conv.call of <tensorflow.python.layers.convolutional.Conv2D object at 0x7fc7febca390>>: AssertionError: Bad argument number for Name: 3, expecting 4\n",
      "WARNING:tensorflow:Entity <bound method BatchNormalization.call of <tensorflow.python.layers.normalization.BatchNormalization object at 0x7fc7fde07f10>> could not be transformed and will be executed as-is. Please report this to the AutgoGraph team. When filing the bug, set the verbosity to 10 (on Linux, `export AUTOGRAPH_VERBOSITY=10`) and attach the full output. Cause: converting <bound method BatchNormalization.call of <tensorflow.python.layers.normalization.BatchNormalization object at 0x7fc7fde07f10>>: AssertionError: Bad argument number for Name: 3, expecting 4\n"
     ]
    },
    {
     "name": "stderr",
     "output_type": "stream",
     "text": [
      "W0526 01:10:19.280008 140498178537280 ag_logging.py:145] Entity <bound method BatchNormalization.call of <tensorflow.python.layers.normalization.BatchNormalization object at 0x7fc7fde07f10>> could not be transformed and will be executed as-is. Please report this to the AutgoGraph team. When filing the bug, set the verbosity to 10 (on Linux, `export AUTOGRAPH_VERBOSITY=10`) and attach the full output. Cause: converting <bound method BatchNormalization.call of <tensorflow.python.layers.normalization.BatchNormalization object at 0x7fc7fde07f10>>: AssertionError: Bad argument number for Name: 3, expecting 4\n"
     ]
    },
    {
     "name": "stdout",
     "output_type": "stream",
     "text": [
      "WARNING: Entity <bound method BatchNormalization.call of <tensorflow.python.layers.normalization.BatchNormalization object at 0x7fc7fde07f10>> could not be transformed and will be executed as-is. Please report this to the AutgoGraph team. When filing the bug, set the verbosity to 10 (on Linux, `export AUTOGRAPH_VERBOSITY=10`) and attach the full output. Cause: converting <bound method BatchNormalization.call of <tensorflow.python.layers.normalization.BatchNormalization object at 0x7fc7fde07f10>>: AssertionError: Bad argument number for Name: 3, expecting 4\n",
      "WARNING:tensorflow:Entity <bound method Conv.call of <tensorflow.python.layers.convolutional.Conv2D object at 0x7fc7fdbd0510>> could not be transformed and will be executed as-is. Please report this to the AutgoGraph team. When filing the bug, set the verbosity to 10 (on Linux, `export AUTOGRAPH_VERBOSITY=10`) and attach the full output. Cause: converting <bound method Conv.call of <tensorflow.python.layers.convolutional.Conv2D object at 0x7fc7fdbd0510>>: AssertionError: Bad argument number for Name: 3, expecting 4\n"
     ]
    },
    {
     "name": "stderr",
     "output_type": "stream",
     "text": [
      "W0526 01:10:19.383955 140498178537280 ag_logging.py:145] Entity <bound method Conv.call of <tensorflow.python.layers.convolutional.Conv2D object at 0x7fc7fdbd0510>> could not be transformed and will be executed as-is. Please report this to the AutgoGraph team. When filing the bug, set the verbosity to 10 (on Linux, `export AUTOGRAPH_VERBOSITY=10`) and attach the full output. Cause: converting <bound method Conv.call of <tensorflow.python.layers.convolutional.Conv2D object at 0x7fc7fdbd0510>>: AssertionError: Bad argument number for Name: 3, expecting 4\n"
     ]
    },
    {
     "name": "stdout",
     "output_type": "stream",
     "text": [
      "WARNING: Entity <bound method Conv.call of <tensorflow.python.layers.convolutional.Conv2D object at 0x7fc7fdbd0510>> could not be transformed and will be executed as-is. Please report this to the AutgoGraph team. When filing the bug, set the verbosity to 10 (on Linux, `export AUTOGRAPH_VERBOSITY=10`) and attach the full output. Cause: converting <bound method Conv.call of <tensorflow.python.layers.convolutional.Conv2D object at 0x7fc7fdbd0510>>: AssertionError: Bad argument number for Name: 3, expecting 4\n",
      "WARNING:tensorflow:Entity <bound method BatchNormalization.call of <tensorflow.python.layers.normalization.BatchNormalization object at 0x7fc7fdb46350>> could not be transformed and will be executed as-is. Please report this to the AutgoGraph team. When filing the bug, set the verbosity to 10 (on Linux, `export AUTOGRAPH_VERBOSITY=10`) and attach the full output. Cause: converting <bound method BatchNormalization.call of <tensorflow.python.layers.normalization.BatchNormalization object at 0x7fc7fdb46350>>: AssertionError: Bad argument number for Name: 3, expecting 4\n"
     ]
    },
    {
     "name": "stderr",
     "output_type": "stream",
     "text": [
      "W0526 01:10:19.433753 140498178537280 ag_logging.py:145] Entity <bound method BatchNormalization.call of <tensorflow.python.layers.normalization.BatchNormalization object at 0x7fc7fdb46350>> could not be transformed and will be executed as-is. Please report this to the AutgoGraph team. When filing the bug, set the verbosity to 10 (on Linux, `export AUTOGRAPH_VERBOSITY=10`) and attach the full output. Cause: converting <bound method BatchNormalization.call of <tensorflow.python.layers.normalization.BatchNormalization object at 0x7fc7fdb46350>>: AssertionError: Bad argument number for Name: 3, expecting 4\n"
     ]
    },
    {
     "name": "stdout",
     "output_type": "stream",
     "text": [
      "WARNING: Entity <bound method BatchNormalization.call of <tensorflow.python.layers.normalization.BatchNormalization object at 0x7fc7fdb46350>> could not be transformed and will be executed as-is. Please report this to the AutgoGraph team. When filing the bug, set the verbosity to 10 (on Linux, `export AUTOGRAPH_VERBOSITY=10`) and attach the full output. Cause: converting <bound method BatchNormalization.call of <tensorflow.python.layers.normalization.BatchNormalization object at 0x7fc7fdb46350>>: AssertionError: Bad argument number for Name: 3, expecting 4\n",
      "WARNING:tensorflow:Entity <bound method Conv.call of <tensorflow.python.layers.convolutional.Conv2D object at 0x7fc7f2728f90>> could not be transformed and will be executed as-is. Please report this to the AutgoGraph team. When filing the bug, set the verbosity to 10 (on Linux, `export AUTOGRAPH_VERBOSITY=10`) and attach the full output. Cause: converting <bound method Conv.call of <tensorflow.python.layers.convolutional.Conv2D object at 0x7fc7f2728f90>>: AssertionError: Bad argument number for Name: 3, expecting 4\n"
     ]
    },
    {
     "name": "stderr",
     "output_type": "stream",
     "text": [
      "W0526 01:10:19.515391 140498178537280 ag_logging.py:145] Entity <bound method Conv.call of <tensorflow.python.layers.convolutional.Conv2D object at 0x7fc7f2728f90>> could not be transformed and will be executed as-is. Please report this to the AutgoGraph team. When filing the bug, set the verbosity to 10 (on Linux, `export AUTOGRAPH_VERBOSITY=10`) and attach the full output. Cause: converting <bound method Conv.call of <tensorflow.python.layers.convolutional.Conv2D object at 0x7fc7f2728f90>>: AssertionError: Bad argument number for Name: 3, expecting 4\n"
     ]
    },
    {
     "name": "stdout",
     "output_type": "stream",
     "text": [
      "WARNING: Entity <bound method Conv.call of <tensorflow.python.layers.convolutional.Conv2D object at 0x7fc7f2728f90>> could not be transformed and will be executed as-is. Please report this to the AutgoGraph team. When filing the bug, set the verbosity to 10 (on Linux, `export AUTOGRAPH_VERBOSITY=10`) and attach the full output. Cause: converting <bound method Conv.call of <tensorflow.python.layers.convolutional.Conv2D object at 0x7fc7f2728f90>>: AssertionError: Bad argument number for Name: 3, expecting 4\n",
      "WARNING:tensorflow:Entity <bound method BatchNormalization.call of <tensorflow.python.layers.normalization.BatchNormalization object at 0x7fc7fd9da710>> could not be transformed and will be executed as-is. Please report this to the AutgoGraph team. When filing the bug, set the verbosity to 10 (on Linux, `export AUTOGRAPH_VERBOSITY=10`) and attach the full output. Cause: converting <bound method BatchNormalization.call of <tensorflow.python.layers.normalization.BatchNormalization object at 0x7fc7fd9da710>>: AssertionError: Bad argument number for Name: 3, expecting 4\n"
     ]
    },
    {
     "name": "stderr",
     "output_type": "stream",
     "text": [
      "W0526 01:10:19.556828 140498178537280 ag_logging.py:145] Entity <bound method BatchNormalization.call of <tensorflow.python.layers.normalization.BatchNormalization object at 0x7fc7fd9da710>> could not be transformed and will be executed as-is. Please report this to the AutgoGraph team. When filing the bug, set the verbosity to 10 (on Linux, `export AUTOGRAPH_VERBOSITY=10`) and attach the full output. Cause: converting <bound method BatchNormalization.call of <tensorflow.python.layers.normalization.BatchNormalization object at 0x7fc7fd9da710>>: AssertionError: Bad argument number for Name: 3, expecting 4\n"
     ]
    },
    {
     "name": "stdout",
     "output_type": "stream",
     "text": [
      "WARNING: Entity <bound method BatchNormalization.call of <tensorflow.python.layers.normalization.BatchNormalization object at 0x7fc7fd9da710>> could not be transformed and will be executed as-is. Please report this to the AutgoGraph team. When filing the bug, set the verbosity to 10 (on Linux, `export AUTOGRAPH_VERBOSITY=10`) and attach the full output. Cause: converting <bound method BatchNormalization.call of <tensorflow.python.layers.normalization.BatchNormalization object at 0x7fc7fd9da710>>: AssertionError: Bad argument number for Name: 3, expecting 4\n",
      "WARNING:tensorflow:Entity <bound method Conv.call of <tensorflow.python.layers.convolutional.Conv2D object at 0x7fc7fe6da310>> could not be transformed and will be executed as-is. Please report this to the AutgoGraph team. When filing the bug, set the verbosity to 10 (on Linux, `export AUTOGRAPH_VERBOSITY=10`) and attach the full output. Cause: converting <bound method Conv.call of <tensorflow.python.layers.convolutional.Conv2D object at 0x7fc7fe6da310>>: AssertionError: Bad argument number for Name: 3, expecting 4\n"
     ]
    },
    {
     "name": "stderr",
     "output_type": "stream",
     "text": [
      "W0526 01:10:19.667318 140498178537280 ag_logging.py:145] Entity <bound method Conv.call of <tensorflow.python.layers.convolutional.Conv2D object at 0x7fc7fe6da310>> could not be transformed and will be executed as-is. Please report this to the AutgoGraph team. When filing the bug, set the verbosity to 10 (on Linux, `export AUTOGRAPH_VERBOSITY=10`) and attach the full output. Cause: converting <bound method Conv.call of <tensorflow.python.layers.convolutional.Conv2D object at 0x7fc7fe6da310>>: AssertionError: Bad argument number for Name: 3, expecting 4\n"
     ]
    },
    {
     "name": "stdout",
     "output_type": "stream",
     "text": [
      "WARNING: Entity <bound method Conv.call of <tensorflow.python.layers.convolutional.Conv2D object at 0x7fc7fe6da310>> could not be transformed and will be executed as-is. Please report this to the AutgoGraph team. When filing the bug, set the verbosity to 10 (on Linux, `export AUTOGRAPH_VERBOSITY=10`) and attach the full output. Cause: converting <bound method Conv.call of <tensorflow.python.layers.convolutional.Conv2D object at 0x7fc7fe6da310>>: AssertionError: Bad argument number for Name: 3, expecting 4\n",
      "WARNING:tensorflow:Entity <bound method BatchNormalization.call of <tensorflow.python.layers.normalization.BatchNormalization object at 0x7fc7fd9cffd0>> could not be transformed and will be executed as-is. Please report this to the AutgoGraph team. When filing the bug, set the verbosity to 10 (on Linux, `export AUTOGRAPH_VERBOSITY=10`) and attach the full output. Cause: converting <bound method BatchNormalization.call of <tensorflow.python.layers.normalization.BatchNormalization object at 0x7fc7fd9cffd0>>: AssertionError: Bad argument number for Name: 3, expecting 4\n"
     ]
    },
    {
     "name": "stderr",
     "output_type": "stream",
     "text": [
      "W0526 01:10:19.730470 140498178537280 ag_logging.py:145] Entity <bound method BatchNormalization.call of <tensorflow.python.layers.normalization.BatchNormalization object at 0x7fc7fd9cffd0>> could not be transformed and will be executed as-is. Please report this to the AutgoGraph team. When filing the bug, set the verbosity to 10 (on Linux, `export AUTOGRAPH_VERBOSITY=10`) and attach the full output. Cause: converting <bound method BatchNormalization.call of <tensorflow.python.layers.normalization.BatchNormalization object at 0x7fc7fd9cffd0>>: AssertionError: Bad argument number for Name: 3, expecting 4\n"
     ]
    },
    {
     "name": "stdout",
     "output_type": "stream",
     "text": [
      "WARNING: Entity <bound method BatchNormalization.call of <tensorflow.python.layers.normalization.BatchNormalization object at 0x7fc7fd9cffd0>> could not be transformed and will be executed as-is. Please report this to the AutgoGraph team. When filing the bug, set the verbosity to 10 (on Linux, `export AUTOGRAPH_VERBOSITY=10`) and attach the full output. Cause: converting <bound method BatchNormalization.call of <tensorflow.python.layers.normalization.BatchNormalization object at 0x7fc7fd9cffd0>>: AssertionError: Bad argument number for Name: 3, expecting 4\n",
      "WARNING:tensorflow:Entity <bound method Conv.call of <tensorflow.python.layers.convolutional.Conv2D object at 0x7fc7fdb46490>> could not be transformed and will be executed as-is. Please report this to the AutgoGraph team. When filing the bug, set the verbosity to 10 (on Linux, `export AUTOGRAPH_VERBOSITY=10`) and attach the full output. Cause: converting <bound method Conv.call of <tensorflow.python.layers.convolutional.Conv2D object at 0x7fc7fdb46490>>: AssertionError: Bad argument number for Name: 3, expecting 4\n"
     ]
    },
    {
     "name": "stderr",
     "output_type": "stream",
     "text": [
      "W0526 01:10:19.820583 140498178537280 ag_logging.py:145] Entity <bound method Conv.call of <tensorflow.python.layers.convolutional.Conv2D object at 0x7fc7fdb46490>> could not be transformed and will be executed as-is. Please report this to the AutgoGraph team. When filing the bug, set the verbosity to 10 (on Linux, `export AUTOGRAPH_VERBOSITY=10`) and attach the full output. Cause: converting <bound method Conv.call of <tensorflow.python.layers.convolutional.Conv2D object at 0x7fc7fdb46490>>: AssertionError: Bad argument number for Name: 3, expecting 4\n"
     ]
    },
    {
     "name": "stdout",
     "output_type": "stream",
     "text": [
      "WARNING: Entity <bound method Conv.call of <tensorflow.python.layers.convolutional.Conv2D object at 0x7fc7fdb46490>> could not be transformed and will be executed as-is. Please report this to the AutgoGraph team. When filing the bug, set the verbosity to 10 (on Linux, `export AUTOGRAPH_VERBOSITY=10`) and attach the full output. Cause: converting <bound method Conv.call of <tensorflow.python.layers.convolutional.Conv2D object at 0x7fc7fdb46490>>: AssertionError: Bad argument number for Name: 3, expecting 4\n",
      "WARNING:tensorflow:Entity <bound method BatchNormalization.call of <tensorflow.python.layers.normalization.BatchNormalization object at 0x7fc7fd9cf910>> could not be transformed and will be executed as-is. Please report this to the AutgoGraph team. When filing the bug, set the verbosity to 10 (on Linux, `export AUTOGRAPH_VERBOSITY=10`) and attach the full output. Cause: converting <bound method BatchNormalization.call of <tensorflow.python.layers.normalization.BatchNormalization object at 0x7fc7fd9cf910>>: AssertionError: Bad argument number for Name: 3, expecting 4\n"
     ]
    },
    {
     "name": "stderr",
     "output_type": "stream",
     "text": [
      "W0526 01:10:19.869518 140498178537280 ag_logging.py:145] Entity <bound method BatchNormalization.call of <tensorflow.python.layers.normalization.BatchNormalization object at 0x7fc7fd9cf910>> could not be transformed and will be executed as-is. Please report this to the AutgoGraph team. When filing the bug, set the verbosity to 10 (on Linux, `export AUTOGRAPH_VERBOSITY=10`) and attach the full output. Cause: converting <bound method BatchNormalization.call of <tensorflow.python.layers.normalization.BatchNormalization object at 0x7fc7fd9cf910>>: AssertionError: Bad argument number for Name: 3, expecting 4\n"
     ]
    },
    {
     "name": "stdout",
     "output_type": "stream",
     "text": [
      "WARNING: Entity <bound method BatchNormalization.call of <tensorflow.python.layers.normalization.BatchNormalization object at 0x7fc7fd9cf910>> could not be transformed and will be executed as-is. Please report this to the AutgoGraph team. When filing the bug, set the verbosity to 10 (on Linux, `export AUTOGRAPH_VERBOSITY=10`) and attach the full output. Cause: converting <bound method BatchNormalization.call of <tensorflow.python.layers.normalization.BatchNormalization object at 0x7fc7fd9cf910>>: AssertionError: Bad argument number for Name: 3, expecting 4\n",
      "WARNING:tensorflow:Entity <bound method Conv.call of <tensorflow.python.layers.convolutional.Conv2D object at 0x7fc7fdca5c90>> could not be transformed and will be executed as-is. Please report this to the AutgoGraph team. When filing the bug, set the verbosity to 10 (on Linux, `export AUTOGRAPH_VERBOSITY=10`) and attach the full output. Cause: converting <bound method Conv.call of <tensorflow.python.layers.convolutional.Conv2D object at 0x7fc7fdca5c90>>: AssertionError: Bad argument number for Name: 3, expecting 4\n"
     ]
    },
    {
     "name": "stderr",
     "output_type": "stream",
     "text": [
      "W0526 01:10:19.946098 140498178537280 ag_logging.py:145] Entity <bound method Conv.call of <tensorflow.python.layers.convolutional.Conv2D object at 0x7fc7fdca5c90>> could not be transformed and will be executed as-is. Please report this to the AutgoGraph team. When filing the bug, set the verbosity to 10 (on Linux, `export AUTOGRAPH_VERBOSITY=10`) and attach the full output. Cause: converting <bound method Conv.call of <tensorflow.python.layers.convolutional.Conv2D object at 0x7fc7fdca5c90>>: AssertionError: Bad argument number for Name: 3, expecting 4\n"
     ]
    },
    {
     "name": "stdout",
     "output_type": "stream",
     "text": [
      "WARNING: Entity <bound method Conv.call of <tensorflow.python.layers.convolutional.Conv2D object at 0x7fc7fdca5c90>> could not be transformed and will be executed as-is. Please report this to the AutgoGraph team. When filing the bug, set the verbosity to 10 (on Linux, `export AUTOGRAPH_VERBOSITY=10`) and attach the full output. Cause: converting <bound method Conv.call of <tensorflow.python.layers.convolutional.Conv2D object at 0x7fc7fdca5c90>>: AssertionError: Bad argument number for Name: 3, expecting 4\n",
      "WARNING:tensorflow:Entity <bound method BatchNormalization.call of <tensorflow.python.layers.normalization.BatchNormalization object at 0x7fc7fd8efb50>> could not be transformed and will be executed as-is. Please report this to the AutgoGraph team. When filing the bug, set the verbosity to 10 (on Linux, `export AUTOGRAPH_VERBOSITY=10`) and attach the full output. Cause: converting <bound method BatchNormalization.call of <tensorflow.python.layers.normalization.BatchNormalization object at 0x7fc7fd8efb50>>: AssertionError: Bad argument number for Name: 3, expecting 4\n"
     ]
    },
    {
     "name": "stderr",
     "output_type": "stream",
     "text": [
      "W0526 01:10:19.990472 140498178537280 ag_logging.py:145] Entity <bound method BatchNormalization.call of <tensorflow.python.layers.normalization.BatchNormalization object at 0x7fc7fd8efb50>> could not be transformed and will be executed as-is. Please report this to the AutgoGraph team. When filing the bug, set the verbosity to 10 (on Linux, `export AUTOGRAPH_VERBOSITY=10`) and attach the full output. Cause: converting <bound method BatchNormalization.call of <tensorflow.python.layers.normalization.BatchNormalization object at 0x7fc7fd8efb50>>: AssertionError: Bad argument number for Name: 3, expecting 4\n"
     ]
    },
    {
     "name": "stdout",
     "output_type": "stream",
     "text": [
      "WARNING: Entity <bound method BatchNormalization.call of <tensorflow.python.layers.normalization.BatchNormalization object at 0x7fc7fd8efb50>> could not be transformed and will be executed as-is. Please report this to the AutgoGraph team. When filing the bug, set the verbosity to 10 (on Linux, `export AUTOGRAPH_VERBOSITY=10`) and attach the full output. Cause: converting <bound method BatchNormalization.call of <tensorflow.python.layers.normalization.BatchNormalization object at 0x7fc7fd8efb50>>: AssertionError: Bad argument number for Name: 3, expecting 4\n",
      "WARNING:tensorflow:Entity <bound method Conv.call of <tensorflow.python.layers.convolutional.Conv2D object at 0x7fc7fde90190>> could not be transformed and will be executed as-is. Please report this to the AutgoGraph team. When filing the bug, set the verbosity to 10 (on Linux, `export AUTOGRAPH_VERBOSITY=10`) and attach the full output. Cause: converting <bound method Conv.call of <tensorflow.python.layers.convolutional.Conv2D object at 0x7fc7fde90190>>: AssertionError: Bad argument number for Name: 3, expecting 4\n"
     ]
    },
    {
     "name": "stderr",
     "output_type": "stream",
     "text": [
      "W0526 01:10:20.074753 140498178537280 ag_logging.py:145] Entity <bound method Conv.call of <tensorflow.python.layers.convolutional.Conv2D object at 0x7fc7fde90190>> could not be transformed and will be executed as-is. Please report this to the AutgoGraph team. When filing the bug, set the verbosity to 10 (on Linux, `export AUTOGRAPH_VERBOSITY=10`) and attach the full output. Cause: converting <bound method Conv.call of <tensorflow.python.layers.convolutional.Conv2D object at 0x7fc7fde90190>>: AssertionError: Bad argument number for Name: 3, expecting 4\n"
     ]
    },
    {
     "name": "stdout",
     "output_type": "stream",
     "text": [
      "WARNING: Entity <bound method Conv.call of <tensorflow.python.layers.convolutional.Conv2D object at 0x7fc7fde90190>> could not be transformed and will be executed as-is. Please report this to the AutgoGraph team. When filing the bug, set the verbosity to 10 (on Linux, `export AUTOGRAPH_VERBOSITY=10`) and attach the full output. Cause: converting <bound method Conv.call of <tensorflow.python.layers.convolutional.Conv2D object at 0x7fc7fde90190>>: AssertionError: Bad argument number for Name: 3, expecting 4\n",
      "WARNING:tensorflow:Entity <bound method BatchNormalization.call of <tensorflow.python.layers.normalization.BatchNormalization object at 0x7fc7f39dd050>> could not be transformed and will be executed as-is. Please report this to the AutgoGraph team. When filing the bug, set the verbosity to 10 (on Linux, `export AUTOGRAPH_VERBOSITY=10`) and attach the full output. Cause: converting <bound method BatchNormalization.call of <tensorflow.python.layers.normalization.BatchNormalization object at 0x7fc7f39dd050>>: AssertionError: Bad argument number for Name: 3, expecting 4\n"
     ]
    },
    {
     "name": "stderr",
     "output_type": "stream",
     "text": [
      "W0526 01:10:20.168551 140498178537280 ag_logging.py:145] Entity <bound method BatchNormalization.call of <tensorflow.python.layers.normalization.BatchNormalization object at 0x7fc7f39dd050>> could not be transformed and will be executed as-is. Please report this to the AutgoGraph team. When filing the bug, set the verbosity to 10 (on Linux, `export AUTOGRAPH_VERBOSITY=10`) and attach the full output. Cause: converting <bound method BatchNormalization.call of <tensorflow.python.layers.normalization.BatchNormalization object at 0x7fc7f39dd050>>: AssertionError: Bad argument number for Name: 3, expecting 4\n"
     ]
    },
    {
     "name": "stdout",
     "output_type": "stream",
     "text": [
      "WARNING: Entity <bound method BatchNormalization.call of <tensorflow.python.layers.normalization.BatchNormalization object at 0x7fc7f39dd050>> could not be transformed and will be executed as-is. Please report this to the AutgoGraph team. When filing the bug, set the verbosity to 10 (on Linux, `export AUTOGRAPH_VERBOSITY=10`) and attach the full output. Cause: converting <bound method BatchNormalization.call of <tensorflow.python.layers.normalization.BatchNormalization object at 0x7fc7f39dd050>>: AssertionError: Bad argument number for Name: 3, expecting 4\n",
      "WARNING:tensorflow:Entity <bound method Conv.call of <tensorflow.python.layers.convolutional.Conv2D object at 0x7fc7fd9cff50>> could not be transformed and will be executed as-is. Please report this to the AutgoGraph team. When filing the bug, set the verbosity to 10 (on Linux, `export AUTOGRAPH_VERBOSITY=10`) and attach the full output. Cause: converting <bound method Conv.call of <tensorflow.python.layers.convolutional.Conv2D object at 0x7fc7fd9cff50>>: AssertionError: Bad argument number for Name: 3, expecting 4\n"
     ]
    },
    {
     "name": "stderr",
     "output_type": "stream",
     "text": [
      "W0526 01:10:20.255948 140498178537280 ag_logging.py:145] Entity <bound method Conv.call of <tensorflow.python.layers.convolutional.Conv2D object at 0x7fc7fd9cff50>> could not be transformed and will be executed as-is. Please report this to the AutgoGraph team. When filing the bug, set the verbosity to 10 (on Linux, `export AUTOGRAPH_VERBOSITY=10`) and attach the full output. Cause: converting <bound method Conv.call of <tensorflow.python.layers.convolutional.Conv2D object at 0x7fc7fd9cff50>>: AssertionError: Bad argument number for Name: 3, expecting 4\n"
     ]
    },
    {
     "name": "stdout",
     "output_type": "stream",
     "text": [
      "WARNING: Entity <bound method Conv.call of <tensorflow.python.layers.convolutional.Conv2D object at 0x7fc7fd9cff50>> could not be transformed and will be executed as-is. Please report this to the AutgoGraph team. When filing the bug, set the verbosity to 10 (on Linux, `export AUTOGRAPH_VERBOSITY=10`) and attach the full output. Cause: converting <bound method Conv.call of <tensorflow.python.layers.convolutional.Conv2D object at 0x7fc7fd9cff50>>: AssertionError: Bad argument number for Name: 3, expecting 4\n",
      "WARNING:tensorflow:Entity <bound method BatchNormalization.call of <tensorflow.python.layers.normalization.BatchNormalization object at 0x7fc7f2a5ff10>> could not be transformed and will be executed as-is. Please report this to the AutgoGraph team. When filing the bug, set the verbosity to 10 (on Linux, `export AUTOGRAPH_VERBOSITY=10`) and attach the full output. Cause: converting <bound method BatchNormalization.call of <tensorflow.python.layers.normalization.BatchNormalization object at 0x7fc7f2a5ff10>>: AssertionError: Bad argument number for Name: 3, expecting 4\n"
     ]
    },
    {
     "name": "stderr",
     "output_type": "stream",
     "text": [
      "W0526 01:10:20.307085 140498178537280 ag_logging.py:145] Entity <bound method BatchNormalization.call of <tensorflow.python.layers.normalization.BatchNormalization object at 0x7fc7f2a5ff10>> could not be transformed and will be executed as-is. Please report this to the AutgoGraph team. When filing the bug, set the verbosity to 10 (on Linux, `export AUTOGRAPH_VERBOSITY=10`) and attach the full output. Cause: converting <bound method BatchNormalization.call of <tensorflow.python.layers.normalization.BatchNormalization object at 0x7fc7f2a5ff10>>: AssertionError: Bad argument number for Name: 3, expecting 4\n"
     ]
    },
    {
     "name": "stdout",
     "output_type": "stream",
     "text": [
      "WARNING: Entity <bound method BatchNormalization.call of <tensorflow.python.layers.normalization.BatchNormalization object at 0x7fc7f2a5ff10>> could not be transformed and will be executed as-is. Please report this to the AutgoGraph team. When filing the bug, set the verbosity to 10 (on Linux, `export AUTOGRAPH_VERBOSITY=10`) and attach the full output. Cause: converting <bound method BatchNormalization.call of <tensorflow.python.layers.normalization.BatchNormalization object at 0x7fc7f2a5ff10>>: AssertionError: Bad argument number for Name: 3, expecting 4\n",
      "WARNING:tensorflow:Entity <bound method Conv.call of <tensorflow.python.layers.convolutional.Conv2D object at 0x7fc7fda5ced0>> could not be transformed and will be executed as-is. Please report this to the AutgoGraph team. When filing the bug, set the verbosity to 10 (on Linux, `export AUTOGRAPH_VERBOSITY=10`) and attach the full output. Cause: converting <bound method Conv.call of <tensorflow.python.layers.convolutional.Conv2D object at 0x7fc7fda5ced0>>: AssertionError: Bad argument number for Name: 3, expecting 4\n"
     ]
    },
    {
     "name": "stderr",
     "output_type": "stream",
     "text": [
      "W0526 01:10:20.388084 140498178537280 ag_logging.py:145] Entity <bound method Conv.call of <tensorflow.python.layers.convolutional.Conv2D object at 0x7fc7fda5ced0>> could not be transformed and will be executed as-is. Please report this to the AutgoGraph team. When filing the bug, set the verbosity to 10 (on Linux, `export AUTOGRAPH_VERBOSITY=10`) and attach the full output. Cause: converting <bound method Conv.call of <tensorflow.python.layers.convolutional.Conv2D object at 0x7fc7fda5ced0>>: AssertionError: Bad argument number for Name: 3, expecting 4\n"
     ]
    },
    {
     "name": "stdout",
     "output_type": "stream",
     "text": [
      "WARNING: Entity <bound method Conv.call of <tensorflow.python.layers.convolutional.Conv2D object at 0x7fc7fda5ced0>> could not be transformed and will be executed as-is. Please report this to the AutgoGraph team. When filing the bug, set the verbosity to 10 (on Linux, `export AUTOGRAPH_VERBOSITY=10`) and attach the full output. Cause: converting <bound method Conv.call of <tensorflow.python.layers.convolutional.Conv2D object at 0x7fc7fda5ced0>>: AssertionError: Bad argument number for Name: 3, expecting 4\n",
      "WARNING:tensorflow:Entity <bound method BatchNormalization.call of <tensorflow.python.layers.normalization.BatchNormalization object at 0x7fc7f2c40a10>> could not be transformed and will be executed as-is. Please report this to the AutgoGraph team. When filing the bug, set the verbosity to 10 (on Linux, `export AUTOGRAPH_VERBOSITY=10`) and attach the full output. Cause: converting <bound method BatchNormalization.call of <tensorflow.python.layers.normalization.BatchNormalization object at 0x7fc7f2c40a10>>: AssertionError: Bad argument number for Name: 3, expecting 4\n"
     ]
    },
    {
     "name": "stderr",
     "output_type": "stream",
     "text": [
      "W0526 01:10:20.429636 140498178537280 ag_logging.py:145] Entity <bound method BatchNormalization.call of <tensorflow.python.layers.normalization.BatchNormalization object at 0x7fc7f2c40a10>> could not be transformed and will be executed as-is. Please report this to the AutgoGraph team. When filing the bug, set the verbosity to 10 (on Linux, `export AUTOGRAPH_VERBOSITY=10`) and attach the full output. Cause: converting <bound method BatchNormalization.call of <tensorflow.python.layers.normalization.BatchNormalization object at 0x7fc7f2c40a10>>: AssertionError: Bad argument number for Name: 3, expecting 4\n"
     ]
    },
    {
     "name": "stdout",
     "output_type": "stream",
     "text": [
      "WARNING: Entity <bound method BatchNormalization.call of <tensorflow.python.layers.normalization.BatchNormalization object at 0x7fc7f2c40a10>> could not be transformed and will be executed as-is. Please report this to the AutgoGraph team. When filing the bug, set the verbosity to 10 (on Linux, `export AUTOGRAPH_VERBOSITY=10`) and attach the full output. Cause: converting <bound method BatchNormalization.call of <tensorflow.python.layers.normalization.BatchNormalization object at 0x7fc7f2c40a10>>: AssertionError: Bad argument number for Name: 3, expecting 4\n",
      "WARNING:tensorflow:Entity <bound method Conv.call of <tensorflow.python.layers.convolutional.Conv2D object at 0x7fc7ef02d590>> could not be transformed and will be executed as-is. Please report this to the AutgoGraph team. When filing the bug, set the verbosity to 10 (on Linux, `export AUTOGRAPH_VERBOSITY=10`) and attach the full output. Cause: converting <bound method Conv.call of <tensorflow.python.layers.convolutional.Conv2D object at 0x7fc7ef02d590>>: AssertionError: Bad argument number for Name: 3, expecting 4\n"
     ]
    },
    {
     "name": "stderr",
     "output_type": "stream",
     "text": [
      "W0526 01:10:20.508599 140498178537280 ag_logging.py:145] Entity <bound method Conv.call of <tensorflow.python.layers.convolutional.Conv2D object at 0x7fc7ef02d590>> could not be transformed and will be executed as-is. Please report this to the AutgoGraph team. When filing the bug, set the verbosity to 10 (on Linux, `export AUTOGRAPH_VERBOSITY=10`) and attach the full output. Cause: converting <bound method Conv.call of <tensorflow.python.layers.convolutional.Conv2D object at 0x7fc7ef02d590>>: AssertionError: Bad argument number for Name: 3, expecting 4\n"
     ]
    },
    {
     "name": "stdout",
     "output_type": "stream",
     "text": [
      "WARNING: Entity <bound method Conv.call of <tensorflow.python.layers.convolutional.Conv2D object at 0x7fc7ef02d590>> could not be transformed and will be executed as-is. Please report this to the AutgoGraph team. When filing the bug, set the verbosity to 10 (on Linux, `export AUTOGRAPH_VERBOSITY=10`) and attach the full output. Cause: converting <bound method Conv.call of <tensorflow.python.layers.convolutional.Conv2D object at 0x7fc7ef02d590>>: AssertionError: Bad argument number for Name: 3, expecting 4\n",
      "WARNING:tensorflow:Entity <bound method BatchNormalization.call of <tensorflow.python.layers.normalization.BatchNormalization object at 0x7fc7f2964110>> could not be transformed and will be executed as-is. Please report this to the AutgoGraph team. When filing the bug, set the verbosity to 10 (on Linux, `export AUTOGRAPH_VERBOSITY=10`) and attach the full output. Cause: converting <bound method BatchNormalization.call of <tensorflow.python.layers.normalization.BatchNormalization object at 0x7fc7f2964110>>: AssertionError: Bad argument number for Name: 3, expecting 4\n"
     ]
    },
    {
     "name": "stderr",
     "output_type": "stream",
     "text": [
      "W0526 01:10:20.603198 140498178537280 ag_logging.py:145] Entity <bound method BatchNormalization.call of <tensorflow.python.layers.normalization.BatchNormalization object at 0x7fc7f2964110>> could not be transformed and will be executed as-is. Please report this to the AutgoGraph team. When filing the bug, set the verbosity to 10 (on Linux, `export AUTOGRAPH_VERBOSITY=10`) and attach the full output. Cause: converting <bound method BatchNormalization.call of <tensorflow.python.layers.normalization.BatchNormalization object at 0x7fc7f2964110>>: AssertionError: Bad argument number for Name: 3, expecting 4\n"
     ]
    },
    {
     "name": "stdout",
     "output_type": "stream",
     "text": [
      "WARNING: Entity <bound method BatchNormalization.call of <tensorflow.python.layers.normalization.BatchNormalization object at 0x7fc7f2964110>> could not be transformed and will be executed as-is. Please report this to the AutgoGraph team. When filing the bug, set the verbosity to 10 (on Linux, `export AUTOGRAPH_VERBOSITY=10`) and attach the full output. Cause: converting <bound method BatchNormalization.call of <tensorflow.python.layers.normalization.BatchNormalization object at 0x7fc7f2964110>>: AssertionError: Bad argument number for Name: 3, expecting 4\n",
      "WARNING:tensorflow:Entity <bound method Conv.call of <tensorflow.python.layers.convolutional.Conv2D object at 0x7fc7fda5c090>> could not be transformed and will be executed as-is. Please report this to the AutgoGraph team. When filing the bug, set the verbosity to 10 (on Linux, `export AUTOGRAPH_VERBOSITY=10`) and attach the full output. Cause: converting <bound method Conv.call of <tensorflow.python.layers.convolutional.Conv2D object at 0x7fc7fda5c090>>: AssertionError: Bad argument number for Name: 3, expecting 4\n"
     ]
    },
    {
     "name": "stderr",
     "output_type": "stream",
     "text": [
      "W0526 01:10:20.683199 140498178537280 ag_logging.py:145] Entity <bound method Conv.call of <tensorflow.python.layers.convolutional.Conv2D object at 0x7fc7fda5c090>> could not be transformed and will be executed as-is. Please report this to the AutgoGraph team. When filing the bug, set the verbosity to 10 (on Linux, `export AUTOGRAPH_VERBOSITY=10`) and attach the full output. Cause: converting <bound method Conv.call of <tensorflow.python.layers.convolutional.Conv2D object at 0x7fc7fda5c090>>: AssertionError: Bad argument number for Name: 3, expecting 4\n"
     ]
    },
    {
     "name": "stdout",
     "output_type": "stream",
     "text": [
      "WARNING: Entity <bound method Conv.call of <tensorflow.python.layers.convolutional.Conv2D object at 0x7fc7fda5c090>> could not be transformed and will be executed as-is. Please report this to the AutgoGraph team. When filing the bug, set the verbosity to 10 (on Linux, `export AUTOGRAPH_VERBOSITY=10`) and attach the full output. Cause: converting <bound method Conv.call of <tensorflow.python.layers.convolutional.Conv2D object at 0x7fc7fda5c090>>: AssertionError: Bad argument number for Name: 3, expecting 4\n",
      "WARNING:tensorflow:Entity <bound method BatchNormalization.call of <tensorflow.python.layers.normalization.BatchNormalization object at 0x7fc7f2a60950>> could not be transformed and will be executed as-is. Please report this to the AutgoGraph team. When filing the bug, set the verbosity to 10 (on Linux, `export AUTOGRAPH_VERBOSITY=10`) and attach the full output. Cause: converting <bound method BatchNormalization.call of <tensorflow.python.layers.normalization.BatchNormalization object at 0x7fc7f2a60950>>: AssertionError: Bad argument number for Name: 3, expecting 4\n"
     ]
    },
    {
     "name": "stderr",
     "output_type": "stream",
     "text": [
      "W0526 01:10:20.731114 140498178537280 ag_logging.py:145] Entity <bound method BatchNormalization.call of <tensorflow.python.layers.normalization.BatchNormalization object at 0x7fc7f2a60950>> could not be transformed and will be executed as-is. Please report this to the AutgoGraph team. When filing the bug, set the verbosity to 10 (on Linux, `export AUTOGRAPH_VERBOSITY=10`) and attach the full output. Cause: converting <bound method BatchNormalization.call of <tensorflow.python.layers.normalization.BatchNormalization object at 0x7fc7f2a60950>>: AssertionError: Bad argument number for Name: 3, expecting 4\n"
     ]
    },
    {
     "name": "stdout",
     "output_type": "stream",
     "text": [
      "WARNING: Entity <bound method BatchNormalization.call of <tensorflow.python.layers.normalization.BatchNormalization object at 0x7fc7f2a60950>> could not be transformed and will be executed as-is. Please report this to the AutgoGraph team. When filing the bug, set the verbosity to 10 (on Linux, `export AUTOGRAPH_VERBOSITY=10`) and attach the full output. Cause: converting <bound method BatchNormalization.call of <tensorflow.python.layers.normalization.BatchNormalization object at 0x7fc7f2a60950>>: AssertionError: Bad argument number for Name: 3, expecting 4\n",
      "WARNING:tensorflow:Entity <bound method Conv.call of <tensorflow.python.layers.convolutional.Conv2D object at 0x7fc7f39b3b10>> could not be transformed and will be executed as-is. Please report this to the AutgoGraph team. When filing the bug, set the verbosity to 10 (on Linux, `export AUTOGRAPH_VERBOSITY=10`) and attach the full output. Cause: converting <bound method Conv.call of <tensorflow.python.layers.convolutional.Conv2D object at 0x7fc7f39b3b10>>: AssertionError: Bad argument number for Name: 3, expecting 4\n"
     ]
    },
    {
     "name": "stderr",
     "output_type": "stream",
     "text": [
      "W0526 01:10:20.808640 140498178537280 ag_logging.py:145] Entity <bound method Conv.call of <tensorflow.python.layers.convolutional.Conv2D object at 0x7fc7f39b3b10>> could not be transformed and will be executed as-is. Please report this to the AutgoGraph team. When filing the bug, set the verbosity to 10 (on Linux, `export AUTOGRAPH_VERBOSITY=10`) and attach the full output. Cause: converting <bound method Conv.call of <tensorflow.python.layers.convolutional.Conv2D object at 0x7fc7f39b3b10>>: AssertionError: Bad argument number for Name: 3, expecting 4\n"
     ]
    },
    {
     "name": "stdout",
     "output_type": "stream",
     "text": [
      "WARNING: Entity <bound method Conv.call of <tensorflow.python.layers.convolutional.Conv2D object at 0x7fc7f39b3b10>> could not be transformed and will be executed as-is. Please report this to the AutgoGraph team. When filing the bug, set the verbosity to 10 (on Linux, `export AUTOGRAPH_VERBOSITY=10`) and attach the full output. Cause: converting <bound method Conv.call of <tensorflow.python.layers.convolutional.Conv2D object at 0x7fc7f39b3b10>>: AssertionError: Bad argument number for Name: 3, expecting 4\n",
      "WARNING:tensorflow:Entity <bound method BatchNormalization.call of <tensorflow.python.layers.normalization.BatchNormalization object at 0x7fc7f27d6dd0>> could not be transformed and will be executed as-is. Please report this to the AutgoGraph team. When filing the bug, set the verbosity to 10 (on Linux, `export AUTOGRAPH_VERBOSITY=10`) and attach the full output. Cause: converting <bound method BatchNormalization.call of <tensorflow.python.layers.normalization.BatchNormalization object at 0x7fc7f27d6dd0>>: AssertionError: Bad argument number for Name: 3, expecting 4\n"
     ]
    },
    {
     "name": "stderr",
     "output_type": "stream",
     "text": [
      "W0526 01:10:20.850484 140498178537280 ag_logging.py:145] Entity <bound method BatchNormalization.call of <tensorflow.python.layers.normalization.BatchNormalization object at 0x7fc7f27d6dd0>> could not be transformed and will be executed as-is. Please report this to the AutgoGraph team. When filing the bug, set the verbosity to 10 (on Linux, `export AUTOGRAPH_VERBOSITY=10`) and attach the full output. Cause: converting <bound method BatchNormalization.call of <tensorflow.python.layers.normalization.BatchNormalization object at 0x7fc7f27d6dd0>>: AssertionError: Bad argument number for Name: 3, expecting 4\n"
     ]
    },
    {
     "name": "stdout",
     "output_type": "stream",
     "text": [
      "WARNING: Entity <bound method BatchNormalization.call of <tensorflow.python.layers.normalization.BatchNormalization object at 0x7fc7f27d6dd0>> could not be transformed and will be executed as-is. Please report this to the AutgoGraph team. When filing the bug, set the verbosity to 10 (on Linux, `export AUTOGRAPH_VERBOSITY=10`) and attach the full output. Cause: converting <bound method BatchNormalization.call of <tensorflow.python.layers.normalization.BatchNormalization object at 0x7fc7f27d6dd0>>: AssertionError: Bad argument number for Name: 3, expecting 4\n",
      "WARNING:tensorflow:Entity <bound method Conv.call of <tensorflow.python.layers.convolutional.Conv2D object at 0x7fc7f37af050>> could not be transformed and will be executed as-is. Please report this to the AutgoGraph team. When filing the bug, set the verbosity to 10 (on Linux, `export AUTOGRAPH_VERBOSITY=10`) and attach the full output. Cause: converting <bound method Conv.call of <tensorflow.python.layers.convolutional.Conv2D object at 0x7fc7f37af050>>: AssertionError: Bad argument number for Name: 3, expecting 4\n"
     ]
    },
    {
     "name": "stderr",
     "output_type": "stream",
     "text": [
      "W0526 01:10:20.926770 140498178537280 ag_logging.py:145] Entity <bound method Conv.call of <tensorflow.python.layers.convolutional.Conv2D object at 0x7fc7f37af050>> could not be transformed and will be executed as-is. Please report this to the AutgoGraph team. When filing the bug, set the verbosity to 10 (on Linux, `export AUTOGRAPH_VERBOSITY=10`) and attach the full output. Cause: converting <bound method Conv.call of <tensorflow.python.layers.convolutional.Conv2D object at 0x7fc7f37af050>>: AssertionError: Bad argument number for Name: 3, expecting 4\n"
     ]
    },
    {
     "name": "stdout",
     "output_type": "stream",
     "text": [
      "WARNING: Entity <bound method Conv.call of <tensorflow.python.layers.convolutional.Conv2D object at 0x7fc7f37af050>> could not be transformed and will be executed as-is. Please report this to the AutgoGraph team. When filing the bug, set the verbosity to 10 (on Linux, `export AUTOGRAPH_VERBOSITY=10`) and attach the full output. Cause: converting <bound method Conv.call of <tensorflow.python.layers.convolutional.Conv2D object at 0x7fc7f37af050>>: AssertionError: Bad argument number for Name: 3, expecting 4\n",
      "WARNING:tensorflow:Entity <bound method BatchNormalization.call of <tensorflow.python.layers.normalization.BatchNormalization object at 0x7fc7f26a7dd0>> could not be transformed and will be executed as-is. Please report this to the AutgoGraph team. When filing the bug, set the verbosity to 10 (on Linux, `export AUTOGRAPH_VERBOSITY=10`) and attach the full output. Cause: converting <bound method BatchNormalization.call of <tensorflow.python.layers.normalization.BatchNormalization object at 0x7fc7f26a7dd0>>: AssertionError: Bad argument number for Name: 3, expecting 4\n"
     ]
    },
    {
     "name": "stderr",
     "output_type": "stream",
     "text": [
      "W0526 01:10:21.024091 140498178537280 ag_logging.py:145] Entity <bound method BatchNormalization.call of <tensorflow.python.layers.normalization.BatchNormalization object at 0x7fc7f26a7dd0>> could not be transformed and will be executed as-is. Please report this to the AutgoGraph team. When filing the bug, set the verbosity to 10 (on Linux, `export AUTOGRAPH_VERBOSITY=10`) and attach the full output. Cause: converting <bound method BatchNormalization.call of <tensorflow.python.layers.normalization.BatchNormalization object at 0x7fc7f26a7dd0>>: AssertionError: Bad argument number for Name: 3, expecting 4\n"
     ]
    },
    {
     "name": "stdout",
     "output_type": "stream",
     "text": [
      "WARNING: Entity <bound method BatchNormalization.call of <tensorflow.python.layers.normalization.BatchNormalization object at 0x7fc7f26a7dd0>> could not be transformed and will be executed as-is. Please report this to the AutgoGraph team. When filing the bug, set the verbosity to 10 (on Linux, `export AUTOGRAPH_VERBOSITY=10`) and attach the full output. Cause: converting <bound method BatchNormalization.call of <tensorflow.python.layers.normalization.BatchNormalization object at 0x7fc7f26a7dd0>>: AssertionError: Bad argument number for Name: 3, expecting 4\n",
      "WARNING:tensorflow:Entity <bound method Conv.call of <tensorflow.python.layers.convolutional.Conv2D object at 0x7fc7feaa3d90>> could not be transformed and will be executed as-is. Please report this to the AutgoGraph team. When filing the bug, set the verbosity to 10 (on Linux, `export AUTOGRAPH_VERBOSITY=10`) and attach the full output. Cause: converting <bound method Conv.call of <tensorflow.python.layers.convolutional.Conv2D object at 0x7fc7feaa3d90>>: AssertionError: Bad argument number for Name: 3, expecting 4\n"
     ]
    },
    {
     "name": "stderr",
     "output_type": "stream",
     "text": [
      "W0526 01:10:21.105591 140498178537280 ag_logging.py:145] Entity <bound method Conv.call of <tensorflow.python.layers.convolutional.Conv2D object at 0x7fc7feaa3d90>> could not be transformed and will be executed as-is. Please report this to the AutgoGraph team. When filing the bug, set the verbosity to 10 (on Linux, `export AUTOGRAPH_VERBOSITY=10`) and attach the full output. Cause: converting <bound method Conv.call of <tensorflow.python.layers.convolutional.Conv2D object at 0x7fc7feaa3d90>>: AssertionError: Bad argument number for Name: 3, expecting 4\n"
     ]
    },
    {
     "name": "stdout",
     "output_type": "stream",
     "text": [
      "WARNING: Entity <bound method Conv.call of <tensorflow.python.layers.convolutional.Conv2D object at 0x7fc7feaa3d90>> could not be transformed and will be executed as-is. Please report this to the AutgoGraph team. When filing the bug, set the verbosity to 10 (on Linux, `export AUTOGRAPH_VERBOSITY=10`) and attach the full output. Cause: converting <bound method Conv.call of <tensorflow.python.layers.convolutional.Conv2D object at 0x7fc7feaa3d90>>: AssertionError: Bad argument number for Name: 3, expecting 4\n",
      "WARNING:tensorflow:Entity <bound method BatchNormalization.call of <tensorflow.python.layers.normalization.BatchNormalization object at 0x7fc7f26a6910>> could not be transformed and will be executed as-is. Please report this to the AutgoGraph team. When filing the bug, set the verbosity to 10 (on Linux, `export AUTOGRAPH_VERBOSITY=10`) and attach the full output. Cause: converting <bound method BatchNormalization.call of <tensorflow.python.layers.normalization.BatchNormalization object at 0x7fc7f26a6910>>: AssertionError: Bad argument number for Name: 3, expecting 4\n"
     ]
    },
    {
     "name": "stderr",
     "output_type": "stream",
     "text": [
      "W0526 01:10:21.156657 140498178537280 ag_logging.py:145] Entity <bound method BatchNormalization.call of <tensorflow.python.layers.normalization.BatchNormalization object at 0x7fc7f26a6910>> could not be transformed and will be executed as-is. Please report this to the AutgoGraph team. When filing the bug, set the verbosity to 10 (on Linux, `export AUTOGRAPH_VERBOSITY=10`) and attach the full output. Cause: converting <bound method BatchNormalization.call of <tensorflow.python.layers.normalization.BatchNormalization object at 0x7fc7f26a6910>>: AssertionError: Bad argument number for Name: 3, expecting 4\n"
     ]
    },
    {
     "name": "stdout",
     "output_type": "stream",
     "text": [
      "WARNING: Entity <bound method BatchNormalization.call of <tensorflow.python.layers.normalization.BatchNormalization object at 0x7fc7f26a6910>> could not be transformed and will be executed as-is. Please report this to the AutgoGraph team. When filing the bug, set the verbosity to 10 (on Linux, `export AUTOGRAPH_VERBOSITY=10`) and attach the full output. Cause: converting <bound method BatchNormalization.call of <tensorflow.python.layers.normalization.BatchNormalization object at 0x7fc7f26a6910>>: AssertionError: Bad argument number for Name: 3, expecting 4\n",
      "INFO:tensorflow:Scale of 0 disables regularizer.\n"
     ]
    },
    {
     "name": "stderr",
     "output_type": "stream",
     "text": [
      "I0526 01:10:21.392635 140498178537280 regularizers.py:98] Scale of 0 disables regularizer.\n"
     ]
    },
    {
     "name": "stdout",
     "output_type": "stream",
     "text": [
      "WARNING:tensorflow:Entity <bound method Conv.call of <tensorflow.python.layers.convolutional.Conv2D object at 0x7fc7f350e810>> could not be transformed and will be executed as-is. Please report this to the AutgoGraph team. When filing the bug, set the verbosity to 10 (on Linux, `export AUTOGRAPH_VERBOSITY=10`) and attach the full output. Cause: converting <bound method Conv.call of <tensorflow.python.layers.convolutional.Conv2D object at 0x7fc7f350e810>>: AssertionError: Bad argument number for Name: 3, expecting 4\n"
     ]
    },
    {
     "name": "stderr",
     "output_type": "stream",
     "text": [
      "W0526 01:10:21.500356 140498178537280 ag_logging.py:145] Entity <bound method Conv.call of <tensorflow.python.layers.convolutional.Conv2D object at 0x7fc7f350e810>> could not be transformed and will be executed as-is. Please report this to the AutgoGraph team. When filing the bug, set the verbosity to 10 (on Linux, `export AUTOGRAPH_VERBOSITY=10`) and attach the full output. Cause: converting <bound method Conv.call of <tensorflow.python.layers.convolutional.Conv2D object at 0x7fc7f350e810>>: AssertionError: Bad argument number for Name: 3, expecting 4\n"
     ]
    },
    {
     "name": "stdout",
     "output_type": "stream",
     "text": [
      "WARNING: Entity <bound method Conv.call of <tensorflow.python.layers.convolutional.Conv2D object at 0x7fc7f350e810>> could not be transformed and will be executed as-is. Please report this to the AutgoGraph team. When filing the bug, set the verbosity to 10 (on Linux, `export AUTOGRAPH_VERBOSITY=10`) and attach the full output. Cause: converting <bound method Conv.call of <tensorflow.python.layers.convolutional.Conv2D object at 0x7fc7f350e810>>: AssertionError: Bad argument number for Name: 3, expecting 4\n",
      "INFO:tensorflow:Scale of 0 disables regularizer.\n"
     ]
    },
    {
     "name": "stderr",
     "output_type": "stream",
     "text": [
      "I0526 01:10:21.507445 140498178537280 regularizers.py:98] Scale of 0 disables regularizer.\n"
     ]
    },
    {
     "name": "stdout",
     "output_type": "stream",
     "text": [
      "WARNING:tensorflow:From /home/chirag/anaconda3/lib/python3.7/site-packages/object_detection/predictors/convolutional_box_predictor.py:147: The name tf.logging.info is deprecated. Please use tf.compat.v1.logging.info instead.\n",
      "\n"
     ]
    },
    {
     "name": "stderr",
     "output_type": "stream",
     "text": [
      "W0526 01:10:21.509869 140498178537280 deprecation_wrapper.py:119] From /home/chirag/anaconda3/lib/python3.7/site-packages/object_detection/predictors/convolutional_box_predictor.py:147: The name tf.logging.info is deprecated. Please use tf.compat.v1.logging.info instead.\n",
      "\n"
     ]
    },
    {
     "name": "stdout",
     "output_type": "stream",
     "text": [
      "INFO:tensorflow:depth of additional conv before box predictor: 0\n"
     ]
    },
    {
     "name": "stderr",
     "output_type": "stream",
     "text": [
      "I0526 01:10:21.512597 140498178537280 convolutional_box_predictor.py:148] depth of additional conv before box predictor: 0\n"
     ]
    },
    {
     "name": "stdout",
     "output_type": "stream",
     "text": [
      "WARNING:tensorflow:Entity <bound method Conv.call of <tensorflow.python.layers.convolutional.Conv2D object at 0x7fc7f22b4b90>> could not be transformed and will be executed as-is. Please report this to the AutgoGraph team. When filing the bug, set the verbosity to 10 (on Linux, `export AUTOGRAPH_VERBOSITY=10`) and attach the full output. Cause: converting <bound method Conv.call of <tensorflow.python.layers.convolutional.Conv2D object at 0x7fc7f22b4b90>>: AssertionError: Bad argument number for Name: 3, expecting 4\n"
     ]
    },
    {
     "name": "stderr",
     "output_type": "stream",
     "text": [
      "W0526 01:10:21.612668 140498178537280 ag_logging.py:145] Entity <bound method Conv.call of <tensorflow.python.layers.convolutional.Conv2D object at 0x7fc7f22b4b90>> could not be transformed and will be executed as-is. Please report this to the AutgoGraph team. When filing the bug, set the verbosity to 10 (on Linux, `export AUTOGRAPH_VERBOSITY=10`) and attach the full output. Cause: converting <bound method Conv.call of <tensorflow.python.layers.convolutional.Conv2D object at 0x7fc7f22b4b90>>: AssertionError: Bad argument number for Name: 3, expecting 4\n"
     ]
    },
    {
     "name": "stdout",
     "output_type": "stream",
     "text": [
      "WARNING: Entity <bound method Conv.call of <tensorflow.python.layers.convolutional.Conv2D object at 0x7fc7f22b4b90>> could not be transformed and will be executed as-is. Please report this to the AutgoGraph team. When filing the bug, set the verbosity to 10 (on Linux, `export AUTOGRAPH_VERBOSITY=10`) and attach the full output. Cause: converting <bound method Conv.call of <tensorflow.python.layers.convolutional.Conv2D object at 0x7fc7f22b4b90>>: AssertionError: Bad argument number for Name: 3, expecting 4\n",
      "WARNING:tensorflow:Entity <bound method Conv.call of <tensorflow.python.layers.convolutional.Conv2D object at 0x7fc7f26a7a10>> could not be transformed and will be executed as-is. Please report this to the AutgoGraph team. When filing the bug, set the verbosity to 10 (on Linux, `export AUTOGRAPH_VERBOSITY=10`) and attach the full output. Cause: converting <bound method Conv.call of <tensorflow.python.layers.convolutional.Conv2D object at 0x7fc7f26a7a10>>: AssertionError: Bad argument number for Name: 3, expecting 4\n"
     ]
    },
    {
     "name": "stderr",
     "output_type": "stream",
     "text": [
      "W0526 01:10:21.696194 140498178537280 ag_logging.py:145] Entity <bound method Conv.call of <tensorflow.python.layers.convolutional.Conv2D object at 0x7fc7f26a7a10>> could not be transformed and will be executed as-is. Please report this to the AutgoGraph team. When filing the bug, set the verbosity to 10 (on Linux, `export AUTOGRAPH_VERBOSITY=10`) and attach the full output. Cause: converting <bound method Conv.call of <tensorflow.python.layers.convolutional.Conv2D object at 0x7fc7f26a7a10>>: AssertionError: Bad argument number for Name: 3, expecting 4\n"
     ]
    },
    {
     "name": "stdout",
     "output_type": "stream",
     "text": [
      "WARNING: Entity <bound method Conv.call of <tensorflow.python.layers.convolutional.Conv2D object at 0x7fc7f26a7a10>> could not be transformed and will be executed as-is. Please report this to the AutgoGraph team. When filing the bug, set the verbosity to 10 (on Linux, `export AUTOGRAPH_VERBOSITY=10`) and attach the full output. Cause: converting <bound method Conv.call of <tensorflow.python.layers.convolutional.Conv2D object at 0x7fc7f26a7a10>>: AssertionError: Bad argument number for Name: 3, expecting 4\n",
      "WARNING:tensorflow:From /home/chirag/anaconda3/lib/python3.7/site-packages/object_detection/core/box_list_ops.py:169: add_dispatch_support.<locals>.wrapper (from tensorflow.python.ops.array_ops) is deprecated and will be removed in a future version.\n",
      "Instructions for updating:\n",
      "Use tf.where in 2.0, which has the same broadcast rule as np.where\n"
     ]
    },
    {
     "name": "stderr",
     "output_type": "stream",
     "text": [
      "W0526 01:10:21.723010 140498178537280 deprecation.py:323] From /home/chirag/anaconda3/lib/python3.7/site-packages/object_detection/core/box_list_ops.py:169: add_dispatch_support.<locals>.wrapper (from tensorflow.python.ops.array_ops) is deprecated and will be removed in a future version.\n",
      "Instructions for updating:\n",
      "Use tf.where in 2.0, which has the same broadcast rule as np.where\n"
     ]
    },
    {
     "name": "stdout",
     "output_type": "stream",
     "text": [
      "WARNING:tensorflow:From /home/chirag/anaconda3/lib/python3.7/site-packages/object_detection/utils/ops.py:1085: calling crop_and_resize_v1 (from tensorflow.python.ops.image_ops_impl) with box_ind is deprecated and will be removed in a future version.\n",
      "Instructions for updating:\n",
      "box_ind is deprecated, use box_indices instead\n"
     ]
    },
    {
     "name": "stderr",
     "output_type": "stream",
     "text": [
      "W0526 01:10:22.696245 140498178537280 deprecation.py:506] From /home/chirag/anaconda3/lib/python3.7/site-packages/object_detection/utils/ops.py:1085: calling crop_and_resize_v1 (from tensorflow.python.ops.image_ops_impl) with box_ind is deprecated and will be removed in a future version.\n",
      "Instructions for updating:\n",
      "box_ind is deprecated, use box_indices instead\n"
     ]
    },
    {
     "name": "stdout",
     "output_type": "stream",
     "text": [
      "WARNING:tensorflow:Entity <bound method Pooling2D.call of <tensorflow.python.layers.pooling.MaxPooling2D object at 0x7fc7eca9fdd0>> could not be transformed and will be executed as-is. Please report this to the AutgoGraph team. When filing the bug, set the verbosity to 10 (on Linux, `export AUTOGRAPH_VERBOSITY=10`) and attach the full output. Cause: converting <bound method Pooling2D.call of <tensorflow.python.layers.pooling.MaxPooling2D object at 0x7fc7eca9fdd0>>: AssertionError: Bad argument number for Name: 3, expecting 4\n"
     ]
    },
    {
     "name": "stderr",
     "output_type": "stream",
     "text": [
      "W0526 01:10:22.759022 140498178537280 ag_logging.py:145] Entity <bound method Pooling2D.call of <tensorflow.python.layers.pooling.MaxPooling2D object at 0x7fc7eca9fdd0>> could not be transformed and will be executed as-is. Please report this to the AutgoGraph team. When filing the bug, set the verbosity to 10 (on Linux, `export AUTOGRAPH_VERBOSITY=10`) and attach the full output. Cause: converting <bound method Pooling2D.call of <tensorflow.python.layers.pooling.MaxPooling2D object at 0x7fc7eca9fdd0>>: AssertionError: Bad argument number for Name: 3, expecting 4\n"
     ]
    },
    {
     "name": "stdout",
     "output_type": "stream",
     "text": [
      "WARNING: Entity <bound method Pooling2D.call of <tensorflow.python.layers.pooling.MaxPooling2D object at 0x7fc7eca9fdd0>> could not be transformed and will be executed as-is. Please report this to the AutgoGraph team. When filing the bug, set the verbosity to 10 (on Linux, `export AUTOGRAPH_VERBOSITY=10`) and attach the full output. Cause: converting <bound method Pooling2D.call of <tensorflow.python.layers.pooling.MaxPooling2D object at 0x7fc7eca9fdd0>>: AssertionError: Bad argument number for Name: 3, expecting 4\n",
      "INFO:tensorflow:Scale of 0 disables regularizer.\n"
     ]
    },
    {
     "name": "stderr",
     "output_type": "stream",
     "text": [
      "I0526 01:10:22.763595 140498178537280 regularizers.py:98] Scale of 0 disables regularizer.\n"
     ]
    },
    {
     "name": "stdout",
     "output_type": "stream",
     "text": [
      "WARNING:tensorflow:Entity <bound method Conv.call of <tensorflow.python.layers.convolutional.Conv2D object at 0x7fc7ecab99d0>> could not be transformed and will be executed as-is. Please report this to the AutgoGraph team. When filing the bug, set the verbosity to 10 (on Linux, `export AUTOGRAPH_VERBOSITY=10`) and attach the full output. Cause: converting <bound method Conv.call of <tensorflow.python.layers.convolutional.Conv2D object at 0x7fc7ecab99d0>>: AssertionError: Bad argument number for Name: 3, expecting 4\n"
     ]
    },
    {
     "name": "stderr",
     "output_type": "stream",
     "text": [
      "W0526 01:10:22.862912 140498178537280 ag_logging.py:145] Entity <bound method Conv.call of <tensorflow.python.layers.convolutional.Conv2D object at 0x7fc7ecab99d0>> could not be transformed and will be executed as-is. Please report this to the AutgoGraph team. When filing the bug, set the verbosity to 10 (on Linux, `export AUTOGRAPH_VERBOSITY=10`) and attach the full output. Cause: converting <bound method Conv.call of <tensorflow.python.layers.convolutional.Conv2D object at 0x7fc7ecab99d0>>: AssertionError: Bad argument number for Name: 3, expecting 4\n"
     ]
    },
    {
     "name": "stdout",
     "output_type": "stream",
     "text": [
      "WARNING: Entity <bound method Conv.call of <tensorflow.python.layers.convolutional.Conv2D object at 0x7fc7ecab99d0>> could not be transformed and will be executed as-is. Please report this to the AutgoGraph team. When filing the bug, set the verbosity to 10 (on Linux, `export AUTOGRAPH_VERBOSITY=10`) and attach the full output. Cause: converting <bound method Conv.call of <tensorflow.python.layers.convolutional.Conv2D object at 0x7fc7ecab99d0>>: AssertionError: Bad argument number for Name: 3, expecting 4\n",
      "WARNING:tensorflow:Entity <bound method BatchNormalization.call of <tensorflow.python.layers.normalization.BatchNormalization object at 0x7fc7ecad9410>> could not be transformed and will be executed as-is. Please report this to the AutgoGraph team. When filing the bug, set the verbosity to 10 (on Linux, `export AUTOGRAPH_VERBOSITY=10`) and attach the full output. Cause: converting <bound method BatchNormalization.call of <tensorflow.python.layers.normalization.BatchNormalization object at 0x7fc7ecad9410>>: AssertionError: Bad argument number for Name: 3, expecting 4\n"
     ]
    },
    {
     "name": "stderr",
     "output_type": "stream",
     "text": [
      "W0526 01:10:22.921671 140498178537280 ag_logging.py:145] Entity <bound method BatchNormalization.call of <tensorflow.python.layers.normalization.BatchNormalization object at 0x7fc7ecad9410>> could not be transformed and will be executed as-is. Please report this to the AutgoGraph team. When filing the bug, set the verbosity to 10 (on Linux, `export AUTOGRAPH_VERBOSITY=10`) and attach the full output. Cause: converting <bound method BatchNormalization.call of <tensorflow.python.layers.normalization.BatchNormalization object at 0x7fc7ecad9410>>: AssertionError: Bad argument number for Name: 3, expecting 4\n"
     ]
    },
    {
     "name": "stdout",
     "output_type": "stream",
     "text": [
      "WARNING: Entity <bound method BatchNormalization.call of <tensorflow.python.layers.normalization.BatchNormalization object at 0x7fc7ecad9410>> could not be transformed and will be executed as-is. Please report this to the AutgoGraph team. When filing the bug, set the verbosity to 10 (on Linux, `export AUTOGRAPH_VERBOSITY=10`) and attach the full output. Cause: converting <bound method BatchNormalization.call of <tensorflow.python.layers.normalization.BatchNormalization object at 0x7fc7ecad9410>>: AssertionError: Bad argument number for Name: 3, expecting 4\n",
      "WARNING:tensorflow:Entity <bound method Conv.call of <tensorflow.python.layers.convolutional.Conv2D object at 0x7fc7eca9fe50>> could not be transformed and will be executed as-is. Please report this to the AutgoGraph team. When filing the bug, set the verbosity to 10 (on Linux, `export AUTOGRAPH_VERBOSITY=10`) and attach the full output. Cause: converting <bound method Conv.call of <tensorflow.python.layers.convolutional.Conv2D object at 0x7fc7eca9fe50>>: AssertionError: Bad argument number for Name: 3, expecting 4\n"
     ]
    },
    {
     "name": "stderr",
     "output_type": "stream",
     "text": [
      "W0526 01:10:23.005531 140498178537280 ag_logging.py:145] Entity <bound method Conv.call of <tensorflow.python.layers.convolutional.Conv2D object at 0x7fc7eca9fe50>> could not be transformed and will be executed as-is. Please report this to the AutgoGraph team. When filing the bug, set the verbosity to 10 (on Linux, `export AUTOGRAPH_VERBOSITY=10`) and attach the full output. Cause: converting <bound method Conv.call of <tensorflow.python.layers.convolutional.Conv2D object at 0x7fc7eca9fe50>>: AssertionError: Bad argument number for Name: 3, expecting 4\n"
     ]
    },
    {
     "name": "stdout",
     "output_type": "stream",
     "text": [
      "WARNING: Entity <bound method Conv.call of <tensorflow.python.layers.convolutional.Conv2D object at 0x7fc7eca9fe50>> could not be transformed and will be executed as-is. Please report this to the AutgoGraph team. When filing the bug, set the verbosity to 10 (on Linux, `export AUTOGRAPH_VERBOSITY=10`) and attach the full output. Cause: converting <bound method Conv.call of <tensorflow.python.layers.convolutional.Conv2D object at 0x7fc7eca9fe50>>: AssertionError: Bad argument number for Name: 3, expecting 4\n",
      "WARNING:tensorflow:Entity <bound method BatchNormalization.call of <tensorflow.python.layers.normalization.BatchNormalization object at 0x7fc7ecadadd0>> could not be transformed and will be executed as-is. Please report this to the AutgoGraph team. When filing the bug, set the verbosity to 10 (on Linux, `export AUTOGRAPH_VERBOSITY=10`) and attach the full output. Cause: converting <bound method BatchNormalization.call of <tensorflow.python.layers.normalization.BatchNormalization object at 0x7fc7ecadadd0>>: AssertionError: Bad argument number for Name: 3, expecting 4\n"
     ]
    },
    {
     "name": "stderr",
     "output_type": "stream",
     "text": [
      "W0526 01:10:23.048176 140498178537280 ag_logging.py:145] Entity <bound method BatchNormalization.call of <tensorflow.python.layers.normalization.BatchNormalization object at 0x7fc7ecadadd0>> could not be transformed and will be executed as-is. Please report this to the AutgoGraph team. When filing the bug, set the verbosity to 10 (on Linux, `export AUTOGRAPH_VERBOSITY=10`) and attach the full output. Cause: converting <bound method BatchNormalization.call of <tensorflow.python.layers.normalization.BatchNormalization object at 0x7fc7ecadadd0>>: AssertionError: Bad argument number for Name: 3, expecting 4\n"
     ]
    },
    {
     "name": "stdout",
     "output_type": "stream",
     "text": [
      "WARNING: Entity <bound method BatchNormalization.call of <tensorflow.python.layers.normalization.BatchNormalization object at 0x7fc7ecadadd0>> could not be transformed and will be executed as-is. Please report this to the AutgoGraph team. When filing the bug, set the verbosity to 10 (on Linux, `export AUTOGRAPH_VERBOSITY=10`) and attach the full output. Cause: converting <bound method BatchNormalization.call of <tensorflow.python.layers.normalization.BatchNormalization object at 0x7fc7ecadadd0>>: AssertionError: Bad argument number for Name: 3, expecting 4\n",
      "WARNING:tensorflow:Entity <bound method Conv.call of <tensorflow.python.layers.convolutional.Conv2D object at 0x7fc7ecad1d50>> could not be transformed and will be executed as-is. Please report this to the AutgoGraph team. When filing the bug, set the verbosity to 10 (on Linux, `export AUTOGRAPH_VERBOSITY=10`) and attach the full output. Cause: converting <bound method Conv.call of <tensorflow.python.layers.convolutional.Conv2D object at 0x7fc7ecad1d50>>: AssertionError: Bad argument number for Name: 3, expecting 4\n"
     ]
    },
    {
     "name": "stderr",
     "output_type": "stream",
     "text": [
      "W0526 01:10:23.133192 140498178537280 ag_logging.py:145] Entity <bound method Conv.call of <tensorflow.python.layers.convolutional.Conv2D object at 0x7fc7ecad1d50>> could not be transformed and will be executed as-is. Please report this to the AutgoGraph team. When filing the bug, set the verbosity to 10 (on Linux, `export AUTOGRAPH_VERBOSITY=10`) and attach the full output. Cause: converting <bound method Conv.call of <tensorflow.python.layers.convolutional.Conv2D object at 0x7fc7ecad1d50>>: AssertionError: Bad argument number for Name: 3, expecting 4\n"
     ]
    },
    {
     "name": "stdout",
     "output_type": "stream",
     "text": [
      "WARNING: Entity <bound method Conv.call of <tensorflow.python.layers.convolutional.Conv2D object at 0x7fc7ecad1d50>> could not be transformed and will be executed as-is. Please report this to the AutgoGraph team. When filing the bug, set the verbosity to 10 (on Linux, `export AUTOGRAPH_VERBOSITY=10`) and attach the full output. Cause: converting <bound method Conv.call of <tensorflow.python.layers.convolutional.Conv2D object at 0x7fc7ecad1d50>>: AssertionError: Bad argument number for Name: 3, expecting 4\n",
      "WARNING:tensorflow:Entity <bound method BatchNormalization.call of <tensorflow.python.layers.normalization.BatchNormalization object at 0x7fc7ecad9790>> could not be transformed and will be executed as-is. Please report this to the AutgoGraph team. When filing the bug, set the verbosity to 10 (on Linux, `export AUTOGRAPH_VERBOSITY=10`) and attach the full output. Cause: converting <bound method BatchNormalization.call of <tensorflow.python.layers.normalization.BatchNormalization object at 0x7fc7ecad9790>>: AssertionError: Bad argument number for Name: 3, expecting 4\n"
     ]
    },
    {
     "name": "stderr",
     "output_type": "stream",
     "text": [
      "W0526 01:10:23.173960 140498178537280 ag_logging.py:145] Entity <bound method BatchNormalization.call of <tensorflow.python.layers.normalization.BatchNormalization object at 0x7fc7ecad9790>> could not be transformed and will be executed as-is. Please report this to the AutgoGraph team. When filing the bug, set the verbosity to 10 (on Linux, `export AUTOGRAPH_VERBOSITY=10`) and attach the full output. Cause: converting <bound method BatchNormalization.call of <tensorflow.python.layers.normalization.BatchNormalization object at 0x7fc7ecad9790>>: AssertionError: Bad argument number for Name: 3, expecting 4\n"
     ]
    },
    {
     "name": "stdout",
     "output_type": "stream",
     "text": [
      "WARNING: Entity <bound method BatchNormalization.call of <tensorflow.python.layers.normalization.BatchNormalization object at 0x7fc7ecad9790>> could not be transformed and will be executed as-is. Please report this to the AutgoGraph team. When filing the bug, set the verbosity to 10 (on Linux, `export AUTOGRAPH_VERBOSITY=10`) and attach the full output. Cause: converting <bound method BatchNormalization.call of <tensorflow.python.layers.normalization.BatchNormalization object at 0x7fc7ecad9790>>: AssertionError: Bad argument number for Name: 3, expecting 4\n",
      "WARNING:tensorflow:Entity <bound method Conv.call of <tensorflow.python.layers.convolutional.Conv2D object at 0x7fc7f3772a10>> could not be transformed and will be executed as-is. Please report this to the AutgoGraph team. When filing the bug, set the verbosity to 10 (on Linux, `export AUTOGRAPH_VERBOSITY=10`) and attach the full output. Cause: converting <bound method Conv.call of <tensorflow.python.layers.convolutional.Conv2D object at 0x7fc7f3772a10>>: AssertionError: Bad argument number for Name: 3, expecting 4\n"
     ]
    },
    {
     "name": "stderr",
     "output_type": "stream",
     "text": [
      "W0526 01:10:23.275520 140498178537280 ag_logging.py:145] Entity <bound method Conv.call of <tensorflow.python.layers.convolutional.Conv2D object at 0x7fc7f3772a10>> could not be transformed and will be executed as-is. Please report this to the AutgoGraph team. When filing the bug, set the verbosity to 10 (on Linux, `export AUTOGRAPH_VERBOSITY=10`) and attach the full output. Cause: converting <bound method Conv.call of <tensorflow.python.layers.convolutional.Conv2D object at 0x7fc7f3772a10>>: AssertionError: Bad argument number for Name: 3, expecting 4\n"
     ]
    },
    {
     "name": "stdout",
     "output_type": "stream",
     "text": [
      "WARNING: Entity <bound method Conv.call of <tensorflow.python.layers.convolutional.Conv2D object at 0x7fc7f3772a10>> could not be transformed and will be executed as-is. Please report this to the AutgoGraph team. When filing the bug, set the verbosity to 10 (on Linux, `export AUTOGRAPH_VERBOSITY=10`) and attach the full output. Cause: converting <bound method Conv.call of <tensorflow.python.layers.convolutional.Conv2D object at 0x7fc7f3772a10>>: AssertionError: Bad argument number for Name: 3, expecting 4\n",
      "WARNING:tensorflow:Entity <bound method BatchNormalization.call of <tensorflow.python.layers.normalization.BatchNormalization object at 0x7fc7ecadae90>> could not be transformed and will be executed as-is. Please report this to the AutgoGraph team. When filing the bug, set the verbosity to 10 (on Linux, `export AUTOGRAPH_VERBOSITY=10`) and attach the full output. Cause: converting <bound method BatchNormalization.call of <tensorflow.python.layers.normalization.BatchNormalization object at 0x7fc7ecadae90>>: AssertionError: Bad argument number for Name: 3, expecting 4\n"
     ]
    },
    {
     "name": "stderr",
     "output_type": "stream",
     "text": [
      "W0526 01:10:23.338164 140498178537280 ag_logging.py:145] Entity <bound method BatchNormalization.call of <tensorflow.python.layers.normalization.BatchNormalization object at 0x7fc7ecadae90>> could not be transformed and will be executed as-is. Please report this to the AutgoGraph team. When filing the bug, set the verbosity to 10 (on Linux, `export AUTOGRAPH_VERBOSITY=10`) and attach the full output. Cause: converting <bound method BatchNormalization.call of <tensorflow.python.layers.normalization.BatchNormalization object at 0x7fc7ecadae90>>: AssertionError: Bad argument number for Name: 3, expecting 4\n"
     ]
    },
    {
     "name": "stdout",
     "output_type": "stream",
     "text": [
      "WARNING: Entity <bound method BatchNormalization.call of <tensorflow.python.layers.normalization.BatchNormalization object at 0x7fc7ecadae90>> could not be transformed and will be executed as-is. Please report this to the AutgoGraph team. When filing the bug, set the verbosity to 10 (on Linux, `export AUTOGRAPH_VERBOSITY=10`) and attach the full output. Cause: converting <bound method BatchNormalization.call of <tensorflow.python.layers.normalization.BatchNormalization object at 0x7fc7ecadae90>>: AssertionError: Bad argument number for Name: 3, expecting 4\n",
      "WARNING:tensorflow:Entity <bound method Conv.call of <tensorflow.python.layers.convolutional.Conv2D object at 0x7fc7ecab71d0>> could not be transformed and will be executed as-is. Please report this to the AutgoGraph team. When filing the bug, set the verbosity to 10 (on Linux, `export AUTOGRAPH_VERBOSITY=10`) and attach the full output. Cause: converting <bound method Conv.call of <tensorflow.python.layers.convolutional.Conv2D object at 0x7fc7ecab71d0>>: AssertionError: Bad argument number for Name: 3, expecting 4\n"
     ]
    },
    {
     "name": "stderr",
     "output_type": "stream",
     "text": [
      "W0526 01:10:23.423773 140498178537280 ag_logging.py:145] Entity <bound method Conv.call of <tensorflow.python.layers.convolutional.Conv2D object at 0x7fc7ecab71d0>> could not be transformed and will be executed as-is. Please report this to the AutgoGraph team. When filing the bug, set the verbosity to 10 (on Linux, `export AUTOGRAPH_VERBOSITY=10`) and attach the full output. Cause: converting <bound method Conv.call of <tensorflow.python.layers.convolutional.Conv2D object at 0x7fc7ecab71d0>>: AssertionError: Bad argument number for Name: 3, expecting 4\n"
     ]
    },
    {
     "name": "stdout",
     "output_type": "stream",
     "text": [
      "WARNING: Entity <bound method Conv.call of <tensorflow.python.layers.convolutional.Conv2D object at 0x7fc7ecab71d0>> could not be transformed and will be executed as-is. Please report this to the AutgoGraph team. When filing the bug, set the verbosity to 10 (on Linux, `export AUTOGRAPH_VERBOSITY=10`) and attach the full output. Cause: converting <bound method Conv.call of <tensorflow.python.layers.convolutional.Conv2D object at 0x7fc7ecab71d0>>: AssertionError: Bad argument number for Name: 3, expecting 4\n",
      "WARNING:tensorflow:Entity <bound method BatchNormalization.call of <tensorflow.python.layers.normalization.BatchNormalization object at 0x7fc7ecac6410>> could not be transformed and will be executed as-is. Please report this to the AutgoGraph team. When filing the bug, set the verbosity to 10 (on Linux, `export AUTOGRAPH_VERBOSITY=10`) and attach the full output. Cause: converting <bound method BatchNormalization.call of <tensorflow.python.layers.normalization.BatchNormalization object at 0x7fc7ecac6410>>: AssertionError: Bad argument number for Name: 3, expecting 4\n"
     ]
    },
    {
     "name": "stderr",
     "output_type": "stream",
     "text": [
      "W0526 01:10:23.467360 140498178537280 ag_logging.py:145] Entity <bound method BatchNormalization.call of <tensorflow.python.layers.normalization.BatchNormalization object at 0x7fc7ecac6410>> could not be transformed and will be executed as-is. Please report this to the AutgoGraph team. When filing the bug, set the verbosity to 10 (on Linux, `export AUTOGRAPH_VERBOSITY=10`) and attach the full output. Cause: converting <bound method BatchNormalization.call of <tensorflow.python.layers.normalization.BatchNormalization object at 0x7fc7ecac6410>>: AssertionError: Bad argument number for Name: 3, expecting 4\n"
     ]
    },
    {
     "name": "stdout",
     "output_type": "stream",
     "text": [
      "WARNING: Entity <bound method BatchNormalization.call of <tensorflow.python.layers.normalization.BatchNormalization object at 0x7fc7ecac6410>> could not be transformed and will be executed as-is. Please report this to the AutgoGraph team. When filing the bug, set the verbosity to 10 (on Linux, `export AUTOGRAPH_VERBOSITY=10`) and attach the full output. Cause: converting <bound method BatchNormalization.call of <tensorflow.python.layers.normalization.BatchNormalization object at 0x7fc7ecac6410>>: AssertionError: Bad argument number for Name: 3, expecting 4\n",
      "WARNING:tensorflow:Entity <bound method Conv.call of <tensorflow.python.layers.convolutional.Conv2D object at 0x7fc7f2767990>> could not be transformed and will be executed as-is. Please report this to the AutgoGraph team. When filing the bug, set the verbosity to 10 (on Linux, `export AUTOGRAPH_VERBOSITY=10`) and attach the full output. Cause: converting <bound method Conv.call of <tensorflow.python.layers.convolutional.Conv2D object at 0x7fc7f2767990>>: AssertionError: Bad argument number for Name: 3, expecting 4\n"
     ]
    },
    {
     "name": "stderr",
     "output_type": "stream",
     "text": [
      "W0526 01:10:23.573282 140498178537280 ag_logging.py:145] Entity <bound method Conv.call of <tensorflow.python.layers.convolutional.Conv2D object at 0x7fc7f2767990>> could not be transformed and will be executed as-is. Please report this to the AutgoGraph team. When filing the bug, set the verbosity to 10 (on Linux, `export AUTOGRAPH_VERBOSITY=10`) and attach the full output. Cause: converting <bound method Conv.call of <tensorflow.python.layers.convolutional.Conv2D object at 0x7fc7f2767990>>: AssertionError: Bad argument number for Name: 3, expecting 4\n"
     ]
    },
    {
     "name": "stdout",
     "output_type": "stream",
     "text": [
      "WARNING: Entity <bound method Conv.call of <tensorflow.python.layers.convolutional.Conv2D object at 0x7fc7f2767990>> could not be transformed and will be executed as-is. Please report this to the AutgoGraph team. When filing the bug, set the verbosity to 10 (on Linux, `export AUTOGRAPH_VERBOSITY=10`) and attach the full output. Cause: converting <bound method Conv.call of <tensorflow.python.layers.convolutional.Conv2D object at 0x7fc7f2767990>>: AssertionError: Bad argument number for Name: 3, expecting 4\n",
      "WARNING:tensorflow:Entity <bound method BatchNormalization.call of <tensorflow.python.layers.normalization.BatchNormalization object at 0x7fc7eca06dd0>> could not be transformed and will be executed as-is. Please report this to the AutgoGraph team. When filing the bug, set the verbosity to 10 (on Linux, `export AUTOGRAPH_VERBOSITY=10`) and attach the full output. Cause: converting <bound method BatchNormalization.call of <tensorflow.python.layers.normalization.BatchNormalization object at 0x7fc7eca06dd0>>: AssertionError: Bad argument number for Name: 3, expecting 4\n"
     ]
    },
    {
     "name": "stderr",
     "output_type": "stream",
     "text": [
      "W0526 01:10:23.624788 140498178537280 ag_logging.py:145] Entity <bound method BatchNormalization.call of <tensorflow.python.layers.normalization.BatchNormalization object at 0x7fc7eca06dd0>> could not be transformed and will be executed as-is. Please report this to the AutgoGraph team. When filing the bug, set the verbosity to 10 (on Linux, `export AUTOGRAPH_VERBOSITY=10`) and attach the full output. Cause: converting <bound method BatchNormalization.call of <tensorflow.python.layers.normalization.BatchNormalization object at 0x7fc7eca06dd0>>: AssertionError: Bad argument number for Name: 3, expecting 4\n"
     ]
    },
    {
     "name": "stdout",
     "output_type": "stream",
     "text": [
      "WARNING: Entity <bound method BatchNormalization.call of <tensorflow.python.layers.normalization.BatchNormalization object at 0x7fc7eca06dd0>> could not be transformed and will be executed as-is. Please report this to the AutgoGraph team. When filing the bug, set the verbosity to 10 (on Linux, `export AUTOGRAPH_VERBOSITY=10`) and attach the full output. Cause: converting <bound method BatchNormalization.call of <tensorflow.python.layers.normalization.BatchNormalization object at 0x7fc7eca06dd0>>: AssertionError: Bad argument number for Name: 3, expecting 4\n",
      "WARNING:tensorflow:Entity <bound method Conv.call of <tensorflow.python.layers.convolutional.Conv2D object at 0x7fc7ecac76d0>> could not be transformed and will be executed as-is. Please report this to the AutgoGraph team. When filing the bug, set the verbosity to 10 (on Linux, `export AUTOGRAPH_VERBOSITY=10`) and attach the full output. Cause: converting <bound method Conv.call of <tensorflow.python.layers.convolutional.Conv2D object at 0x7fc7ecac76d0>>: AssertionError: Bad argument number for Name: 3, expecting 4\n"
     ]
    },
    {
     "name": "stderr",
     "output_type": "stream",
     "text": [
      "W0526 01:10:23.731223 140498178537280 ag_logging.py:145] Entity <bound method Conv.call of <tensorflow.python.layers.convolutional.Conv2D object at 0x7fc7ecac76d0>> could not be transformed and will be executed as-is. Please report this to the AutgoGraph team. When filing the bug, set the verbosity to 10 (on Linux, `export AUTOGRAPH_VERBOSITY=10`) and attach the full output. Cause: converting <bound method Conv.call of <tensorflow.python.layers.convolutional.Conv2D object at 0x7fc7ecac76d0>>: AssertionError: Bad argument number for Name: 3, expecting 4\n"
     ]
    },
    {
     "name": "stdout",
     "output_type": "stream",
     "text": [
      "WARNING: Entity <bound method Conv.call of <tensorflow.python.layers.convolutional.Conv2D object at 0x7fc7ecac76d0>> could not be transformed and will be executed as-is. Please report this to the AutgoGraph team. When filing the bug, set the verbosity to 10 (on Linux, `export AUTOGRAPH_VERBOSITY=10`) and attach the full output. Cause: converting <bound method Conv.call of <tensorflow.python.layers.convolutional.Conv2D object at 0x7fc7ecac76d0>>: AssertionError: Bad argument number for Name: 3, expecting 4\n",
      "WARNING:tensorflow:Entity <bound method BatchNormalization.call of <tensorflow.python.layers.normalization.BatchNormalization object at 0x7fc7eca0e910>> could not be transformed and will be executed as-is. Please report this to the AutgoGraph team. When filing the bug, set the verbosity to 10 (on Linux, `export AUTOGRAPH_VERBOSITY=10`) and attach the full output. Cause: converting <bound method BatchNormalization.call of <tensorflow.python.layers.normalization.BatchNormalization object at 0x7fc7eca0e910>>: AssertionError: Bad argument number for Name: 3, expecting 4\n"
     ]
    },
    {
     "name": "stderr",
     "output_type": "stream",
     "text": [
      "W0526 01:10:23.777812 140498178537280 ag_logging.py:145] Entity <bound method BatchNormalization.call of <tensorflow.python.layers.normalization.BatchNormalization object at 0x7fc7eca0e910>> could not be transformed and will be executed as-is. Please report this to the AutgoGraph team. When filing the bug, set the verbosity to 10 (on Linux, `export AUTOGRAPH_VERBOSITY=10`) and attach the full output. Cause: converting <bound method BatchNormalization.call of <tensorflow.python.layers.normalization.BatchNormalization object at 0x7fc7eca0e910>>: AssertionError: Bad argument number for Name: 3, expecting 4\n"
     ]
    },
    {
     "name": "stdout",
     "output_type": "stream",
     "text": [
      "WARNING: Entity <bound method BatchNormalization.call of <tensorflow.python.layers.normalization.BatchNormalization object at 0x7fc7eca0e910>> could not be transformed and will be executed as-is. Please report this to the AutgoGraph team. When filing the bug, set the verbosity to 10 (on Linux, `export AUTOGRAPH_VERBOSITY=10`) and attach the full output. Cause: converting <bound method BatchNormalization.call of <tensorflow.python.layers.normalization.BatchNormalization object at 0x7fc7eca0e910>>: AssertionError: Bad argument number for Name: 3, expecting 4\n",
      "WARNING:tensorflow:Entity <bound method Conv.call of <tensorflow.python.layers.convolutional.Conv2D object at 0x7fc7eca776d0>> could not be transformed and will be executed as-is. Please report this to the AutgoGraph team. When filing the bug, set the verbosity to 10 (on Linux, `export AUTOGRAPH_VERBOSITY=10`) and attach the full output. Cause: converting <bound method Conv.call of <tensorflow.python.layers.convolutional.Conv2D object at 0x7fc7eca776d0>>: AssertionError: Bad argument number for Name: 3, expecting 4\n"
     ]
    },
    {
     "name": "stderr",
     "output_type": "stream",
     "text": [
      "W0526 01:10:23.854847 140498178537280 ag_logging.py:145] Entity <bound method Conv.call of <tensorflow.python.layers.convolutional.Conv2D object at 0x7fc7eca776d0>> could not be transformed and will be executed as-is. Please report this to the AutgoGraph team. When filing the bug, set the verbosity to 10 (on Linux, `export AUTOGRAPH_VERBOSITY=10`) and attach the full output. Cause: converting <bound method Conv.call of <tensorflow.python.layers.convolutional.Conv2D object at 0x7fc7eca776d0>>: AssertionError: Bad argument number for Name: 3, expecting 4\n"
     ]
    },
    {
     "name": "stdout",
     "output_type": "stream",
     "text": [
      "WARNING: Entity <bound method Conv.call of <tensorflow.python.layers.convolutional.Conv2D object at 0x7fc7eca776d0>> could not be transformed and will be executed as-is. Please report this to the AutgoGraph team. When filing the bug, set the verbosity to 10 (on Linux, `export AUTOGRAPH_VERBOSITY=10`) and attach the full output. Cause: converting <bound method Conv.call of <tensorflow.python.layers.convolutional.Conv2D object at 0x7fc7eca776d0>>: AssertionError: Bad argument number for Name: 3, expecting 4\n",
      "WARNING:tensorflow:Entity <bound method BatchNormalization.call of <tensorflow.python.layers.normalization.BatchNormalization object at 0x7fc7ec83a690>> could not be transformed and will be executed as-is. Please report this to the AutgoGraph team. When filing the bug, set the verbosity to 10 (on Linux, `export AUTOGRAPH_VERBOSITY=10`) and attach the full output. Cause: converting <bound method BatchNormalization.call of <tensorflow.python.layers.normalization.BatchNormalization object at 0x7fc7ec83a690>>: AssertionError: Bad argument number for Name: 3, expecting 4\n"
     ]
    },
    {
     "name": "stderr",
     "output_type": "stream",
     "text": [
      "W0526 01:10:23.903557 140498178537280 ag_logging.py:145] Entity <bound method BatchNormalization.call of <tensorflow.python.layers.normalization.BatchNormalization object at 0x7fc7ec83a690>> could not be transformed and will be executed as-is. Please report this to the AutgoGraph team. When filing the bug, set the verbosity to 10 (on Linux, `export AUTOGRAPH_VERBOSITY=10`) and attach the full output. Cause: converting <bound method BatchNormalization.call of <tensorflow.python.layers.normalization.BatchNormalization object at 0x7fc7ec83a690>>: AssertionError: Bad argument number for Name: 3, expecting 4\n"
     ]
    },
    {
     "name": "stdout",
     "output_type": "stream",
     "text": [
      "WARNING: Entity <bound method BatchNormalization.call of <tensorflow.python.layers.normalization.BatchNormalization object at 0x7fc7ec83a690>> could not be transformed and will be executed as-is. Please report this to the AutgoGraph team. When filing the bug, set the verbosity to 10 (on Linux, `export AUTOGRAPH_VERBOSITY=10`) and attach the full output. Cause: converting <bound method BatchNormalization.call of <tensorflow.python.layers.normalization.BatchNormalization object at 0x7fc7ec83a690>>: AssertionError: Bad argument number for Name: 3, expecting 4\n",
      "WARNING:tensorflow:Entity <bound method Conv.call of <tensorflow.python.layers.convolutional.Conv2D object at 0x7fc7fe8ee990>> could not be transformed and will be executed as-is. Please report this to the AutgoGraph team. When filing the bug, set the verbosity to 10 (on Linux, `export AUTOGRAPH_VERBOSITY=10`) and attach the full output. Cause: converting <bound method Conv.call of <tensorflow.python.layers.convolutional.Conv2D object at 0x7fc7fe8ee990>>: AssertionError: Bad argument number for Name: 3, expecting 4\n"
     ]
    },
    {
     "name": "stderr",
     "output_type": "stream",
     "text": [
      "W0526 01:10:24.005443 140498178537280 ag_logging.py:145] Entity <bound method Conv.call of <tensorflow.python.layers.convolutional.Conv2D object at 0x7fc7fe8ee990>> could not be transformed and will be executed as-is. Please report this to the AutgoGraph team. When filing the bug, set the verbosity to 10 (on Linux, `export AUTOGRAPH_VERBOSITY=10`) and attach the full output. Cause: converting <bound method Conv.call of <tensorflow.python.layers.convolutional.Conv2D object at 0x7fc7fe8ee990>>: AssertionError: Bad argument number for Name: 3, expecting 4\n"
     ]
    },
    {
     "name": "stdout",
     "output_type": "stream",
     "text": [
      "WARNING: Entity <bound method Conv.call of <tensorflow.python.layers.convolutional.Conv2D object at 0x7fc7fe8ee990>> could not be transformed and will be executed as-is. Please report this to the AutgoGraph team. When filing the bug, set the verbosity to 10 (on Linux, `export AUTOGRAPH_VERBOSITY=10`) and attach the full output. Cause: converting <bound method Conv.call of <tensorflow.python.layers.convolutional.Conv2D object at 0x7fc7fe8ee990>>: AssertionError: Bad argument number for Name: 3, expecting 4\n",
      "WARNING:tensorflow:Entity <bound method BatchNormalization.call of <tensorflow.python.layers.normalization.BatchNormalization object at 0x7fc7ec83a190>> could not be transformed and will be executed as-is. Please report this to the AutgoGraph team. When filing the bug, set the verbosity to 10 (on Linux, `export AUTOGRAPH_VERBOSITY=10`) and attach the full output. Cause: converting <bound method BatchNormalization.call of <tensorflow.python.layers.normalization.BatchNormalization object at 0x7fc7ec83a190>>: AssertionError: Bad argument number for Name: 3, expecting 4\n"
     ]
    },
    {
     "name": "stderr",
     "output_type": "stream",
     "text": [
      "W0526 01:10:24.051883 140498178537280 ag_logging.py:145] Entity <bound method BatchNormalization.call of <tensorflow.python.layers.normalization.BatchNormalization object at 0x7fc7ec83a190>> could not be transformed and will be executed as-is. Please report this to the AutgoGraph team. When filing the bug, set the verbosity to 10 (on Linux, `export AUTOGRAPH_VERBOSITY=10`) and attach the full output. Cause: converting <bound method BatchNormalization.call of <tensorflow.python.layers.normalization.BatchNormalization object at 0x7fc7ec83a190>>: AssertionError: Bad argument number for Name: 3, expecting 4\n"
     ]
    },
    {
     "name": "stdout",
     "output_type": "stream",
     "text": [
      "WARNING: Entity <bound method BatchNormalization.call of <tensorflow.python.layers.normalization.BatchNormalization object at 0x7fc7ec83a190>> could not be transformed and will be executed as-is. Please report this to the AutgoGraph team. When filing the bug, set the verbosity to 10 (on Linux, `export AUTOGRAPH_VERBOSITY=10`) and attach the full output. Cause: converting <bound method BatchNormalization.call of <tensorflow.python.layers.normalization.BatchNormalization object at 0x7fc7ec83a190>>: AssertionError: Bad argument number for Name: 3, expecting 4\n",
      "WARNING:tensorflow:Entity <bound method Conv.call of <tensorflow.python.layers.convolutional.Conv2D object at 0x7fc7eca79910>> could not be transformed and will be executed as-is. Please report this to the AutgoGraph team. When filing the bug, set the verbosity to 10 (on Linux, `export AUTOGRAPH_VERBOSITY=10`) and attach the full output. Cause: converting <bound method Conv.call of <tensorflow.python.layers.convolutional.Conv2D object at 0x7fc7eca79910>>: AssertionError: Bad argument number for Name: 3, expecting 4\n"
     ]
    },
    {
     "name": "stderr",
     "output_type": "stream",
     "text": [
      "W0526 01:10:24.136832 140498178537280 ag_logging.py:145] Entity <bound method Conv.call of <tensorflow.python.layers.convolutional.Conv2D object at 0x7fc7eca79910>> could not be transformed and will be executed as-is. Please report this to the AutgoGraph team. When filing the bug, set the verbosity to 10 (on Linux, `export AUTOGRAPH_VERBOSITY=10`) and attach the full output. Cause: converting <bound method Conv.call of <tensorflow.python.layers.convolutional.Conv2D object at 0x7fc7eca79910>>: AssertionError: Bad argument number for Name: 3, expecting 4\n"
     ]
    },
    {
     "name": "stdout",
     "output_type": "stream",
     "text": [
      "WARNING: Entity <bound method Conv.call of <tensorflow.python.layers.convolutional.Conv2D object at 0x7fc7eca79910>> could not be transformed and will be executed as-is. Please report this to the AutgoGraph team. When filing the bug, set the verbosity to 10 (on Linux, `export AUTOGRAPH_VERBOSITY=10`) and attach the full output. Cause: converting <bound method Conv.call of <tensorflow.python.layers.convolutional.Conv2D object at 0x7fc7eca79910>>: AssertionError: Bad argument number for Name: 3, expecting 4\n",
      "WARNING:tensorflow:Entity <bound method BatchNormalization.call of <tensorflow.python.layers.normalization.BatchNormalization object at 0x7fc7ec8097d0>> could not be transformed and will be executed as-is. Please report this to the AutgoGraph team. When filing the bug, set the verbosity to 10 (on Linux, `export AUTOGRAPH_VERBOSITY=10`) and attach the full output. Cause: converting <bound method BatchNormalization.call of <tensorflow.python.layers.normalization.BatchNormalization object at 0x7fc7ec8097d0>>: AssertionError: Bad argument number for Name: 3, expecting 4\n"
     ]
    },
    {
     "name": "stderr",
     "output_type": "stream",
     "text": [
      "W0526 01:10:24.184252 140498178537280 ag_logging.py:145] Entity <bound method BatchNormalization.call of <tensorflow.python.layers.normalization.BatchNormalization object at 0x7fc7ec8097d0>> could not be transformed and will be executed as-is. Please report this to the AutgoGraph team. When filing the bug, set the verbosity to 10 (on Linux, `export AUTOGRAPH_VERBOSITY=10`) and attach the full output. Cause: converting <bound method BatchNormalization.call of <tensorflow.python.layers.normalization.BatchNormalization object at 0x7fc7ec8097d0>>: AssertionError: Bad argument number for Name: 3, expecting 4\n"
     ]
    },
    {
     "name": "stdout",
     "output_type": "stream",
     "text": [
      "WARNING: Entity <bound method BatchNormalization.call of <tensorflow.python.layers.normalization.BatchNormalization object at 0x7fc7ec8097d0>> could not be transformed and will be executed as-is. Please report this to the AutgoGraph team. When filing the bug, set the verbosity to 10 (on Linux, `export AUTOGRAPH_VERBOSITY=10`) and attach the full output. Cause: converting <bound method BatchNormalization.call of <tensorflow.python.layers.normalization.BatchNormalization object at 0x7fc7ec8097d0>>: AssertionError: Bad argument number for Name: 3, expecting 4\n",
      "WARNING:tensorflow:From /home/chirag/anaconda3/lib/python3.7/site-packages/tensorflow/contrib/layers/python/layers/layers.py:1634: flatten (from tensorflow.python.layers.core) is deprecated and will be removed in a future version.\n",
      "Instructions for updating:\n",
      "Use keras.layers.flatten instead.\n"
     ]
    },
    {
     "name": "stderr",
     "output_type": "stream",
     "text": [
      "W0526 01:10:24.191982 140498178537280 deprecation.py:323] From /home/chirag/anaconda3/lib/python3.7/site-packages/tensorflow/contrib/layers/python/layers/layers.py:1634: flatten (from tensorflow.python.layers.core) is deprecated and will be removed in a future version.\n",
      "Instructions for updating:\n",
      "Use keras.layers.flatten instead.\n"
     ]
    },
    {
     "name": "stdout",
     "output_type": "stream",
     "text": [
      "WARNING:tensorflow:Entity <bound method Flatten.call of <tensorflow.python.layers.core.Flatten object at 0x7fc7ecab96d0>> could not be transformed and will be executed as-is. Please report this to the AutgoGraph team. When filing the bug, set the verbosity to 10 (on Linux, `export AUTOGRAPH_VERBOSITY=10`) and attach the full output. Cause: converting <bound method Flatten.call of <tensorflow.python.layers.core.Flatten object at 0x7fc7ecab96d0>>: AttributeError: module 'gast' has no attribute 'Num'\n"
     ]
    },
    {
     "name": "stderr",
     "output_type": "stream",
     "text": [
      "W0526 01:10:24.209823 140498178537280 ag_logging.py:145] Entity <bound method Flatten.call of <tensorflow.python.layers.core.Flatten object at 0x7fc7ecab96d0>> could not be transformed and will be executed as-is. Please report this to the AutgoGraph team. When filing the bug, set the verbosity to 10 (on Linux, `export AUTOGRAPH_VERBOSITY=10`) and attach the full output. Cause: converting <bound method Flatten.call of <tensorflow.python.layers.core.Flatten object at 0x7fc7ecab96d0>>: AttributeError: module 'gast' has no attribute 'Num'\n"
     ]
    },
    {
     "name": "stdout",
     "output_type": "stream",
     "text": [
      "WARNING: Entity <bound method Flatten.call of <tensorflow.python.layers.core.Flatten object at 0x7fc7ecab96d0>> could not be transformed and will be executed as-is. Please report this to the AutgoGraph team. When filing the bug, set the verbosity to 10 (on Linux, `export AUTOGRAPH_VERBOSITY=10`) and attach the full output. Cause: converting <bound method Flatten.call of <tensorflow.python.layers.core.Flatten object at 0x7fc7ecab96d0>>: AttributeError: module 'gast' has no attribute 'Num'\n",
      "INFO:tensorflow:Scale of 0 disables regularizer.\n"
     ]
    },
    {
     "name": "stderr",
     "output_type": "stream",
     "text": [
      "I0526 01:10:24.215448 140498178537280 regularizers.py:98] Scale of 0 disables regularizer.\n"
     ]
    },
    {
     "name": "stdout",
     "output_type": "stream",
     "text": [
      "WARNING:tensorflow:Entity <bound method Dense.call of <tensorflow.python.layers.core.Dense object at 0x7fc7ecac76d0>> could not be transformed and will be executed as-is. Please report this to the AutgoGraph team. When filing the bug, set the verbosity to 10 (on Linux, `export AUTOGRAPH_VERBOSITY=10`) and attach the full output. Cause: converting <bound method Dense.call of <tensorflow.python.layers.core.Dense object at 0x7fc7ecac76d0>>: AssertionError: Bad argument number for Name: 3, expecting 4\n"
     ]
    },
    {
     "name": "stderr",
     "output_type": "stream",
     "text": [
      "W0526 01:10:24.324571 140498178537280 ag_logging.py:145] Entity <bound method Dense.call of <tensorflow.python.layers.core.Dense object at 0x7fc7ecac76d0>> could not be transformed and will be executed as-is. Please report this to the AutgoGraph team. When filing the bug, set the verbosity to 10 (on Linux, `export AUTOGRAPH_VERBOSITY=10`) and attach the full output. Cause: converting <bound method Dense.call of <tensorflow.python.layers.core.Dense object at 0x7fc7ecac76d0>>: AssertionError: Bad argument number for Name: 3, expecting 4\n"
     ]
    },
    {
     "name": "stdout",
     "output_type": "stream",
     "text": [
      "WARNING: Entity <bound method Dense.call of <tensorflow.python.layers.core.Dense object at 0x7fc7ecac76d0>> could not be transformed and will be executed as-is. Please report this to the AutgoGraph team. When filing the bug, set the verbosity to 10 (on Linux, `export AUTOGRAPH_VERBOSITY=10`) and attach the full output. Cause: converting <bound method Dense.call of <tensorflow.python.layers.core.Dense object at 0x7fc7ecac76d0>>: AssertionError: Bad argument number for Name: 3, expecting 4\n",
      "WARNING:tensorflow:Entity <bound method Flatten.call of <tensorflow.python.layers.core.Flatten object at 0x7fc7fe8ee990>> could not be transformed and will be executed as-is. Please report this to the AutgoGraph team. When filing the bug, set the verbosity to 10 (on Linux, `export AUTOGRAPH_VERBOSITY=10`) and attach the full output. Cause: converting <bound method Flatten.call of <tensorflow.python.layers.core.Flatten object at 0x7fc7fe8ee990>>: AttributeError: module 'gast' has no attribute 'Num'\n"
     ]
    },
    {
     "name": "stderr",
     "output_type": "stream",
     "text": [
      "W0526 01:10:24.344771 140498178537280 ag_logging.py:145] Entity <bound method Flatten.call of <tensorflow.python.layers.core.Flatten object at 0x7fc7fe8ee990>> could not be transformed and will be executed as-is. Please report this to the AutgoGraph team. When filing the bug, set the verbosity to 10 (on Linux, `export AUTOGRAPH_VERBOSITY=10`) and attach the full output. Cause: converting <bound method Flatten.call of <tensorflow.python.layers.core.Flatten object at 0x7fc7fe8ee990>>: AttributeError: module 'gast' has no attribute 'Num'\n"
     ]
    },
    {
     "name": "stdout",
     "output_type": "stream",
     "text": [
      "WARNING: Entity <bound method Flatten.call of <tensorflow.python.layers.core.Flatten object at 0x7fc7fe8ee990>> could not be transformed and will be executed as-is. Please report this to the AutgoGraph team. When filing the bug, set the verbosity to 10 (on Linux, `export AUTOGRAPH_VERBOSITY=10`) and attach the full output. Cause: converting <bound method Flatten.call of <tensorflow.python.layers.core.Flatten object at 0x7fc7fe8ee990>>: AttributeError: module 'gast' has no attribute 'Num'\n",
      "INFO:tensorflow:Scale of 0 disables regularizer.\n"
     ]
    },
    {
     "name": "stderr",
     "output_type": "stream",
     "text": [
      "I0526 01:10:24.350812 140498178537280 regularizers.py:98] Scale of 0 disables regularizer.\n"
     ]
    },
    {
     "name": "stdout",
     "output_type": "stream",
     "text": [
      "WARNING:tensorflow:Entity <bound method Dense.call of <tensorflow.python.layers.core.Dense object at 0x7fc7ec63f290>> could not be transformed and will be executed as-is. Please report this to the AutgoGraph team. When filing the bug, set the verbosity to 10 (on Linux, `export AUTOGRAPH_VERBOSITY=10`) and attach the full output. Cause: converting <bound method Dense.call of <tensorflow.python.layers.core.Dense object at 0x7fc7ec63f290>>: AssertionError: Bad argument number for Name: 3, expecting 4\n"
     ]
    },
    {
     "name": "stderr",
     "output_type": "stream",
     "text": [
      "W0526 01:10:24.454947 140498178537280 ag_logging.py:145] Entity <bound method Dense.call of <tensorflow.python.layers.core.Dense object at 0x7fc7ec63f290>> could not be transformed and will be executed as-is. Please report this to the AutgoGraph team. When filing the bug, set the verbosity to 10 (on Linux, `export AUTOGRAPH_VERBOSITY=10`) and attach the full output. Cause: converting <bound method Dense.call of <tensorflow.python.layers.core.Dense object at 0x7fc7ec63f290>>: AssertionError: Bad argument number for Name: 3, expecting 4\n"
     ]
    },
    {
     "name": "stdout",
     "output_type": "stream",
     "text": [
      "WARNING: Entity <bound method Dense.call of <tensorflow.python.layers.core.Dense object at 0x7fc7ec63f290>> could not be transformed and will be executed as-is. Please report this to the AutgoGraph team. When filing the bug, set the verbosity to 10 (on Linux, `export AUTOGRAPH_VERBOSITY=10`) and attach the full output. Cause: converting <bound method Dense.call of <tensorflow.python.layers.core.Dense object at 0x7fc7ec63f290>>: AssertionError: Bad argument number for Name: 3, expecting 4\n",
      "WARNING:tensorflow:From /home/chirag/anaconda3/lib/python3.7/site-packages/object_detection/core/losses.py:174: The name tf.losses.huber_loss is deprecated. Please use tf.compat.v1.losses.huber_loss instead.\n",
      "\n"
     ]
    },
    {
     "name": "stderr",
     "output_type": "stream",
     "text": [
      "W0526 01:10:24.880404 140498178537280 deprecation_wrapper.py:119] From /home/chirag/anaconda3/lib/python3.7/site-packages/object_detection/core/losses.py:174: The name tf.losses.huber_loss is deprecated. Please use tf.compat.v1.losses.huber_loss instead.\n",
      "\n"
     ]
    },
    {
     "name": "stdout",
     "output_type": "stream",
     "text": [
      "WARNING:tensorflow:From /home/chirag/anaconda3/lib/python3.7/site-packages/object_detection/core/losses.py:180: The name tf.losses.Reduction is deprecated. Please use tf.compat.v1.losses.Reduction instead.\n",
      "\n"
     ]
    },
    {
     "name": "stderr",
     "output_type": "stream",
     "text": [
      "W0526 01:10:24.884034 140498178537280 deprecation_wrapper.py:119] From /home/chirag/anaconda3/lib/python3.7/site-packages/object_detection/core/losses.py:180: The name tf.losses.Reduction is deprecated. Please use tf.compat.v1.losses.Reduction instead.\n",
      "\n"
     ]
    },
    {
     "name": "stdout",
     "output_type": "stream",
     "text": [
      "WARNING:tensorflow:From /home/chirag/anaconda3/lib/python3.7/site-packages/object_detection/core/losses.py:345: softmax_cross_entropy_with_logits (from tensorflow.python.ops.nn_ops) is deprecated and will be removed in a future version.\n",
      "Instructions for updating:\n",
      "\n",
      "Future major versions of TensorFlow will allow gradients to flow\n",
      "into the labels input on backprop by default.\n",
      "\n",
      "See `tf.nn.softmax_cross_entropy_with_logits_v2`.\n",
      "\n"
     ]
    },
    {
     "name": "stderr",
     "output_type": "stream",
     "text": [
      "W0526 01:10:24.943346 140498178537280 deprecation.py:323] From /home/chirag/anaconda3/lib/python3.7/site-packages/object_detection/core/losses.py:345: softmax_cross_entropy_with_logits (from tensorflow.python.ops.nn_ops) is deprecated and will be removed in a future version.\n",
      "Instructions for updating:\n",
      "\n",
      "Future major versions of TensorFlow will allow gradients to flow\n",
      "into the labels input on backprop by default.\n",
      "\n",
      "See `tf.nn.softmax_cross_entropy_with_logits_v2`.\n",
      "\n"
     ]
    },
    {
     "name": "stdout",
     "output_type": "stream",
     "text": [
      "WARNING:tensorflow:From /home/chirag/anaconda3/lib/python3.7/site-packages/object_detection/legacy/trainer.py:208: The name tf.losses.add_loss is deprecated. Please use tf.compat.v1.losses.add_loss instead.\n",
      "\n"
     ]
    },
    {
     "name": "stderr",
     "output_type": "stream",
     "text": [
      "W0526 01:10:25.192698 140498178537280 deprecation_wrapper.py:119] From /home/chirag/anaconda3/lib/python3.7/site-packages/object_detection/legacy/trainer.py:208: The name tf.losses.add_loss is deprecated. Please use tf.compat.v1.losses.add_loss instead.\n",
      "\n"
     ]
    },
    {
     "name": "stdout",
     "output_type": "stream",
     "text": [
      "WARNING:tensorflow:From /home/chirag/anaconda3/lib/python3.7/site-packages/object_detection/builders/optimizer_builder.py:111: The name tf.train.get_or_create_global_step is deprecated. Please use tf.compat.v1.train.get_or_create_global_step instead.\n",
      "\n"
     ]
    },
    {
     "name": "stderr",
     "output_type": "stream",
     "text": [
      "W0526 01:10:25.194088 140498178537280 deprecation_wrapper.py:119] From /home/chirag/anaconda3/lib/python3.7/site-packages/object_detection/builders/optimizer_builder.py:111: The name tf.train.get_or_create_global_step is deprecated. Please use tf.compat.v1.train.get_or_create_global_step instead.\n",
      "\n"
     ]
    },
    {
     "name": "stdout",
     "output_type": "stream",
     "text": [
      "WARNING:tensorflow:From /home/chirag/anaconda3/lib/python3.7/site-packages/object_detection/builders/optimizer_builder.py:52: The name tf.train.MomentumOptimizer is deprecated. Please use tf.compat.v1.train.MomentumOptimizer instead.\n",
      "\n"
     ]
    },
    {
     "name": "stderr",
     "output_type": "stream",
     "text": [
      "W0526 01:10:25.206575 140498178537280 deprecation_wrapper.py:119] From /home/chirag/anaconda3/lib/python3.7/site-packages/object_detection/builders/optimizer_builder.py:52: The name tf.train.MomentumOptimizer is deprecated. Please use tf.compat.v1.train.MomentumOptimizer instead.\n",
      "\n",
      "/home/chirag/anaconda3/lib/python3.7/site-packages/tensorflow/python/ops/gradients_util.py:93: UserWarning: Converting sparse IndexedSlices to a dense Tensor of unknown shape. This may consume a large amount of memory.\n",
      "  \"Converting sparse IndexedSlices to a dense Tensor of unknown shape. \"\n",
      "/home/chirag/anaconda3/lib/python3.7/site-packages/tensorflow/python/ops/gradients_util.py:93: UserWarning: Converting sparse IndexedSlices to a dense Tensor of unknown shape. This may consume a large amount of memory.\n",
      "  \"Converting sparse IndexedSlices to a dense Tensor of unknown shape. \"\n"
     ]
    },
    {
     "name": "stdout",
     "output_type": "stream",
     "text": [
      "WARNING:tensorflow:From /home/chirag/anaconda3/lib/python3.7/site-packages/object_detection/legacy/trainer.py:353: The name tf.summary.histogram is deprecated. Please use tf.compat.v1.summary.histogram instead.\n",
      "\n"
     ]
    },
    {
     "name": "stderr",
     "output_type": "stream",
     "text": [
      "W0526 01:10:30.243956 140498178537280 deprecation_wrapper.py:119] From /home/chirag/anaconda3/lib/python3.7/site-packages/object_detection/legacy/trainer.py:353: The name tf.summary.histogram is deprecated. Please use tf.compat.v1.summary.histogram instead.\n",
      "\n"
     ]
    },
    {
     "name": "stdout",
     "output_type": "stream",
     "text": [
      "WARNING:tensorflow:From /home/chirag/anaconda3/lib/python3.7/site-packages/object_detection/legacy/trainer.py:355: The name tf.losses.get_losses is deprecated. Please use tf.compat.v1.losses.get_losses instead.\n",
      "\n"
     ]
    },
    {
     "name": "stderr",
     "output_type": "stream",
     "text": [
      "W0526 01:10:30.668641 140498178537280 deprecation_wrapper.py:119] From /home/chirag/anaconda3/lib/python3.7/site-packages/object_detection/legacy/trainer.py:355: The name tf.losses.get_losses is deprecated. Please use tf.compat.v1.losses.get_losses instead.\n",
      "\n"
     ]
    },
    {
     "name": "stdout",
     "output_type": "stream",
     "text": [
      "WARNING:tensorflow:From /home/chirag/anaconda3/lib/python3.7/site-packages/object_detection/legacy/trainer.py:359: The name tf.losses.get_total_loss is deprecated. Please use tf.compat.v1.losses.get_total_loss instead.\n",
      "\n"
     ]
    },
    {
     "name": "stderr",
     "output_type": "stream",
     "text": [
      "W0526 01:10:30.675351 140498178537280 deprecation_wrapper.py:119] From /home/chirag/anaconda3/lib/python3.7/site-packages/object_detection/legacy/trainer.py:359: The name tf.losses.get_total_loss is deprecated. Please use tf.compat.v1.losses.get_total_loss instead.\n",
      "\n"
     ]
    },
    {
     "name": "stdout",
     "output_type": "stream",
     "text": [
      "WARNING:tensorflow:From /home/chirag/anaconda3/lib/python3.7/site-packages/object_detection/legacy/trainer.py:368: The name tf.summary.merge is deprecated. Please use tf.compat.v1.summary.merge instead.\n",
      "\n"
     ]
    },
    {
     "name": "stderr",
     "output_type": "stream",
     "text": [
      "W0526 01:10:30.680674 140498178537280 deprecation_wrapper.py:119] From /home/chirag/anaconda3/lib/python3.7/site-packages/object_detection/legacy/trainer.py:368: The name tf.summary.merge is deprecated. Please use tf.compat.v1.summary.merge instead.\n",
      "\n"
     ]
    },
    {
     "name": "stdout",
     "output_type": "stream",
     "text": [
      "WARNING:tensorflow:From /home/chirag/anaconda3/lib/python3.7/site-packages/object_detection/legacy/trainer.py:376: The name tf.train.Saver is deprecated. Please use tf.compat.v1.train.Saver instead.\n",
      "\n"
     ]
    },
    {
     "name": "stderr",
     "output_type": "stream",
     "text": [
      "W0526 01:10:30.691992 140498178537280 deprecation_wrapper.py:119] From /home/chirag/anaconda3/lib/python3.7/site-packages/object_detection/legacy/trainer.py:376: The name tf.train.Saver is deprecated. Please use tf.compat.v1.train.Saver instead.\n",
      "\n"
     ]
    },
    {
     "name": "stdout",
     "output_type": "stream",
     "text": [
      "WARNING:tensorflow:From /home/chirag/anaconda3/lib/python3.7/site-packages/object_detection/meta_architectures/faster_rcnn_meta_arch.py:2236: get_or_create_global_step (from tensorflow.contrib.framework.python.ops.variables) is deprecated and will be removed in a future version.\n",
      "Instructions for updating:\n",
      "Please switch to tf.train.get_or_create_global_step\n"
     ]
    },
    {
     "name": "stderr",
     "output_type": "stream",
     "text": [
      "W0526 01:10:31.109765 140498178537280 deprecation.py:323] From /home/chirag/anaconda3/lib/python3.7/site-packages/object_detection/meta_architectures/faster_rcnn_meta_arch.py:2236: get_or_create_global_step (from tensorflow.contrib.framework.python.ops.variables) is deprecated and will be removed in a future version.\n",
      "Instructions for updating:\n",
      "Please switch to tf.train.get_or_create_global_step\n"
     ]
    },
    {
     "name": "stdout",
     "output_type": "stream",
     "text": [
      "WARNING:tensorflow:From /home/chirag/anaconda3/lib/python3.7/site-packages/object_detection/utils/variables_helper.py:126: The name tf.train.NewCheckpointReader is deprecated. Please use tf.compat.v1.train.NewCheckpointReader instead.\n",
      "\n"
     ]
    },
    {
     "name": "stderr",
     "output_type": "stream",
     "text": [
      "W0526 01:10:31.113434 140498178537280 deprecation_wrapper.py:119] From /home/chirag/anaconda3/lib/python3.7/site-packages/object_detection/utils/variables_helper.py:126: The name tf.train.NewCheckpointReader is deprecated. Please use tf.compat.v1.train.NewCheckpointReader instead.\n",
      "\n",
      "W0526 01:10:31.123576 140498178537280 variables_helper.py:144] Variable [Conv/biases/Momentum] is not available in checkpoint\n",
      "W0526 01:10:31.124453 140498178537280 variables_helper.py:141] Variable [Conv/weights] is available in checkpoint, but has an incompatible shape with model variable. Checkpoint shape: [[3, 3, 576, 512]], model variable shape: [[3, 3, 1024, 512]]. This variable will not be initialized from the checkpoint.\n",
      "W0526 01:10:31.125047 140498178537280 variables_helper.py:144] Variable [Conv/weights/Momentum] is not available in checkpoint\n",
      "W0526 01:10:31.126111 140498178537280 variables_helper.py:144] Variable [FirstStageBoxPredictor/BoxEncodingPredictor/biases/Momentum] is not available in checkpoint\n",
      "W0526 01:10:31.126730 140498178537280 variables_helper.py:144] Variable [FirstStageBoxPredictor/BoxEncodingPredictor/weights/Momentum] is not available in checkpoint\n",
      "W0526 01:10:31.128039 140498178537280 variables_helper.py:144] Variable [FirstStageBoxPredictor/ClassPredictor/biases/Momentum] is not available in checkpoint\n",
      "W0526 01:10:31.129348 140498178537280 variables_helper.py:144] Variable [FirstStageBoxPredictor/ClassPredictor/weights/Momentum] is not available in checkpoint\n",
      "W0526 01:10:31.130508 140498178537280 variables_helper.py:144] Variable [FirstStageFeatureExtractor/resnet_v1_50/block1/unit_1/bottleneck_v1/conv1/BatchNorm/beta] is not available in checkpoint\n",
      "W0526 01:10:31.131357 140498178537280 variables_helper.py:144] Variable [FirstStageFeatureExtractor/resnet_v1_50/block1/unit_1/bottleneck_v1/conv1/BatchNorm/beta/Momentum] is not available in checkpoint\n",
      "W0526 01:10:31.132283 140498178537280 variables_helper.py:144] Variable [FirstStageFeatureExtractor/resnet_v1_50/block1/unit_1/bottleneck_v1/conv1/BatchNorm/gamma] is not available in checkpoint\n",
      "W0526 01:10:31.133110 140498178537280 variables_helper.py:144] Variable [FirstStageFeatureExtractor/resnet_v1_50/block1/unit_1/bottleneck_v1/conv1/BatchNorm/gamma/Momentum] is not available in checkpoint\n",
      "W0526 01:10:31.133913 140498178537280 variables_helper.py:144] Variable [FirstStageFeatureExtractor/resnet_v1_50/block1/unit_1/bottleneck_v1/conv1/BatchNorm/moving_mean] is not available in checkpoint\n",
      "W0526 01:10:31.134544 140498178537280 variables_helper.py:144] Variable [FirstStageFeatureExtractor/resnet_v1_50/block1/unit_1/bottleneck_v1/conv1/BatchNorm/moving_variance] is not available in checkpoint\n",
      "W0526 01:10:31.135058 140498178537280 variables_helper.py:144] Variable [FirstStageFeatureExtractor/resnet_v1_50/block1/unit_1/bottleneck_v1/conv1/weights] is not available in checkpoint\n",
      "W0526 01:10:31.135578 140498178537280 variables_helper.py:144] Variable [FirstStageFeatureExtractor/resnet_v1_50/block1/unit_1/bottleneck_v1/conv1/weights/Momentum] is not available in checkpoint\n",
      "W0526 01:10:31.136047 140498178537280 variables_helper.py:144] Variable [FirstStageFeatureExtractor/resnet_v1_50/block1/unit_1/bottleneck_v1/conv2/BatchNorm/beta] is not available in checkpoint\n",
      "W0526 01:10:31.139824 140498178537280 variables_helper.py:144] Variable [FirstStageFeatureExtractor/resnet_v1_50/block1/unit_1/bottleneck_v1/conv2/BatchNorm/beta/Momentum] is not available in checkpoint\n",
      "W0526 01:10:31.142855 140498178537280 variables_helper.py:144] Variable [FirstStageFeatureExtractor/resnet_v1_50/block1/unit_1/bottleneck_v1/conv2/BatchNorm/gamma] is not available in checkpoint\n",
      "W0526 01:10:31.144619 140498178537280 variables_helper.py:144] Variable [FirstStageFeatureExtractor/resnet_v1_50/block1/unit_1/bottleneck_v1/conv2/BatchNorm/gamma/Momentum] is not available in checkpoint\n",
      "W0526 01:10:31.150005 140498178537280 variables_helper.py:144] Variable [FirstStageFeatureExtractor/resnet_v1_50/block1/unit_1/bottleneck_v1/conv2/BatchNorm/moving_mean] is not available in checkpoint\n",
      "W0526 01:10:31.151111 140498178537280 variables_helper.py:144] Variable [FirstStageFeatureExtractor/resnet_v1_50/block1/unit_1/bottleneck_v1/conv2/BatchNorm/moving_variance] is not available in checkpoint\n",
      "W0526 01:10:31.152003 140498178537280 variables_helper.py:144] Variable [FirstStageFeatureExtractor/resnet_v1_50/block1/unit_1/bottleneck_v1/conv2/weights] is not available in checkpoint\n",
      "W0526 01:10:31.152751 140498178537280 variables_helper.py:144] Variable [FirstStageFeatureExtractor/resnet_v1_50/block1/unit_1/bottleneck_v1/conv2/weights/Momentum] is not available in checkpoint\n",
      "W0526 01:10:31.153265 140498178537280 variables_helper.py:144] Variable [FirstStageFeatureExtractor/resnet_v1_50/block1/unit_1/bottleneck_v1/conv3/BatchNorm/beta] is not available in checkpoint\n",
      "W0526 01:10:31.153780 140498178537280 variables_helper.py:144] Variable [FirstStageFeatureExtractor/resnet_v1_50/block1/unit_1/bottleneck_v1/conv3/BatchNorm/beta/Momentum] is not available in checkpoint\n",
      "W0526 01:10:31.154282 140498178537280 variables_helper.py:144] Variable [FirstStageFeatureExtractor/resnet_v1_50/block1/unit_1/bottleneck_v1/conv3/BatchNorm/gamma] is not available in checkpoint\n",
      "W0526 01:10:31.154778 140498178537280 variables_helper.py:144] Variable [FirstStageFeatureExtractor/resnet_v1_50/block1/unit_1/bottleneck_v1/conv3/BatchNorm/gamma/Momentum] is not available in checkpoint\n",
      "W0526 01:10:31.155284 140498178537280 variables_helper.py:144] Variable [FirstStageFeatureExtractor/resnet_v1_50/block1/unit_1/bottleneck_v1/conv3/BatchNorm/moving_mean] is not available in checkpoint\n",
      "W0526 01:10:31.155790 140498178537280 variables_helper.py:144] Variable [FirstStageFeatureExtractor/resnet_v1_50/block1/unit_1/bottleneck_v1/conv3/BatchNorm/moving_variance] is not available in checkpoint\n",
      "W0526 01:10:31.156498 140498178537280 variables_helper.py:144] Variable [FirstStageFeatureExtractor/resnet_v1_50/block1/unit_1/bottleneck_v1/conv3/weights] is not available in checkpoint\n",
      "W0526 01:10:31.157151 140498178537280 variables_helper.py:144] Variable [FirstStageFeatureExtractor/resnet_v1_50/block1/unit_1/bottleneck_v1/conv3/weights/Momentum] is not available in checkpoint\n",
      "W0526 01:10:31.157660 140498178537280 variables_helper.py:144] Variable [FirstStageFeatureExtractor/resnet_v1_50/block1/unit_1/bottleneck_v1/shortcut/BatchNorm/beta] is not available in checkpoint\n",
      "W0526 01:10:31.158153 140498178537280 variables_helper.py:144] Variable [FirstStageFeatureExtractor/resnet_v1_50/block1/unit_1/bottleneck_v1/shortcut/BatchNorm/beta/Momentum] is not available in checkpoint\n",
      "W0526 01:10:31.158844 140498178537280 variables_helper.py:144] Variable [FirstStageFeatureExtractor/resnet_v1_50/block1/unit_1/bottleneck_v1/shortcut/BatchNorm/gamma] is not available in checkpoint\n",
      "W0526 01:10:31.159610 140498178537280 variables_helper.py:144] Variable [FirstStageFeatureExtractor/resnet_v1_50/block1/unit_1/bottleneck_v1/shortcut/BatchNorm/gamma/Momentum] is not available in checkpoint\n",
      "W0526 01:10:31.160779 140498178537280 variables_helper.py:144] Variable [FirstStageFeatureExtractor/resnet_v1_50/block1/unit_1/bottleneck_v1/shortcut/BatchNorm/moving_mean] is not available in checkpoint\n",
      "W0526 01:10:31.162616 140498178537280 variables_helper.py:144] Variable [FirstStageFeatureExtractor/resnet_v1_50/block1/unit_1/bottleneck_v1/shortcut/BatchNorm/moving_variance] is not available in checkpoint\n",
      "W0526 01:10:31.163652 140498178537280 variables_helper.py:144] Variable [FirstStageFeatureExtractor/resnet_v1_50/block1/unit_1/bottleneck_v1/shortcut/weights] is not available in checkpoint\n",
      "W0526 01:10:31.168091 140498178537280 variables_helper.py:144] Variable [FirstStageFeatureExtractor/resnet_v1_50/block1/unit_1/bottleneck_v1/shortcut/weights/Momentum] is not available in checkpoint\n",
      "W0526 01:10:31.168856 140498178537280 variables_helper.py:144] Variable [FirstStageFeatureExtractor/resnet_v1_50/block1/unit_2/bottleneck_v1/conv1/BatchNorm/beta] is not available in checkpoint\n",
      "W0526 01:10:31.169642 140498178537280 variables_helper.py:144] Variable [FirstStageFeatureExtractor/resnet_v1_50/block1/unit_2/bottleneck_v1/conv1/BatchNorm/beta/Momentum] is not available in checkpoint\n"
     ]
    },
    {
     "name": "stderr",
     "output_type": "stream",
     "text": [
      "W0526 01:10:31.170352 140498178537280 variables_helper.py:144] Variable [FirstStageFeatureExtractor/resnet_v1_50/block1/unit_2/bottleneck_v1/conv1/BatchNorm/gamma] is not available in checkpoint\n",
      "W0526 01:10:31.171136 140498178537280 variables_helper.py:144] Variable [FirstStageFeatureExtractor/resnet_v1_50/block1/unit_2/bottleneck_v1/conv1/BatchNorm/gamma/Momentum] is not available in checkpoint\n",
      "W0526 01:10:31.171819 140498178537280 variables_helper.py:144] Variable [FirstStageFeatureExtractor/resnet_v1_50/block1/unit_2/bottleneck_v1/conv1/BatchNorm/moving_mean] is not available in checkpoint\n",
      "W0526 01:10:31.173538 140498178537280 variables_helper.py:144] Variable [FirstStageFeatureExtractor/resnet_v1_50/block1/unit_2/bottleneck_v1/conv1/BatchNorm/moving_variance] is not available in checkpoint\n",
      "W0526 01:10:31.174332 140498178537280 variables_helper.py:144] Variable [FirstStageFeatureExtractor/resnet_v1_50/block1/unit_2/bottleneck_v1/conv1/weights] is not available in checkpoint\n",
      "W0526 01:10:31.175094 140498178537280 variables_helper.py:144] Variable [FirstStageFeatureExtractor/resnet_v1_50/block1/unit_2/bottleneck_v1/conv1/weights/Momentum] is not available in checkpoint\n",
      "W0526 01:10:31.175987 140498178537280 variables_helper.py:144] Variable [FirstStageFeatureExtractor/resnet_v1_50/block1/unit_2/bottleneck_v1/conv2/BatchNorm/beta] is not available in checkpoint\n",
      "W0526 01:10:31.181028 140498178537280 variables_helper.py:144] Variable [FirstStageFeatureExtractor/resnet_v1_50/block1/unit_2/bottleneck_v1/conv2/BatchNorm/beta/Momentum] is not available in checkpoint\n",
      "W0526 01:10:31.182013 140498178537280 variables_helper.py:144] Variable [FirstStageFeatureExtractor/resnet_v1_50/block1/unit_2/bottleneck_v1/conv2/BatchNorm/gamma] is not available in checkpoint\n",
      "W0526 01:10:31.183017 140498178537280 variables_helper.py:144] Variable [FirstStageFeatureExtractor/resnet_v1_50/block1/unit_2/bottleneck_v1/conv2/BatchNorm/gamma/Momentum] is not available in checkpoint\n",
      "W0526 01:10:31.184319 140498178537280 variables_helper.py:144] Variable [FirstStageFeatureExtractor/resnet_v1_50/block1/unit_2/bottleneck_v1/conv2/BatchNorm/moving_mean] is not available in checkpoint\n",
      "W0526 01:10:31.185839 140498178537280 variables_helper.py:144] Variable [FirstStageFeatureExtractor/resnet_v1_50/block1/unit_2/bottleneck_v1/conv2/BatchNorm/moving_variance] is not available in checkpoint\n",
      "W0526 01:10:31.186857 140498178537280 variables_helper.py:144] Variable [FirstStageFeatureExtractor/resnet_v1_50/block1/unit_2/bottleneck_v1/conv2/weights] is not available in checkpoint\n",
      "W0526 01:10:31.187639 140498178537280 variables_helper.py:144] Variable [FirstStageFeatureExtractor/resnet_v1_50/block1/unit_2/bottleneck_v1/conv2/weights/Momentum] is not available in checkpoint\n",
      "W0526 01:10:31.188544 140498178537280 variables_helper.py:144] Variable [FirstStageFeatureExtractor/resnet_v1_50/block1/unit_2/bottleneck_v1/conv3/BatchNorm/beta] is not available in checkpoint\n",
      "W0526 01:10:31.189482 140498178537280 variables_helper.py:144] Variable [FirstStageFeatureExtractor/resnet_v1_50/block1/unit_2/bottleneck_v1/conv3/BatchNorm/beta/Momentum] is not available in checkpoint\n",
      "W0526 01:10:31.190387 140498178537280 variables_helper.py:144] Variable [FirstStageFeatureExtractor/resnet_v1_50/block1/unit_2/bottleneck_v1/conv3/BatchNorm/gamma] is not available in checkpoint\n",
      "W0526 01:10:31.191375 140498178537280 variables_helper.py:144] Variable [FirstStageFeatureExtractor/resnet_v1_50/block1/unit_2/bottleneck_v1/conv3/BatchNorm/gamma/Momentum] is not available in checkpoint\n",
      "W0526 01:10:31.193685 140498178537280 variables_helper.py:144] Variable [FirstStageFeatureExtractor/resnet_v1_50/block1/unit_2/bottleneck_v1/conv3/BatchNorm/moving_mean] is not available in checkpoint\n",
      "W0526 01:10:31.196899 140498178537280 variables_helper.py:144] Variable [FirstStageFeatureExtractor/resnet_v1_50/block1/unit_2/bottleneck_v1/conv3/BatchNorm/moving_variance] is not available in checkpoint\n",
      "W0526 01:10:31.198043 140498178537280 variables_helper.py:144] Variable [FirstStageFeatureExtractor/resnet_v1_50/block1/unit_2/bottleneck_v1/conv3/weights] is not available in checkpoint\n",
      "W0526 01:10:31.199192 140498178537280 variables_helper.py:144] Variable [FirstStageFeatureExtractor/resnet_v1_50/block1/unit_2/bottleneck_v1/conv3/weights/Momentum] is not available in checkpoint\n",
      "W0526 01:10:31.200227 140498178537280 variables_helper.py:144] Variable [FirstStageFeatureExtractor/resnet_v1_50/block1/unit_3/bottleneck_v1/conv1/BatchNorm/beta] is not available in checkpoint\n",
      "W0526 01:10:31.201079 140498178537280 variables_helper.py:144] Variable [FirstStageFeatureExtractor/resnet_v1_50/block1/unit_3/bottleneck_v1/conv1/BatchNorm/beta/Momentum] is not available in checkpoint\n",
      "W0526 01:10:31.201882 140498178537280 variables_helper.py:144] Variable [FirstStageFeatureExtractor/resnet_v1_50/block1/unit_3/bottleneck_v1/conv1/BatchNorm/gamma] is not available in checkpoint\n",
      "W0526 01:10:31.202603 140498178537280 variables_helper.py:144] Variable [FirstStageFeatureExtractor/resnet_v1_50/block1/unit_3/bottleneck_v1/conv1/BatchNorm/gamma/Momentum] is not available in checkpoint\n",
      "W0526 01:10:31.205027 140498178537280 variables_helper.py:144] Variable [FirstStageFeatureExtractor/resnet_v1_50/block1/unit_3/bottleneck_v1/conv1/BatchNorm/moving_mean] is not available in checkpoint\n",
      "W0526 01:10:31.205779 140498178537280 variables_helper.py:144] Variable [FirstStageFeatureExtractor/resnet_v1_50/block1/unit_3/bottleneck_v1/conv1/BatchNorm/moving_variance] is not available in checkpoint\n",
      "W0526 01:10:31.206601 140498178537280 variables_helper.py:144] Variable [FirstStageFeatureExtractor/resnet_v1_50/block1/unit_3/bottleneck_v1/conv1/weights] is not available in checkpoint\n",
      "W0526 01:10:31.214524 140498178537280 variables_helper.py:144] Variable [FirstStageFeatureExtractor/resnet_v1_50/block1/unit_3/bottleneck_v1/conv1/weights/Momentum] is not available in checkpoint\n",
      "W0526 01:10:31.216446 140498178537280 variables_helper.py:144] Variable [FirstStageFeatureExtractor/resnet_v1_50/block1/unit_3/bottleneck_v1/conv2/BatchNorm/beta] is not available in checkpoint\n",
      "W0526 01:10:31.217609 140498178537280 variables_helper.py:144] Variable [FirstStageFeatureExtractor/resnet_v1_50/block1/unit_3/bottleneck_v1/conv2/BatchNorm/beta/Momentum] is not available in checkpoint\n",
      "W0526 01:10:31.218672 140498178537280 variables_helper.py:144] Variable [FirstStageFeatureExtractor/resnet_v1_50/block1/unit_3/bottleneck_v1/conv2/BatchNorm/gamma] is not available in checkpoint\n",
      "W0526 01:10:31.219763 140498178537280 variables_helper.py:144] Variable [FirstStageFeatureExtractor/resnet_v1_50/block1/unit_3/bottleneck_v1/conv2/BatchNorm/gamma/Momentum] is not available in checkpoint\n",
      "W0526 01:10:31.221462 140498178537280 variables_helper.py:144] Variable [FirstStageFeatureExtractor/resnet_v1_50/block1/unit_3/bottleneck_v1/conv2/BatchNorm/moving_mean] is not available in checkpoint\n",
      "W0526 01:10:31.222594 140498178537280 variables_helper.py:144] Variable [FirstStageFeatureExtractor/resnet_v1_50/block1/unit_3/bottleneck_v1/conv2/BatchNorm/moving_variance] is not available in checkpoint\n",
      "W0526 01:10:31.223642 140498178537280 variables_helper.py:144] Variable [FirstStageFeatureExtractor/resnet_v1_50/block1/unit_3/bottleneck_v1/conv2/weights] is not available in checkpoint\n",
      "W0526 01:10:31.225347 140498178537280 variables_helper.py:144] Variable [FirstStageFeatureExtractor/resnet_v1_50/block1/unit_3/bottleneck_v1/conv2/weights/Momentum] is not available in checkpoint\n",
      "W0526 01:10:31.226204 140498178537280 variables_helper.py:144] Variable [FirstStageFeatureExtractor/resnet_v1_50/block1/unit_3/bottleneck_v1/conv3/BatchNorm/beta] is not available in checkpoint\n",
      "W0526 01:10:31.229213 140498178537280 variables_helper.py:144] Variable [FirstStageFeatureExtractor/resnet_v1_50/block1/unit_3/bottleneck_v1/conv3/BatchNorm/beta/Momentum] is not available in checkpoint\n",
      "W0526 01:10:31.230377 140498178537280 variables_helper.py:144] Variable [FirstStageFeatureExtractor/resnet_v1_50/block1/unit_3/bottleneck_v1/conv3/BatchNorm/gamma] is not available in checkpoint\n",
      "W0526 01:10:31.231548 140498178537280 variables_helper.py:144] Variable [FirstStageFeatureExtractor/resnet_v1_50/block1/unit_3/bottleneck_v1/conv3/BatchNorm/gamma/Momentum] is not available in checkpoint\n"
     ]
    },
    {
     "name": "stderr",
     "output_type": "stream",
     "text": [
      "W0526 01:10:31.232716 140498178537280 variables_helper.py:144] Variable [FirstStageFeatureExtractor/resnet_v1_50/block1/unit_3/bottleneck_v1/conv3/BatchNorm/moving_mean] is not available in checkpoint\n",
      "W0526 01:10:31.233616 140498178537280 variables_helper.py:144] Variable [FirstStageFeatureExtractor/resnet_v1_50/block1/unit_3/bottleneck_v1/conv3/BatchNorm/moving_variance] is not available in checkpoint\n",
      "W0526 01:10:31.234498 140498178537280 variables_helper.py:144] Variable [FirstStageFeatureExtractor/resnet_v1_50/block1/unit_3/bottleneck_v1/conv3/weights] is not available in checkpoint\n",
      "W0526 01:10:31.235312 140498178537280 variables_helper.py:144] Variable [FirstStageFeatureExtractor/resnet_v1_50/block1/unit_3/bottleneck_v1/conv3/weights/Momentum] is not available in checkpoint\n",
      "W0526 01:10:31.236013 140498178537280 variables_helper.py:144] Variable [FirstStageFeatureExtractor/resnet_v1_50/block2/unit_1/bottleneck_v1/conv1/BatchNorm/beta] is not available in checkpoint\n",
      "W0526 01:10:31.237331 140498178537280 variables_helper.py:144] Variable [FirstStageFeatureExtractor/resnet_v1_50/block2/unit_1/bottleneck_v1/conv1/BatchNorm/beta/Momentum] is not available in checkpoint\n",
      "W0526 01:10:31.238247 140498178537280 variables_helper.py:144] Variable [FirstStageFeatureExtractor/resnet_v1_50/block2/unit_1/bottleneck_v1/conv1/BatchNorm/gamma] is not available in checkpoint\n",
      "W0526 01:10:31.238909 140498178537280 variables_helper.py:144] Variable [FirstStageFeatureExtractor/resnet_v1_50/block2/unit_1/bottleneck_v1/conv1/BatchNorm/gamma/Momentum] is not available in checkpoint\n",
      "W0526 01:10:31.239701 140498178537280 variables_helper.py:144] Variable [FirstStageFeatureExtractor/resnet_v1_50/block2/unit_1/bottleneck_v1/conv1/BatchNorm/moving_mean] is not available in checkpoint\n",
      "W0526 01:10:31.240559 140498178537280 variables_helper.py:144] Variable [FirstStageFeatureExtractor/resnet_v1_50/block2/unit_1/bottleneck_v1/conv1/BatchNorm/moving_variance] is not available in checkpoint\n",
      "W0526 01:10:31.242041 140498178537280 variables_helper.py:144] Variable [FirstStageFeatureExtractor/resnet_v1_50/block2/unit_1/bottleneck_v1/conv1/weights] is not available in checkpoint\n",
      "W0526 01:10:31.242865 140498178537280 variables_helper.py:144] Variable [FirstStageFeatureExtractor/resnet_v1_50/block2/unit_1/bottleneck_v1/conv1/weights/Momentum] is not available in checkpoint\n",
      "W0526 01:10:31.252315 140498178537280 variables_helper.py:144] Variable [FirstStageFeatureExtractor/resnet_v1_50/block2/unit_1/bottleneck_v1/conv2/BatchNorm/beta] is not available in checkpoint\n",
      "W0526 01:10:31.254081 140498178537280 variables_helper.py:144] Variable [FirstStageFeatureExtractor/resnet_v1_50/block2/unit_1/bottleneck_v1/conv2/BatchNorm/beta/Momentum] is not available in checkpoint\n",
      "W0526 01:10:31.255029 140498178537280 variables_helper.py:144] Variable [FirstStageFeatureExtractor/resnet_v1_50/block2/unit_1/bottleneck_v1/conv2/BatchNorm/gamma] is not available in checkpoint\n",
      "W0526 01:10:31.255947 140498178537280 variables_helper.py:144] Variable [FirstStageFeatureExtractor/resnet_v1_50/block2/unit_1/bottleneck_v1/conv2/BatchNorm/gamma/Momentum] is not available in checkpoint\n",
      "W0526 01:10:31.256847 140498178537280 variables_helper.py:144] Variable [FirstStageFeatureExtractor/resnet_v1_50/block2/unit_1/bottleneck_v1/conv2/BatchNorm/moving_mean] is not available in checkpoint\n",
      "W0526 01:10:31.257748 140498178537280 variables_helper.py:144] Variable [FirstStageFeatureExtractor/resnet_v1_50/block2/unit_1/bottleneck_v1/conv2/BatchNorm/moving_variance] is not available in checkpoint\n",
      "W0526 01:10:31.258621 140498178537280 variables_helper.py:144] Variable [FirstStageFeatureExtractor/resnet_v1_50/block2/unit_1/bottleneck_v1/conv2/weights] is not available in checkpoint\n",
      "W0526 01:10:31.259511 140498178537280 variables_helper.py:144] Variable [FirstStageFeatureExtractor/resnet_v1_50/block2/unit_1/bottleneck_v1/conv2/weights/Momentum] is not available in checkpoint\n",
      "W0526 01:10:31.263398 140498178537280 variables_helper.py:144] Variable [FirstStageFeatureExtractor/resnet_v1_50/block2/unit_1/bottleneck_v1/conv3/BatchNorm/beta] is not available in checkpoint\n",
      "W0526 01:10:31.264504 140498178537280 variables_helper.py:144] Variable [FirstStageFeatureExtractor/resnet_v1_50/block2/unit_1/bottleneck_v1/conv3/BatchNorm/beta/Momentum] is not available in checkpoint\n",
      "W0526 01:10:31.265878 140498178537280 variables_helper.py:144] Variable [FirstStageFeatureExtractor/resnet_v1_50/block2/unit_1/bottleneck_v1/conv3/BatchNorm/gamma] is not available in checkpoint\n",
      "W0526 01:10:31.267008 140498178537280 variables_helper.py:144] Variable [FirstStageFeatureExtractor/resnet_v1_50/block2/unit_1/bottleneck_v1/conv3/BatchNorm/gamma/Momentum] is not available in checkpoint\n",
      "W0526 01:10:31.268012 140498178537280 variables_helper.py:144] Variable [FirstStageFeatureExtractor/resnet_v1_50/block2/unit_1/bottleneck_v1/conv3/BatchNorm/moving_mean] is not available in checkpoint\n",
      "W0526 01:10:31.269305 140498178537280 variables_helper.py:144] Variable [FirstStageFeatureExtractor/resnet_v1_50/block2/unit_1/bottleneck_v1/conv3/BatchNorm/moving_variance] is not available in checkpoint\n",
      "W0526 01:10:31.270337 140498178537280 variables_helper.py:144] Variable [FirstStageFeatureExtractor/resnet_v1_50/block2/unit_1/bottleneck_v1/conv3/weights] is not available in checkpoint\n",
      "W0526 01:10:31.271044 140498178537280 variables_helper.py:144] Variable [FirstStageFeatureExtractor/resnet_v1_50/block2/unit_1/bottleneck_v1/conv3/weights/Momentum] is not available in checkpoint\n",
      "W0526 01:10:31.272346 140498178537280 variables_helper.py:144] Variable [FirstStageFeatureExtractor/resnet_v1_50/block2/unit_1/bottleneck_v1/shortcut/BatchNorm/beta] is not available in checkpoint\n",
      "W0526 01:10:31.273225 140498178537280 variables_helper.py:144] Variable [FirstStageFeatureExtractor/resnet_v1_50/block2/unit_1/bottleneck_v1/shortcut/BatchNorm/beta/Momentum] is not available in checkpoint\n",
      "W0526 01:10:31.274092 140498178537280 variables_helper.py:144] Variable [FirstStageFeatureExtractor/resnet_v1_50/block2/unit_1/bottleneck_v1/shortcut/BatchNorm/gamma] is not available in checkpoint\n",
      "W0526 01:10:31.274937 140498178537280 variables_helper.py:144] Variable [FirstStageFeatureExtractor/resnet_v1_50/block2/unit_1/bottleneck_v1/shortcut/BatchNorm/gamma/Momentum] is not available in checkpoint\n",
      "W0526 01:10:31.282507 140498178537280 variables_helper.py:144] Variable [FirstStageFeatureExtractor/resnet_v1_50/block2/unit_1/bottleneck_v1/shortcut/BatchNorm/moving_mean] is not available in checkpoint\n",
      "W0526 01:10:31.283716 140498178537280 variables_helper.py:144] Variable [FirstStageFeatureExtractor/resnet_v1_50/block2/unit_1/bottleneck_v1/shortcut/BatchNorm/moving_variance] is not available in checkpoint\n",
      "W0526 01:10:31.285325 140498178537280 variables_helper.py:144] Variable [FirstStageFeatureExtractor/resnet_v1_50/block2/unit_1/bottleneck_v1/shortcut/weights] is not available in checkpoint\n",
      "W0526 01:10:31.286134 140498178537280 variables_helper.py:144] Variable [FirstStageFeatureExtractor/resnet_v1_50/block2/unit_1/bottleneck_v1/shortcut/weights/Momentum] is not available in checkpoint\n",
      "W0526 01:10:31.286911 140498178537280 variables_helper.py:144] Variable [FirstStageFeatureExtractor/resnet_v1_50/block2/unit_2/bottleneck_v1/conv1/BatchNorm/beta] is not available in checkpoint\n",
      "W0526 01:10:31.287647 140498178537280 variables_helper.py:144] Variable [FirstStageFeatureExtractor/resnet_v1_50/block2/unit_2/bottleneck_v1/conv1/BatchNorm/beta/Momentum] is not available in checkpoint\n",
      "W0526 01:10:31.288379 140498178537280 variables_helper.py:144] Variable [FirstStageFeatureExtractor/resnet_v1_50/block2/unit_2/bottleneck_v1/conv1/BatchNorm/gamma] is not available in checkpoint\n",
      "W0526 01:10:31.289123 140498178537280 variables_helper.py:144] Variable [FirstStageFeatureExtractor/resnet_v1_50/block2/unit_2/bottleneck_v1/conv1/BatchNorm/gamma/Momentum] is not available in checkpoint\n",
      "W0526 01:10:31.289868 140498178537280 variables_helper.py:144] Variable [FirstStageFeatureExtractor/resnet_v1_50/block2/unit_2/bottleneck_v1/conv1/BatchNorm/moving_mean] is not available in checkpoint\n",
      "W0526 01:10:31.290653 140498178537280 variables_helper.py:144] Variable [FirstStageFeatureExtractor/resnet_v1_50/block2/unit_2/bottleneck_v1/conv1/BatchNorm/moving_variance] is not available in checkpoint\n"
     ]
    },
    {
     "name": "stderr",
     "output_type": "stream",
     "text": [
      "W0526 01:10:31.291831 140498178537280 variables_helper.py:144] Variable [FirstStageFeatureExtractor/resnet_v1_50/block2/unit_2/bottleneck_v1/conv1/weights] is not available in checkpoint\n",
      "W0526 01:10:31.293025 140498178537280 variables_helper.py:144] Variable [FirstStageFeatureExtractor/resnet_v1_50/block2/unit_2/bottleneck_v1/conv1/weights/Momentum] is not available in checkpoint\n",
      "W0526 01:10:31.293946 140498178537280 variables_helper.py:144] Variable [FirstStageFeatureExtractor/resnet_v1_50/block2/unit_2/bottleneck_v1/conv2/BatchNorm/beta] is not available in checkpoint\n",
      "W0526 01:10:31.294896 140498178537280 variables_helper.py:144] Variable [FirstStageFeatureExtractor/resnet_v1_50/block2/unit_2/bottleneck_v1/conv2/BatchNorm/beta/Momentum] is not available in checkpoint\n",
      "W0526 01:10:31.296629 140498178537280 variables_helper.py:144] Variable [FirstStageFeatureExtractor/resnet_v1_50/block2/unit_2/bottleneck_v1/conv2/BatchNorm/gamma] is not available in checkpoint\n",
      "W0526 01:10:31.298649 140498178537280 variables_helper.py:144] Variable [FirstStageFeatureExtractor/resnet_v1_50/block2/unit_2/bottleneck_v1/conv2/BatchNorm/gamma/Momentum] is not available in checkpoint\n",
      "W0526 01:10:31.303148 140498178537280 variables_helper.py:144] Variable [FirstStageFeatureExtractor/resnet_v1_50/block2/unit_2/bottleneck_v1/conv2/BatchNorm/moving_mean] is not available in checkpoint\n",
      "W0526 01:10:31.304016 140498178537280 variables_helper.py:144] Variable [FirstStageFeatureExtractor/resnet_v1_50/block2/unit_2/bottleneck_v1/conv2/BatchNorm/moving_variance] is not available in checkpoint\n",
      "W0526 01:10:31.304881 140498178537280 variables_helper.py:144] Variable [FirstStageFeatureExtractor/resnet_v1_50/block2/unit_2/bottleneck_v1/conv2/weights] is not available in checkpoint\n",
      "W0526 01:10:31.305721 140498178537280 variables_helper.py:144] Variable [FirstStageFeatureExtractor/resnet_v1_50/block2/unit_2/bottleneck_v1/conv2/weights/Momentum] is not available in checkpoint\n",
      "W0526 01:10:31.306548 140498178537280 variables_helper.py:144] Variable [FirstStageFeatureExtractor/resnet_v1_50/block2/unit_2/bottleneck_v1/conv3/BatchNorm/beta] is not available in checkpoint\n",
      "W0526 01:10:31.307366 140498178537280 variables_helper.py:144] Variable [FirstStageFeatureExtractor/resnet_v1_50/block2/unit_2/bottleneck_v1/conv3/BatchNorm/beta/Momentum] is not available in checkpoint\n",
      "W0526 01:10:31.308307 140498178537280 variables_helper.py:144] Variable [FirstStageFeatureExtractor/resnet_v1_50/block2/unit_2/bottleneck_v1/conv3/BatchNorm/gamma] is not available in checkpoint\n",
      "W0526 01:10:31.309491 140498178537280 variables_helper.py:144] Variable [FirstStageFeatureExtractor/resnet_v1_50/block2/unit_2/bottleneck_v1/conv3/BatchNorm/gamma/Momentum] is not available in checkpoint\n",
      "W0526 01:10:31.310228 140498178537280 variables_helper.py:144] Variable [FirstStageFeatureExtractor/resnet_v1_50/block2/unit_2/bottleneck_v1/conv3/BatchNorm/moving_mean] is not available in checkpoint\n",
      "W0526 01:10:31.311190 140498178537280 variables_helper.py:144] Variable [FirstStageFeatureExtractor/resnet_v1_50/block2/unit_2/bottleneck_v1/conv3/BatchNorm/moving_variance] is not available in checkpoint\n",
      "W0526 01:10:31.312523 140498178537280 variables_helper.py:144] Variable [FirstStageFeatureExtractor/resnet_v1_50/block2/unit_2/bottleneck_v1/conv3/weights] is not available in checkpoint\n",
      "W0526 01:10:31.313676 140498178537280 variables_helper.py:144] Variable [FirstStageFeatureExtractor/resnet_v1_50/block2/unit_2/bottleneck_v1/conv3/weights/Momentum] is not available in checkpoint\n",
      "W0526 01:10:31.314779 140498178537280 variables_helper.py:144] Variable [FirstStageFeatureExtractor/resnet_v1_50/block2/unit_3/bottleneck_v1/conv1/BatchNorm/beta] is not available in checkpoint\n",
      "W0526 01:10:31.316552 140498178537280 variables_helper.py:144] Variable [FirstStageFeatureExtractor/resnet_v1_50/block2/unit_3/bottleneck_v1/conv1/BatchNorm/beta/Momentum] is not available in checkpoint\n",
      "W0526 01:10:31.317610 140498178537280 variables_helper.py:144] Variable [FirstStageFeatureExtractor/resnet_v1_50/block2/unit_3/bottleneck_v1/conv1/BatchNorm/gamma] is not available in checkpoint\n",
      "W0526 01:10:31.318366 140498178537280 variables_helper.py:144] Variable [FirstStageFeatureExtractor/resnet_v1_50/block2/unit_3/bottleneck_v1/conv1/BatchNorm/gamma/Momentum] is not available in checkpoint\n",
      "W0526 01:10:31.319393 140498178537280 variables_helper.py:144] Variable [FirstStageFeatureExtractor/resnet_v1_50/block2/unit_3/bottleneck_v1/conv1/BatchNorm/moving_mean] is not available in checkpoint\n",
      "W0526 01:10:31.320302 140498178537280 variables_helper.py:144] Variable [FirstStageFeatureExtractor/resnet_v1_50/block2/unit_3/bottleneck_v1/conv1/BatchNorm/moving_variance] is not available in checkpoint\n",
      "W0526 01:10:31.321335 140498178537280 variables_helper.py:144] Variable [FirstStageFeatureExtractor/resnet_v1_50/block2/unit_3/bottleneck_v1/conv1/weights] is not available in checkpoint\n",
      "W0526 01:10:31.322723 140498178537280 variables_helper.py:144] Variable [FirstStageFeatureExtractor/resnet_v1_50/block2/unit_3/bottleneck_v1/conv1/weights/Momentum] is not available in checkpoint\n",
      "W0526 01:10:31.323601 140498178537280 variables_helper.py:144] Variable [FirstStageFeatureExtractor/resnet_v1_50/block2/unit_3/bottleneck_v1/conv2/BatchNorm/beta] is not available in checkpoint\n",
      "W0526 01:10:31.324484 140498178537280 variables_helper.py:144] Variable [FirstStageFeatureExtractor/resnet_v1_50/block2/unit_3/bottleneck_v1/conv2/BatchNorm/beta/Momentum] is not available in checkpoint\n",
      "W0526 01:10:31.325630 140498178537280 variables_helper.py:144] Variable [FirstStageFeatureExtractor/resnet_v1_50/block2/unit_3/bottleneck_v1/conv2/BatchNorm/gamma] is not available in checkpoint\n",
      "W0526 01:10:31.326508 140498178537280 variables_helper.py:144] Variable [FirstStageFeatureExtractor/resnet_v1_50/block2/unit_3/bottleneck_v1/conv2/BatchNorm/gamma/Momentum] is not available in checkpoint\n",
      "W0526 01:10:31.327425 140498178537280 variables_helper.py:144] Variable [FirstStageFeatureExtractor/resnet_v1_50/block2/unit_3/bottleneck_v1/conv2/BatchNorm/moving_mean] is not available in checkpoint\n",
      "W0526 01:10:31.328757 140498178537280 variables_helper.py:144] Variable [FirstStageFeatureExtractor/resnet_v1_50/block2/unit_3/bottleneck_v1/conv2/BatchNorm/moving_variance] is not available in checkpoint\n",
      "W0526 01:10:31.329966 140498178537280 variables_helper.py:144] Variable [FirstStageFeatureExtractor/resnet_v1_50/block2/unit_3/bottleneck_v1/conv2/weights] is not available in checkpoint\n",
      "W0526 01:10:31.331250 140498178537280 variables_helper.py:144] Variable [FirstStageFeatureExtractor/resnet_v1_50/block2/unit_3/bottleneck_v1/conv2/weights/Momentum] is not available in checkpoint\n",
      "W0526 01:10:31.332915 140498178537280 variables_helper.py:144] Variable [FirstStageFeatureExtractor/resnet_v1_50/block2/unit_3/bottleneck_v1/conv3/BatchNorm/beta] is not available in checkpoint\n",
      "W0526 01:10:31.333889 140498178537280 variables_helper.py:144] Variable [FirstStageFeatureExtractor/resnet_v1_50/block2/unit_3/bottleneck_v1/conv3/BatchNorm/beta/Momentum] is not available in checkpoint\n",
      "W0526 01:10:31.334893 140498178537280 variables_helper.py:144] Variable [FirstStageFeatureExtractor/resnet_v1_50/block2/unit_3/bottleneck_v1/conv3/BatchNorm/gamma] is not available in checkpoint\n",
      "W0526 01:10:31.335820 140498178537280 variables_helper.py:144] Variable [FirstStageFeatureExtractor/resnet_v1_50/block2/unit_3/bottleneck_v1/conv3/BatchNorm/gamma/Momentum] is not available in checkpoint\n",
      "W0526 01:10:31.336689 140498178537280 variables_helper.py:144] Variable [FirstStageFeatureExtractor/resnet_v1_50/block2/unit_3/bottleneck_v1/conv3/BatchNorm/moving_mean] is not available in checkpoint\n",
      "W0526 01:10:31.337497 140498178537280 variables_helper.py:144] Variable [FirstStageFeatureExtractor/resnet_v1_50/block2/unit_3/bottleneck_v1/conv3/BatchNorm/moving_variance] is not available in checkpoint\n",
      "W0526 01:10:31.338295 140498178537280 variables_helper.py:144] Variable [FirstStageFeatureExtractor/resnet_v1_50/block2/unit_3/bottleneck_v1/conv3/weights] is not available in checkpoint\n",
      "W0526 01:10:31.339036 140498178537280 variables_helper.py:144] Variable [FirstStageFeatureExtractor/resnet_v1_50/block2/unit_3/bottleneck_v1/conv3/weights/Momentum] is not available in checkpoint\n"
     ]
    },
    {
     "name": "stderr",
     "output_type": "stream",
     "text": [
      "W0526 01:10:31.339696 140498178537280 variables_helper.py:144] Variable [FirstStageFeatureExtractor/resnet_v1_50/block2/unit_4/bottleneck_v1/conv1/BatchNorm/beta] is not available in checkpoint\n",
      "W0526 01:10:31.340480 140498178537280 variables_helper.py:144] Variable [FirstStageFeatureExtractor/resnet_v1_50/block2/unit_4/bottleneck_v1/conv1/BatchNorm/beta/Momentum] is not available in checkpoint\n",
      "W0526 01:10:31.341624 140498178537280 variables_helper.py:144] Variable [FirstStageFeatureExtractor/resnet_v1_50/block2/unit_4/bottleneck_v1/conv1/BatchNorm/gamma] is not available in checkpoint\n",
      "W0526 01:10:31.342379 140498178537280 variables_helper.py:144] Variable [FirstStageFeatureExtractor/resnet_v1_50/block2/unit_4/bottleneck_v1/conv1/BatchNorm/gamma/Momentum] is not available in checkpoint\n",
      "W0526 01:10:31.343136 140498178537280 variables_helper.py:144] Variable [FirstStageFeatureExtractor/resnet_v1_50/block2/unit_4/bottleneck_v1/conv1/BatchNorm/moving_mean] is not available in checkpoint\n",
      "W0526 01:10:31.343822 140498178537280 variables_helper.py:144] Variable [FirstStageFeatureExtractor/resnet_v1_50/block2/unit_4/bottleneck_v1/conv1/BatchNorm/moving_variance] is not available in checkpoint\n",
      "W0526 01:10:31.344638 140498178537280 variables_helper.py:144] Variable [FirstStageFeatureExtractor/resnet_v1_50/block2/unit_4/bottleneck_v1/conv1/weights] is not available in checkpoint\n",
      "W0526 01:10:31.345391 140498178537280 variables_helper.py:144] Variable [FirstStageFeatureExtractor/resnet_v1_50/block2/unit_4/bottleneck_v1/conv1/weights/Momentum] is not available in checkpoint\n",
      "W0526 01:10:31.346133 140498178537280 variables_helper.py:144] Variable [FirstStageFeatureExtractor/resnet_v1_50/block2/unit_4/bottleneck_v1/conv2/BatchNorm/beta] is not available in checkpoint\n",
      "W0526 01:10:31.347576 140498178537280 variables_helper.py:144] Variable [FirstStageFeatureExtractor/resnet_v1_50/block2/unit_4/bottleneck_v1/conv2/BatchNorm/beta/Momentum] is not available in checkpoint\n",
      "W0526 01:10:31.349323 140498178537280 variables_helper.py:144] Variable [FirstStageFeatureExtractor/resnet_v1_50/block2/unit_4/bottleneck_v1/conv2/BatchNorm/gamma] is not available in checkpoint\n",
      "W0526 01:10:31.350569 140498178537280 variables_helper.py:144] Variable [FirstStageFeatureExtractor/resnet_v1_50/block2/unit_4/bottleneck_v1/conv2/BatchNorm/gamma/Momentum] is not available in checkpoint\n",
      "W0526 01:10:31.351740 140498178537280 variables_helper.py:144] Variable [FirstStageFeatureExtractor/resnet_v1_50/block2/unit_4/bottleneck_v1/conv2/BatchNorm/moving_mean] is not available in checkpoint\n",
      "W0526 01:10:31.353273 140498178537280 variables_helper.py:144] Variable [FirstStageFeatureExtractor/resnet_v1_50/block2/unit_4/bottleneck_v1/conv2/BatchNorm/moving_variance] is not available in checkpoint\n",
      "W0526 01:10:31.354486 140498178537280 variables_helper.py:144] Variable [FirstStageFeatureExtractor/resnet_v1_50/block2/unit_4/bottleneck_v1/conv2/weights] is not available in checkpoint\n",
      "W0526 01:10:31.355419 140498178537280 variables_helper.py:144] Variable [FirstStageFeatureExtractor/resnet_v1_50/block2/unit_4/bottleneck_v1/conv2/weights/Momentum] is not available in checkpoint\n",
      "W0526 01:10:31.356617 140498178537280 variables_helper.py:144] Variable [FirstStageFeatureExtractor/resnet_v1_50/block2/unit_4/bottleneck_v1/conv3/BatchNorm/beta] is not available in checkpoint\n",
      "W0526 01:10:31.357541 140498178537280 variables_helper.py:144] Variable [FirstStageFeatureExtractor/resnet_v1_50/block2/unit_4/bottleneck_v1/conv3/BatchNorm/beta/Momentum] is not available in checkpoint\n",
      "W0526 01:10:31.358552 140498178537280 variables_helper.py:144] Variable [FirstStageFeatureExtractor/resnet_v1_50/block2/unit_4/bottleneck_v1/conv3/BatchNorm/gamma] is not available in checkpoint\n",
      "W0526 01:10:31.359434 140498178537280 variables_helper.py:144] Variable [FirstStageFeatureExtractor/resnet_v1_50/block2/unit_4/bottleneck_v1/conv3/BatchNorm/gamma/Momentum] is not available in checkpoint\n",
      "W0526 01:10:31.360362 140498178537280 variables_helper.py:144] Variable [FirstStageFeatureExtractor/resnet_v1_50/block2/unit_4/bottleneck_v1/conv3/BatchNorm/moving_mean] is not available in checkpoint\n",
      "W0526 01:10:31.365775 140498178537280 variables_helper.py:144] Variable [FirstStageFeatureExtractor/resnet_v1_50/block2/unit_4/bottleneck_v1/conv3/BatchNorm/moving_variance] is not available in checkpoint\n",
      "W0526 01:10:31.366730 140498178537280 variables_helper.py:144] Variable [FirstStageFeatureExtractor/resnet_v1_50/block2/unit_4/bottleneck_v1/conv3/weights] is not available in checkpoint\n",
      "W0526 01:10:31.367549 140498178537280 variables_helper.py:144] Variable [FirstStageFeatureExtractor/resnet_v1_50/block2/unit_4/bottleneck_v1/conv3/weights/Momentum] is not available in checkpoint\n",
      "W0526 01:10:31.369088 140498178537280 variables_helper.py:144] Variable [FirstStageFeatureExtractor/resnet_v1_50/block3/unit_1/bottleneck_v1/conv1/BatchNorm/beta] is not available in checkpoint\n",
      "W0526 01:10:31.369939 140498178537280 variables_helper.py:144] Variable [FirstStageFeatureExtractor/resnet_v1_50/block3/unit_1/bottleneck_v1/conv1/BatchNorm/beta/Momentum] is not available in checkpoint\n",
      "W0526 01:10:31.370655 140498178537280 variables_helper.py:144] Variable [FirstStageFeatureExtractor/resnet_v1_50/block3/unit_1/bottleneck_v1/conv1/BatchNorm/gamma] is not available in checkpoint\n",
      "W0526 01:10:31.371515 140498178537280 variables_helper.py:144] Variable [FirstStageFeatureExtractor/resnet_v1_50/block3/unit_1/bottleneck_v1/conv1/BatchNorm/gamma/Momentum] is not available in checkpoint\n",
      "W0526 01:10:31.372528 140498178537280 variables_helper.py:144] Variable [FirstStageFeatureExtractor/resnet_v1_50/block3/unit_1/bottleneck_v1/conv1/BatchNorm/moving_mean] is not available in checkpoint\n",
      "W0526 01:10:31.373620 140498178537280 variables_helper.py:144] Variable [FirstStageFeatureExtractor/resnet_v1_50/block3/unit_1/bottleneck_v1/conv1/BatchNorm/moving_variance] is not available in checkpoint\n",
      "W0526 01:10:31.374318 140498178537280 variables_helper.py:144] Variable [FirstStageFeatureExtractor/resnet_v1_50/block3/unit_1/bottleneck_v1/conv1/weights] is not available in checkpoint\n",
      "W0526 01:10:31.375145 140498178537280 variables_helper.py:144] Variable [FirstStageFeatureExtractor/resnet_v1_50/block3/unit_1/bottleneck_v1/conv1/weights/Momentum] is not available in checkpoint\n",
      "W0526 01:10:31.375960 140498178537280 variables_helper.py:144] Variable [FirstStageFeatureExtractor/resnet_v1_50/block3/unit_1/bottleneck_v1/conv2/BatchNorm/beta] is not available in checkpoint\n",
      "W0526 01:10:31.376910 140498178537280 variables_helper.py:144] Variable [FirstStageFeatureExtractor/resnet_v1_50/block3/unit_1/bottleneck_v1/conv2/BatchNorm/beta/Momentum] is not available in checkpoint\n",
      "W0526 01:10:31.377748 140498178537280 variables_helper.py:144] Variable [FirstStageFeatureExtractor/resnet_v1_50/block3/unit_1/bottleneck_v1/conv2/BatchNorm/gamma] is not available in checkpoint\n",
      "W0526 01:10:31.378618 140498178537280 variables_helper.py:144] Variable [FirstStageFeatureExtractor/resnet_v1_50/block3/unit_1/bottleneck_v1/conv2/BatchNorm/gamma/Momentum] is not available in checkpoint\n",
      "W0526 01:10:31.379573 140498178537280 variables_helper.py:144] Variable [FirstStageFeatureExtractor/resnet_v1_50/block3/unit_1/bottleneck_v1/conv2/BatchNorm/moving_mean] is not available in checkpoint\n",
      "W0526 01:10:31.380397 140498178537280 variables_helper.py:144] Variable [FirstStageFeatureExtractor/resnet_v1_50/block3/unit_1/bottleneck_v1/conv2/BatchNorm/moving_variance] is not available in checkpoint\n",
      "W0526 01:10:31.381550 140498178537280 variables_helper.py:144] Variable [FirstStageFeatureExtractor/resnet_v1_50/block3/unit_1/bottleneck_v1/conv2/weights] is not available in checkpoint\n",
      "W0526 01:10:31.391443 140498178537280 variables_helper.py:144] Variable [FirstStageFeatureExtractor/resnet_v1_50/block3/unit_1/bottleneck_v1/conv2/weights/Momentum] is not available in checkpoint\n",
      "W0526 01:10:31.392241 140498178537280 variables_helper.py:144] Variable [FirstStageFeatureExtractor/resnet_v1_50/block3/unit_1/bottleneck_v1/conv3/BatchNorm/beta] is not available in checkpoint\n",
      "W0526 01:10:31.393150 140498178537280 variables_helper.py:144] Variable [FirstStageFeatureExtractor/resnet_v1_50/block3/unit_1/bottleneck_v1/conv3/BatchNorm/beta/Momentum] is not available in checkpoint\n"
     ]
    },
    {
     "name": "stderr",
     "output_type": "stream",
     "text": [
      "W0526 01:10:31.401009 140498178537280 variables_helper.py:144] Variable [FirstStageFeatureExtractor/resnet_v1_50/block3/unit_1/bottleneck_v1/conv3/BatchNorm/gamma] is not available in checkpoint\n",
      "W0526 01:10:31.401830 140498178537280 variables_helper.py:144] Variable [FirstStageFeatureExtractor/resnet_v1_50/block3/unit_1/bottleneck_v1/conv3/BatchNorm/gamma/Momentum] is not available in checkpoint\n",
      "W0526 01:10:31.403197 140498178537280 variables_helper.py:144] Variable [FirstStageFeatureExtractor/resnet_v1_50/block3/unit_1/bottleneck_v1/conv3/BatchNorm/moving_mean] is not available in checkpoint\n",
      "W0526 01:10:31.404205 140498178537280 variables_helper.py:144] Variable [FirstStageFeatureExtractor/resnet_v1_50/block3/unit_1/bottleneck_v1/conv3/BatchNorm/moving_variance] is not available in checkpoint\n",
      "W0526 01:10:31.405300 140498178537280 variables_helper.py:144] Variable [FirstStageFeatureExtractor/resnet_v1_50/block3/unit_1/bottleneck_v1/conv3/weights] is not available in checkpoint\n",
      "W0526 01:10:31.406080 140498178537280 variables_helper.py:144] Variable [FirstStageFeatureExtractor/resnet_v1_50/block3/unit_1/bottleneck_v1/conv3/weights/Momentum] is not available in checkpoint\n",
      "W0526 01:10:31.406725 140498178537280 variables_helper.py:144] Variable [FirstStageFeatureExtractor/resnet_v1_50/block3/unit_1/bottleneck_v1/shortcut/BatchNorm/beta] is not available in checkpoint\n",
      "W0526 01:10:31.407419 140498178537280 variables_helper.py:144] Variable [FirstStageFeatureExtractor/resnet_v1_50/block3/unit_1/bottleneck_v1/shortcut/BatchNorm/beta/Momentum] is not available in checkpoint\n",
      "W0526 01:10:31.408184 140498178537280 variables_helper.py:144] Variable [FirstStageFeatureExtractor/resnet_v1_50/block3/unit_1/bottleneck_v1/shortcut/BatchNorm/gamma] is not available in checkpoint\n",
      "W0526 01:10:31.410760 140498178537280 variables_helper.py:144] Variable [FirstStageFeatureExtractor/resnet_v1_50/block3/unit_1/bottleneck_v1/shortcut/BatchNorm/gamma/Momentum] is not available in checkpoint\n",
      "W0526 01:10:31.411515 140498178537280 variables_helper.py:144] Variable [FirstStageFeatureExtractor/resnet_v1_50/block3/unit_1/bottleneck_v1/shortcut/BatchNorm/moving_mean] is not available in checkpoint\n",
      "W0526 01:10:31.413883 140498178537280 variables_helper.py:144] Variable [FirstStageFeatureExtractor/resnet_v1_50/block3/unit_1/bottleneck_v1/shortcut/BatchNorm/moving_variance] is not available in checkpoint\n",
      "W0526 01:10:31.415746 140498178537280 variables_helper.py:144] Variable [FirstStageFeatureExtractor/resnet_v1_50/block3/unit_1/bottleneck_v1/shortcut/weights] is not available in checkpoint\n",
      "W0526 01:10:31.417016 140498178537280 variables_helper.py:144] Variable [FirstStageFeatureExtractor/resnet_v1_50/block3/unit_1/bottleneck_v1/shortcut/weights/Momentum] is not available in checkpoint\n",
      "W0526 01:10:31.417957 140498178537280 variables_helper.py:144] Variable [FirstStageFeatureExtractor/resnet_v1_50/block3/unit_2/bottleneck_v1/conv1/BatchNorm/beta] is not available in checkpoint\n",
      "W0526 01:10:31.419003 140498178537280 variables_helper.py:144] Variable [FirstStageFeatureExtractor/resnet_v1_50/block3/unit_2/bottleneck_v1/conv1/BatchNorm/beta/Momentum] is not available in checkpoint\n",
      "W0526 01:10:31.421808 140498178537280 variables_helper.py:144] Variable [FirstStageFeatureExtractor/resnet_v1_50/block3/unit_2/bottleneck_v1/conv1/BatchNorm/gamma] is not available in checkpoint\n",
      "W0526 01:10:31.422745 140498178537280 variables_helper.py:144] Variable [FirstStageFeatureExtractor/resnet_v1_50/block3/unit_2/bottleneck_v1/conv1/BatchNorm/gamma/Momentum] is not available in checkpoint\n",
      "W0526 01:10:31.423730 140498178537280 variables_helper.py:144] Variable [FirstStageFeatureExtractor/resnet_v1_50/block3/unit_2/bottleneck_v1/conv1/BatchNorm/moving_mean] is not available in checkpoint\n",
      "W0526 01:10:31.424540 140498178537280 variables_helper.py:144] Variable [FirstStageFeatureExtractor/resnet_v1_50/block3/unit_2/bottleneck_v1/conv1/BatchNorm/moving_variance] is not available in checkpoint\n",
      "W0526 01:10:31.425497 140498178537280 variables_helper.py:144] Variable [FirstStageFeatureExtractor/resnet_v1_50/block3/unit_2/bottleneck_v1/conv1/weights] is not available in checkpoint\n",
      "W0526 01:10:31.426309 140498178537280 variables_helper.py:144] Variable [FirstStageFeatureExtractor/resnet_v1_50/block3/unit_2/bottleneck_v1/conv1/weights/Momentum] is not available in checkpoint\n",
      "W0526 01:10:31.430185 140498178537280 variables_helper.py:144] Variable [FirstStageFeatureExtractor/resnet_v1_50/block3/unit_2/bottleneck_v1/conv2/BatchNorm/beta] is not available in checkpoint\n",
      "W0526 01:10:31.431315 140498178537280 variables_helper.py:144] Variable [FirstStageFeatureExtractor/resnet_v1_50/block3/unit_2/bottleneck_v1/conv2/BatchNorm/beta/Momentum] is not available in checkpoint\n",
      "W0526 01:10:31.432559 140498178537280 variables_helper.py:144] Variable [FirstStageFeatureExtractor/resnet_v1_50/block3/unit_2/bottleneck_v1/conv2/BatchNorm/gamma] is not available in checkpoint\n",
      "W0526 01:10:31.433602 140498178537280 variables_helper.py:144] Variable [FirstStageFeatureExtractor/resnet_v1_50/block3/unit_2/bottleneck_v1/conv2/BatchNorm/gamma/Momentum] is not available in checkpoint\n",
      "W0526 01:10:31.434380 140498178537280 variables_helper.py:144] Variable [FirstStageFeatureExtractor/resnet_v1_50/block3/unit_2/bottleneck_v1/conv2/BatchNorm/moving_mean] is not available in checkpoint\n",
      "W0526 01:10:31.435203 140498178537280 variables_helper.py:144] Variable [FirstStageFeatureExtractor/resnet_v1_50/block3/unit_2/bottleneck_v1/conv2/BatchNorm/moving_variance] is not available in checkpoint\n",
      "W0526 01:10:31.435935 140498178537280 variables_helper.py:144] Variable [FirstStageFeatureExtractor/resnet_v1_50/block3/unit_2/bottleneck_v1/conv2/weights] is not available in checkpoint\n",
      "W0526 01:10:31.437263 140498178537280 variables_helper.py:144] Variable [FirstStageFeatureExtractor/resnet_v1_50/block3/unit_2/bottleneck_v1/conv2/weights/Momentum] is not available in checkpoint\n",
      "W0526 01:10:31.438160 140498178537280 variables_helper.py:144] Variable [FirstStageFeatureExtractor/resnet_v1_50/block3/unit_2/bottleneck_v1/conv3/BatchNorm/beta] is not available in checkpoint\n",
      "W0526 01:10:31.439009 140498178537280 variables_helper.py:144] Variable [FirstStageFeatureExtractor/resnet_v1_50/block3/unit_2/bottleneck_v1/conv3/BatchNorm/beta/Momentum] is not available in checkpoint\n",
      "W0526 01:10:31.440209 140498178537280 variables_helper.py:144] Variable [FirstStageFeatureExtractor/resnet_v1_50/block3/unit_2/bottleneck_v1/conv3/BatchNorm/gamma] is not available in checkpoint\n",
      "W0526 01:10:31.442360 140498178537280 variables_helper.py:144] Variable [FirstStageFeatureExtractor/resnet_v1_50/block3/unit_2/bottleneck_v1/conv3/BatchNorm/gamma/Momentum] is not available in checkpoint\n",
      "W0526 01:10:31.445189 140498178537280 variables_helper.py:144] Variable [FirstStageFeatureExtractor/resnet_v1_50/block3/unit_2/bottleneck_v1/conv3/BatchNorm/moving_mean] is not available in checkpoint\n",
      "W0526 01:10:31.446096 140498178537280 variables_helper.py:144] Variable [FirstStageFeatureExtractor/resnet_v1_50/block3/unit_2/bottleneck_v1/conv3/BatchNorm/moving_variance] is not available in checkpoint\n",
      "W0526 01:10:31.449374 140498178537280 variables_helper.py:144] Variable [FirstStageFeatureExtractor/resnet_v1_50/block3/unit_2/bottleneck_v1/conv3/weights] is not available in checkpoint\n",
      "W0526 01:10:31.462454 140498178537280 variables_helper.py:144] Variable [FirstStageFeatureExtractor/resnet_v1_50/block3/unit_2/bottleneck_v1/conv3/weights/Momentum] is not available in checkpoint\n",
      "W0526 01:10:31.466920 140498178537280 variables_helper.py:144] Variable [FirstStageFeatureExtractor/resnet_v1_50/block3/unit_3/bottleneck_v1/conv1/BatchNorm/beta] is not available in checkpoint\n",
      "W0526 01:10:31.467683 140498178537280 variables_helper.py:144] Variable [FirstStageFeatureExtractor/resnet_v1_50/block3/unit_3/bottleneck_v1/conv1/BatchNorm/beta/Momentum] is not available in checkpoint\n",
      "W0526 01:10:31.468421 140498178537280 variables_helper.py:144] Variable [FirstStageFeatureExtractor/resnet_v1_50/block3/unit_3/bottleneck_v1/conv1/BatchNorm/gamma] is not available in checkpoint\n",
      "W0526 01:10:31.469150 140498178537280 variables_helper.py:144] Variable [FirstStageFeatureExtractor/resnet_v1_50/block3/unit_3/bottleneck_v1/conv1/BatchNorm/gamma/Momentum] is not available in checkpoint\n"
     ]
    },
    {
     "name": "stderr",
     "output_type": "stream",
     "text": [
      "W0526 01:10:31.470042 140498178537280 variables_helper.py:144] Variable [FirstStageFeatureExtractor/resnet_v1_50/block3/unit_3/bottleneck_v1/conv1/BatchNorm/moving_mean] is not available in checkpoint\n",
      "W0526 01:10:31.470681 140498178537280 variables_helper.py:144] Variable [FirstStageFeatureExtractor/resnet_v1_50/block3/unit_3/bottleneck_v1/conv1/BatchNorm/moving_variance] is not available in checkpoint\n",
      "W0526 01:10:31.471209 140498178537280 variables_helper.py:144] Variable [FirstStageFeatureExtractor/resnet_v1_50/block3/unit_3/bottleneck_v1/conv1/weights] is not available in checkpoint\n",
      "W0526 01:10:31.471818 140498178537280 variables_helper.py:144] Variable [FirstStageFeatureExtractor/resnet_v1_50/block3/unit_3/bottleneck_v1/conv1/weights/Momentum] is not available in checkpoint\n",
      "W0526 01:10:31.472512 140498178537280 variables_helper.py:144] Variable [FirstStageFeatureExtractor/resnet_v1_50/block3/unit_3/bottleneck_v1/conv2/BatchNorm/beta] is not available in checkpoint\n",
      "W0526 01:10:31.474166 140498178537280 variables_helper.py:144] Variable [FirstStageFeatureExtractor/resnet_v1_50/block3/unit_3/bottleneck_v1/conv2/BatchNorm/beta/Momentum] is not available in checkpoint\n",
      "W0526 01:10:31.474727 140498178537280 variables_helper.py:144] Variable [FirstStageFeatureExtractor/resnet_v1_50/block3/unit_3/bottleneck_v1/conv2/BatchNorm/gamma] is not available in checkpoint\n",
      "W0526 01:10:31.475433 140498178537280 variables_helper.py:144] Variable [FirstStageFeatureExtractor/resnet_v1_50/block3/unit_3/bottleneck_v1/conv2/BatchNorm/gamma/Momentum] is not available in checkpoint\n",
      "W0526 01:10:31.476445 140498178537280 variables_helper.py:144] Variable [FirstStageFeatureExtractor/resnet_v1_50/block3/unit_3/bottleneck_v1/conv2/BatchNorm/moving_mean] is not available in checkpoint\n",
      "W0526 01:10:31.477289 140498178537280 variables_helper.py:144] Variable [FirstStageFeatureExtractor/resnet_v1_50/block3/unit_3/bottleneck_v1/conv2/BatchNorm/moving_variance] is not available in checkpoint\n",
      "W0526 01:10:31.477845 140498178537280 variables_helper.py:144] Variable [FirstStageFeatureExtractor/resnet_v1_50/block3/unit_3/bottleneck_v1/conv2/weights] is not available in checkpoint\n",
      "W0526 01:10:31.478379 140498178537280 variables_helper.py:144] Variable [FirstStageFeatureExtractor/resnet_v1_50/block3/unit_3/bottleneck_v1/conv2/weights/Momentum] is not available in checkpoint\n",
      "W0526 01:10:31.479165 140498178537280 variables_helper.py:144] Variable [FirstStageFeatureExtractor/resnet_v1_50/block3/unit_3/bottleneck_v1/conv3/BatchNorm/beta] is not available in checkpoint\n",
      "W0526 01:10:31.479746 140498178537280 variables_helper.py:144] Variable [FirstStageFeatureExtractor/resnet_v1_50/block3/unit_3/bottleneck_v1/conv3/BatchNorm/beta/Momentum] is not available in checkpoint\n",
      "W0526 01:10:31.480304 140498178537280 variables_helper.py:144] Variable [FirstStageFeatureExtractor/resnet_v1_50/block3/unit_3/bottleneck_v1/conv3/BatchNorm/gamma] is not available in checkpoint\n",
      "W0526 01:10:31.481659 140498178537280 variables_helper.py:144] Variable [FirstStageFeatureExtractor/resnet_v1_50/block3/unit_3/bottleneck_v1/conv3/BatchNorm/gamma/Momentum] is not available in checkpoint\n",
      "W0526 01:10:31.482477 140498178537280 variables_helper.py:144] Variable [FirstStageFeatureExtractor/resnet_v1_50/block3/unit_3/bottleneck_v1/conv3/BatchNorm/moving_mean] is not available in checkpoint\n",
      "W0526 01:10:31.482975 140498178537280 variables_helper.py:144] Variable [FirstStageFeatureExtractor/resnet_v1_50/block3/unit_3/bottleneck_v1/conv3/BatchNorm/moving_variance] is not available in checkpoint\n",
      "W0526 01:10:31.483496 140498178537280 variables_helper.py:144] Variable [FirstStageFeatureExtractor/resnet_v1_50/block3/unit_3/bottleneck_v1/conv3/weights] is not available in checkpoint\n",
      "W0526 01:10:31.484015 140498178537280 variables_helper.py:144] Variable [FirstStageFeatureExtractor/resnet_v1_50/block3/unit_3/bottleneck_v1/conv3/weights/Momentum] is not available in checkpoint\n",
      "W0526 01:10:31.484529 140498178537280 variables_helper.py:144] Variable [FirstStageFeatureExtractor/resnet_v1_50/block3/unit_4/bottleneck_v1/conv1/BatchNorm/beta] is not available in checkpoint\n",
      "W0526 01:10:31.485045 140498178537280 variables_helper.py:144] Variable [FirstStageFeatureExtractor/resnet_v1_50/block3/unit_4/bottleneck_v1/conv1/BatchNorm/beta/Momentum] is not available in checkpoint\n",
      "W0526 01:10:31.485508 140498178537280 variables_helper.py:144] Variable [FirstStageFeatureExtractor/resnet_v1_50/block3/unit_4/bottleneck_v1/conv1/BatchNorm/gamma] is not available in checkpoint\n",
      "W0526 01:10:31.486044 140498178537280 variables_helper.py:144] Variable [FirstStageFeatureExtractor/resnet_v1_50/block3/unit_4/bottleneck_v1/conv1/BatchNorm/gamma/Momentum] is not available in checkpoint\n",
      "W0526 01:10:31.486624 140498178537280 variables_helper.py:144] Variable [FirstStageFeatureExtractor/resnet_v1_50/block3/unit_4/bottleneck_v1/conv1/BatchNorm/moving_mean] is not available in checkpoint\n",
      "W0526 01:10:31.487128 140498178537280 variables_helper.py:144] Variable [FirstStageFeatureExtractor/resnet_v1_50/block3/unit_4/bottleneck_v1/conv1/BatchNorm/moving_variance] is not available in checkpoint\n",
      "W0526 01:10:31.487680 140498178537280 variables_helper.py:144] Variable [FirstStageFeatureExtractor/resnet_v1_50/block3/unit_4/bottleneck_v1/conv1/weights] is not available in checkpoint\n",
      "W0526 01:10:31.488301 140498178537280 variables_helper.py:144] Variable [FirstStageFeatureExtractor/resnet_v1_50/block3/unit_4/bottleneck_v1/conv1/weights/Momentum] is not available in checkpoint\n",
      "W0526 01:10:31.489304 140498178537280 variables_helper.py:144] Variable [FirstStageFeatureExtractor/resnet_v1_50/block3/unit_4/bottleneck_v1/conv2/BatchNorm/beta] is not available in checkpoint\n",
      "W0526 01:10:31.489886 140498178537280 variables_helper.py:144] Variable [FirstStageFeatureExtractor/resnet_v1_50/block3/unit_4/bottleneck_v1/conv2/BatchNorm/beta/Momentum] is not available in checkpoint\n",
      "W0526 01:10:31.490473 140498178537280 variables_helper.py:144] Variable [FirstStageFeatureExtractor/resnet_v1_50/block3/unit_4/bottleneck_v1/conv2/BatchNorm/gamma] is not available in checkpoint\n",
      "W0526 01:10:31.491219 140498178537280 variables_helper.py:144] Variable [FirstStageFeatureExtractor/resnet_v1_50/block3/unit_4/bottleneck_v1/conv2/BatchNorm/gamma/Momentum] is not available in checkpoint\n",
      "W0526 01:10:31.491718 140498178537280 variables_helper.py:144] Variable [FirstStageFeatureExtractor/resnet_v1_50/block3/unit_4/bottleneck_v1/conv2/BatchNorm/moving_mean] is not available in checkpoint\n",
      "W0526 01:10:31.492419 140498178537280 variables_helper.py:144] Variable [FirstStageFeatureExtractor/resnet_v1_50/block3/unit_4/bottleneck_v1/conv2/BatchNorm/moving_variance] is not available in checkpoint\n",
      "W0526 01:10:31.493177 140498178537280 variables_helper.py:144] Variable [FirstStageFeatureExtractor/resnet_v1_50/block3/unit_4/bottleneck_v1/conv2/weights] is not available in checkpoint\n",
      "W0526 01:10:31.497912 140498178537280 variables_helper.py:144] Variable [FirstStageFeatureExtractor/resnet_v1_50/block3/unit_4/bottleneck_v1/conv2/weights/Momentum] is not available in checkpoint\n",
      "W0526 01:10:31.498650 140498178537280 variables_helper.py:144] Variable [FirstStageFeatureExtractor/resnet_v1_50/block3/unit_4/bottleneck_v1/conv3/BatchNorm/beta] is not available in checkpoint\n",
      "W0526 01:10:31.499174 140498178537280 variables_helper.py:144] Variable [FirstStageFeatureExtractor/resnet_v1_50/block3/unit_4/bottleneck_v1/conv3/BatchNorm/beta/Momentum] is not available in checkpoint\n",
      "W0526 01:10:31.499825 140498178537280 variables_helper.py:144] Variable [FirstStageFeatureExtractor/resnet_v1_50/block3/unit_4/bottleneck_v1/conv3/BatchNorm/gamma] is not available in checkpoint\n",
      "W0526 01:10:31.500373 140498178537280 variables_helper.py:144] Variable [FirstStageFeatureExtractor/resnet_v1_50/block3/unit_4/bottleneck_v1/conv3/BatchNorm/gamma/Momentum] is not available in checkpoint\n",
      "W0526 01:10:31.500946 140498178537280 variables_helper.py:144] Variable [FirstStageFeatureExtractor/resnet_v1_50/block3/unit_4/bottleneck_v1/conv3/BatchNorm/moving_mean] is not available in checkpoint\n",
      "W0526 01:10:31.501613 140498178537280 variables_helper.py:144] Variable [FirstStageFeatureExtractor/resnet_v1_50/block3/unit_4/bottleneck_v1/conv3/BatchNorm/moving_variance] is not available in checkpoint\n"
     ]
    },
    {
     "name": "stderr",
     "output_type": "stream",
     "text": [
      "W0526 01:10:31.502379 140498178537280 variables_helper.py:144] Variable [FirstStageFeatureExtractor/resnet_v1_50/block3/unit_4/bottleneck_v1/conv3/weights] is not available in checkpoint\n",
      "W0526 01:10:31.503903 140498178537280 variables_helper.py:144] Variable [FirstStageFeatureExtractor/resnet_v1_50/block3/unit_4/bottleneck_v1/conv3/weights/Momentum] is not available in checkpoint\n",
      "W0526 01:10:31.504589 140498178537280 variables_helper.py:144] Variable [FirstStageFeatureExtractor/resnet_v1_50/block3/unit_5/bottleneck_v1/conv1/BatchNorm/beta] is not available in checkpoint\n",
      "W0526 01:10:31.505174 140498178537280 variables_helper.py:144] Variable [FirstStageFeatureExtractor/resnet_v1_50/block3/unit_5/bottleneck_v1/conv1/BatchNorm/beta/Momentum] is not available in checkpoint\n",
      "W0526 01:10:31.505730 140498178537280 variables_helper.py:144] Variable [FirstStageFeatureExtractor/resnet_v1_50/block3/unit_5/bottleneck_v1/conv1/BatchNorm/gamma] is not available in checkpoint\n",
      "W0526 01:10:31.506315 140498178537280 variables_helper.py:144] Variable [FirstStageFeatureExtractor/resnet_v1_50/block3/unit_5/bottleneck_v1/conv1/BatchNorm/gamma/Momentum] is not available in checkpoint\n",
      "W0526 01:10:31.507279 140498178537280 variables_helper.py:144] Variable [FirstStageFeatureExtractor/resnet_v1_50/block3/unit_5/bottleneck_v1/conv1/BatchNorm/moving_mean] is not available in checkpoint\n",
      "W0526 01:10:31.507981 140498178537280 variables_helper.py:144] Variable [FirstStageFeatureExtractor/resnet_v1_50/block3/unit_5/bottleneck_v1/conv1/BatchNorm/moving_variance] is not available in checkpoint\n",
      "W0526 01:10:31.508623 140498178537280 variables_helper.py:144] Variable [FirstStageFeatureExtractor/resnet_v1_50/block3/unit_5/bottleneck_v1/conv1/weights] is not available in checkpoint\n",
      "W0526 01:10:31.509155 140498178537280 variables_helper.py:144] Variable [FirstStageFeatureExtractor/resnet_v1_50/block3/unit_5/bottleneck_v1/conv1/weights/Momentum] is not available in checkpoint\n",
      "W0526 01:10:31.509782 140498178537280 variables_helper.py:144] Variable [FirstStageFeatureExtractor/resnet_v1_50/block3/unit_5/bottleneck_v1/conv2/BatchNorm/beta] is not available in checkpoint\n",
      "W0526 01:10:31.512067 140498178537280 variables_helper.py:144] Variable [FirstStageFeatureExtractor/resnet_v1_50/block3/unit_5/bottleneck_v1/conv2/BatchNorm/beta/Momentum] is not available in checkpoint\n",
      "W0526 01:10:31.512806 140498178537280 variables_helper.py:144] Variable [FirstStageFeatureExtractor/resnet_v1_50/block3/unit_5/bottleneck_v1/conv2/BatchNorm/gamma] is not available in checkpoint\n",
      "W0526 01:10:31.513669 140498178537280 variables_helper.py:144] Variable [FirstStageFeatureExtractor/resnet_v1_50/block3/unit_5/bottleneck_v1/conv2/BatchNorm/gamma/Momentum] is not available in checkpoint\n",
      "W0526 01:10:31.514466 140498178537280 variables_helper.py:144] Variable [FirstStageFeatureExtractor/resnet_v1_50/block3/unit_5/bottleneck_v1/conv2/BatchNorm/moving_mean] is not available in checkpoint\n",
      "W0526 01:10:31.515322 140498178537280 variables_helper.py:144] Variable [FirstStageFeatureExtractor/resnet_v1_50/block3/unit_5/bottleneck_v1/conv2/BatchNorm/moving_variance] is not available in checkpoint\n",
      "W0526 01:10:31.516005 140498178537280 variables_helper.py:144] Variable [FirstStageFeatureExtractor/resnet_v1_50/block3/unit_5/bottleneck_v1/conv2/weights] is not available in checkpoint\n",
      "W0526 01:10:31.516714 140498178537280 variables_helper.py:144] Variable [FirstStageFeatureExtractor/resnet_v1_50/block3/unit_5/bottleneck_v1/conv2/weights/Momentum] is not available in checkpoint\n",
      "W0526 01:10:31.517584 140498178537280 variables_helper.py:144] Variable [FirstStageFeatureExtractor/resnet_v1_50/block3/unit_5/bottleneck_v1/conv3/BatchNorm/beta] is not available in checkpoint\n",
      "W0526 01:10:31.518585 140498178537280 variables_helper.py:144] Variable [FirstStageFeatureExtractor/resnet_v1_50/block3/unit_5/bottleneck_v1/conv3/BatchNorm/beta/Momentum] is not available in checkpoint\n",
      "W0526 01:10:31.527058 140498178537280 variables_helper.py:144] Variable [FirstStageFeatureExtractor/resnet_v1_50/block3/unit_5/bottleneck_v1/conv3/BatchNorm/gamma] is not available in checkpoint\n",
      "W0526 01:10:31.527957 140498178537280 variables_helper.py:144] Variable [FirstStageFeatureExtractor/resnet_v1_50/block3/unit_5/bottleneck_v1/conv3/BatchNorm/gamma/Momentum] is not available in checkpoint\n",
      "W0526 01:10:31.528579 140498178537280 variables_helper.py:144] Variable [FirstStageFeatureExtractor/resnet_v1_50/block3/unit_5/bottleneck_v1/conv3/BatchNorm/moving_mean] is not available in checkpoint\n",
      "W0526 01:10:31.529145 140498178537280 variables_helper.py:144] Variable [FirstStageFeatureExtractor/resnet_v1_50/block3/unit_5/bottleneck_v1/conv3/BatchNorm/moving_variance] is not available in checkpoint\n",
      "W0526 01:10:31.529838 140498178537280 variables_helper.py:144] Variable [FirstStageFeatureExtractor/resnet_v1_50/block3/unit_5/bottleneck_v1/conv3/weights] is not available in checkpoint\n",
      "W0526 01:10:31.531453 140498178537280 variables_helper.py:144] Variable [FirstStageFeatureExtractor/resnet_v1_50/block3/unit_5/bottleneck_v1/conv3/weights/Momentum] is not available in checkpoint\n",
      "W0526 01:10:31.532009 140498178537280 variables_helper.py:144] Variable [FirstStageFeatureExtractor/resnet_v1_50/block3/unit_6/bottleneck_v1/conv1/BatchNorm/beta] is not available in checkpoint\n",
      "W0526 01:10:31.532608 140498178537280 variables_helper.py:144] Variable [FirstStageFeatureExtractor/resnet_v1_50/block3/unit_6/bottleneck_v1/conv1/BatchNorm/beta/Momentum] is not available in checkpoint\n",
      "W0526 01:10:31.533217 140498178537280 variables_helper.py:144] Variable [FirstStageFeatureExtractor/resnet_v1_50/block3/unit_6/bottleneck_v1/conv1/BatchNorm/gamma] is not available in checkpoint\n",
      "W0526 01:10:31.533847 140498178537280 variables_helper.py:144] Variable [FirstStageFeatureExtractor/resnet_v1_50/block3/unit_6/bottleneck_v1/conv1/BatchNorm/gamma/Momentum] is not available in checkpoint\n",
      "W0526 01:10:31.535068 140498178537280 variables_helper.py:144] Variable [FirstStageFeatureExtractor/resnet_v1_50/block3/unit_6/bottleneck_v1/conv1/BatchNorm/moving_mean] is not available in checkpoint\n",
      "W0526 01:10:31.535581 140498178537280 variables_helper.py:144] Variable [FirstStageFeatureExtractor/resnet_v1_50/block3/unit_6/bottleneck_v1/conv1/BatchNorm/moving_variance] is not available in checkpoint\n",
      "W0526 01:10:31.536139 140498178537280 variables_helper.py:144] Variable [FirstStageFeatureExtractor/resnet_v1_50/block3/unit_6/bottleneck_v1/conv1/weights] is not available in checkpoint\n",
      "W0526 01:10:31.536791 140498178537280 variables_helper.py:144] Variable [FirstStageFeatureExtractor/resnet_v1_50/block3/unit_6/bottleneck_v1/conv1/weights/Momentum] is not available in checkpoint\n",
      "W0526 01:10:31.537707 140498178537280 variables_helper.py:144] Variable [FirstStageFeatureExtractor/resnet_v1_50/block3/unit_6/bottleneck_v1/conv2/BatchNorm/beta] is not available in checkpoint\n",
      "W0526 01:10:31.538884 140498178537280 variables_helper.py:144] Variable [FirstStageFeatureExtractor/resnet_v1_50/block3/unit_6/bottleneck_v1/conv2/BatchNorm/beta/Momentum] is not available in checkpoint\n",
      "W0526 01:10:31.539338 140498178537280 variables_helper.py:144] Variable [FirstStageFeatureExtractor/resnet_v1_50/block3/unit_6/bottleneck_v1/conv2/BatchNorm/gamma] is not available in checkpoint\n",
      "W0526 01:10:31.540228 140498178537280 variables_helper.py:144] Variable [FirstStageFeatureExtractor/resnet_v1_50/block3/unit_6/bottleneck_v1/conv2/BatchNorm/gamma/Momentum] is not available in checkpoint\n",
      "W0526 01:10:31.541214 140498178537280 variables_helper.py:144] Variable [FirstStageFeatureExtractor/resnet_v1_50/block3/unit_6/bottleneck_v1/conv2/BatchNorm/moving_mean] is not available in checkpoint\n",
      "W0526 01:10:31.541848 140498178537280 variables_helper.py:144] Variable [FirstStageFeatureExtractor/resnet_v1_50/block3/unit_6/bottleneck_v1/conv2/BatchNorm/moving_variance] is not available in checkpoint\n",
      "W0526 01:10:31.542339 140498178537280 variables_helper.py:144] Variable [FirstStageFeatureExtractor/resnet_v1_50/block3/unit_6/bottleneck_v1/conv2/weights] is not available in checkpoint\n",
      "W0526 01:10:31.542889 140498178537280 variables_helper.py:144] Variable [FirstStageFeatureExtractor/resnet_v1_50/block3/unit_6/bottleneck_v1/conv2/weights/Momentum] is not available in checkpoint\n"
     ]
    },
    {
     "name": "stderr",
     "output_type": "stream",
     "text": [
      "W0526 01:10:31.543451 140498178537280 variables_helper.py:144] Variable [FirstStageFeatureExtractor/resnet_v1_50/block3/unit_6/bottleneck_v1/conv3/BatchNorm/beta] is not available in checkpoint\n",
      "W0526 01:10:31.544097 140498178537280 variables_helper.py:144] Variable [FirstStageFeatureExtractor/resnet_v1_50/block3/unit_6/bottleneck_v1/conv3/BatchNorm/beta/Momentum] is not available in checkpoint\n",
      "W0526 01:10:31.545455 140498178537280 variables_helper.py:144] Variable [FirstStageFeatureExtractor/resnet_v1_50/block3/unit_6/bottleneck_v1/conv3/BatchNorm/gamma] is not available in checkpoint\n",
      "W0526 01:10:31.545918 140498178537280 variables_helper.py:144] Variable [FirstStageFeatureExtractor/resnet_v1_50/block3/unit_6/bottleneck_v1/conv3/BatchNorm/gamma/Momentum] is not available in checkpoint\n",
      "W0526 01:10:31.546461 140498178537280 variables_helper.py:144] Variable [FirstStageFeatureExtractor/resnet_v1_50/block3/unit_6/bottleneck_v1/conv3/BatchNorm/moving_mean] is not available in checkpoint\n",
      "W0526 01:10:31.547159 140498178537280 variables_helper.py:144] Variable [FirstStageFeatureExtractor/resnet_v1_50/block3/unit_6/bottleneck_v1/conv3/BatchNorm/moving_variance] is not available in checkpoint\n",
      "W0526 01:10:31.548463 140498178537280 variables_helper.py:144] Variable [FirstStageFeatureExtractor/resnet_v1_50/block3/unit_6/bottleneck_v1/conv3/weights] is not available in checkpoint\n",
      "W0526 01:10:31.548985 140498178537280 variables_helper.py:144] Variable [FirstStageFeatureExtractor/resnet_v1_50/block3/unit_6/bottleneck_v1/conv3/weights/Momentum] is not available in checkpoint\n",
      "W0526 01:10:31.549792 140498178537280 variables_helper.py:144] Variable [FirstStageFeatureExtractor/resnet_v1_50/block4/unit_1/bottleneck_v1/conv1/BatchNorm/beta] is not available in checkpoint\n",
      "W0526 01:10:31.550260 140498178537280 variables_helper.py:144] Variable [FirstStageFeatureExtractor/resnet_v1_50/block4/unit_1/bottleneck_v1/conv1/BatchNorm/gamma] is not available in checkpoint\n",
      "W0526 01:10:31.550740 140498178537280 variables_helper.py:144] Variable [FirstStageFeatureExtractor/resnet_v1_50/block4/unit_1/bottleneck_v1/conv1/BatchNorm/moving_mean] is not available in checkpoint\n",
      "W0526 01:10:31.553385 140498178537280 variables_helper.py:144] Variable [FirstStageFeatureExtractor/resnet_v1_50/block4/unit_1/bottleneck_v1/conv1/BatchNorm/moving_variance] is not available in checkpoint\n",
      "W0526 01:10:31.554171 140498178537280 variables_helper.py:144] Variable [FirstStageFeatureExtractor/resnet_v1_50/block4/unit_1/bottleneck_v1/conv1/weights] is not available in checkpoint\n",
      "W0526 01:10:31.554905 140498178537280 variables_helper.py:144] Variable [FirstStageFeatureExtractor/resnet_v1_50/block4/unit_1/bottleneck_v1/conv2/BatchNorm/beta] is not available in checkpoint\n",
      "W0526 01:10:31.555576 140498178537280 variables_helper.py:144] Variable [FirstStageFeatureExtractor/resnet_v1_50/block4/unit_1/bottleneck_v1/conv2/BatchNorm/gamma] is not available in checkpoint\n",
      "W0526 01:10:31.556146 140498178537280 variables_helper.py:144] Variable [FirstStageFeatureExtractor/resnet_v1_50/block4/unit_1/bottleneck_v1/conv2/BatchNorm/moving_mean] is not available in checkpoint\n",
      "W0526 01:10:31.557298 140498178537280 variables_helper.py:144] Variable [FirstStageFeatureExtractor/resnet_v1_50/block4/unit_1/bottleneck_v1/conv2/BatchNorm/moving_variance] is not available in checkpoint\n",
      "W0526 01:10:31.557903 140498178537280 variables_helper.py:144] Variable [FirstStageFeatureExtractor/resnet_v1_50/block4/unit_1/bottleneck_v1/conv2/weights] is not available in checkpoint\n",
      "W0526 01:10:31.558452 140498178537280 variables_helper.py:144] Variable [FirstStageFeatureExtractor/resnet_v1_50/block4/unit_1/bottleneck_v1/conv3/BatchNorm/beta] is not available in checkpoint\n",
      "W0526 01:10:31.559054 140498178537280 variables_helper.py:144] Variable [FirstStageFeatureExtractor/resnet_v1_50/block4/unit_1/bottleneck_v1/conv3/BatchNorm/gamma] is not available in checkpoint\n",
      "W0526 01:10:31.559627 140498178537280 variables_helper.py:144] Variable [FirstStageFeatureExtractor/resnet_v1_50/block4/unit_1/bottleneck_v1/conv3/BatchNorm/moving_mean] is not available in checkpoint\n",
      "W0526 01:10:31.563163 140498178537280 variables_helper.py:144] Variable [FirstStageFeatureExtractor/resnet_v1_50/block4/unit_1/bottleneck_v1/conv3/BatchNorm/moving_variance] is not available in checkpoint\n",
      "W0526 01:10:31.563992 140498178537280 variables_helper.py:144] Variable [FirstStageFeatureExtractor/resnet_v1_50/block4/unit_1/bottleneck_v1/conv3/weights] is not available in checkpoint\n",
      "W0526 01:10:31.564741 140498178537280 variables_helper.py:144] Variable [FirstStageFeatureExtractor/resnet_v1_50/block4/unit_1/bottleneck_v1/shortcut/BatchNorm/beta] is not available in checkpoint\n",
      "W0526 01:10:31.566001 140498178537280 variables_helper.py:144] Variable [FirstStageFeatureExtractor/resnet_v1_50/block4/unit_1/bottleneck_v1/shortcut/BatchNorm/gamma] is not available in checkpoint\n",
      "W0526 01:10:31.566771 140498178537280 variables_helper.py:144] Variable [FirstStageFeatureExtractor/resnet_v1_50/block4/unit_1/bottleneck_v1/shortcut/BatchNorm/moving_mean] is not available in checkpoint\n",
      "W0526 01:10:31.567426 140498178537280 variables_helper.py:144] Variable [FirstStageFeatureExtractor/resnet_v1_50/block4/unit_1/bottleneck_v1/shortcut/BatchNorm/moving_variance] is not available in checkpoint\n",
      "W0526 01:10:31.568013 140498178537280 variables_helper.py:144] Variable [FirstStageFeatureExtractor/resnet_v1_50/block4/unit_1/bottleneck_v1/shortcut/weights] is not available in checkpoint\n",
      "W0526 01:10:31.568634 140498178537280 variables_helper.py:144] Variable [FirstStageFeatureExtractor/resnet_v1_50/block4/unit_2/bottleneck_v1/conv1/BatchNorm/beta] is not available in checkpoint\n",
      "W0526 01:10:31.569159 140498178537280 variables_helper.py:144] Variable [FirstStageFeatureExtractor/resnet_v1_50/block4/unit_2/bottleneck_v1/conv1/BatchNorm/gamma] is not available in checkpoint\n",
      "W0526 01:10:31.569648 140498178537280 variables_helper.py:144] Variable [FirstStageFeatureExtractor/resnet_v1_50/block4/unit_2/bottleneck_v1/conv1/BatchNorm/moving_mean] is not available in checkpoint\n",
      "W0526 01:10:31.570106 140498178537280 variables_helper.py:144] Variable [FirstStageFeatureExtractor/resnet_v1_50/block4/unit_2/bottleneck_v1/conv1/BatchNorm/moving_variance] is not available in checkpoint\n",
      "W0526 01:10:31.570735 140498178537280 variables_helper.py:144] Variable [FirstStageFeatureExtractor/resnet_v1_50/block4/unit_2/bottleneck_v1/conv1/weights] is not available in checkpoint\n",
      "W0526 01:10:31.571293 140498178537280 variables_helper.py:144] Variable [FirstStageFeatureExtractor/resnet_v1_50/block4/unit_2/bottleneck_v1/conv2/BatchNorm/beta] is not available in checkpoint\n",
      "W0526 01:10:31.571845 140498178537280 variables_helper.py:144] Variable [FirstStageFeatureExtractor/resnet_v1_50/block4/unit_2/bottleneck_v1/conv2/BatchNorm/gamma] is not available in checkpoint\n",
      "W0526 01:10:31.572515 140498178537280 variables_helper.py:144] Variable [FirstStageFeatureExtractor/resnet_v1_50/block4/unit_2/bottleneck_v1/conv2/BatchNorm/moving_mean] is not available in checkpoint\n",
      "W0526 01:10:31.573061 140498178537280 variables_helper.py:144] Variable [FirstStageFeatureExtractor/resnet_v1_50/block4/unit_2/bottleneck_v1/conv2/BatchNorm/moving_variance] is not available in checkpoint\n",
      "W0526 01:10:31.573660 140498178537280 variables_helper.py:144] Variable [FirstStageFeatureExtractor/resnet_v1_50/block4/unit_2/bottleneck_v1/conv2/weights] is not available in checkpoint\n",
      "W0526 01:10:31.578995 140498178537280 variables_helper.py:144] Variable [FirstStageFeatureExtractor/resnet_v1_50/block4/unit_2/bottleneck_v1/conv3/BatchNorm/beta] is not available in checkpoint\n",
      "W0526 01:10:31.579663 140498178537280 variables_helper.py:144] Variable [FirstStageFeatureExtractor/resnet_v1_50/block4/unit_2/bottleneck_v1/conv3/BatchNorm/gamma] is not available in checkpoint\n",
      "W0526 01:10:31.580667 140498178537280 variables_helper.py:144] Variable [FirstStageFeatureExtractor/resnet_v1_50/block4/unit_2/bottleneck_v1/conv3/BatchNorm/moving_mean] is not available in checkpoint\n",
      "W0526 01:10:31.581371 140498178537280 variables_helper.py:144] Variable [FirstStageFeatureExtractor/resnet_v1_50/block4/unit_2/bottleneck_v1/conv3/BatchNorm/moving_variance] is not available in checkpoint\n"
     ]
    },
    {
     "name": "stderr",
     "output_type": "stream",
     "text": [
      "W0526 01:10:31.582181 140498178537280 variables_helper.py:144] Variable [FirstStageFeatureExtractor/resnet_v1_50/block4/unit_2/bottleneck_v1/conv3/weights] is not available in checkpoint\n",
      "W0526 01:10:31.583055 140498178537280 variables_helper.py:144] Variable [FirstStageFeatureExtractor/resnet_v1_50/block4/unit_3/bottleneck_v1/conv1/BatchNorm/beta] is not available in checkpoint\n",
      "W0526 01:10:31.583532 140498178537280 variables_helper.py:144] Variable [FirstStageFeatureExtractor/resnet_v1_50/block4/unit_3/bottleneck_v1/conv1/BatchNorm/gamma] is not available in checkpoint\n",
      "W0526 01:10:31.586645 140498178537280 variables_helper.py:144] Variable [FirstStageFeatureExtractor/resnet_v1_50/block4/unit_3/bottleneck_v1/conv1/BatchNorm/moving_mean] is not available in checkpoint\n",
      "W0526 01:10:31.587284 140498178537280 variables_helper.py:144] Variable [FirstStageFeatureExtractor/resnet_v1_50/block4/unit_3/bottleneck_v1/conv1/BatchNorm/moving_variance] is not available in checkpoint\n",
      "W0526 01:10:31.587837 140498178537280 variables_helper.py:144] Variable [FirstStageFeatureExtractor/resnet_v1_50/block4/unit_3/bottleneck_v1/conv1/weights] is not available in checkpoint\n",
      "W0526 01:10:31.588623 140498178537280 variables_helper.py:144] Variable [FirstStageFeatureExtractor/resnet_v1_50/block4/unit_3/bottleneck_v1/conv2/BatchNorm/beta] is not available in checkpoint\n",
      "W0526 01:10:31.589262 140498178537280 variables_helper.py:144] Variable [FirstStageFeatureExtractor/resnet_v1_50/block4/unit_3/bottleneck_v1/conv2/BatchNorm/gamma] is not available in checkpoint\n",
      "W0526 01:10:31.590871 140498178537280 variables_helper.py:144] Variable [FirstStageFeatureExtractor/resnet_v1_50/block4/unit_3/bottleneck_v1/conv2/BatchNorm/moving_mean] is not available in checkpoint\n",
      "W0526 01:10:31.592831 140498178537280 variables_helper.py:144] Variable [FirstStageFeatureExtractor/resnet_v1_50/block4/unit_3/bottleneck_v1/conv2/BatchNorm/moving_variance] is not available in checkpoint\n",
      "W0526 01:10:31.599039 140498178537280 variables_helper.py:144] Variable [FirstStageFeatureExtractor/resnet_v1_50/block4/unit_3/bottleneck_v1/conv2/weights] is not available in checkpoint\n",
      "W0526 01:10:31.599979 140498178537280 variables_helper.py:144] Variable [FirstStageFeatureExtractor/resnet_v1_50/block4/unit_3/bottleneck_v1/conv3/BatchNorm/beta] is not available in checkpoint\n",
      "W0526 01:10:31.600478 140498178537280 variables_helper.py:144] Variable [FirstStageFeatureExtractor/resnet_v1_50/block4/unit_3/bottleneck_v1/conv3/BatchNorm/gamma] is not available in checkpoint\n",
      "W0526 01:10:31.601010 140498178537280 variables_helper.py:144] Variable [FirstStageFeatureExtractor/resnet_v1_50/block4/unit_3/bottleneck_v1/conv3/BatchNorm/moving_mean] is not available in checkpoint\n",
      "W0526 01:10:31.601554 140498178537280 variables_helper.py:144] Variable [FirstStageFeatureExtractor/resnet_v1_50/block4/unit_3/bottleneck_v1/conv3/BatchNorm/moving_variance] is not available in checkpoint\n",
      "W0526 01:10:31.602060 140498178537280 variables_helper.py:144] Variable [FirstStageFeatureExtractor/resnet_v1_50/block4/unit_3/bottleneck_v1/conv3/weights] is not available in checkpoint\n",
      "W0526 01:10:31.602595 140498178537280 variables_helper.py:144] Variable [FirstStageFeatureExtractor/resnet_v1_50/conv1/BatchNorm/beta] is not available in checkpoint\n",
      "W0526 01:10:31.603181 140498178537280 variables_helper.py:144] Variable [FirstStageFeatureExtractor/resnet_v1_50/conv1/BatchNorm/beta/Momentum] is not available in checkpoint\n",
      "W0526 01:10:31.603726 140498178537280 variables_helper.py:144] Variable [FirstStageFeatureExtractor/resnet_v1_50/conv1/BatchNorm/gamma] is not available in checkpoint\n",
      "W0526 01:10:31.604255 140498178537280 variables_helper.py:144] Variable [FirstStageFeatureExtractor/resnet_v1_50/conv1/BatchNorm/gamma/Momentum] is not available in checkpoint\n",
      "W0526 01:10:31.604854 140498178537280 variables_helper.py:144] Variable [FirstStageFeatureExtractor/resnet_v1_50/conv1/BatchNorm/moving_mean] is not available in checkpoint\n",
      "W0526 01:10:31.605344 140498178537280 variables_helper.py:144] Variable [FirstStageFeatureExtractor/resnet_v1_50/conv1/BatchNorm/moving_variance] is not available in checkpoint\n",
      "W0526 01:10:31.609091 140498178537280 variables_helper.py:144] Variable [FirstStageFeatureExtractor/resnet_v1_50/conv1/weights] is not available in checkpoint\n",
      "W0526 01:10:31.610721 140498178537280 variables_helper.py:144] Variable [FirstStageFeatureExtractor/resnet_v1_50/conv1/weights/Momentum] is not available in checkpoint\n",
      "W0526 01:10:31.612309 140498178537280 variables_helper.py:141] Variable [SecondStageBoxPredictor/BoxEncodingPredictor/biases] is available in checkpoint, but has an incompatible shape with model variable. Checkpoint shape: [[360]], model variable shape: [[4]]. This variable will not be initialized from the checkpoint.\n",
      "W0526 01:10:31.613057 140498178537280 variables_helper.py:144] Variable [SecondStageBoxPredictor/BoxEncodingPredictor/biases/Momentum] is not available in checkpoint\n",
      "W0526 01:10:31.613843 140498178537280 variables_helper.py:141] Variable [SecondStageBoxPredictor/BoxEncodingPredictor/weights] is available in checkpoint, but has an incompatible shape with model variable. Checkpoint shape: [[1024, 360]], model variable shape: [[2048, 4]]. This variable will not be initialized from the checkpoint.\n",
      "W0526 01:10:31.614772 140498178537280 variables_helper.py:144] Variable [SecondStageBoxPredictor/BoxEncodingPredictor/weights/Momentum] is not available in checkpoint\n",
      "W0526 01:10:31.615934 140498178537280 variables_helper.py:141] Variable [SecondStageBoxPredictor/ClassPredictor/biases] is available in checkpoint, but has an incompatible shape with model variable. Checkpoint shape: [[91]], model variable shape: [[2]]. This variable will not be initialized from the checkpoint.\n",
      "W0526 01:10:31.616763 140498178537280 variables_helper.py:144] Variable [SecondStageBoxPredictor/ClassPredictor/biases/Momentum] is not available in checkpoint\n",
      "W0526 01:10:31.617405 140498178537280 variables_helper.py:141] Variable [SecondStageBoxPredictor/ClassPredictor/weights] is available in checkpoint, but has an incompatible shape with model variable. Checkpoint shape: [[1024, 91]], model variable shape: [[2048, 2]]. This variable will not be initialized from the checkpoint.\n",
      "W0526 01:10:31.617894 140498178537280 variables_helper.py:144] Variable [SecondStageBoxPredictor/ClassPredictor/weights/Momentum] is not available in checkpoint\n",
      "W0526 01:10:31.618475 140498178537280 variables_helper.py:144] Variable [SecondStageFeatureExtractor/resnet_v1_50/block4/unit_1/bottleneck_v1/conv1/BatchNorm/beta] is not available in checkpoint\n",
      "W0526 01:10:31.619010 140498178537280 variables_helper.py:144] Variable [SecondStageFeatureExtractor/resnet_v1_50/block4/unit_1/bottleneck_v1/conv1/BatchNorm/beta/Momentum] is not available in checkpoint\n",
      "W0526 01:10:31.619533 140498178537280 variables_helper.py:144] Variable [SecondStageFeatureExtractor/resnet_v1_50/block4/unit_1/bottleneck_v1/conv1/BatchNorm/gamma] is not available in checkpoint\n",
      "W0526 01:10:31.620098 140498178537280 variables_helper.py:144] Variable [SecondStageFeatureExtractor/resnet_v1_50/block4/unit_1/bottleneck_v1/conv1/BatchNorm/gamma/Momentum] is not available in checkpoint\n",
      "W0526 01:10:31.620619 140498178537280 variables_helper.py:144] Variable [SecondStageFeatureExtractor/resnet_v1_50/block4/unit_1/bottleneck_v1/conv1/BatchNorm/moving_mean] is not available in checkpoint\n",
      "W0526 01:10:31.623813 140498178537280 variables_helper.py:144] Variable [SecondStageFeatureExtractor/resnet_v1_50/block4/unit_1/bottleneck_v1/conv1/BatchNorm/moving_variance] is not available in checkpoint\n",
      "W0526 01:10:31.624729 140498178537280 variables_helper.py:144] Variable [SecondStageFeatureExtractor/resnet_v1_50/block4/unit_1/bottleneck_v1/conv1/weights] is not available in checkpoint\n",
      "W0526 01:10:31.626138 140498178537280 variables_helper.py:144] Variable [SecondStageFeatureExtractor/resnet_v1_50/block4/unit_1/bottleneck_v1/conv1/weights/Momentum] is not available in checkpoint\n",
      "W0526 01:10:31.627398 140498178537280 variables_helper.py:144] Variable [SecondStageFeatureExtractor/resnet_v1_50/block4/unit_1/bottleneck_v1/conv2/BatchNorm/beta] is not available in checkpoint\n"
     ]
    },
    {
     "name": "stderr",
     "output_type": "stream",
     "text": [
      "W0526 01:10:31.629350 140498178537280 variables_helper.py:144] Variable [SecondStageFeatureExtractor/resnet_v1_50/block4/unit_1/bottleneck_v1/conv2/BatchNorm/beta/Momentum] is not available in checkpoint\n",
      "W0526 01:10:31.630030 140498178537280 variables_helper.py:144] Variable [SecondStageFeatureExtractor/resnet_v1_50/block4/unit_1/bottleneck_v1/conv2/BatchNorm/gamma] is not available in checkpoint\n",
      "W0526 01:10:31.630965 140498178537280 variables_helper.py:144] Variable [SecondStageFeatureExtractor/resnet_v1_50/block4/unit_1/bottleneck_v1/conv2/BatchNorm/gamma/Momentum] is not available in checkpoint\n",
      "W0526 01:10:31.631698 140498178537280 variables_helper.py:144] Variable [SecondStageFeatureExtractor/resnet_v1_50/block4/unit_1/bottleneck_v1/conv2/BatchNorm/moving_mean] is not available in checkpoint\n",
      "W0526 01:10:31.632607 140498178537280 variables_helper.py:144] Variable [SecondStageFeatureExtractor/resnet_v1_50/block4/unit_1/bottleneck_v1/conv2/BatchNorm/moving_variance] is not available in checkpoint\n",
      "W0526 01:10:31.633249 140498178537280 variables_helper.py:144] Variable [SecondStageFeatureExtractor/resnet_v1_50/block4/unit_1/bottleneck_v1/conv2/weights] is not available in checkpoint\n",
      "W0526 01:10:31.633850 140498178537280 variables_helper.py:144] Variable [SecondStageFeatureExtractor/resnet_v1_50/block4/unit_1/bottleneck_v1/conv2/weights/Momentum] is not available in checkpoint\n",
      "W0526 01:10:31.634314 140498178537280 variables_helper.py:144] Variable [SecondStageFeatureExtractor/resnet_v1_50/block4/unit_1/bottleneck_v1/conv3/BatchNorm/beta] is not available in checkpoint\n",
      "W0526 01:10:31.634885 140498178537280 variables_helper.py:144] Variable [SecondStageFeatureExtractor/resnet_v1_50/block4/unit_1/bottleneck_v1/conv3/BatchNorm/beta/Momentum] is not available in checkpoint\n",
      "W0526 01:10:31.635577 140498178537280 variables_helper.py:144] Variable [SecondStageFeatureExtractor/resnet_v1_50/block4/unit_1/bottleneck_v1/conv3/BatchNorm/gamma] is not available in checkpoint\n",
      "W0526 01:10:31.636190 140498178537280 variables_helper.py:144] Variable [SecondStageFeatureExtractor/resnet_v1_50/block4/unit_1/bottleneck_v1/conv3/BatchNorm/gamma/Momentum] is not available in checkpoint\n",
      "W0526 01:10:31.636738 140498178537280 variables_helper.py:144] Variable [SecondStageFeatureExtractor/resnet_v1_50/block4/unit_1/bottleneck_v1/conv3/BatchNorm/moving_mean] is not available in checkpoint\n",
      "W0526 01:10:31.637296 140498178537280 variables_helper.py:144] Variable [SecondStageFeatureExtractor/resnet_v1_50/block4/unit_1/bottleneck_v1/conv3/BatchNorm/moving_variance] is not available in checkpoint\n",
      "W0526 01:10:31.637796 140498178537280 variables_helper.py:144] Variable [SecondStageFeatureExtractor/resnet_v1_50/block4/unit_1/bottleneck_v1/conv3/weights] is not available in checkpoint\n",
      "W0526 01:10:31.641803 140498178537280 variables_helper.py:144] Variable [SecondStageFeatureExtractor/resnet_v1_50/block4/unit_1/bottleneck_v1/conv3/weights/Momentum] is not available in checkpoint\n",
      "W0526 01:10:31.642395 140498178537280 variables_helper.py:144] Variable [SecondStageFeatureExtractor/resnet_v1_50/block4/unit_1/bottleneck_v1/shortcut/BatchNorm/beta] is not available in checkpoint\n",
      "W0526 01:10:31.644837 140498178537280 variables_helper.py:144] Variable [SecondStageFeatureExtractor/resnet_v1_50/block4/unit_1/bottleneck_v1/shortcut/BatchNorm/beta/Momentum] is not available in checkpoint\n",
      "W0526 01:10:31.646142 140498178537280 variables_helper.py:144] Variable [SecondStageFeatureExtractor/resnet_v1_50/block4/unit_1/bottleneck_v1/shortcut/BatchNorm/gamma] is not available in checkpoint\n",
      "W0526 01:10:31.646903 140498178537280 variables_helper.py:144] Variable [SecondStageFeatureExtractor/resnet_v1_50/block4/unit_1/bottleneck_v1/shortcut/BatchNorm/gamma/Momentum] is not available in checkpoint\n",
      "W0526 01:10:31.647819 140498178537280 variables_helper.py:144] Variable [SecondStageFeatureExtractor/resnet_v1_50/block4/unit_1/bottleneck_v1/shortcut/BatchNorm/moving_mean] is not available in checkpoint\n",
      "W0526 01:10:31.648734 140498178537280 variables_helper.py:144] Variable [SecondStageFeatureExtractor/resnet_v1_50/block4/unit_1/bottleneck_v1/shortcut/BatchNorm/moving_variance] is not available in checkpoint\n",
      "W0526 01:10:31.649278 140498178537280 variables_helper.py:144] Variable [SecondStageFeatureExtractor/resnet_v1_50/block4/unit_1/bottleneck_v1/shortcut/weights] is not available in checkpoint\n",
      "W0526 01:10:31.649807 140498178537280 variables_helper.py:144] Variable [SecondStageFeatureExtractor/resnet_v1_50/block4/unit_1/bottleneck_v1/shortcut/weights/Momentum] is not available in checkpoint\n",
      "W0526 01:10:31.650365 140498178537280 variables_helper.py:144] Variable [SecondStageFeatureExtractor/resnet_v1_50/block4/unit_2/bottleneck_v1/conv1/BatchNorm/beta] is not available in checkpoint\n",
      "W0526 01:10:31.650835 140498178537280 variables_helper.py:144] Variable [SecondStageFeatureExtractor/resnet_v1_50/block4/unit_2/bottleneck_v1/conv1/BatchNorm/beta/Momentum] is not available in checkpoint\n",
      "W0526 01:10:31.651334 140498178537280 variables_helper.py:144] Variable [SecondStageFeatureExtractor/resnet_v1_50/block4/unit_2/bottleneck_v1/conv1/BatchNorm/gamma] is not available in checkpoint\n",
      "W0526 01:10:31.651924 140498178537280 variables_helper.py:144] Variable [SecondStageFeatureExtractor/resnet_v1_50/block4/unit_2/bottleneck_v1/conv1/BatchNorm/gamma/Momentum] is not available in checkpoint\n",
      "W0526 01:10:31.652464 140498178537280 variables_helper.py:144] Variable [SecondStageFeatureExtractor/resnet_v1_50/block4/unit_2/bottleneck_v1/conv1/BatchNorm/moving_mean] is not available in checkpoint\n",
      "W0526 01:10:31.653009 140498178537280 variables_helper.py:144] Variable [SecondStageFeatureExtractor/resnet_v1_50/block4/unit_2/bottleneck_v1/conv1/BatchNorm/moving_variance] is not available in checkpoint\n",
      "W0526 01:10:31.653575 140498178537280 variables_helper.py:144] Variable [SecondStageFeatureExtractor/resnet_v1_50/block4/unit_2/bottleneck_v1/conv1/weights] is not available in checkpoint\n",
      "W0526 01:10:31.654046 140498178537280 variables_helper.py:144] Variable [SecondStageFeatureExtractor/resnet_v1_50/block4/unit_2/bottleneck_v1/conv1/weights/Momentum] is not available in checkpoint\n",
      "W0526 01:10:31.657941 140498178537280 variables_helper.py:144] Variable [SecondStageFeatureExtractor/resnet_v1_50/block4/unit_2/bottleneck_v1/conv2/BatchNorm/beta] is not available in checkpoint\n",
      "W0526 01:10:31.658697 140498178537280 variables_helper.py:144] Variable [SecondStageFeatureExtractor/resnet_v1_50/block4/unit_2/bottleneck_v1/conv2/BatchNorm/beta/Momentum] is not available in checkpoint\n",
      "W0526 01:10:31.659361 140498178537280 variables_helper.py:144] Variable [SecondStageFeatureExtractor/resnet_v1_50/block4/unit_2/bottleneck_v1/conv2/BatchNorm/gamma] is not available in checkpoint\n",
      "W0526 01:10:31.660715 140498178537280 variables_helper.py:144] Variable [SecondStageFeatureExtractor/resnet_v1_50/block4/unit_2/bottleneck_v1/conv2/BatchNorm/gamma/Momentum] is not available in checkpoint\n",
      "W0526 01:10:31.662384 140498178537280 variables_helper.py:144] Variable [SecondStageFeatureExtractor/resnet_v1_50/block4/unit_2/bottleneck_v1/conv2/BatchNorm/moving_mean] is not available in checkpoint\n",
      "W0526 01:10:31.663057 140498178537280 variables_helper.py:144] Variable [SecondStageFeatureExtractor/resnet_v1_50/block4/unit_2/bottleneck_v1/conv2/BatchNorm/moving_variance] is not available in checkpoint\n",
      "W0526 01:10:31.664317 140498178537280 variables_helper.py:144] Variable [SecondStageFeatureExtractor/resnet_v1_50/block4/unit_2/bottleneck_v1/conv2/weights] is not available in checkpoint\n",
      "W0526 01:10:31.665174 140498178537280 variables_helper.py:144] Variable [SecondStageFeatureExtractor/resnet_v1_50/block4/unit_2/bottleneck_v1/conv2/weights/Momentum] is not available in checkpoint\n",
      "W0526 01:10:31.666986 140498178537280 variables_helper.py:144] Variable [SecondStageFeatureExtractor/resnet_v1_50/block4/unit_2/bottleneck_v1/conv3/BatchNorm/beta] is not available in checkpoint\n",
      "W0526 01:10:31.667551 140498178537280 variables_helper.py:144] Variable [SecondStageFeatureExtractor/resnet_v1_50/block4/unit_2/bottleneck_v1/conv3/BatchNorm/beta/Momentum] is not available in checkpoint\n"
     ]
    },
    {
     "name": "stderr",
     "output_type": "stream",
     "text": [
      "W0526 01:10:31.668118 140498178537280 variables_helper.py:144] Variable [SecondStageFeatureExtractor/resnet_v1_50/block4/unit_2/bottleneck_v1/conv3/BatchNorm/gamma] is not available in checkpoint\n",
      "W0526 01:10:31.669136 140498178537280 variables_helper.py:144] Variable [SecondStageFeatureExtractor/resnet_v1_50/block4/unit_2/bottleneck_v1/conv3/BatchNorm/gamma/Momentum] is not available in checkpoint\n",
      "W0526 01:10:31.669605 140498178537280 variables_helper.py:144] Variable [SecondStageFeatureExtractor/resnet_v1_50/block4/unit_2/bottleneck_v1/conv3/BatchNorm/moving_mean] is not available in checkpoint\n",
      "W0526 01:10:31.670145 140498178537280 variables_helper.py:144] Variable [SecondStageFeatureExtractor/resnet_v1_50/block4/unit_2/bottleneck_v1/conv3/BatchNorm/moving_variance] is not available in checkpoint\n",
      "W0526 01:10:31.670691 140498178537280 variables_helper.py:144] Variable [SecondStageFeatureExtractor/resnet_v1_50/block4/unit_2/bottleneck_v1/conv3/weights] is not available in checkpoint\n",
      "W0526 01:10:31.671208 140498178537280 variables_helper.py:144] Variable [SecondStageFeatureExtractor/resnet_v1_50/block4/unit_2/bottleneck_v1/conv3/weights/Momentum] is not available in checkpoint\n",
      "W0526 01:10:31.671736 140498178537280 variables_helper.py:144] Variable [SecondStageFeatureExtractor/resnet_v1_50/block4/unit_3/bottleneck_v1/conv1/BatchNorm/beta] is not available in checkpoint\n",
      "W0526 01:10:31.675175 140498178537280 variables_helper.py:144] Variable [SecondStageFeatureExtractor/resnet_v1_50/block4/unit_3/bottleneck_v1/conv1/BatchNorm/beta/Momentum] is not available in checkpoint\n",
      "W0526 01:10:31.675976 140498178537280 variables_helper.py:144] Variable [SecondStageFeatureExtractor/resnet_v1_50/block4/unit_3/bottleneck_v1/conv1/BatchNorm/gamma] is not available in checkpoint\n",
      "W0526 01:10:31.678772 140498178537280 variables_helper.py:144] Variable [SecondStageFeatureExtractor/resnet_v1_50/block4/unit_3/bottleneck_v1/conv1/BatchNorm/gamma/Momentum] is not available in checkpoint\n",
      "W0526 01:10:31.679903 140498178537280 variables_helper.py:144] Variable [SecondStageFeatureExtractor/resnet_v1_50/block4/unit_3/bottleneck_v1/conv1/BatchNorm/moving_mean] is not available in checkpoint\n",
      "W0526 01:10:31.680838 140498178537280 variables_helper.py:144] Variable [SecondStageFeatureExtractor/resnet_v1_50/block4/unit_3/bottleneck_v1/conv1/BatchNorm/moving_variance] is not available in checkpoint\n",
      "W0526 01:10:31.681749 140498178537280 variables_helper.py:144] Variable [SecondStageFeatureExtractor/resnet_v1_50/block4/unit_3/bottleneck_v1/conv1/weights] is not available in checkpoint\n",
      "W0526 01:10:31.682388 140498178537280 variables_helper.py:144] Variable [SecondStageFeatureExtractor/resnet_v1_50/block4/unit_3/bottleneck_v1/conv1/weights/Momentum] is not available in checkpoint\n",
      "W0526 01:10:31.682997 140498178537280 variables_helper.py:144] Variable [SecondStageFeatureExtractor/resnet_v1_50/block4/unit_3/bottleneck_v1/conv2/BatchNorm/beta] is not available in checkpoint\n",
      "W0526 01:10:31.683844 140498178537280 variables_helper.py:144] Variable [SecondStageFeatureExtractor/resnet_v1_50/block4/unit_3/bottleneck_v1/conv2/BatchNorm/beta/Momentum] is not available in checkpoint\n",
      "W0526 01:10:31.685771 140498178537280 variables_helper.py:144] Variable [SecondStageFeatureExtractor/resnet_v1_50/block4/unit_3/bottleneck_v1/conv2/BatchNorm/gamma] is not available in checkpoint\n",
      "W0526 01:10:31.686338 140498178537280 variables_helper.py:144] Variable [SecondStageFeatureExtractor/resnet_v1_50/block4/unit_3/bottleneck_v1/conv2/BatchNorm/gamma/Momentum] is not available in checkpoint\n",
      "W0526 01:10:31.687240 140498178537280 variables_helper.py:144] Variable [SecondStageFeatureExtractor/resnet_v1_50/block4/unit_3/bottleneck_v1/conv2/BatchNorm/moving_mean] is not available in checkpoint\n",
      "W0526 01:10:31.687776 140498178537280 variables_helper.py:144] Variable [SecondStageFeatureExtractor/resnet_v1_50/block4/unit_3/bottleneck_v1/conv2/BatchNorm/moving_variance] is not available in checkpoint\n",
      "W0526 01:10:31.688400 140498178537280 variables_helper.py:144] Variable [SecondStageFeatureExtractor/resnet_v1_50/block4/unit_3/bottleneck_v1/conv2/weights] is not available in checkpoint\n",
      "W0526 01:10:31.689111 140498178537280 variables_helper.py:144] Variable [SecondStageFeatureExtractor/resnet_v1_50/block4/unit_3/bottleneck_v1/conv2/weights/Momentum] is not available in checkpoint\n",
      "W0526 01:10:31.689671 140498178537280 variables_helper.py:144] Variable [SecondStageFeatureExtractor/resnet_v1_50/block4/unit_3/bottleneck_v1/conv3/BatchNorm/beta] is not available in checkpoint\n",
      "W0526 01:10:31.690290 140498178537280 variables_helper.py:144] Variable [SecondStageFeatureExtractor/resnet_v1_50/block4/unit_3/bottleneck_v1/conv3/BatchNorm/beta/Momentum] is not available in checkpoint\n",
      "W0526 01:10:31.691029 140498178537280 variables_helper.py:144] Variable [SecondStageFeatureExtractor/resnet_v1_50/block4/unit_3/bottleneck_v1/conv3/BatchNorm/gamma] is not available in checkpoint\n",
      "W0526 01:10:31.691677 140498178537280 variables_helper.py:144] Variable [SecondStageFeatureExtractor/resnet_v1_50/block4/unit_3/bottleneck_v1/conv3/BatchNorm/gamma/Momentum] is not available in checkpoint\n",
      "W0526 01:10:31.693947 140498178537280 variables_helper.py:144] Variable [SecondStageFeatureExtractor/resnet_v1_50/block4/unit_3/bottleneck_v1/conv3/BatchNorm/moving_mean] is not available in checkpoint\n",
      "W0526 01:10:31.694614 140498178537280 variables_helper.py:144] Variable [SecondStageFeatureExtractor/resnet_v1_50/block4/unit_3/bottleneck_v1/conv3/BatchNorm/moving_variance] is not available in checkpoint\n",
      "W0526 01:10:31.695186 140498178537280 variables_helper.py:144] Variable [SecondStageFeatureExtractor/resnet_v1_50/block4/unit_3/bottleneck_v1/conv3/weights] is not available in checkpoint\n",
      "W0526 01:10:31.695823 140498178537280 variables_helper.py:144] Variable [SecondStageFeatureExtractor/resnet_v1_50/block4/unit_3/bottleneck_v1/conv3/weights/Momentum] is not available in checkpoint\n",
      "W0526 01:10:31.696502 140498178537280 variables_helper.py:144] Variable [global_step] is not available in checkpoint\n"
     ]
    },
    {
     "name": "stdout",
     "output_type": "stream",
     "text": [
      "WARNING:tensorflow:From /home/chirag/anaconda3/lib/python3.7/site-packages/tensorflow/contrib/slim/python/slim/learning.py:742: Supervisor.__init__ (from tensorflow.python.training.supervisor) is deprecated and will be removed in a future version.\n",
      "Instructions for updating:\n",
      "Please switch to tf.train.MonitoredTrainingSession\n"
     ]
    },
    {
     "name": "stderr",
     "output_type": "stream",
     "text": [
      "W0526 01:10:32.242875 140498178537280 deprecation.py:323] From /home/chirag/anaconda3/lib/python3.7/site-packages/tensorflow/contrib/slim/python/slim/learning.py:742: Supervisor.__init__ (from tensorflow.python.training.supervisor) is deprecated and will be removed in a future version.\n",
      "Instructions for updating:\n",
      "Please switch to tf.train.MonitoredTrainingSession\n"
     ]
    },
    {
     "name": "stdout",
     "output_type": "stream",
     "text": [
      "WARNING:tensorflow:From /home/chirag/anaconda3/lib/python3.7/site-packages/tensorflow/python/training/saver.py:1276: checkpoint_exists (from tensorflow.python.training.checkpoint_management) is deprecated and will be removed in a future version.\n",
      "Instructions for updating:\n",
      "Use standard file APIs to check for files with this prefix.\n"
     ]
    },
    {
     "name": "stderr",
     "output_type": "stream",
     "text": [
      "W0526 01:10:32.986025 140498178537280 deprecation.py:323] From /home/chirag/anaconda3/lib/python3.7/site-packages/tensorflow/python/training/saver.py:1276: checkpoint_exists (from tensorflow.python.training.checkpoint_management) is deprecated and will be removed in a future version.\n",
      "Instructions for updating:\n",
      "Use standard file APIs to check for files with this prefix.\n"
     ]
    },
    {
     "name": "stdout",
     "output_type": "stream",
     "text": [
      "INFO:tensorflow:Restoring parameters from /home/chirag/Downloads/models-master/research/object_detection/tranining/model.ckpt-4311\n"
     ]
    },
    {
     "name": "stderr",
     "output_type": "stream",
     "text": [
      "I0526 01:10:33.005823 140498178537280 saver.py:1280] Restoring parameters from /home/chirag/Downloads/models-master/research/object_detection/tranining/model.ckpt-4311\n"
     ]
    },
    {
     "name": "stdout",
     "output_type": "stream",
     "text": [
      "WARNING:tensorflow:From /home/chirag/anaconda3/lib/python3.7/site-packages/tensorflow/python/training/saver.py:1066: get_checkpoint_mtimes (from tensorflow.python.training.checkpoint_management) is deprecated and will be removed in a future version.\n",
      "Instructions for updating:\n",
      "Use standard file utilities to get mtimes.\n"
     ]
    },
    {
     "name": "stderr",
     "output_type": "stream",
     "text": [
      "W0526 01:10:34.520244 140498178537280 deprecation.py:323] From /home/chirag/anaconda3/lib/python3.7/site-packages/tensorflow/python/training/saver.py:1066: get_checkpoint_mtimes (from tensorflow.python.training.checkpoint_management) is deprecated and will be removed in a future version.\n",
      "Instructions for updating:\n",
      "Use standard file utilities to get mtimes.\n"
     ]
    },
    {
     "name": "stdout",
     "output_type": "stream",
     "text": [
      "INFO:tensorflow:Running local_init_op.\n"
     ]
    },
    {
     "name": "stderr",
     "output_type": "stream",
     "text": [
      "I0526 01:10:34.536226 140498178537280 session_manager.py:500] Running local_init_op.\n"
     ]
    },
    {
     "name": "stdout",
     "output_type": "stream",
     "text": [
      "INFO:tensorflow:Done running local_init_op.\n"
     ]
    },
    {
     "name": "stderr",
     "output_type": "stream",
     "text": [
      "I0526 01:10:35.091141 140498178537280 session_manager.py:502] Done running local_init_op.\n"
     ]
    },
    {
     "name": "stdout",
     "output_type": "stream",
     "text": [
      "INFO:tensorflow:Starting Session.\n"
     ]
    },
    {
     "name": "stderr",
     "output_type": "stream",
     "text": [
      "I0526 01:10:39.869595 140498178537280 learning.py:754] Starting Session.\n"
     ]
    },
    {
     "name": "stdout",
     "output_type": "stream",
     "text": [
      "INFO:tensorflow:Saving checkpoint to path /home/chirag/Downloads/models-master/research/object_detection/tranining/model.ckpt\n"
     ]
    },
    {
     "name": "stderr",
     "output_type": "stream",
     "text": [
      "I0526 01:10:40.029660 140494459881216 supervisor.py:1117] Saving checkpoint to path /home/chirag/Downloads/models-master/research/object_detection/tranining/model.ckpt\n"
     ]
    },
    {
     "name": "stdout",
     "output_type": "stream",
     "text": [
      "INFO:tensorflow:Starting Queues.\n"
     ]
    },
    {
     "name": "stderr",
     "output_type": "stream",
     "text": [
      "I0526 01:10:40.047158 140498178537280 learning.py:768] Starting Queues.\n"
     ]
    },
    {
     "name": "stdout",
     "output_type": "stream",
     "text": [
      "INFO:tensorflow:global_step/sec: 0\n"
     ]
    },
    {
     "name": "stderr",
     "output_type": "stream",
     "text": [
      "I0526 01:10:43.004884 140494451488512 supervisor.py:1099] global_step/sec: 0\n"
     ]
    },
    {
     "name": "stdout",
     "output_type": "stream",
     "text": [
      "INFO:tensorflow:Recording summary at step 4311.\n"
     ]
    },
    {
     "name": "stderr",
     "output_type": "stream",
     "text": [
      "I0526 01:10:46.483510 140494443095808 supervisor.py:1050] Recording summary at step 4311.\n"
     ]
    },
    {
     "name": "stdout",
     "output_type": "stream",
     "text": [
      "INFO:tensorflow:global step 4312: loss = 1.6067 (16.080 sec/step)\n"
     ]
    },
    {
     "name": "stderr",
     "output_type": "stream",
     "text": [
      "I0526 01:10:56.309407 140498178537280 learning.py:507] global step 4312: loss = 1.6067 (16.080 sec/step)\n"
     ]
    },
    {
     "name": "stdout",
     "output_type": "stream",
     "text": [
      "INFO:tensorflow:Stopping Training.\n"
     ]
    },
    {
     "name": "stderr",
     "output_type": "stream",
     "text": [
      "I0526 01:10:56.499647 140498178537280 learning.py:777] Stopping Training.\n"
     ]
    },
    {
     "name": "stdout",
     "output_type": "stream",
     "text": [
      "INFO:tensorflow:Finished training! Saving model to disk.\n"
     ]
    },
    {
     "name": "stderr",
     "output_type": "stream",
     "text": [
      "I0526 01:10:56.503250 140498178537280 learning.py:785] Finished training! Saving model to disk.\n"
     ]
    },
    {
     "name": "stdout",
     "output_type": "stream",
     "text": [
      "WARNING:tensorflow:From /home/chirag/anaconda3/lib/python3.7/site-packages/tensorflow/python/training/saver.py:960: remove_checkpoint (from tensorflow.python.training.checkpoint_management) is deprecated and will be removed in a future version.\n",
      "Instructions for updating:\n",
      "Use standard file APIs to delete files with this prefix.\n"
     ]
    },
    {
     "name": "stderr",
     "output_type": "stream",
     "text": [
      "W0526 01:10:57.077833 140498178537280 deprecation.py:323] From /home/chirag/anaconda3/lib/python3.7/site-packages/tensorflow/python/training/saver.py:960: remove_checkpoint (from tensorflow.python.training.checkpoint_management) is deprecated and will be removed in a future version.\n",
      "Instructions for updating:\n",
      "Use standard file APIs to delete files with this prefix.\n",
      "/home/chirag/anaconda3/lib/python3.7/site-packages/tensorflow/python/summary/writer/writer.py:386: UserWarning: Attempting to use a closed FileWriter. The operation will be a noop unless the FileWriter is explicitly reopened.\n",
      "  warnings.warn(\"Attempting to use a closed FileWriter. \"\n"
     ]
    },
    {
     "ename": "SystemExit",
     "evalue": "",
     "output_type": "error",
     "traceback": [
      "An exception has occurred, use %tb to see the full traceback.\n",
      "\u001b[0;31mSystemExit\u001b[0m\n"
     ]
    },
    {
     "name": "stderr",
     "output_type": "stream",
     "text": [
      "/home/chirag/anaconda3/lib/python3.7/site-packages/IPython/core/interactiveshell.py:3339: UserWarning: To exit: use 'exit', 'quit', or Ctrl-D.\n",
      "  warn(\"To exit: use 'exit', 'quit', or Ctrl-D.\", stacklevel=1)\n"
     ]
    }
   ],
   "source": [
    "\n",
    "import functools\n",
    "import json\n",
    "import os\n",
    "import tensorflow as tf\n",
    "from tensorflow.contrib import framework as contrib_framework\n",
    "\n",
    "from object_detection.builders import dataset_builder\n",
    "from object_detection.builders import graph_rewriter_builder\n",
    "from object_detection.builders import model_builder\n",
    "from object_detection.legacy import trainer\n",
    "from object_detection.utils import config_util\n",
    "\n",
    "tf.logging.set_verbosity(tf.logging.INFO)\n",
    "flags = tf.app.flags\n",
    "\n",
    "\n",
    "FLAGS = flags.FLAGS\n",
    "\n",
    "# Create TRAINING folder in dir\n",
    "# copy this (faster_rcnn_resnet50_pets.config) and paste in this folder\n",
    "# do changes accordingly \n",
    "# create  lable.pbtxt file in this folder and put path in \"faster_rcnn_resnet50_pets\"\n",
    "# run this Cell and it will create many models in folders, it takes alot of time\n",
    "\n",
    "traning_dir=\"/home/Downloads/models-master/research/object_detection/tranining\"\n",
    "Pipeline_config_path =\"/home/Downloads/models-master/research/object_detection/tranining/faster_rcnn_resnet50_pets.config\"\n",
    "\n",
    "@contrib_framework.deprecated(None, 'Use object_detection/model_main.py.')\n",
    "\n",
    "def main(_):\n",
    "  if FLAGS.task == 0: tf.gfile.MakeDirs(traning_dir)\n",
    "  if Pipeline_config_path:\n",
    "    configs = config_util.get_configs_from_pipeline_file(\n",
    "        Pipeline_config_path)\n",
    "    if FLAGS.task == 0:\n",
    "      tf.gfile.Copy(Pipeline_config_path,\n",
    "                    os.path.join(traning_dir, 'pipeline.config'),\n",
    "                    overwrite=True)\n",
    "  else:\n",
    "    configs = config_util.get_configs_from_multiple_files(\n",
    "        model_config_path=FLAGS.model_config_path,\n",
    "        train_config_path=FLAGS.train_config_path,\n",
    "        train_input_config_path=FLAGS.input_config_path)\n",
    "    if FLAGS.task == 0:\n",
    "      for name, config in [('model.config', FLAGS.model_config_path),\n",
    "                           ('train.config', FLAGS.train_config_path),\n",
    "                           ('input.config', FLAGS.input_config_path)]:\n",
    "        tf.gfile.Copy(config, os.path.join(FLAGS.train_dir, name),\n",
    "                      overwrite=True)\n",
    "\n",
    "  model_config = configs['model']\n",
    "  train_config = configs['train_config']\n",
    "  input_config = configs['train_input_config']\n",
    "\n",
    "  model_fn = functools.partial(\n",
    "      model_builder.build,\n",
    "      model_config=model_config,\n",
    "      is_training=True)\n",
    "\n",
    "  def get_next(config):\n",
    "    return dataset_builder.make_initializable_iterator(\n",
    "        dataset_builder.build(config)).get_next()\n",
    "\n",
    "  create_input_dict_fn = functools.partial(get_next, input_config)\n",
    "\n",
    "  env = json.loads(os.environ.get('TF_CONFIG', '{}'))\n",
    "  cluster_data = env.get('cluster', None)\n",
    "  cluster = tf.train.ClusterSpec(cluster_data) if cluster_data else None\n",
    "  task_data = env.get('task', None) or {'type': 'master', 'index': 0}\n",
    "  task_info = type('TaskSpec', (object,), task_data)\n",
    "\n",
    "  # Parameters for a single worker.\n",
    "  ps_tasks = 0\n",
    "  worker_replicas = 1\n",
    "  worker_job_name = 'lonely_worker'\n",
    "  task = 0\n",
    "  is_chief = True\n",
    "  master = ''\n",
    "\n",
    "  if cluster_data and 'worker' in cluster_data:\n",
    "    # Number of total worker replicas include \"worker\"s and the \"master\".\n",
    "    worker_replicas = len(cluster_data['worker']) + 1\n",
    "  if cluster_data and 'ps' in cluster_data:\n",
    "    ps_tasks = len(cluster_data['ps'])\n",
    "\n",
    "  if worker_replicas > 1 and ps_tasks < 1:\n",
    "    raise ValueError('At least 1 ps task is needed for distributed training.')\n",
    "\n",
    "  if worker_replicas >= 1 and ps_tasks > 0:\n",
    "    # Set up distributed training.\n",
    "    server = tf.train.Server(tf.train.ClusterSpec(cluster), protocol='grpc',\n",
    "                             job_name=task_info.type,\n",
    "                             task_index=task_info.index)\n",
    "    if task_info.type == 'ps':\n",
    "      server.join()\n",
    "      return\n",
    "\n",
    "    worker_job_name = '%s/task:%d' % (task_info.type, task_info.index)\n",
    "    task = task_info.index\n",
    "    is_chief = (task_info.type == 'master')\n",
    "    master = server.target\n",
    "\n",
    "  graph_rewriter_fn = None\n",
    "  if 'graph_rewriter_config' in configs:\n",
    "    graph_rewriter_fn = graph_rewriter_builder.build(\n",
    "        configs['graph_rewriter_config'], is_training=True)\n",
    "\n",
    "  trainer.train(\n",
    "      create_input_dict_fn,\n",
    "      model_fn,\n",
    "      train_config,\n",
    "      master,\n",
    "      task,\n",
    "      FLAGS.num_clones,\n",
    "      worker_replicas,\n",
    "      FLAGS.clone_on_cpu,\n",
    "      ps_tasks,\n",
    "      worker_job_name,\n",
    "      is_chief,\n",
    "      traning_dir,\n",
    "      graph_hook_fn=graph_rewriter_fn)\n",
    "\n",
    "\n",
    "if __name__ == '__main__':\n",
    "  tf.app.run()\n"
   ]
  },
  {
   "cell_type": "markdown",
   "metadata": {},
   "source": [
    "# run this command in terminal"
   ]
  },
  {
   "cell_type": "code",
   "execution_count": null,
   "metadata": {},
   "outputs": [],
   "source": [
    "# MAKE SURE, YOU ARE IN \"/home/models-master/research/object_detection\"\n",
    "# in export_inference_graph.py, don't forget to put \n",
    "#                                \"sys.path.append(\"/home/chirag/Downloads/models-master/research/slim/\")\"  "
   ]
  },
  {
   "cell_type": "code",
   "execution_count": null,
   "metadata": {},
   "outputs": [],
   "source": [
    "# \"export_inference_graph.py \" download this from my repo"
   ]
  },
  {
   "cell_type": "code",
   "execution_count": null,
   "metadata": {},
   "outputs": [],
   "source": [
    "#  python export_inference_graph.py \n",
    "#     --input_type image_tensor \n",
    "#     --pipeline_config_path tranining/faster_rcnn_resnet50_pets.config  \n",
    "#     --trained_checkpoint_prefix tranining/model.ckpt-4310 \n",
    "#     --output_directory inference_graph\n"
   ]
  },
  {
   "cell_type": "code",
   "execution_count": null,
   "metadata": {},
   "outputs": [],
   "source": [
    "## NOW YOU WILL HAVE .PB file in \"inference_graph\" folder"
   ]
  },
  {
   "cell_type": "code",
   "execution_count": null,
   "metadata": {},
   "outputs": [],
   "source": []
  },
  {
   "cell_type": "code",
   "execution_count": null,
   "metadata": {},
   "outputs": [],
   "source": []
  }
 ],
 "metadata": {
  "kernelspec": {
   "display_name": "Python 3",
   "language": "python",
   "name": "python3"
  },
  "language_info": {
   "codemirror_mode": {
    "name": "ipython",
    "version": 3
   },
   "file_extension": ".py",
   "mimetype": "text/x-python",
   "name": "python",
   "nbconvert_exporter": "python",
   "pygments_lexer": "ipython3",
   "version": "3.7.6"
  }
 },
 "nbformat": 4,
 "nbformat_minor": 4
}
